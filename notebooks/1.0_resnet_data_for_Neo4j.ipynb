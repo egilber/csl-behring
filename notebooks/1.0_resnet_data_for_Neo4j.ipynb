{
 "cells": [
  {
   "cell_type": "code",
   "execution_count": 1,
   "metadata": {
    "Collapsed": "false",
    "execution": {
<<<<<<< HEAD
     "iopub.execute_input": "2022-10-21T17:54:04.088471Z",
     "iopub.status.busy": "2022-10-21T17:54:04.088471Z",
     "iopub.status.idle": "2022-10-21T17:54:05.028560Z",
     "shell.execute_reply": "2022-10-21T17:54:05.028560Z",
     "shell.execute_reply.started": "2022-10-21T17:54:04.088471Z"
=======
     "iopub.execute_input": "2024-04-22T21:46:29.944048Z",
     "iopub.status.busy": "2024-04-22T21:46:29.943734Z",
     "iopub.status.idle": "2024-04-22T21:46:31.302987Z",
     "shell.execute_reply": "2024-04-22T21:46:31.302066Z",
     "shell.execute_reply.started": "2024-04-22T21:46:29.943990Z"
>>>>>>> cleaned up file names
    },
    "tags": []
   },
   "outputs": [],
   "source": [
    "%reload_ext autoreload\n",
    "%autoreload 2\n",
    "%matplotlib inline"
   ]
  },
  {
   "cell_type": "code",
   "execution_count": 2,
   "metadata": {
    "Collapsed": "false",
    "execution": {
<<<<<<< HEAD
     "iopub.execute_input": "2022-10-21T17:54:05.028560Z",
     "iopub.status.busy": "2022-10-21T17:54:05.028560Z",
     "iopub.status.idle": "2022-10-21T17:54:05.192242Z",
     "shell.execute_reply": "2022-10-21T17:54:05.191539Z",
     "shell.execute_reply.started": "2022-10-21T17:54:05.028560Z"
=======
     "iopub.execute_input": "2024-04-22T21:46:31.667572Z",
     "iopub.status.busy": "2024-04-22T21:46:31.667153Z",
     "iopub.status.idle": "2024-04-22T21:46:31.740214Z",
     "shell.execute_reply": "2024-04-22T21:46:31.738535Z",
     "shell.execute_reply.started": "2024-04-22T21:46:31.667541Z"
>>>>>>> cleaned up file names
    },
    "pycharm": {
     "is_executing": false
    },
    "tags": []
   },
   "outputs": [],
   "source": [
    "%%capture   \n",
    "%pwd\n"
   ]
  },
  {
   "cell_type": "code",
   "execution_count": 3,
   "metadata": {
    "Collapsed": "false",
    "execution": {
<<<<<<< HEAD
     "iopub.execute_input": "2022-10-21T17:54:05.194241Z",
     "iopub.status.busy": "2022-10-21T17:54:05.193247Z",
     "iopub.status.idle": "2022-10-21T17:54:05.360105Z",
     "shell.execute_reply": "2022-10-21T17:54:05.358897Z",
     "shell.execute_reply.started": "2022-10-21T17:54:05.194241Z"
=======
     "iopub.execute_input": "2024-04-22T21:46:41.435033Z",
     "iopub.status.busy": "2024-04-22T21:46:41.434718Z",
     "iopub.status.idle": "2024-04-22T21:46:41.501638Z",
     "shell.execute_reply": "2024-04-22T21:46:41.500272Z",
     "shell.execute_reply.started": "2024-04-22T21:46:41.435010Z"
>>>>>>> cleaned up file names
    },
    "tags": []
   },
   "outputs": [],
   "source": [
    "%%capture\n",
    "cd .."
   ]
  },
  {
   "cell_type": "code",
   "execution_count": 4,
   "metadata": {
    "Collapsed": "false",
    "execution": {
<<<<<<< HEAD
     "iopub.execute_input": "2022-10-21T17:54:05.801236Z",
     "iopub.status.busy": "2022-10-21T17:54:05.801236Z",
     "iopub.status.idle": "2022-10-21T17:54:05.875643Z",
     "shell.execute_reply": "2022-10-21T17:54:05.874637Z",
     "shell.execute_reply.started": "2022-10-21T17:54:05.801236Z"
=======
     "iopub.execute_input": "2024-04-22T21:46:43.240023Z",
     "iopub.status.busy": "2024-04-22T21:46:43.239636Z",
     "iopub.status.idle": "2024-04-22T21:46:43.273168Z",
     "shell.execute_reply": "2024-04-22T21:46:43.270266Z",
     "shell.execute_reply.started": "2024-04-22T21:46:43.239991Z"
>>>>>>> cleaned up file names
    },
    "pycharm": {
     "is_executing": false
    },
    "tags": []
   },
   "outputs": [],
   "source": [
    "from IPython.core.interactiveshell import InteractiveShell\n",
    "InteractiveShell.ast_node_interactivity = \"all\""
   ]
  },
  {
   "cell_type": "code",
   "execution_count": 5,
   "metadata": {
    "Collapsed": "false",
    "execution": {
<<<<<<< HEAD
     "iopub.execute_input": "2022-10-21T17:54:06.108767Z",
     "iopub.status.busy": "2022-10-21T17:54:06.108767Z",
     "iopub.status.idle": "2022-10-21T17:54:07.109126Z",
     "shell.execute_reply": "2022-10-21T17:54:07.108822Z",
     "shell.execute_reply.started": "2022-10-21T17:54:06.108767Z"
=======
     "iopub.execute_input": "2024-04-22T21:46:48.179093Z",
     "iopub.status.busy": "2024-04-22T21:46:48.178736Z",
     "iopub.status.idle": "2024-04-22T21:46:49.154209Z",
     "shell.execute_reply": "2024-04-22T21:46:49.153365Z",
     "shell.execute_reply.started": "2024-04-22T21:46:48.179049Z"
>>>>>>> cleaned up file names
    },
    "tags": []
   },
   "outputs": [
    {
     "data": {
      "text/plain": [
       "True"
      ]
     },
     "execution_count": 5,
     "metadata": {},
     "output_type": "execute_result"
    }
   ],
   "source": [
    "import psycopg2 as ps2\n",
    "import os\n",
    "import pandas as pd\n",
    "import numpy as np\n",
    "import csv\n",
    "from src.funcs.utils import *\n",
    "\n",
    "from dotenv import load_dotenv\n",
    "load_dotenv()"
   ]
  },
  {
   "cell_type": "code",
   "execution_count": 6,
   "metadata": {
    "Collapsed": "false",
    "execution": {
<<<<<<< HEAD
     "iopub.execute_input": "2022-10-21T17:54:07.353711Z",
     "iopub.status.busy": "2022-10-21T17:54:07.353711Z",
     "iopub.status.idle": "2022-10-21T17:54:07.460120Z",
     "shell.execute_reply": "2022-10-21T17:54:07.459122Z",
     "shell.execute_reply.started": "2022-10-21T17:54:07.353711Z"
=======
     "iopub.execute_input": "2024-04-22T21:46:53.384263Z",
     "iopub.status.busy": "2024-04-22T21:46:53.383951Z",
     "iopub.status.idle": "2024-04-22T21:46:53.436230Z",
     "shell.execute_reply": "2024-04-22T21:46:53.433693Z",
     "shell.execute_reply.started": "2024-04-22T21:46:53.384237Z"
>>>>>>> cleaned up file names
    },
    "tags": []
   },
   "outputs": [],
   "source": [
    "# pull in db credentials from .env file\n",
    "db_name=os.getenv('DB_NAME')\n",
    "db_user=os.getenv('DB_USER')\n",
    "db_host=os.getenv('DB_HOST_IP')\n",
    "db_pwd=os.getenv('DB_PWD')"
   ]
  },
  {
   "cell_type": "code",
   "execution_count": null,
   "metadata": {
    "Collapsed": "false",
    "tags": []
   },
   "outputs": [],
   "source": [
    "# conn.close()\n",
    "conn.rollback()"
   ]
  },
  {
   "cell_type": "code",
   "execution_count": 10,
   "metadata": {
    "Collapsed": "false",
    "execution": {
     "iopub.execute_input": "2024-04-10T13:13:32.518749Z",
     "iopub.status.busy": "2024-04-10T13:13:32.518478Z",
     "iopub.status.idle": "2024-04-10T13:13:32.903776Z",
     "shell.execute_reply": "2024-04-10T13:13:32.900276Z",
     "shell.execute_reply.started": "2024-04-10T13:13:32.518728Z"
    },
    "tags": []
   },
   "outputs": [],
   "source": [
    "# define db session\n",
    "conn = ps2.connect(\n",
    "    host = db_host,\n",
    "    database = db_name,\n",
    "    user = db_user,\n",
    "    password = db_pwd)"
   ]
  },
  {
   "cell_type": "markdown",
   "metadata": {},
   "source": [
    "## Relationships"
   ]
  },
  {
   "cell_type": "markdown",
   "metadata": {
    "Collapsed": "false"
   },
   "source": [
    "### Query for data"
   ]
  },
  {
   "cell_type": "markdown",
   "metadata": {
    "Collapsed": "false"
   },
   "source": [
    "### Directional"
   ]
  },
  {
   "cell_type": "code",
   "execution_count": 11,
   "metadata": {
    "Collapsed": "false",
    "execution": {
     "iopub.execute_input": "2024-04-10T13:13:35.937629Z",
     "iopub.status.busy": "2024-04-10T13:13:35.937148Z",
     "iopub.status.idle": "2024-04-10T13:13:35.978774Z",
     "shell.execute_reply": "2024-04-10T13:13:35.977710Z",
     "shell.execute_reply.started": "2024-04-10T13:13:35.937608Z"
    },
    "tags": []
   },
   "outputs": [],
   "source": [
    "# define query\n",
    "sql=\"SELECT \\\n",
    "control.id, inkey[1], controltype,  string_agg(distinct(effect), ', '), string_agg(distinct(mechanism), ', '), \\\n",
    "num_refs, outkey[1] , reference.id, string_agg(distinct(biomarkertype), ', ') , string_agg(distinct(celllinename), ', '), \\\n",
    "string_agg(distinct(celltype), ', '), string_agg(distinct(changetype), ', '), string_agg(distinct(organ), ', '), \\\n",
    "string_agg(distinct(organism), ', '), string_agg(distinct(quantitativetype), ', '), string_agg(distinct(tissue), ', '),  \\\n",
    "string_agg(distinct(nct_id), ', '),  string_agg(distinct(phase), ', ') \\\n",
    "FROM resnet18.control, resnet18.reference \\\n",
    "WHERE control.id = reference.id and inkey[1] is not null and outkey[1] is not null \\\n",
    "GROUP BY control.id, inkey[1], controltype, num_refs, outkey[1], reference.id\""
   ]
  },
  {
   "cell_type": "code",
   "execution_count": 12,
   "metadata": {
    "Collapsed": "false",
    "execution": {
     "iopub.execute_input": "2024-04-10T13:13:46.980137Z",
     "iopub.status.busy": "2024-04-10T13:13:46.979891Z",
     "iopub.status.idle": "2024-04-10T13:33:01.749197Z",
     "shell.execute_reply": "2024-04-10T13:33:01.740028Z",
     "shell.execute_reply.started": "2024-04-10T13:13:46.980117Z"
    },
    "tags": []
   },
   "outputs": [
    {
     "name": "stdout",
     "output_type": "stream",
     "text": [
      "CPU times: user 28.7 s, sys: 21.6 s, total: 50.3 s\n",
      "Wall time: 19min 14s\n"
     ]
    }
   ],
   "source": [
    "%%time\n",
    "# run query and save to file\n",
    "with conn.cursor() as cur:\n",
    "    with open('./data/processed/directional_ds.txt', 'w', encoding=\"utf-8\") as f:\n",
    "        cur.execute(sql)\n",
    "        csv_writer = csv.writer(f, delimiter='|')\n",
    "        for record in cur.fetchall():\n",
    "            csv_writer.writerow(record)  # Use the writer to directly write the record"
   ]
  },
  {
   "cell_type": "markdown",
   "metadata": {
    "Collapsed": "false"
   },
   "source": [
    "### Bi-derectional"
   ]
  },
  {
   "cell_type": "code",
   "execution_count": 27,
   "metadata": {
    "Collapsed": "false",
    "execution": {
     "iopub.execute_input": "2024-04-09T15:51:12.702896Z",
     "iopub.status.busy": "2024-04-09T15:51:12.701658Z",
     "iopub.status.idle": "2024-04-09T15:51:13.108356Z",
     "shell.execute_reply": "2024-04-09T15:51:13.107107Z",
     "shell.execute_reply.started": "2024-04-09T15:51:12.702857Z"
    },
    "tags": []
   },
   "outputs": [],
   "source": [
    "# sql=\"SELECT DISTINCT \\\n",
    "sql=\"SELECT \\\n",
    "control.id, inkey[1], inoutkey, controltype, relationship, string_agg(distinct(effect), ', '), string_agg(distinct(mechanism), ', '), num_refs, outkey[1], \\\n",
    "reference.id, string_agg(distinct(biomarkertype), ', '), string_agg(distinct(celllinename), ', '), string_agg(distinct(celltype), ', '), string_agg(distinct(changetype), ', '), \\\n",
    "string_agg(distinct(organ), ', '), string_agg(distinct(organism), ', '), string_agg(distinct(quantitativetype), ', '), string_agg(distinct(tissue), ', ') \\\n",
    "FROM resnet18.control, resnet18.reference \\\n",
    "WHERE control.id = reference.id and inkey[1] is null and outkey[1] is null \\\n",
    "GROUP BY control.id, controltype, reference.id\""
   ]
  },
  {
   "cell_type": "code",
   "execution_count": 28,
   "metadata": {
    "Collapsed": "false",
    "execution": {
     "iopub.execute_input": "2024-04-09T15:51:14.714476Z",
     "iopub.status.busy": "2024-04-09T15:51:14.713957Z",
     "iopub.status.idle": "2024-04-09T17:15:52.370370Z",
     "shell.execute_reply": "2024-04-09T17:15:52.369121Z",
     "shell.execute_reply.started": "2024-04-09T15:51:14.714443Z"
    },
    "tags": []
   },
   "outputs": [
    {
     "name": "stdout",
     "output_type": "stream",
     "text": [
      "CPU times: user 21.9 s, sys: 11.1 s, total: 33 s\n",
      "Wall time: 1h 24min 37s\n"
     ]
    }
   ],
   "source": [
    "%%time\n",
    "# run query and save to file\n",
    "with conn.cursor() as cur:\n",
    "    with open('./data/processed/bi_directional_ds.txt', 'w', encoding=\"utf-8\") as f:\n",
    "        cur.execute(sql)\n",
    "        csv_writer=csv.writer(f, delimiter= '|')\n",
    "        for record in cur.fetchall():\n",
    "            line='|'.join(map(str, record))+'\\n'\n",
    "            f.write(line)"
   ]
  },
  {
   "cell_type": "markdown",
   "metadata": {
    "Collapsed": "false"
   },
   "source": [
    "### Attributes"
   ]
  },
  {
   "cell_type": "code",
   "execution_count": 29,
   "metadata": {
    "Collapsed": "false",
    "execution": {
     "iopub.execute_input": "2024-04-09T17:45:08.276563Z",
     "iopub.status.busy": "2024-04-09T17:45:08.276193Z",
     "iopub.status.idle": "2024-04-09T17:45:08.351915Z",
     "shell.execute_reply": "2024-04-09T17:45:08.350386Z",
     "shell.execute_reply.started": "2024-04-09T17:45:08.276538Z"
    },
    "tags": []
   },
   "outputs": [],
   "source": [
    "sql=\"SELECT  \\\n",
    "id, inkey[1], attributes, relationship, outkey[1] from resnet18.control \\\n",
    "WHERE (control.id = control.attributes)\";"
   ]
  },
  {
   "cell_type": "code",
   "execution_count": 30,
   "metadata": {
    "Collapsed": "false",
    "execution": {
     "iopub.execute_input": "2024-04-09T17:45:10.268689Z",
     "iopub.status.busy": "2024-04-09T17:45:10.268366Z",
     "iopub.status.idle": "2024-04-09T17:50:10.487306Z",
     "shell.execute_reply": "2024-04-09T17:50:10.482699Z",
     "shell.execute_reply.started": "2024-04-09T17:45:10.268662Z"
    },
    "tags": []
   },
   "outputs": [
    {
     "name": "stdout",
     "output_type": "stream",
     "text": [
      "CPU times: user 14.5 s, sys: 9.72 s, total: 24.2 s\n",
      "Wall time: 5min\n"
     ]
    }
   ],
   "source": [
    "%%time\n",
    "# run query and save to file\n",
    "with conn.cursor() as cur:\n",
    "    with open('./data/processed/attributes_ds.txt', 'w', encoding=\"utf-8\") as f:\n",
    "        cur.execute(sql)\n",
    "        csv_writer=csv.writer(f, delimiter= '|')\n",
    "        for record in cur.fetchall():\n",
    "            line='|'.join(map(str, record))+'\\n'\n",
    "            f.write(line)"
   ]
  },
  {
   "cell_type": "markdown",
   "metadata": {
    "Collapsed": "false"
   },
   "source": [
    "## Process Data"
   ]
  },
  {
   "cell_type": "markdown",
   "metadata": {
    "Collapsed": "false"
   },
   "source": [
    "### Bi-directional"
   ]
  },
  {
   "cell_type": "code",
<<<<<<< HEAD
   "execution_count": 7,
   "metadata": {
    "Collapsed": "false",
    "execution": {
     "iopub.execute_input": "2022-10-21T17:54:19.779799Z",
     "iopub.status.busy": "2022-10-21T17:54:19.779799Z",
     "iopub.status.idle": "2022-10-21T17:54:37.546731Z",
     "shell.execute_reply": "2022-10-21T17:54:37.543742Z",
     "shell.execute_reply.started": "2022-10-21T17:54:19.779799Z"
=======
   "execution_count": 28,
   "metadata": {
    "Collapsed": "false",
    "execution": {
     "iopub.execute_input": "2024-04-12T18:17:48.110745Z",
     "iopub.status.busy": "2024-04-12T18:17:48.094538Z",
     "iopub.status.idle": "2024-04-12T18:18:24.660817Z",
     "shell.execute_reply": "2024-04-12T18:18:24.658707Z",
     "shell.execute_reply.started": "2024-04-12T18:17:48.108089Z"
>>>>>>> cleaned up file names
    },
    "tags": []
   },
   "outputs": [
    {
     "name": "stderr",
     "output_type": "stream",
     "text": [
      "<timed exec>:2: DtypeWarning: Columns (5) have mixed types. Specify dtype option on import or set low_memory=False.\n"
     ]
    },
    {
     "name": "stdout",
     "output_type": "stream",
     "text": [
      "<class 'pandas.core.frame.DataFrame'>\n",
      "RangeIndex: 5440406 entries, 0 to 5440405\n",
      "Data columns (total 18 columns):\n",
<<<<<<< HEAD
      " #   Column  Dtype \n",
      "---  ------  ----- \n",
      " 0   0       int64 \n",
      " 1   1       object\n",
      " 2   2       object\n",
      " 3   3       object\n",
      " 4   4       object\n",
      " 5   5       object\n",
      " 6   6       object\n",
      " 7   7       int64 \n",
      " 8   8       object\n",
      " 9   9       int64 \n",
      " 10  10      object\n",
      " 11  11      object\n",
      " 12  12      object\n",
      " 13  13      object\n",
      " 14  14      object\n",
      " 15  15      object\n",
      " 16  16      object\n",
      " 17  17      object\n",
      "dtypes: int64(3), object(15)\n",
      "memory usage: 648.0+ MB\n",
      "Wall time: 17.6 s\n"
=======
      " #   Column  Dtype  \n",
      "---  ------  -----  \n",
      " 0   0       int64  \n",
      " 1   1       float64\n",
      " 2   2       object \n",
      " 3   3       object \n",
      " 4   4       float64\n",
      " 5   5       object \n",
      " 6   6       object \n",
      " 7   7       int64  \n",
      " 8   8       float64\n",
      " 9   9       int64  \n",
      " 10  10      float64\n",
      " 11  11      object \n",
      " 12  12      object \n",
      " 13  13      object \n",
      " 14  14      object \n",
      " 15  15      object \n",
      " 16  16      float64\n",
      " 17  17      object \n",
      "dtypes: float64(5), int64(3), object(10)\n",
      "memory usage: 747.1+ MB\n",
      "CPU times: user 5.62 s, sys: 4.75 s, total: 10.4 s\n",
      "Wall time: 36 s\n"
>>>>>>> cleaned up file names
     ]
    },
    {
     "data": {
      "text/html": [
       "<div>\n",
       "<style scoped>\n",
       "    .dataframe tbody tr th:only-of-type {\n",
       "        vertical-align: middle;\n",
       "    }\n",
       "\n",
       "    .dataframe tbody tr th {\n",
       "        vertical-align: top;\n",
       "    }\n",
       "\n",
       "    .dataframe thead th {\n",
       "        text-align: right;\n",
       "    }\n",
       "</style>\n",
       "<table border=\"1\" class=\"dataframe\">\n",
       "  <thead>\n",
       "    <tr style=\"text-align: right;\">\n",
       "      <th></th>\n",
       "      <th>0</th>\n",
       "      <th>1</th>\n",
       "      <th>2</th>\n",
       "      <th>3</th>\n",
       "      <th>4</th>\n",
       "      <th>5</th>\n",
       "      <th>6</th>\n",
       "      <th>7</th>\n",
       "      <th>8</th>\n",
       "      <th>9</th>\n",
       "      <th>10</th>\n",
       "      <th>11</th>\n",
       "      <th>12</th>\n",
       "      <th>13</th>\n",
       "      <th>14</th>\n",
       "      <th>15</th>\n",
       "      <th>16</th>\n",
       "      <th>17</th>\n",
       "    </tr>\n",
       "  </thead>\n",
       "  <tbody>\n",
       "    <tr>\n",
       "      <th>0</th>\n",
       "      <td>-9223367021478908826</td>\n",
       "      <td>NaN</td>\n",
       "      <td>[5747547533469447186, 6031869671835980567]</td>\n",
       "      <td>FunctionalAssociation</td>\n",
       "      <td>NaN</td>\n",
       "      <td>NaN</td>\n",
       "      <td>NaN</td>\n",
       "      <td>1</td>\n",
       "      <td>NaN</td>\n",
       "      <td>-9223367021478908826</td>\n",
       "      <td>NaN</td>\n",
       "      <td>NaN</td>\n",
       "      <td>NaN</td>\n",
       "      <td>NaN</td>\n",
       "      <td>liver</td>\n",
       "      <td>NaN</td>\n",
       "      <td>NaN</td>\n",
       "      <td>NaN</td>\n",
       "    </tr>\n",
       "    <tr>\n",
       "      <th>1</th>\n",
       "      <td>-9223365481314032826</td>\n",
       "      <td>NaN</td>\n",
       "      <td>[5445426109658919917, -2285403010002775161]</td>\n",
       "      <td>FunctionalAssociation</td>\n",
       "      <td>NaN</td>\n",
       "      <td>NaN</td>\n",
       "      <td>NaN</td>\n",
       "      <td>1</td>\n",
       "      <td>NaN</td>\n",
       "      <td>-9223365481314032826</td>\n",
       "      <td>NaN</td>\n",
       "      <td>NaN</td>\n",
       "      <td>NaN</td>\n",
       "      <td>NaN</td>\n",
       "      <td>leg</td>\n",
       "      <td>NaN</td>\n",
       "      <td>NaN</td>\n",
       "      <td>NaN</td>\n",
       "    </tr>\n",
       "    <tr>\n",
       "      <th>2</th>\n",
       "      <td>-9223357200775258657</td>\n",
       "      <td>NaN</td>\n",
       "      <td>[1596328558605610184, -8708891732207432195]</td>\n",
       "      <td>CellExpression</td>\n",
       "      <td>NaN</td>\n",
       "      <td>NaN</td>\n",
       "      <td>NaN</td>\n",
       "      <td>8</td>\n",
       "      <td>NaN</td>\n",
       "      <td>-9223357200775258657</td>\n",
       "      <td>NaN</td>\n",
       "      <td>MDA-MB-231</td>\n",
       "      <td>NaN</td>\n",
       "      <td>NaN</td>\n",
       "      <td>breast</td>\n",
       "      <td>Homo sapiens (human), Oryctolagus cuniculus (r...</td>\n",
       "      <td>NaN</td>\n",
       "      <td>serum</td>\n",
       "    </tr>\n",
       "    <tr>\n",
       "      <th>3</th>\n",
       "      <td>-9223356961959519979</td>\n",
       "      <td>NaN</td>\n",
       "      <td>[4541556823765750071, 3096071376414863663]</td>\n",
       "      <td>CellExpression</td>\n",
       "      <td>NaN</td>\n",
       "      <td>NaN</td>\n",
       "      <td>NaN</td>\n",
       "      <td>1</td>\n",
       "      <td>NaN</td>\n",
       "      <td>-9223356961959519979</td>\n",
       "      <td>NaN</td>\n",
       "      <td>A2058</td>\n",
       "      <td>NaN</td>\n",
       "      <td>NaN</td>\n",
       "      <td>NaN</td>\n",
       "      <td>NaN</td>\n",
       "      <td>NaN</td>\n",
       "      <td>NaN</td>\n",
       "    </tr>\n",
       "    <tr>\n",
       "      <th>4</th>\n",
       "      <td>-9223351835527058603</td>\n",
       "      <td>NaN</td>\n",
       "      <td>[-2894717825806059007, -5196628532512894922]</td>\n",
       "      <td>FunctionalAssociation</td>\n",
       "      <td>NaN</td>\n",
       "      <td>NaN</td>\n",
       "      <td>NaN</td>\n",
       "      <td>2</td>\n",
       "      <td>NaN</td>\n",
       "      <td>-9223351835527058603</td>\n",
       "      <td>NaN</td>\n",
       "      <td>NaN</td>\n",
       "      <td>NaN</td>\n",
       "      <td>NaN</td>\n",
       "      <td>thoracolumbar spine</td>\n",
       "      <td>NaN</td>\n",
       "      <td>NaN</td>\n",
       "      <td>NaN</td>\n",
       "    </tr>\n",
       "  </tbody>\n",
       "</table>\n",
       "</div>"
      ],
      "text/plain": [
       "                    0   1                                             2   \\\n",
       "0 -9223367021478908826 NaN    [5747547533469447186, 6031869671835980567]   \n",
       "1 -9223365481314032826 NaN   [5445426109658919917, -2285403010002775161]   \n",
       "2 -9223357200775258657 NaN   [1596328558605610184, -8708891732207432195]   \n",
       "3 -9223356961959519979 NaN    [4541556823765750071, 3096071376414863663]   \n",
       "4 -9223351835527058603 NaN  [-2894717825806059007, -5196628532512894922]   \n",
       "\n",
       "                      3   4    5    6   7   8                    9   10  \\\n",
       "0  FunctionalAssociation NaN  NaN  NaN   1 NaN -9223367021478908826 NaN   \n",
       "1  FunctionalAssociation NaN  NaN  NaN   1 NaN -9223365481314032826 NaN   \n",
       "2         CellExpression NaN  NaN  NaN   8 NaN -9223357200775258657 NaN   \n",
       "3         CellExpression NaN  NaN  NaN   1 NaN -9223356961959519979 NaN   \n",
       "4  FunctionalAssociation NaN  NaN  NaN   2 NaN -9223351835527058603 NaN   \n",
       "\n",
       "           11   12   13                   14  \\\n",
       "0         NaN  NaN  NaN                liver   \n",
       "1         NaN  NaN  NaN                  leg   \n",
       "2  MDA-MB-231  NaN  NaN               breast   \n",
       "3       A2058  NaN  NaN                  NaN   \n",
       "4         NaN  NaN  NaN  thoracolumbar spine   \n",
       "\n",
       "                                                  15  16     17  \n",
       "0                                                NaN NaN    NaN  \n",
       "1                                                NaN NaN    NaN  \n",
       "2  Homo sapiens (human), Oryctolagus cuniculus (r... NaN  serum  \n",
       "3                                                NaN NaN    NaN  \n",
       "4                                                NaN NaN    NaN  "
      ]
     },
<<<<<<< HEAD
     "execution_count": 7,
=======
     "execution_count": 28,
>>>>>>> cleaned up file names
     "metadata": {},
     "output_type": "execute_result"
    }
   ],
   "source": [
    "%%time\n",
    "\n",
    "df_birect=pd.read_csv('./data/processed/bi_directional_ds.txt', sep='|', header=None, encoding='utf-8')\n",
    "df_birect.info(); df_birect.head()"
   ]
  },
  {
   "cell_type": "code",
<<<<<<< HEAD
   "execution_count": 8,
   "metadata": {
    "Collapsed": "false",
    "execution": {
     "iopub.execute_input": "2022-10-21T17:56:12.113937Z",
     "iopub.status.busy": "2022-10-21T17:56:12.112943Z",
     "iopub.status.idle": "2022-10-21T17:56:12.398207Z",
     "shell.execute_reply": "2022-10-21T17:56:12.397207Z",
     "shell.execute_reply.started": "2022-10-21T17:56:12.113937Z"
=======
   "execution_count": 27,
   "metadata": {
    "execution": {
     "iopub.execute_input": "2024-04-12T17:41:30.220830Z",
     "iopub.status.busy": "2024-04-12T17:41:30.220545Z",
     "iopub.status.idle": "2024-04-12T17:41:50.233334Z",
     "shell.execute_reply": "2024-04-12T17:41:50.231709Z",
     "shell.execute_reply.started": "2024-04-12T17:41:30.220810Z"
    },
    "tags": []
   },
   "outputs": [],
   "source": [
    "df_birect=df_birect.fillna('None')"
   ]
  },
  {
   "cell_type": "code",
   "execution_count": 23,
   "metadata": {
    "Collapsed": "false",
    "execution": {
     "iopub.execute_input": "2024-04-12T17:38:26.328973Z",
     "iopub.status.busy": "2024-04-12T17:38:26.327396Z",
     "iopub.status.idle": "2024-04-12T17:38:26.501659Z",
     "shell.execute_reply": "2024-04-12T17:38:26.497978Z",
     "shell.execute_reply.started": "2024-04-12T17:38:26.328865Z"
>>>>>>> cleaned up file names
    },
    "tags": []
   },
   "outputs": [
    {
     "data": {
      "text/html": [
       "<div>\n",
       "<style scoped>\n",
       "    .dataframe tbody tr th:only-of-type {\n",
       "        vertical-align: middle;\n",
       "    }\n",
       "\n",
       "    .dataframe tbody tr th {\n",
       "        vertical-align: top;\n",
       "    }\n",
       "\n",
       "    .dataframe thead th {\n",
       "        text-align: right;\n",
       "    }\n",
       "</style>\n",
       "<table border=\"1\" class=\"dataframe\">\n",
       "  <thead>\n",
       "    <tr style=\"text-align: right;\">\n",
       "      <th></th>\n",
       "      <th>msrc_id</th>\n",
       "      <th>:START_ID</th>\n",
       "      <th>inOutkey</th>\n",
       "      <th>type:TYPE</th>\n",
       "      <th>relationship</th>\n",
       "      <th>effect</th>\n",
       "      <th>mechanism</th>\n",
       "      <th>ref_count:int</th>\n",
       "      <th>:END_ID</th>\n",
       "      <th>id2</th>\n",
       "      <th>biomarkertype</th>\n",
       "      <th>celllinename</th>\n",
       "      <th>celltype</th>\n",
       "      <th>changetype</th>\n",
       "      <th>organ</th>\n",
       "      <th>organism</th>\n",
       "      <th>quantitativetype</th>\n",
       "      <th>tissue</th>\n",
       "    </tr>\n",
       "  </thead>\n",
       "  <tbody>\n",
       "    <tr>\n",
       "      <th>0</th>\n",
       "      <td>-9223367021478908826</td>\n",
       "      <td>NaN</td>\n",
       "      <td>[5747547533469447186, 6031869671835980567]</td>\n",
       "      <td>FunctionalAssociation</td>\n",
       "      <td>NaN</td>\n",
       "      <td>NaN</td>\n",
       "      <td>NaN</td>\n",
       "      <td>1</td>\n",
       "      <td>NaN</td>\n",
       "      <td>-9223367021478908826</td>\n",
       "      <td>NaN</td>\n",
       "      <td>NaN</td>\n",
       "      <td>NaN</td>\n",
       "      <td>NaN</td>\n",
       "      <td>liver</td>\n",
       "      <td>NaN</td>\n",
       "      <td>NaN</td>\n",
       "      <td>NaN</td>\n",
       "    </tr>\n",
       "    <tr>\n",
       "      <th>1</th>\n",
       "      <td>-9223365481314032826</td>\n",
       "      <td>NaN</td>\n",
       "      <td>[5445426109658919917, -2285403010002775161]</td>\n",
       "      <td>FunctionalAssociation</td>\n",
       "      <td>NaN</td>\n",
       "      <td>NaN</td>\n",
       "      <td>NaN</td>\n",
       "      <td>1</td>\n",
       "      <td>NaN</td>\n",
       "      <td>-9223365481314032826</td>\n",
       "      <td>NaN</td>\n",
       "      <td>NaN</td>\n",
       "      <td>NaN</td>\n",
       "      <td>NaN</td>\n",
       "      <td>leg</td>\n",
       "      <td>NaN</td>\n",
       "      <td>NaN</td>\n",
       "      <td>NaN</td>\n",
       "    </tr>\n",
       "    <tr>\n",
       "      <th>2</th>\n",
       "      <td>-9223357200775258657</td>\n",
       "      <td>NaN</td>\n",
       "      <td>[1596328558605610184, -8708891732207432195]</td>\n",
       "      <td>CellExpression</td>\n",
       "      <td>NaN</td>\n",
       "      <td>NaN</td>\n",
       "      <td>NaN</td>\n",
       "      <td>8</td>\n",
       "      <td>NaN</td>\n",
       "      <td>-9223357200775258657</td>\n",
       "      <td>NaN</td>\n",
       "      <td>MDA-MB-231</td>\n",
       "      <td>NaN</td>\n",
       "      <td>NaN</td>\n",
       "      <td>breast</td>\n",
       "      <td>Homo sapiens (human), Oryctolagus cuniculus (r...</td>\n",
       "      <td>NaN</td>\n",
       "      <td>serum</td>\n",
       "    </tr>\n",
       "    <tr>\n",
       "      <th>3</th>\n",
       "      <td>-9223356961959519979</td>\n",
       "      <td>NaN</td>\n",
       "      <td>[4541556823765750071, 3096071376414863663]</td>\n",
       "      <td>CellExpression</td>\n",
       "      <td>NaN</td>\n",
       "      <td>NaN</td>\n",
       "      <td>NaN</td>\n",
       "      <td>1</td>\n",
       "      <td>NaN</td>\n",
       "      <td>-9223356961959519979</td>\n",
       "      <td>NaN</td>\n",
       "      <td>A2058</td>\n",
       "      <td>NaN</td>\n",
       "      <td>NaN</td>\n",
       "      <td>NaN</td>\n",
       "      <td>NaN</td>\n",
       "      <td>NaN</td>\n",
       "      <td>NaN</td>\n",
       "    </tr>\n",
       "    <tr>\n",
       "      <th>4</th>\n",
       "      <td>-9223351835527058603</td>\n",
       "      <td>NaN</td>\n",
       "      <td>[-2894717825806059007, -5196628532512894922]</td>\n",
       "      <td>FunctionalAssociation</td>\n",
       "      <td>NaN</td>\n",
       "      <td>NaN</td>\n",
       "      <td>NaN</td>\n",
       "      <td>2</td>\n",
       "      <td>NaN</td>\n",
       "      <td>-9223351835527058603</td>\n",
       "      <td>NaN</td>\n",
       "      <td>NaN</td>\n",
       "      <td>NaN</td>\n",
       "      <td>NaN</td>\n",
       "      <td>thoracolumbar spine</td>\n",
       "      <td>NaN</td>\n",
       "      <td>NaN</td>\n",
       "      <td>NaN</td>\n",
       "    </tr>\n",
       "  </tbody>\n",
       "</table>\n",
       "</div>"
      ],
      "text/plain": [
       "               msrc_id  :START_ID  \\\n",
       "0 -9223367021478908826        NaN   \n",
       "1 -9223365481314032826        NaN   \n",
       "2 -9223357200775258657        NaN   \n",
       "3 -9223356961959519979        NaN   \n",
       "4 -9223351835527058603        NaN   \n",
       "\n",
       "                                       inOutkey              type:TYPE  \\\n",
       "0    [5747547533469447186, 6031869671835980567]  FunctionalAssociation   \n",
       "1   [5445426109658919917, -2285403010002775161]  FunctionalAssociation   \n",
       "2   [1596328558605610184, -8708891732207432195]         CellExpression   \n",
       "3    [4541556823765750071, 3096071376414863663]         CellExpression   \n",
       "4  [-2894717825806059007, -5196628532512894922]  FunctionalAssociation   \n",
       "\n",
       "   relationship effect mechanism  ref_count:int  :END_ID                  id2  \\\n",
       "0           NaN    NaN       NaN              1      NaN -9223367021478908826   \n",
       "1           NaN    NaN       NaN              1      NaN -9223365481314032826   \n",
       "2           NaN    NaN       NaN              8      NaN -9223357200775258657   \n",
       "3           NaN    NaN       NaN              1      NaN -9223356961959519979   \n",
       "4           NaN    NaN       NaN              2      NaN -9223351835527058603   \n",
       "\n",
       "   biomarkertype celllinename celltype changetype                organ  \\\n",
       "0            NaN          NaN      NaN        NaN                liver   \n",
       "1            NaN          NaN      NaN        NaN                  leg   \n",
       "2            NaN   MDA-MB-231      NaN        NaN               breast   \n",
       "3            NaN        A2058      NaN        NaN                  NaN   \n",
       "4            NaN          NaN      NaN        NaN  thoracolumbar spine   \n",
       "\n",
       "                                            organism  quantitativetype tissue  \n",
       "0                                                NaN               NaN    NaN  \n",
       "1                                                NaN               NaN    NaN  \n",
       "2  Homo sapiens (human), Oryctolagus cuniculus (r...               NaN  serum  \n",
       "3                                                NaN               NaN    NaN  \n",
       "4                                                NaN               NaN    NaN  "
      ]
     },
<<<<<<< HEAD
     "execution_count": 8,
=======
     "execution_count": 23,
>>>>>>> cleaned up file names
     "metadata": {},
     "output_type": "execute_result"
    }
   ],
   "source": [
    "df_birect.columns=['msrc_id', ':START_ID', 'inOutkey', 'type:TYPE', 'relationship', 'effect', 'mechanism', 'ref_count:int', ':END_ID' , 'id2', 'biomarkertype', 'celllinename', 'celltype',\n",
    "      'changetype', 'organ', 'organism', 'quantitativetype', 'tissue']\n",
    "\n",
    "df_birect.head()"
   ]
  },
  {
   "cell_type": "code",
<<<<<<< HEAD
   "execution_count": 9,
   "metadata": {
    "execution": {
     "iopub.execute_input": "2022-10-21T17:56:15.787596Z",
     "iopub.status.busy": "2022-10-21T17:56:15.787596Z",
     "iopub.status.idle": "2022-10-21T17:56:24.604742Z",
     "shell.execute_reply": "2022-10-21T17:56:24.604742Z",
     "shell.execute_reply.started": "2022-10-21T17:56:15.787596Z"
=======
   "execution_count": 24,
   "metadata": {
    "execution": {
     "iopub.execute_input": "2024-04-12T17:39:33.935395Z",
     "iopub.status.busy": "2024-04-12T17:39:33.934995Z",
     "iopub.status.idle": "2024-04-12T17:39:43.370315Z",
     "shell.execute_reply": "2024-04-12T17:39:43.369201Z",
     "shell.execute_reply.started": "2024-04-12T17:39:33.935374Z"
>>>>>>> cleaned up file names
    },
    "tags": []
   },
   "outputs": [
    {
     "data": {
      "text/plain": [
       "5440406"
      ]
     },
<<<<<<< HEAD
     "execution_count": 9,
=======
     "execution_count": 24,
>>>>>>> cleaned up file names
     "metadata": {},
     "output_type": "execute_result"
    },
    {
     "data": {
      "text/plain": [
       "5440406"
      ]
     },
<<<<<<< HEAD
     "execution_count": 9,
=======
     "execution_count": 24,
>>>>>>> cleaned up file names
     "metadata": {},
     "output_type": "execute_result"
    },
    {
     "data": {
      "text/plain": [
       "['5747547533469447186',\n",
       " '5445426109658919917',\n",
       " '1596328558605610184',\n",
       " '4541556823765750071',\n",
       " '-2894717825806059007']"
      ]
     },
<<<<<<< HEAD
     "execution_count": 9,
=======
     "execution_count": 24,
>>>>>>> cleaned up file names
     "metadata": {},
     "output_type": "execute_result"
    },
    {
     "data": {
      "text/plain": [
       "['6031869671835980567',\n",
       " '-2285403010002775161',\n",
       " '-8708891732207432195',\n",
       " '3096071376414863663',\n",
       " '-5196628532512894922']"
      ]
     },
<<<<<<< HEAD
     "execution_count": 9,
=======
     "execution_count": 24,
>>>>>>> cleaned up file names
     "metadata": {},
     "output_type": "execute_result"
    }
   ],
   "source": [
    "# create separate columns for inOutkeys\n",
    "first_ids, second_ids = inOutkeys_to_lists(df_birect)\n",
    "\n",
    "len(first_ids); len(second_ids)\n",
    "first_ids[:5]; second_ids[:5]"
   ]
  },
  {
   "cell_type": "code",
<<<<<<< HEAD
   "execution_count": 10,
   "metadata": {
    "Collapsed": "false",
    "execution": {
     "iopub.execute_input": "2022-10-21T17:56:26.969453Z",
     "iopub.status.busy": "2022-10-21T17:56:26.969453Z",
     "iopub.status.idle": "2022-10-21T17:56:28.255580Z",
     "shell.execute_reply": "2022-10-21T17:56:28.255580Z",
     "shell.execute_reply.started": "2022-10-21T17:56:26.969453Z"
=======
   "execution_count": 37,
   "metadata": {
    "Collapsed": "false",
    "execution": {
     "iopub.execute_input": "2024-04-09T17:56:14.223155Z",
     "iopub.status.busy": "2024-04-09T17:56:14.222523Z",
     "iopub.status.idle": "2024-04-09T17:56:19.435247Z",
     "shell.execute_reply": "2024-04-09T17:56:19.434321Z",
     "shell.execute_reply.started": "2024-04-09T17:56:14.223119Z"
>>>>>>> cleaned up file names
    },
    "tags": []
   },
   "outputs": [],
   "source": [
    "df_birect_1=df_birect.copy()\n",
    "df_birect_1.drop(columns=['inOutkey', 'id2', 'relationship'], inplace=True)"
   ]
  },
  {
   "cell_type": "code",
<<<<<<< HEAD
   "execution_count": 11,
   "metadata": {
    "Collapsed": "false",
    "execution": {
     "iopub.execute_input": "2022-10-21T17:56:30.645290Z",
     "iopub.status.busy": "2022-10-21T17:56:30.645290Z",
     "iopub.status.idle": "2022-10-21T17:56:32.007580Z",
     "shell.execute_reply": "2022-10-21T17:56:32.006583Z",
     "shell.execute_reply.started": "2022-10-21T17:56:30.645290Z"
=======
   "execution_count": 38,
   "metadata": {
    "Collapsed": "false",
    "execution": {
     "iopub.execute_input": "2024-04-09T17:56:22.081442Z",
     "iopub.status.busy": "2024-04-09T17:56:22.081185Z",
     "iopub.status.idle": "2024-04-09T17:56:24.871866Z",
     "shell.execute_reply": "2024-04-09T17:56:24.870633Z",
     "shell.execute_reply.started": "2024-04-09T17:56:22.081421Z"
>>>>>>> cleaned up file names
    },
    "tags": []
   },
   "outputs": [
    {
     "name": "stdout",
     "output_type": "stream",
     "text": [
      "<class 'pandas.core.frame.DataFrame'>\n",
      "RangeIndex: 5440406 entries, 0 to 5440405\n",
      "Data columns (total 15 columns):\n",
      " #   Column            Dtype \n",
      "---  ------            ----- \n",
      " 0   msrc_id           int64 \n",
      " 1   :START_ID         object\n",
      " 2   type:TYPE         object\n",
      " 3   effect            object\n",
      " 4   mechanism         object\n",
      " 5   ref_count:int     int64 \n",
      " 6   :END_ID           object\n",
      " 7   biomarkertype     object\n",
      " 8   celllinename      object\n",
      " 9   celltype          object\n",
      " 10  changetype        object\n",
      " 11  organ             object\n",
      " 12  organism          object\n",
      " 13  quantitativetype  object\n",
      " 14  tissue            object\n",
      "dtypes: int64(2), object(13)\n",
      "memory usage: 622.6+ MB\n"
     ]
    },
    {
     "data": {
      "text/html": [
       "<div>\n",
       "<style scoped>\n",
       "    .dataframe tbody tr th:only-of-type {\n",
       "        vertical-align: middle;\n",
       "    }\n",
       "\n",
       "    .dataframe tbody tr th {\n",
       "        vertical-align: top;\n",
       "    }\n",
       "\n",
       "    .dataframe thead th {\n",
       "        text-align: right;\n",
       "    }\n",
       "</style>\n",
       "<table border=\"1\" class=\"dataframe\">\n",
       "  <thead>\n",
       "    <tr style=\"text-align: right;\">\n",
       "      <th></th>\n",
       "      <th>msrc_id</th>\n",
       "      <th>:START_ID</th>\n",
       "      <th>type:TYPE</th>\n",
       "      <th>effect</th>\n",
       "      <th>mechanism</th>\n",
       "      <th>ref_count:int</th>\n",
       "      <th>:END_ID</th>\n",
       "      <th>biomarkertype</th>\n",
       "      <th>celllinename</th>\n",
       "      <th>celltype</th>\n",
       "      <th>changetype</th>\n",
       "      <th>organ</th>\n",
       "      <th>organism</th>\n",
       "      <th>quantitativetype</th>\n",
       "      <th>tissue</th>\n",
       "    </tr>\n",
       "  </thead>\n",
       "  <tbody>\n",
       "    <tr>\n",
       "      <th>0</th>\n",
       "      <td>-9223367021478908826</td>\n",
       "      <td>5747547533469447186</td>\n",
       "      <td>FunctionalAssociation</td>\n",
       "      <td>None</td>\n",
       "      <td>None</td>\n",
       "      <td>1</td>\n",
       "      <td>6031869671835980567</td>\n",
       "      <td>None</td>\n",
       "      <td>None</td>\n",
       "      <td>None</td>\n",
       "      <td>None</td>\n",
       "      <td>liver</td>\n",
       "      <td>None</td>\n",
       "      <td>None</td>\n",
       "      <td>None</td>\n",
       "    </tr>\n",
       "    <tr>\n",
       "      <th>1</th>\n",
       "      <td>-9223365481314032826</td>\n",
       "      <td>5445426109658919917</td>\n",
       "      <td>FunctionalAssociation</td>\n",
       "      <td>None</td>\n",
       "      <td>None</td>\n",
       "      <td>1</td>\n",
       "      <td>-2285403010002775161</td>\n",
       "      <td>None</td>\n",
       "      <td>None</td>\n",
       "      <td>None</td>\n",
       "      <td>None</td>\n",
       "      <td>leg</td>\n",
       "      <td>None</td>\n",
       "      <td>None</td>\n",
       "      <td>None</td>\n",
       "    </tr>\n",
       "    <tr>\n",
       "      <th>2</th>\n",
       "      <td>-9223357200775258657</td>\n",
       "      <td>1596328558605610184</td>\n",
       "      <td>CellExpression</td>\n",
       "      <td>None</td>\n",
       "      <td>None</td>\n",
       "      <td>8</td>\n",
       "      <td>-8708891732207432195</td>\n",
       "      <td>None</td>\n",
       "      <td>MDA-MB-231</td>\n",
       "      <td>None</td>\n",
       "      <td>None</td>\n",
       "      <td>breast</td>\n",
       "      <td>Homo sapiens (human), Oryctolagus cuniculus (r...</td>\n",
       "      <td>None</td>\n",
       "      <td>serum</td>\n",
       "    </tr>\n",
       "    <tr>\n",
       "      <th>3</th>\n",
       "      <td>-9223356961959519979</td>\n",
       "      <td>4541556823765750071</td>\n",
       "      <td>CellExpression</td>\n",
       "      <td>None</td>\n",
       "      <td>None</td>\n",
       "      <td>1</td>\n",
       "      <td>3096071376414863663</td>\n",
       "      <td>None</td>\n",
       "      <td>A2058</td>\n",
       "      <td>None</td>\n",
       "      <td>None</td>\n",
       "      <td>None</td>\n",
       "      <td>None</td>\n",
       "      <td>None</td>\n",
       "      <td>None</td>\n",
       "    </tr>\n",
       "    <tr>\n",
       "      <th>4</th>\n",
       "      <td>-9223351835527058603</td>\n",
       "      <td>-2894717825806059007</td>\n",
       "      <td>FunctionalAssociation</td>\n",
       "      <td>None</td>\n",
       "      <td>None</td>\n",
       "      <td>2</td>\n",
       "      <td>-5196628532512894922</td>\n",
       "      <td>None</td>\n",
       "      <td>None</td>\n",
       "      <td>None</td>\n",
       "      <td>None</td>\n",
       "      <td>thoracolumbar spine</td>\n",
       "      <td>None</td>\n",
       "      <td>None</td>\n",
       "      <td>None</td>\n",
       "    </tr>\n",
       "  </tbody>\n",
       "</table>\n",
       "</div>"
      ],
      "text/plain": [
       "               msrc_id             :START_ID              type:TYPE effect  \\\n",
       "0 -9223367021478908826   5747547533469447186  FunctionalAssociation   None   \n",
       "1 -9223365481314032826   5445426109658919917  FunctionalAssociation   None   \n",
       "2 -9223357200775258657   1596328558605610184         CellExpression   None   \n",
       "3 -9223356961959519979   4541556823765750071         CellExpression   None   \n",
       "4 -9223351835527058603  -2894717825806059007  FunctionalAssociation   None   \n",
       "\n",
       "  mechanism  ref_count:int               :END_ID biomarkertype celllinename  \\\n",
       "0      None              1   6031869671835980567          None         None   \n",
       "1      None              1  -2285403010002775161          None         None   \n",
       "2      None              8  -8708891732207432195          None   MDA-MB-231   \n",
       "3      None              1   3096071376414863663          None        A2058   \n",
       "4      None              2  -5196628532512894922          None         None   \n",
       "\n",
       "  celltype changetype                organ  \\\n",
       "0     None       None                liver   \n",
       "1     None       None                  leg   \n",
       "2     None       None               breast   \n",
       "3     None       None                 None   \n",
       "4     None       None  thoracolumbar spine   \n",
       "\n",
       "                                            organism quantitativetype tissue  \n",
       "0                                               None             None   None  \n",
       "1                                               None             None   None  \n",
       "2  Homo sapiens (human), Oryctolagus cuniculus (r...             None  serum  \n",
       "3                                               None             None   None  \n",
       "4                                               None             None   None  "
      ]
     },
<<<<<<< HEAD
     "execution_count": 11,
=======
     "execution_count": 38,
>>>>>>> cleaned up file names
     "metadata": {},
     "output_type": "execute_result"
    }
   ],
   "source": [
    "df_birect_1[':START_ID']=first_ids\n",
    "df_birect_1[':END_ID']=second_ids\n",
    "df_birect_1.info(); df_birect_1.head()"
   ]
  },
  {
   "cell_type": "code",
<<<<<<< HEAD
   "execution_count": 12,
   "metadata": {
    "Collapsed": "false",
    "execution": {
     "iopub.execute_input": "2022-10-21T17:56:34.914167Z",
     "iopub.status.busy": "2022-10-21T17:56:34.914167Z",
     "iopub.status.idle": "2022-10-21T17:56:37.757017Z",
     "shell.execute_reply": "2022-10-21T17:56:37.756054Z",
     "shell.execute_reply.started": "2022-10-21T17:56:34.914167Z"
=======
   "execution_count": 39,
   "metadata": {
    "Collapsed": "false",
    "execution": {
     "iopub.execute_input": "2024-04-09T17:56:27.646680Z",
     "iopub.status.busy": "2024-04-09T17:56:27.646086Z",
     "iopub.status.idle": "2024-04-09T17:56:29.124347Z",
     "shell.execute_reply": "2024-04-09T17:56:29.122962Z",
     "shell.execute_reply.started": "2024-04-09T17:56:27.646643Z"
>>>>>>> cleaned up file names
    },
    "tags": []
   },
   "outputs": [
    {
     "name": "stdout",
     "output_type": "stream",
     "text": [
      "<class 'pandas.core.frame.DataFrame'>\n",
      "RangeIndex: 5440406 entries, 0 to 5440405\n",
      "Data columns (total 15 columns):\n",
      " #   Column            Dtype \n",
      "---  ------            ----- \n",
      " 0   msrc_id           int64 \n",
      " 1   :START_ID         int64 \n",
      " 2   type:TYPE         object\n",
      " 3   effect            object\n",
      " 4   mechanism         object\n",
      " 5   ref_count:int     int16 \n",
      " 6   :END_ID           int64 \n",
      " 7   biomarkertype     object\n",
      " 8   celllinename      object\n",
      " 9   celltype          object\n",
      " 10  changetype        object\n",
      " 11  organ             object\n",
      " 12  organism          object\n",
      " 13  quantitativetype  object\n",
      " 14  tissue            object\n",
      "dtypes: int16(1), int64(3), object(11)\n",
      "memory usage: 591.5+ MB\n"
     ]
    }
   ],
   "source": [
    "df_birect_1[':START_ID']=df_birect_1[':START_ID'].astype('int64')\n",
    "df_birect_1[':END_ID']=df_birect_1[':END_ID'].astype('int64')\n",
    "df_birect_1['ref_count:int']=df_birect_1['ref_count:int'].astype('int16')\n",
    "\n",
    "df_birect_1.info()"
   ]
  },
  {
   "cell_type": "code",
<<<<<<< HEAD
   "execution_count": 13,
   "metadata": {
    "execution": {
     "iopub.execute_input": "2022-10-21T17:56:37.758015Z",
     "iopub.status.busy": "2022-10-21T17:56:37.758015Z",
     "iopub.status.idle": "2022-10-21T17:56:58.289350Z",
     "shell.execute_reply": "2022-10-21T17:56:58.288385Z",
     "shell.execute_reply.started": "2022-10-21T17:56:37.758015Z"
=======
   "execution_count": 40,
   "metadata": {
    "execution": {
     "iopub.execute_input": "2024-04-09T17:56:32.880571Z",
     "iopub.status.busy": "2024-04-09T17:56:32.880306Z",
     "iopub.status.idle": "2024-04-09T17:56:56.499975Z",
     "shell.execute_reply": "2024-04-09T17:56:56.498643Z",
     "shell.execute_reply.started": "2024-04-09T17:56:32.880549Z"
>>>>>>> cleaned up file names
    },
    "tags": []
   },
   "outputs": [
    {
     "name": "stdout",
     "output_type": "stream",
     "text": [
      "<class 'pandas.core.frame.DataFrame'>\n",
      "RangeIndex: 5440406 entries, 0 to 5440405\n",
      "Data columns (total 15 columns):\n",
      " #   Column            Dtype   \n",
      "---  ------            -----   \n",
      " 0   msrc_id           int64   \n",
      " 1   :START_ID         int64   \n",
      " 2   type:TYPE         category\n",
      " 3   effect            category\n",
      " 4   mechanism         category\n",
      " 5   ref_count:int     int16   \n",
      " 6   :END_ID           int64   \n",
      " 7   biomarkertype     category\n",
      " 8   celllinename      category\n",
      " 9   celltype          category\n",
      " 10  changetype        category\n",
      " 11  organ             category\n",
      " 12  organism          category\n",
      " 13  quantitativetype  category\n",
      " 14  tissue            category\n",
      "dtypes: category(11), int16(1), int64(3)\n",
      "memory usage: 280.0 MB\n"
     ]
    }
   ],
   "source": [
    "# convert to category to save memory\n",
    "df_birect_1=convert_object_to_category(df_birect_1)\n",
    "df_birect_1.info()"
   ]
  },
  {
   "cell_type": "code",
   "execution_count": 41,
   "metadata": {
    "Collapsed": "false",
    "execution": {
     "iopub.execute_input": "2024-04-09T17:57:50.517584Z",
     "iopub.status.busy": "2024-04-09T17:57:50.517340Z",
     "iopub.status.idle": "2024-04-09T17:57:51.079879Z",
     "shell.execute_reply": "2024-04-09T17:57:51.078589Z",
     "shell.execute_reply.started": "2024-04-09T17:57:50.517565Z"
    },
    "tags": []
   },
   "outputs": [],
   "source": [
    "df_birect_1.to_pickle('./data/processed/bidirectional_df.pkl')"
   ]
  },
  {
   "cell_type": "markdown",
   "metadata": {
    "Collapsed": "false"
   },
   "source": [
    "### Directional"
   ]
  },
  {
   "cell_type": "code",
<<<<<<< HEAD
   "execution_count": 14,
   "metadata": {
    "Collapsed": "false",
    "execution": {
     "iopub.execute_input": "2022-10-21T17:57:25.269975Z",
     "iopub.status.busy": "2022-10-21T17:57:25.269975Z",
     "iopub.status.idle": "2022-10-21T17:57:59.850843Z",
     "shell.execute_reply": "2022-10-21T17:57:59.848848Z",
     "shell.execute_reply.started": "2022-10-21T17:57:25.269975Z"
=======
   "execution_count": 13,
   "metadata": {
    "Collapsed": "false",
    "execution": {
     "iopub.execute_input": "2024-04-10T13:43:54.350944Z",
     "iopub.status.busy": "2024-04-10T13:43:54.350045Z",
     "iopub.status.idle": "2024-04-10T13:44:35.581272Z",
     "shell.execute_reply": "2024-04-10T13:44:35.579564Z",
     "shell.execute_reply.started": "2024-04-10T13:43:54.350915Z"
>>>>>>> cleaned up file names
    },
    "tags": []
   },
   "outputs": [
    {
     "name": "stdout",
     "output_type": "stream",
     "text": [
      "<class 'pandas.core.frame.DataFrame'>\n",
      "RangeIndex: 11087753 entries, 0 to 11087752\n",
      "Data columns (total 18 columns):\n",
      " #   Column  Dtype \n",
      "---  ------  ----- \n",
      " 0   0       int64 \n",
      " 1   1       int64 \n",
      " 2   2       object\n",
      " 3   3       object\n",
      " 4   4       object\n",
      " 5   5       int64 \n",
      " 6   6       int64 \n",
      " 7   7       int64 \n",
      " 8   8       object\n",
      " 9   9       object\n",
      " 10  10      object\n",
      " 11  11      object\n",
      " 12  12      object\n",
      " 13  13      object\n",
      " 14  14      object\n",
      " 15  15      object\n",
      " 16  16      object\n",
      " 17  17      object\n",
      "dtypes: int64(5), object(13)\n",
<<<<<<< HEAD
      "memory usage: 1.4+ GB\n",
      "Wall time: 34.4 s\n"
=======
      "memory usage: 1.5+ GB\n",
      "CPU times: user 14.3 s, sys: 7.5 s, total: 21.8 s\n",
      "Wall time: 40.7 s\n"
>>>>>>> cleaned up file names
     ]
    },
    {
     "data": {
      "text/html": [
       "<div>\n",
       "<style scoped>\n",
       "    .dataframe tbody tr th:only-of-type {\n",
       "        vertical-align: middle;\n",
       "    }\n",
       "\n",
       "    .dataframe tbody tr th {\n",
       "        vertical-align: top;\n",
       "    }\n",
       "\n",
       "    .dataframe thead th {\n",
       "        text-align: right;\n",
       "    }\n",
       "</style>\n",
       "<table border=\"1\" class=\"dataframe\">\n",
       "  <thead>\n",
       "    <tr style=\"text-align: right;\">\n",
       "      <th></th>\n",
       "      <th>0</th>\n",
       "      <th>1</th>\n",
       "      <th>2</th>\n",
       "      <th>3</th>\n",
       "      <th>4</th>\n",
       "      <th>5</th>\n",
       "      <th>6</th>\n",
       "      <th>7</th>\n",
       "      <th>8</th>\n",
       "      <th>9</th>\n",
       "      <th>10</th>\n",
       "      <th>11</th>\n",
       "      <th>12</th>\n",
       "      <th>13</th>\n",
       "      <th>14</th>\n",
       "      <th>15</th>\n",
       "      <th>16</th>\n",
       "      <th>17</th>\n",
       "    </tr>\n",
       "  </thead>\n",
       "  <tbody>\n",
       "    <tr>\n",
       "      <th>0</th>\n",
       "      <td>-9223366135359139662</td>\n",
       "      <td>6434163658456377940</td>\n",
       "      <td>MolSynthesis</td>\n",
       "      <td>None</td>\n",
       "      <td>None</td>\n",
       "      <td>3</td>\n",
       "      <td>4596447325930325903</td>\n",
       "      <td>-9223366135359139662</td>\n",
       "      <td>None</td>\n",
       "      <td>None</td>\n",
       "      <td>None</td>\n",
       "      <td>None</td>\n",
       "      <td>None</td>\n",
       "      <td>None</td>\n",
       "      <td>None</td>\n",
       "      <td>None</td>\n",
       "      <td>None</td>\n",
       "      <td>None</td>\n",
       "    </tr>\n",
       "    <tr>\n",
       "      <th>1</th>\n",
       "      <td>-9223365986387833915</td>\n",
       "      <td>-4129340824583713637</td>\n",
       "      <td>Regulation</td>\n",
       "      <td>None</td>\n",
       "      <td>None</td>\n",
       "      <td>1</td>\n",
       "      <td>-2983484129356197270</td>\n",
       "      <td>-9223365986387833915</td>\n",
       "      <td>None</td>\n",
       "      <td>None</td>\n",
       "      <td>None</td>\n",
       "      <td>None</td>\n",
       "      <td>intestine</td>\n",
       "      <td>Rattus norvegicus (rat)</td>\n",
       "      <td>None</td>\n",
       "      <td>None</td>\n",
       "      <td>None</td>\n",
       "      <td>None</td>\n",
       "    </tr>\n",
       "    <tr>\n",
       "      <th>2</th>\n",
       "      <td>-9223365556180770043</td>\n",
       "      <td>7111680438658927661</td>\n",
       "      <td>Regulation</td>\n",
       "      <td>None</td>\n",
       "      <td>None</td>\n",
       "      <td>1</td>\n",
       "      <td>-3121142714757276759</td>\n",
       "      <td>-9223365556180770043</td>\n",
       "      <td>None</td>\n",
       "      <td>None</td>\n",
       "      <td>None</td>\n",
       "      <td>None</td>\n",
       "      <td>None</td>\n",
       "      <td>None</td>\n",
       "      <td>None</td>\n",
       "      <td>serum</td>\n",
       "      <td>None</td>\n",
       "      <td>None</td>\n",
       "    </tr>\n",
       "    <tr>\n",
       "      <th>3</th>\n",
       "      <td>-9223365466130767478</td>\n",
       "      <td>-8447327320654612427</td>\n",
       "      <td>Regulation</td>\n",
       "      <td>None</td>\n",
       "      <td>None</td>\n",
       "      <td>9</td>\n",
       "      <td>-1646880163763186214</td>\n",
       "      <td>-9223365466130767478</td>\n",
       "      <td>None</td>\n",
       "      <td>TOV-112D</td>\n",
       "      <td>B-cell, endothelial cell</td>\n",
       "      <td>None</td>\n",
       "      <td>peripheral nervous system, synovial membrane</td>\n",
       "      <td>None</td>\n",
       "      <td>None</td>\n",
       "      <td>None</td>\n",
       "      <td>None</td>\n",
       "      <td>None</td>\n",
       "    </tr>\n",
       "    <tr>\n",
       "      <th>4</th>\n",
       "      <td>-9223362118268724280</td>\n",
       "      <td>3670031740130349683</td>\n",
       "      <td>Regulation</td>\n",
       "      <td>positive</td>\n",
       "      <td>None</td>\n",
       "      <td>1</td>\n",
       "      <td>-4650140568030604438</td>\n",
       "      <td>-9223362118268724280</td>\n",
       "      <td>None</td>\n",
       "      <td>None</td>\n",
       "      <td>plasma cell</td>\n",
       "      <td>None</td>\n",
       "      <td>None</td>\n",
       "      <td>None</td>\n",
       "      <td>None</td>\n",
       "      <td>plasma</td>\n",
       "      <td>None</td>\n",
       "      <td>None</td>\n",
       "    </tr>\n",
       "  </tbody>\n",
       "</table>\n",
       "</div>"
      ],
      "text/plain": [
       "                    0                    1             2         3     4   5   \\\n",
       "0 -9223366135359139662  6434163658456377940  MolSynthesis      None  None   3   \n",
       "1 -9223365986387833915 -4129340824583713637    Regulation      None  None   1   \n",
       "2 -9223365556180770043  7111680438658927661    Regulation      None  None   1   \n",
       "3 -9223365466130767478 -8447327320654612427    Regulation      None  None   9   \n",
       "4 -9223362118268724280  3670031740130349683    Regulation  positive  None   1   \n",
       "\n",
       "                    6                    7     8         9   \\\n",
       "0  4596447325930325903 -9223366135359139662  None      None   \n",
       "1 -2983484129356197270 -9223365986387833915  None      None   \n",
       "2 -3121142714757276759 -9223365556180770043  None      None   \n",
       "3 -1646880163763186214 -9223365466130767478  None  TOV-112D   \n",
       "4 -4650140568030604438 -9223362118268724280  None      None   \n",
       "\n",
       "                         10    11  \\\n",
       "0                      None  None   \n",
       "1                      None  None   \n",
       "2                      None  None   \n",
       "3  B-cell, endothelial cell  None   \n",
       "4               plasma cell  None   \n",
       "\n",
       "                                             12                       13  \\\n",
       "0                                          None                     None   \n",
       "1                                     intestine  Rattus norvegicus (rat)   \n",
       "2                                          None                     None   \n",
       "3  peripheral nervous system, synovial membrane                     None   \n",
       "4                                          None                     None   \n",
       "\n",
       "     14      15    16    17  \n",
       "0  None    None  None  None  \n",
       "1  None    None  None  None  \n",
       "2  None   serum  None  None  \n",
       "3  None    None  None  None  \n",
       "4  None  plasma  None  None  "
      ]
     },
<<<<<<< HEAD
     "execution_count": 14,
=======
     "execution_count": 13,
>>>>>>> cleaned up file names
     "metadata": {},
     "output_type": "execute_result"
    }
   ],
   "source": [
    "%%time\n",
    "\n",
    "df_direct=pd.read_csv('./data/processed/directional_ds.txt', sep='|', header=None, encoding='utf-8')\n",
    "\n",
    "df_direct.info(); df_direct.head()"
   ]
  },
  {
   "cell_type": "code",
<<<<<<< HEAD
   "execution_count": 15,
   "metadata": {
    "Collapsed": "false",
    "execution": {
     "iopub.execute_input": "2022-10-21T17:58:02.414786Z",
     "iopub.status.busy": "2022-10-21T17:58:02.413789Z",
     "iopub.status.idle": "2022-10-21T17:58:02.679602Z",
     "shell.execute_reply": "2022-10-21T17:58:02.677608Z",
     "shell.execute_reply.started": "2022-10-21T17:58:02.413789Z"
=======
   "execution_count": 14,
   "metadata": {
    "Collapsed": "false",
    "execution": {
     "iopub.execute_input": "2024-04-10T13:46:12.459580Z",
     "iopub.status.busy": "2024-04-10T13:46:12.459086Z",
     "iopub.status.idle": "2024-04-10T13:46:12.561213Z",
     "shell.execute_reply": "2024-04-10T13:46:12.559949Z",
     "shell.execute_reply.started": "2024-04-10T13:46:12.459560Z"
>>>>>>> cleaned up file names
    },
    "tags": []
   },
   "outputs": [],
   "source": [
    "df_direct.columns=['msrc_id', ':START_ID', 'type:TYPE', 'effect', 'mechanism', 'ref_count:int', ':END_ID' , 'id2', \\\n",
    "            'biomarkertype', 'celllinename', 'celltype', 'changetype', 'organ', 'organism', 'quantitativetype', \\\n",
    "            'tissue', 'nct_id', 'phase']"
   ]
  },
  {
   "cell_type": "code",
<<<<<<< HEAD
   "execution_count": 16,
   "metadata": {
    "execution": {
     "iopub.execute_input": "2022-10-21T17:58:03.143502Z",
     "iopub.status.busy": "2022-10-21T17:58:03.142504Z",
     "iopub.status.idle": "2022-10-21T17:58:03.442561Z",
     "shell.execute_reply": "2022-10-21T17:58:03.440566Z",
     "shell.execute_reply.started": "2022-10-21T17:58:03.143502Z"
=======
   "execution_count": 15,
   "metadata": {
    "execution": {
     "iopub.execute_input": "2024-04-10T13:46:13.735280Z",
     "iopub.status.busy": "2024-04-10T13:46:13.734993Z",
     "iopub.status.idle": "2024-04-10T13:46:13.799587Z",
     "shell.execute_reply": "2024-04-10T13:46:13.794524Z",
     "shell.execute_reply.started": "2024-04-10T13:46:13.735261Z"
>>>>>>> cleaned up file names
    },
    "tags": []
   },
   "outputs": [
    {
     "name": "stdout",
     "output_type": "stream",
     "text": [
      "<class 'pandas.core.frame.DataFrame'>\n",
      "RangeIndex: 11087753 entries, 0 to 11087752\n",
      "Data columns (total 18 columns):\n",
      " #   Column            Dtype \n",
      "---  ------            ----- \n",
      " 0   msrc_id           int64 \n",
      " 1   :START_ID         int64 \n",
      " 2   type:TYPE         object\n",
      " 3   effect            object\n",
      " 4   mechanism         object\n",
      " 5   ref_count:int     int64 \n",
      " 6   :END_ID           int64 \n",
      " 7   id2               int64 \n",
      " 8   biomarkertype     object\n",
      " 9   celllinename      object\n",
      " 10  celltype          object\n",
      " 11  changetype        object\n",
      " 12  organ             object\n",
      " 13  organism          object\n",
      " 14  quantitativetype  object\n",
      " 15  tissue            object\n",
      " 16  nct_id            object\n",
      " 17  phase             object\n",
      "dtypes: int64(5), object(13)\n",
      "memory usage: 1.5+ GB\n"
     ]
    },
    {
     "data": {
      "text/html": [
       "<div>\n",
       "<style scoped>\n",
       "    .dataframe tbody tr th:only-of-type {\n",
       "        vertical-align: middle;\n",
       "    }\n",
       "\n",
       "    .dataframe tbody tr th {\n",
       "        vertical-align: top;\n",
       "    }\n",
       "\n",
       "    .dataframe thead th {\n",
       "        text-align: right;\n",
       "    }\n",
       "</style>\n",
       "<table border=\"1\" class=\"dataframe\">\n",
       "  <thead>\n",
       "    <tr style=\"text-align: right;\">\n",
       "      <th></th>\n",
       "      <th>msrc_id</th>\n",
       "      <th>:START_ID</th>\n",
       "      <th>type:TYPE</th>\n",
       "      <th>effect</th>\n",
       "      <th>mechanism</th>\n",
       "      <th>ref_count:int</th>\n",
       "      <th>:END_ID</th>\n",
       "      <th>id2</th>\n",
       "      <th>biomarkertype</th>\n",
       "      <th>celllinename</th>\n",
       "      <th>celltype</th>\n",
       "      <th>changetype</th>\n",
       "      <th>organ</th>\n",
       "      <th>organism</th>\n",
       "      <th>quantitativetype</th>\n",
       "      <th>tissue</th>\n",
       "      <th>nct_id</th>\n",
       "      <th>phase</th>\n",
       "    </tr>\n",
       "  </thead>\n",
       "  <tbody>\n",
       "    <tr>\n",
       "      <th>0</th>\n",
       "      <td>-9223366135359139662</td>\n",
       "      <td>6434163658456377940</td>\n",
       "      <td>MolSynthesis</td>\n",
       "      <td>None</td>\n",
       "      <td>None</td>\n",
       "      <td>3</td>\n",
       "      <td>4596447325930325903</td>\n",
       "      <td>-9223366135359139662</td>\n",
       "      <td>None</td>\n",
       "      <td>None</td>\n",
       "      <td>None</td>\n",
       "      <td>None</td>\n",
       "      <td>None</td>\n",
       "      <td>None</td>\n",
       "      <td>None</td>\n",
       "      <td>None</td>\n",
       "      <td>None</td>\n",
       "      <td>None</td>\n",
       "    </tr>\n",
       "    <tr>\n",
       "      <th>1</th>\n",
       "      <td>-9223365986387833915</td>\n",
       "      <td>-4129340824583713637</td>\n",
       "      <td>Regulation</td>\n",
       "      <td>None</td>\n",
       "      <td>None</td>\n",
       "      <td>1</td>\n",
       "      <td>-2983484129356197270</td>\n",
       "      <td>-9223365986387833915</td>\n",
       "      <td>None</td>\n",
       "      <td>None</td>\n",
       "      <td>None</td>\n",
       "      <td>None</td>\n",
       "      <td>intestine</td>\n",
       "      <td>Rattus norvegicus (rat)</td>\n",
       "      <td>None</td>\n",
       "      <td>None</td>\n",
       "      <td>None</td>\n",
       "      <td>None</td>\n",
       "    </tr>\n",
       "    <tr>\n",
       "      <th>2</th>\n",
       "      <td>-9223365556180770043</td>\n",
       "      <td>7111680438658927661</td>\n",
       "      <td>Regulation</td>\n",
       "      <td>None</td>\n",
       "      <td>None</td>\n",
       "      <td>1</td>\n",
       "      <td>-3121142714757276759</td>\n",
       "      <td>-9223365556180770043</td>\n",
       "      <td>None</td>\n",
       "      <td>None</td>\n",
       "      <td>None</td>\n",
       "      <td>None</td>\n",
       "      <td>None</td>\n",
       "      <td>None</td>\n",
       "      <td>None</td>\n",
       "      <td>serum</td>\n",
       "      <td>None</td>\n",
       "      <td>None</td>\n",
       "    </tr>\n",
       "    <tr>\n",
       "      <th>3</th>\n",
       "      <td>-9223365466130767478</td>\n",
       "      <td>-8447327320654612427</td>\n",
       "      <td>Regulation</td>\n",
       "      <td>None</td>\n",
       "      <td>None</td>\n",
       "      <td>9</td>\n",
       "      <td>-1646880163763186214</td>\n",
       "      <td>-9223365466130767478</td>\n",
       "      <td>None</td>\n",
       "      <td>TOV-112D</td>\n",
       "      <td>B-cell, endothelial cell</td>\n",
       "      <td>None</td>\n",
       "      <td>peripheral nervous system, synovial membrane</td>\n",
       "      <td>None</td>\n",
       "      <td>None</td>\n",
       "      <td>None</td>\n",
       "      <td>None</td>\n",
       "      <td>None</td>\n",
       "    </tr>\n",
       "    <tr>\n",
       "      <th>4</th>\n",
       "      <td>-9223362118268724280</td>\n",
       "      <td>3670031740130349683</td>\n",
       "      <td>Regulation</td>\n",
       "      <td>positive</td>\n",
       "      <td>None</td>\n",
       "      <td>1</td>\n",
       "      <td>-4650140568030604438</td>\n",
       "      <td>-9223362118268724280</td>\n",
       "      <td>None</td>\n",
       "      <td>None</td>\n",
       "      <td>plasma cell</td>\n",
       "      <td>None</td>\n",
       "      <td>None</td>\n",
       "      <td>None</td>\n",
       "      <td>None</td>\n",
       "      <td>plasma</td>\n",
       "      <td>None</td>\n",
       "      <td>None</td>\n",
       "    </tr>\n",
       "  </tbody>\n",
       "</table>\n",
       "</div>"
      ],
      "text/plain": [
       "               msrc_id            :START_ID     type:TYPE    effect mechanism  \\\n",
       "0 -9223366135359139662  6434163658456377940  MolSynthesis      None      None   \n",
       "1 -9223365986387833915 -4129340824583713637    Regulation      None      None   \n",
       "2 -9223365556180770043  7111680438658927661    Regulation      None      None   \n",
       "3 -9223365466130767478 -8447327320654612427    Regulation      None      None   \n",
       "4 -9223362118268724280  3670031740130349683    Regulation  positive      None   \n",
       "\n",
       "   ref_count:int              :END_ID                  id2 biomarkertype  \\\n",
       "0              3  4596447325930325903 -9223366135359139662          None   \n",
       "1              1 -2983484129356197270 -9223365986387833915          None   \n",
       "2              1 -3121142714757276759 -9223365556180770043          None   \n",
       "3              9 -1646880163763186214 -9223365466130767478          None   \n",
       "4              1 -4650140568030604438 -9223362118268724280          None   \n",
       "\n",
       "  celllinename                  celltype changetype  \\\n",
       "0         None                      None       None   \n",
       "1         None                      None       None   \n",
       "2         None                      None       None   \n",
       "3     TOV-112D  B-cell, endothelial cell       None   \n",
       "4         None               plasma cell       None   \n",
       "\n",
       "                                          organ                 organism  \\\n",
       "0                                          None                     None   \n",
       "1                                     intestine  Rattus norvegicus (rat)   \n",
       "2                                          None                     None   \n",
       "3  peripheral nervous system, synovial membrane                     None   \n",
       "4                                          None                     None   \n",
       "\n",
       "  quantitativetype  tissue nct_id phase  \n",
       "0             None    None   None  None  \n",
       "1             None    None   None  None  \n",
       "2             None   serum   None  None  \n",
       "3             None    None   None  None  \n",
       "4             None  plasma   None  None  "
      ]
     },
<<<<<<< HEAD
     "execution_count": 16,
=======
     "execution_count": 15,
>>>>>>> cleaned up file names
     "metadata": {},
     "output_type": "execute_result"
    }
   ],
   "source": [
    "df_direct.info(); df_direct.head()"
   ]
  },
  {
   "cell_type": "code",
<<<<<<< HEAD
   "execution_count": 17,
   "metadata": {
    "Collapsed": "false",
    "execution": {
     "iopub.execute_input": "2022-10-21T17:58:06.906982Z",
     "iopub.status.busy": "2022-10-21T17:58:06.905983Z",
     "iopub.status.idle": "2022-10-21T17:58:09.034481Z",
     "shell.execute_reply": "2022-10-21T17:58:09.032486Z",
     "shell.execute_reply.started": "2022-10-21T17:58:06.905983Z"
=======
   "execution_count": 16,
   "metadata": {
    "Collapsed": "false",
    "execution": {
     "iopub.execute_input": "2024-04-10T13:46:17.459015Z",
     "iopub.status.busy": "2024-04-10T13:46:17.458479Z",
     "iopub.status.idle": "2024-04-10T13:46:20.020027Z",
     "shell.execute_reply": "2024-04-10T13:46:20.018596Z",
     "shell.execute_reply.started": "2024-04-10T13:46:17.458985Z"
>>>>>>> cleaned up file names
    },
    "tags": []
   },
   "outputs": [
    {
     "data": {
      "text/html": [
       "<div>\n",
       "<style scoped>\n",
       "    .dataframe tbody tr th:only-of-type {\n",
       "        vertical-align: middle;\n",
       "    }\n",
       "\n",
       "    .dataframe tbody tr th {\n",
       "        vertical-align: top;\n",
       "    }\n",
       "\n",
       "    .dataframe thead th {\n",
       "        text-align: right;\n",
       "    }\n",
       "</style>\n",
       "<table border=\"1\" class=\"dataframe\">\n",
       "  <thead>\n",
       "    <tr style=\"text-align: right;\">\n",
       "      <th></th>\n",
       "      <th>msrc_id</th>\n",
       "      <th>:START_ID</th>\n",
       "      <th>type:TYPE</th>\n",
       "      <th>effect</th>\n",
       "      <th>mechanism</th>\n",
       "      <th>ref_count:int</th>\n",
       "      <th>:END_ID</th>\n",
       "      <th>biomarkertype</th>\n",
       "      <th>celllinename</th>\n",
       "      <th>celltype</th>\n",
       "      <th>changetype</th>\n",
       "      <th>organ</th>\n",
       "      <th>organism</th>\n",
       "      <th>quantitativetype</th>\n",
       "      <th>tissue</th>\n",
       "      <th>nct_id</th>\n",
       "      <th>phase</th>\n",
       "    </tr>\n",
       "  </thead>\n",
       "  <tbody>\n",
       "    <tr>\n",
       "      <th>0</th>\n",
       "      <td>-9223366135359139662</td>\n",
       "      <td>6434163658456377940</td>\n",
       "      <td>MolSynthesis</td>\n",
       "      <td>None</td>\n",
       "      <td>None</td>\n",
       "      <td>3</td>\n",
       "      <td>4596447325930325903</td>\n",
       "      <td>None</td>\n",
       "      <td>None</td>\n",
       "      <td>None</td>\n",
       "      <td>None</td>\n",
       "      <td>None</td>\n",
       "      <td>None</td>\n",
       "      <td>None</td>\n",
       "      <td>None</td>\n",
       "      <td>None</td>\n",
       "      <td>None</td>\n",
       "    </tr>\n",
       "    <tr>\n",
       "      <th>1</th>\n",
       "      <td>-9223365986387833915</td>\n",
       "      <td>-4129340824583713637</td>\n",
       "      <td>Regulation</td>\n",
       "      <td>None</td>\n",
       "      <td>None</td>\n",
       "      <td>1</td>\n",
       "      <td>-2983484129356197270</td>\n",
       "      <td>None</td>\n",
       "      <td>None</td>\n",
       "      <td>None</td>\n",
       "      <td>None</td>\n",
       "      <td>intestine</td>\n",
       "      <td>Rattus norvegicus (rat)</td>\n",
       "      <td>None</td>\n",
       "      <td>None</td>\n",
       "      <td>None</td>\n",
       "      <td>None</td>\n",
       "    </tr>\n",
       "    <tr>\n",
       "      <th>2</th>\n",
       "      <td>-9223365556180770043</td>\n",
       "      <td>7111680438658927661</td>\n",
       "      <td>Regulation</td>\n",
       "      <td>None</td>\n",
       "      <td>None</td>\n",
       "      <td>1</td>\n",
       "      <td>-3121142714757276759</td>\n",
       "      <td>None</td>\n",
       "      <td>None</td>\n",
       "      <td>None</td>\n",
       "      <td>None</td>\n",
       "      <td>None</td>\n",
       "      <td>None</td>\n",
       "      <td>None</td>\n",
       "      <td>serum</td>\n",
       "      <td>None</td>\n",
       "      <td>None</td>\n",
       "    </tr>\n",
       "    <tr>\n",
       "      <th>3</th>\n",
       "      <td>-9223365466130767478</td>\n",
       "      <td>-8447327320654612427</td>\n",
       "      <td>Regulation</td>\n",
       "      <td>None</td>\n",
       "      <td>None</td>\n",
       "      <td>9</td>\n",
       "      <td>-1646880163763186214</td>\n",
       "      <td>None</td>\n",
       "      <td>TOV-112D</td>\n",
       "      <td>B-cell, endothelial cell</td>\n",
       "      <td>None</td>\n",
       "      <td>peripheral nervous system, synovial membrane</td>\n",
       "      <td>None</td>\n",
       "      <td>None</td>\n",
       "      <td>None</td>\n",
       "      <td>None</td>\n",
       "      <td>None</td>\n",
       "    </tr>\n",
       "    <tr>\n",
       "      <th>4</th>\n",
       "      <td>-9223362118268724280</td>\n",
       "      <td>3670031740130349683</td>\n",
       "      <td>Regulation</td>\n",
       "      <td>positive</td>\n",
       "      <td>None</td>\n",
       "      <td>1</td>\n",
       "      <td>-4650140568030604438</td>\n",
       "      <td>None</td>\n",
       "      <td>None</td>\n",
       "      <td>plasma cell</td>\n",
       "      <td>None</td>\n",
       "      <td>None</td>\n",
       "      <td>None</td>\n",
       "      <td>None</td>\n",
       "      <td>plasma</td>\n",
       "      <td>None</td>\n",
       "      <td>None</td>\n",
       "    </tr>\n",
       "  </tbody>\n",
       "</table>\n",
       "</div>"
      ],
      "text/plain": [
       "               msrc_id            :START_ID     type:TYPE    effect mechanism  \\\n",
       "0 -9223366135359139662  6434163658456377940  MolSynthesis      None      None   \n",
       "1 -9223365986387833915 -4129340824583713637    Regulation      None      None   \n",
       "2 -9223365556180770043  7111680438658927661    Regulation      None      None   \n",
       "3 -9223365466130767478 -8447327320654612427    Regulation      None      None   \n",
       "4 -9223362118268724280  3670031740130349683    Regulation  positive      None   \n",
       "\n",
       "   ref_count:int              :END_ID biomarkertype celllinename  \\\n",
       "0              3  4596447325930325903          None         None   \n",
       "1              1 -2983484129356197270          None         None   \n",
       "2              1 -3121142714757276759          None         None   \n",
       "3              9 -1646880163763186214          None     TOV-112D   \n",
       "4              1 -4650140568030604438          None         None   \n",
       "\n",
       "                   celltype changetype  \\\n",
       "0                      None       None   \n",
       "1                      None       None   \n",
       "2                      None       None   \n",
       "3  B-cell, endothelial cell       None   \n",
       "4               plasma cell       None   \n",
       "\n",
       "                                          organ                 organism  \\\n",
       "0                                          None                     None   \n",
       "1                                     intestine  Rattus norvegicus (rat)   \n",
       "2                                          None                     None   \n",
       "3  peripheral nervous system, synovial membrane                     None   \n",
       "4                                          None                     None   \n",
       "\n",
       "  quantitativetype  tissue nct_id phase  \n",
       "0             None    None   None  None  \n",
       "1             None    None   None  None  \n",
       "2             None   serum   None  None  \n",
       "3             None    None   None  None  \n",
       "4             None  plasma   None  None  "
      ]
     },
<<<<<<< HEAD
     "execution_count": 17,
=======
     "execution_count": 16,
>>>>>>> cleaned up file names
     "metadata": {},
     "output_type": "execute_result"
    }
   ],
   "source": [
    "df_direct=df_direct.drop(columns=['id2'])\n",
    "\n",
    "df_direct.head()"
   ]
  },
  {
   "cell_type": "code",
<<<<<<< HEAD
   "execution_count": 18,
   "metadata": {
    "execution": {
     "iopub.execute_input": "2022-10-21T17:58:18.926239Z",
     "iopub.status.busy": "2022-10-21T17:58:18.926239Z",
     "iopub.status.idle": "2022-10-21T17:58:19.942494Z",
     "shell.execute_reply": "2022-10-21T17:58:19.941496Z",
     "shell.execute_reply.started": "2022-10-21T17:58:18.926239Z"
=======
   "execution_count": 17,
   "metadata": {
    "execution": {
     "iopub.execute_input": "2024-04-10T13:46:22.762277Z",
     "iopub.status.busy": "2024-04-10T13:46:22.761845Z",
     "iopub.status.idle": "2024-04-10T13:46:25.314429Z",
     "shell.execute_reply": "2024-04-10T13:46:25.313143Z",
     "shell.execute_reply.started": "2024-04-10T13:46:22.762239Z"
>>>>>>> cleaned up file names
    },
    "tags": []
   },
   "outputs": [],
   "source": [
    "df_direct['phase']=df_direct['phase'].fillna('None')"
   ]
  },
  {
   "cell_type": "code",
<<<<<<< HEAD
   "execution_count": 19,
   "metadata": {
    "Collapsed": "false",
    "execution": {
     "iopub.execute_input": "2022-10-21T17:58:22.352176Z",
     "iopub.status.busy": "2022-10-21T17:58:22.351179Z",
     "iopub.status.idle": "2022-10-21T17:59:18.447702Z",
     "shell.execute_reply": "2022-10-21T17:59:18.445733Z",
     "shell.execute_reply.started": "2022-10-21T17:58:22.352176Z"
=======
   "execution_count": 18,
   "metadata": {
    "Collapsed": "false",
    "execution": {
     "iopub.execute_input": "2024-04-10T13:46:25.316587Z",
     "iopub.status.busy": "2024-04-10T13:46:25.316254Z",
     "iopub.status.idle": "2024-04-10T13:47:35.745927Z",
     "shell.execute_reply": "2024-04-10T13:47:35.744955Z",
     "shell.execute_reply.started": "2024-04-10T13:46:25.316544Z"
>>>>>>> cleaned up file names
    },
    "tags": []
   },
   "outputs": [
    {
     "name": "stdout",
     "output_type": "stream",
     "text": [
      "<class 'pandas.core.frame.DataFrame'>\n",
      "RangeIndex: 11087753 entries, 0 to 11087752\n",
      "Data columns (total 17 columns):\n",
      " #   Column            Dtype   \n",
      "---  ------            -----   \n",
      " 0   msrc_id           int64   \n",
      " 1   :START_ID         int64   \n",
      " 2   type:TYPE         category\n",
      " 3   effect            category\n",
      " 4   mechanism         category\n",
      " 5   ref_count:int     int64   \n",
      " 6   :END_ID           int64   \n",
      " 7   biomarkertype     category\n",
      " 8   celllinename      category\n",
      " 9   celltype          category\n",
      " 10  changetype        category\n",
      " 11  organ             category\n",
      " 12  organism          category\n",
      " 13  quantitativetype  category\n",
      " 14  tissue            category\n",
      " 15  nct_id            category\n",
      " 16  phase             category\n",
      "dtypes: category(13), int64(4)\n",
      "memory usage: 715.3 MB\n"
     ]
    }
   ],
   "source": [
    "# convert to category dtype to save memory\n",
    "df_direct=convert_object_to_category(df_direct)\n",
    "    \n",
    "df_direct.info()"
   ]
  },
  {
   "cell_type": "code",
   "execution_count": 19,
   "metadata": {
    "Collapsed": "false",
    "execution": {
     "iopub.execute_input": "2024-04-10T13:51:24.964726Z",
     "iopub.status.busy": "2024-04-10T13:51:24.964302Z",
     "iopub.status.idle": "2024-04-10T13:51:25.375578Z",
     "shell.execute_reply": "2024-04-10T13:51:25.374632Z",
     "shell.execute_reply.started": "2024-04-10T13:51:24.964705Z"
    },
    "tags": []
   },
   "outputs": [],
   "source": [
    "df_direct['ref_count:int']=df_direct['ref_count:int'].astype('int16')"
   ]
  },
  {
   "cell_type": "code",
   "execution_count": 20,
   "metadata": {
    "Collapsed": "false",
    "execution": {
<<<<<<< HEAD
     "iopub.execute_input": "2022-10-21T17:59:24.088755Z",
     "iopub.status.busy": "2022-10-21T17:59:24.088755Z",
     "iopub.status.idle": "2022-10-21T17:59:24.468739Z",
     "shell.execute_reply": "2022-10-21T17:59:24.467742Z",
     "shell.execute_reply.started": "2022-10-21T17:59:24.088755Z"
=======
     "iopub.execute_input": "2024-04-10T13:51:26.041031Z",
     "iopub.status.busy": "2024-04-10T13:51:26.040744Z",
     "iopub.status.idle": "2024-04-10T13:51:26.345257Z",
     "shell.execute_reply": "2024-04-10T13:51:26.344175Z",
     "shell.execute_reply.started": "2024-04-10T13:51:26.041012Z"
>>>>>>> cleaned up file names
    },
    "tags": []
   },
   "outputs": [
    {
     "data": {
      "text/plain": [
       "msrc_id             0\n",
       ":START_ID           0\n",
       "type:TYPE           0\n",
       "effect              0\n",
       "mechanism           0\n",
       "ref_count:int       0\n",
       ":END_ID             0\n",
       "biomarkertype       0\n",
       "celllinename        0\n",
       "celltype            0\n",
       "changetype          0\n",
       "organ               0\n",
       "organism            0\n",
       "quantitativetype    0\n",
       "tissue              0\n",
       "nct_id              0\n",
       "phase               0\n",
       "dtype: int64"
      ]
     },
     "execution_count": 20,
     "metadata": {},
     "output_type": "execute_result"
    }
   ],
   "source": [
    "df_direct.isnull().sum()"
   ]
  },
  {
   "cell_type": "code",
   "execution_count": 21,
   "metadata": {
    "Collapsed": "false",
    "execution": {
<<<<<<< HEAD
     "iopub.execute_input": "2022-10-21T17:59:26.260212Z",
     "iopub.status.busy": "2022-10-21T17:59:26.260212Z",
     "iopub.status.idle": "2022-10-21T17:59:26.419448Z",
     "shell.execute_reply": "2022-10-21T17:59:26.418451Z",
     "shell.execute_reply.started": "2022-10-21T17:59:26.260212Z"
=======
     "iopub.execute_input": "2024-04-10T13:51:28.884659Z",
     "iopub.status.busy": "2024-04-10T13:51:28.884318Z",
     "iopub.status.idle": "2024-04-10T13:51:29.105076Z",
     "shell.execute_reply": "2024-04-10T13:51:29.103805Z",
     "shell.execute_reply.started": "2024-04-10T13:51:28.884634Z"
>>>>>>> cleaned up file names
    },
    "tags": []
   },
   "outputs": [
    {
     "data": {
      "text/plain": [
       "Regulation               6905951\n",
       "Expression               1056648\n",
       "DirectRegulation          791305\n",
       "QuantitativeChange        557593\n",
       "GeneticChange             547987\n",
       "MolTransport              297136\n",
       "MolSynthesis              192613\n",
       "Biomarker                 172998\n",
       "StateChange               162337\n",
       "ClinicalTrial             140983\n",
       "ProtModification           82187\n",
       "miRNAEffect                71573\n",
       "ChemicalReaction           63325\n",
       "PromoterBinding            45116\n",
       "FunctionalAssociation          1\n",
       "Name: type:TYPE, dtype: int64"
      ]
     },
     "execution_count": 21,
     "metadata": {},
     "output_type": "execute_result"
    }
   ],
   "source": [
    "df_direct['type:TYPE'].value_counts()"
   ]
  },
  {
   "cell_type": "code",
   "execution_count": 52,
   "metadata": {
    "Collapsed": "false",
    "execution": {
     "iopub.execute_input": "2024-04-09T18:02:09.546934Z",
     "iopub.status.busy": "2024-04-09T18:02:09.546428Z",
     "iopub.status.idle": "2024-04-09T18:02:11.739994Z",
     "shell.execute_reply": "2024-04-09T18:02:11.738858Z",
     "shell.execute_reply.started": "2024-04-09T18:02:09.546911Z"
    },
    "tags": []
   },
   "outputs": [],
   "source": [
    "df_direct.to_pickle('./data/processed/directional_df.pkl')"
   ]
  },
  {
   "cell_type": "markdown",
   "metadata": {
    "Collapsed": "false"
   },
   "source": [
    "### Attributes"
   ]
  },
  {
   "cell_type": "code",
<<<<<<< HEAD
   "execution_count": 22,
   "metadata": {
    "Collapsed": "false",
    "execution": {
     "iopub.execute_input": "2022-10-21T17:59:34.084793Z",
     "iopub.status.busy": "2022-10-21T17:59:34.083795Z",
     "iopub.status.idle": "2022-10-21T17:59:48.560283Z",
     "shell.execute_reply": "2022-10-21T17:59:48.559285Z",
     "shell.execute_reply.started": "2022-10-21T17:59:34.083795Z"
=======
   "execution_count": 29,
   "metadata": {
    "Collapsed": "false",
    "execution": {
     "iopub.execute_input": "2024-04-12T18:59:16.790452Z",
     "iopub.status.busy": "2024-04-12T18:59:16.784104Z",
     "iopub.status.idle": "2024-04-12T18:59:44.058529Z",
     "shell.execute_reply": "2024-04-12T18:59:44.057094Z",
     "shell.execute_reply.started": "2024-04-12T18:59:16.790409Z"
>>>>>>> cleaned up file names
    },
    "tags": []
   },
   "outputs": [
    {
     "name": "stderr",
     "output_type": "stream",
     "text": [
      "<timed exec>:1: DtypeWarning: Columns (1,4) have mixed types. Specify dtype option on import or set low_memory=False.\n"
     ]
    },
    {
     "name": "stdout",
     "output_type": "stream",
     "text": [
      "<class 'pandas.core.frame.DataFrame'>\n",
      "RangeIndex: 17641332 entries, 0 to 17641331\n",
      "Data columns (total 5 columns):\n",
      " #   Column  Dtype \n",
      "---  ------  ----- \n",
      " 0   0       int64 \n",
      " 1   1       object\n",
      " 2   2       int64 \n",
      " 3   3       object\n",
      " 4   4       object\n",
      "dtypes: int64(2), object(3)\n",
<<<<<<< HEAD
      "memory usage: 610.7+ MB\n",
      "Wall time: 14.4 s\n"
=======
      "memory usage: 673.0+ MB\n",
      "CPU times: user 7.89 s, sys: 3.36 s, total: 11.2 s\n",
      "Wall time: 26.9 s\n"
>>>>>>> cleaned up file names
     ]
    },
    {
     "data": {
      "text/html": [
       "<div>\n",
       "<style scoped>\n",
       "    .dataframe tbody tr th:only-of-type {\n",
       "        vertical-align: middle;\n",
       "    }\n",
       "\n",
       "    .dataframe tbody tr th {\n",
       "        vertical-align: top;\n",
       "    }\n",
       "\n",
       "    .dataframe thead th {\n",
       "        text-align: right;\n",
       "    }\n",
       "</style>\n",
       "<table border=\"1\" class=\"dataframe\">\n",
       "  <thead>\n",
       "    <tr style=\"text-align: right;\">\n",
       "      <th></th>\n",
       "      <th>0</th>\n",
       "      <th>1</th>\n",
       "      <th>2</th>\n",
       "      <th>3</th>\n",
       "      <th>4</th>\n",
       "    </tr>\n",
       "  </thead>\n",
       "  <tbody>\n",
       "    <tr>\n",
       "      <th>0</th>\n",
       "      <td>-1000010089006767027</td>\n",
       "      <td>None</td>\n",
       "      <td>-1000010089006767027</td>\n",
       "      <td>None</td>\n",
       "      <td>None</td>\n",
       "    </tr>\n",
       "    <tr>\n",
       "      <th>1</th>\n",
       "      <td>1663748618857376914</td>\n",
       "      <td>None</td>\n",
       "      <td>1663748618857376914</td>\n",
       "      <td>None</td>\n",
       "      <td>None</td>\n",
       "    </tr>\n",
       "    <tr>\n",
       "      <th>2</th>\n",
       "      <td>1000010730920126182</td>\n",
       "      <td>None</td>\n",
       "      <td>1000010730920126182</td>\n",
       "      <td>None</td>\n",
       "      <td>None</td>\n",
       "    </tr>\n",
       "    <tr>\n",
       "      <th>3</th>\n",
       "      <td>1000007325659034309</td>\n",
       "      <td>None</td>\n",
       "      <td>1000007325659034309</td>\n",
       "      <td>None</td>\n",
       "      <td>None</td>\n",
       "    </tr>\n",
       "    <tr>\n",
       "      <th>4</th>\n",
       "      <td>-1000012432629915674</td>\n",
       "      <td>None</td>\n",
       "      <td>-1000012432629915674</td>\n",
       "      <td>None</td>\n",
       "      <td>None</td>\n",
       "    </tr>\n",
       "  </tbody>\n",
       "</table>\n",
       "</div>"
      ],
      "text/plain": [
       "                     0     1                    2     3     4\n",
       "0 -1000010089006767027  None -1000010089006767027  None  None\n",
       "1  1663748618857376914  None  1663748618857376914  None  None\n",
       "2  1000010730920126182  None  1000010730920126182  None  None\n",
       "3  1000007325659034309  None  1000007325659034309  None  None\n",
       "4 -1000012432629915674  None -1000012432629915674  None  None"
      ]
     },
<<<<<<< HEAD
     "execution_count": 22,
=======
     "execution_count": 29,
>>>>>>> cleaned up file names
     "metadata": {},
     "output_type": "execute_result"
    }
   ],
   "source": [
    "%%time\n",
    "\n",
    "df_att=pd.read_csv('./data/processed/attributes_ds.txt', sep='|', header=None, encoding='utf-8')\n",
    "\n",
    "df_att.info(); df_att.head()"
   ]
  },
  {
   "cell_type": "code",
<<<<<<< HEAD
   "execution_count": 23,
   "metadata": {
    "Collapsed": "false",
    "execution": {
     "iopub.execute_input": "2022-10-21T17:59:51.552962Z",
     "iopub.status.busy": "2022-10-21T17:59:51.552962Z",
     "iopub.status.idle": "2022-10-21T17:59:51.660866Z",
     "shell.execute_reply": "2022-10-21T17:59:51.659871Z",
     "shell.execute_reply.started": "2022-10-21T17:59:51.552962Z"
=======
   "execution_count": 30,
   "metadata": {
    "Collapsed": "false",
    "execution": {
     "iopub.execute_input": "2024-04-12T19:00:19.444588Z",
     "iopub.status.busy": "2024-04-12T19:00:19.444311Z",
     "iopub.status.idle": "2024-04-12T19:00:19.492536Z",
     "shell.execute_reply": "2024-04-12T19:00:19.490487Z",
     "shell.execute_reply.started": "2024-04-12T19:00:19.444569Z"
>>>>>>> cleaned up file names
    },
    "tags": []
   },
   "outputs": [
    {
     "name": "stdout",
     "output_type": "stream",
     "text": [
      "<class 'pandas.core.frame.DataFrame'>\n",
      "RangeIndex: 17641332 entries, 0 to 17641331\n",
      "Data columns (total 5 columns):\n",
      " #   Column     Dtype \n",
      "---  ------     ----- \n",
      " 0   msrc_id    int64 \n",
      " 1   :START_ID  object\n",
      " 2   id2        int64 \n",
      " 3   type:TYPE  object\n",
      " 4   :END_ID    object\n",
      "dtypes: int64(2), object(3)\n",
      "memory usage: 673.0+ MB\n"
     ]
    }
   ],
   "source": [
    "df_att.columns=['msrc_id', ':START_ID', 'id2', 'type:TYPE', ':END_ID']\n",
    "\n",
    "df_att.info()"
   ]
  },
  {
   "cell_type": "code",
<<<<<<< HEAD
   "execution_count": 24,
   "metadata": {
    "Collapsed": "false",
    "execution": {
     "iopub.execute_input": "2022-10-21T17:59:53.965085Z",
     "iopub.status.busy": "2022-10-21T17:59:53.964087Z",
     "iopub.status.idle": "2022-10-21T17:59:54.940547Z",
     "shell.execute_reply": "2022-10-21T17:59:54.939586Z",
     "shell.execute_reply.started": "2022-10-21T17:59:53.965085Z"
=======
   "execution_count": 31,
   "metadata": {
    "Collapsed": "false",
    "execution": {
     "iopub.execute_input": "2024-04-12T19:00:20.501741Z",
     "iopub.status.busy": "2024-04-12T19:00:20.501307Z",
     "iopub.status.idle": "2024-04-12T19:00:21.781822Z",
     "shell.execute_reply": "2024-04-12T19:00:21.780006Z",
     "shell.execute_reply.started": "2024-04-12T19:00:20.501719Z"
>>>>>>> cleaned up file names
    },
    "tags": []
   },
   "outputs": [
    {
     "data": {
      "text/plain": [
       "None             16528159\n",
       "is-a              1109109\n",
       "part-of              3336\n",
       "derivative-of         728\n",
       "Name: type:TYPE, dtype: int64"
      ]
     },
<<<<<<< HEAD
     "execution_count": 24,
=======
     "execution_count": 31,
>>>>>>> cleaned up file names
     "metadata": {},
     "output_type": "execute_result"
    }
   ],
   "source": [
    "df_att['type:TYPE'].value_counts()"
   ]
  },
  {
   "cell_type": "code",
<<<<<<< HEAD
   "execution_count": 25,
   "metadata": {
    "Collapsed": "false",
    "execution": {
     "iopub.execute_input": "2022-10-21T17:59:58.959686Z",
     "iopub.status.busy": "2022-10-21T17:59:58.958580Z",
     "iopub.status.idle": "2022-10-21T18:00:00.151847Z",
     "shell.execute_reply": "2022-10-21T18:00:00.150859Z",
     "shell.execute_reply.started": "2022-10-21T17:59:58.959686Z"
=======
   "execution_count": 32,
   "metadata": {
    "Collapsed": "false",
    "execution": {
     "iopub.execute_input": "2024-04-12T19:01:22.761107Z",
     "iopub.status.busy": "2024-04-12T19:01:22.760547Z",
     "iopub.status.idle": "2024-04-12T19:01:24.584497Z",
     "shell.execute_reply": "2024-04-12T19:01:24.583367Z",
     "shell.execute_reply.started": "2024-04-12T19:01:22.761084Z"
>>>>>>> cleaned up file names
    },
    "tags": []
   },
   "outputs": [
    {
     "name": "stdout",
     "output_type": "stream",
     "text": [
      "<class 'pandas.core.frame.DataFrame'>\n",
      "RangeIndex: 1113173 entries, 0 to 1113172\n",
      "Data columns (total 5 columns):\n",
      " #   Column     Non-Null Count    Dtype \n",
      "---  ------     --------------    ----- \n",
      " 0   msrc_id    1113173 non-null  int64 \n",
      " 1   :START_ID  1113173 non-null  object\n",
      " 2   id2        1113173 non-null  int64 \n",
      " 3   type:TYPE  1113173 non-null  object\n",
      " 4   :END_ID    1113173 non-null  object\n",
      "dtypes: int64(2), object(3)\n",
      "memory usage: 42.5+ MB\n"
     ]
    },
    {
     "data": {
      "text/html": [
       "<div>\n",
       "<style scoped>\n",
       "    .dataframe tbody tr th:only-of-type {\n",
       "        vertical-align: middle;\n",
       "    }\n",
       "\n",
       "    .dataframe tbody tr th {\n",
       "        vertical-align: top;\n",
       "    }\n",
       "\n",
       "    .dataframe thead th {\n",
       "        text-align: right;\n",
       "    }\n",
       "</style>\n",
       "<table border=\"1\" class=\"dataframe\">\n",
       "  <thead>\n",
       "    <tr style=\"text-align: right;\">\n",
       "      <th></th>\n",
       "      <th>msrc_id</th>\n",
       "      <th>:START_ID</th>\n",
       "      <th>id2</th>\n",
       "      <th>type:TYPE</th>\n",
       "      <th>:END_ID</th>\n",
       "    </tr>\n",
       "  </thead>\n",
       "  <tbody>\n",
       "    <tr>\n",
       "      <th>0</th>\n",
       "      <td>-9211345763361301943</td>\n",
       "      <td>6239307973426633202</td>\n",
       "      <td>-9211345763361301943</td>\n",
       "      <td>is-a</td>\n",
       "      <td>3282417126387566677</td>\n",
       "    </tr>\n",
       "    <tr>\n",
       "      <th>1</th>\n",
       "      <td>-3731716512881823565</td>\n",
       "      <td>1343312264829427527</td>\n",
       "      <td>-3731716512881823565</td>\n",
       "      <td>is-a</td>\n",
       "      <td>-863247210018012795</td>\n",
       "    </tr>\n",
       "    <tr>\n",
       "      <th>2</th>\n",
       "      <td>-8958809409459120766</td>\n",
       "      <td>1708574876942514891</td>\n",
       "      <td>-8958809409459120766</td>\n",
       "      <td>is-a</td>\n",
       "      <td>7238354997095386169</td>\n",
       "    </tr>\n",
       "    <tr>\n",
       "      <th>3</th>\n",
       "      <td>-8943127545137010003</td>\n",
       "      <td>1627640919641416534</td>\n",
       "      <td>-8943127545137010003</td>\n",
       "      <td>is-a</td>\n",
       "      <td>-3225102379882035722</td>\n",
       "    </tr>\n",
       "    <tr>\n",
       "      <th>4</th>\n",
       "      <td>-8905194830923781468</td>\n",
       "      <td>-4205335484956817028</td>\n",
       "      <td>-8905194830923781468</td>\n",
       "      <td>is-a</td>\n",
       "      <td>1527215629594465118</td>\n",
       "    </tr>\n",
       "  </tbody>\n",
       "</table>\n",
       "</div>"
      ],
      "text/plain": [
       "               msrc_id             :START_ID                  id2 type:TYPE  \\\n",
       "0 -9211345763361301943   6239307973426633202 -9211345763361301943      is-a   \n",
       "1 -3731716512881823565   1343312264829427527 -3731716512881823565      is-a   \n",
       "2 -8958809409459120766   1708574876942514891 -8958809409459120766      is-a   \n",
       "3 -8943127545137010003   1627640919641416534 -8943127545137010003      is-a   \n",
       "4 -8905194830923781468  -4205335484956817028 -8905194830923781468      is-a   \n",
       "\n",
       "                :END_ID  \n",
       "0   3282417126387566677  \n",
       "1   -863247210018012795  \n",
       "2   7238354997095386169  \n",
       "3  -3225102379882035722  \n",
       "4   1527215629594465118  "
      ]
     },
<<<<<<< HEAD
     "execution_count": 25,
=======
     "execution_count": 32,
>>>>>>> cleaned up file names
     "metadata": {},
     "output_type": "execute_result"
    }
   ],
   "source": [
    "df_att=df_att[df_att['type:TYPE']!='None']\n",
    "df_att.reset_index(drop=True, inplace=True)\n",
    "df_att. info(); df_att.head()"
   ]
  },
  {
   "cell_type": "code",
<<<<<<< HEAD
   "execution_count": 26,
   "metadata": {
    "Collapsed": "false",
    "execution": {
     "iopub.execute_input": "2022-10-21T18:00:05.428859Z",
     "iopub.status.busy": "2022-10-21T18:00:05.428859Z",
     "iopub.status.idle": "2022-10-21T18:00:05.708413Z",
     "shell.execute_reply": "2022-10-21T18:00:05.708413Z",
     "shell.execute_reply.started": "2022-10-21T18:00:05.428859Z"
=======
   "execution_count": 33,
   "metadata": {
    "Collapsed": "false",
    "execution": {
     "iopub.execute_input": "2024-04-12T19:01:30.974814Z",
     "iopub.status.busy": "2024-04-12T19:01:30.974498Z",
     "iopub.status.idle": "2024-04-12T19:01:31.532019Z",
     "shell.execute_reply": "2024-04-12T19:01:31.530673Z",
     "shell.execute_reply.started": "2024-04-12T19:01:30.974789Z"
>>>>>>> cleaned up file names
    },
    "tags": []
   },
   "outputs": [
    {
     "name": "stdout",
     "output_type": "stream",
     "text": [
      "<class 'pandas.core.frame.DataFrame'>\n",
      "RangeIndex: 1113173 entries, 0 to 1113172\n",
      "Data columns (total 4 columns):\n",
      " #   Column     Non-Null Count    Dtype \n",
      "---  ------     --------------    ----- \n",
      " 0   msrc_id    1113173 non-null  int64 \n",
      " 1   :START_ID  1113173 non-null  object\n",
      " 2   type:TYPE  1113173 non-null  object\n",
      " 3   :END_ID    1113173 non-null  object\n",
      "dtypes: int64(1), object(3)\n",
      "memory usage: 34.0+ MB\n"
     ]
    },
    {
     "data": {
      "text/html": [
       "<div>\n",
       "<style scoped>\n",
       "    .dataframe tbody tr th:only-of-type {\n",
       "        vertical-align: middle;\n",
       "    }\n",
       "\n",
       "    .dataframe tbody tr th {\n",
       "        vertical-align: top;\n",
       "    }\n",
       "\n",
       "    .dataframe thead th {\n",
       "        text-align: right;\n",
       "    }\n",
       "</style>\n",
       "<table border=\"1\" class=\"dataframe\">\n",
       "  <thead>\n",
       "    <tr style=\"text-align: right;\">\n",
       "      <th></th>\n",
       "      <th>msrc_id</th>\n",
       "      <th>:START_ID</th>\n",
       "      <th>type:TYPE</th>\n",
       "      <th>:END_ID</th>\n",
       "    </tr>\n",
       "  </thead>\n",
       "  <tbody>\n",
       "    <tr>\n",
       "      <th>0</th>\n",
       "      <td>-9211345763361301943</td>\n",
       "      <td>6239307973426633202</td>\n",
       "      <td>is-a</td>\n",
       "      <td>3282417126387566677</td>\n",
       "    </tr>\n",
       "    <tr>\n",
       "      <th>1</th>\n",
       "      <td>-3731716512881823565</td>\n",
       "      <td>1343312264829427527</td>\n",
       "      <td>is-a</td>\n",
       "      <td>-863247210018012795</td>\n",
       "    </tr>\n",
       "    <tr>\n",
       "      <th>2</th>\n",
       "      <td>-8958809409459120766</td>\n",
       "      <td>1708574876942514891</td>\n",
       "      <td>is-a</td>\n",
       "      <td>7238354997095386169</td>\n",
       "    </tr>\n",
       "    <tr>\n",
       "      <th>3</th>\n",
       "      <td>-8943127545137010003</td>\n",
       "      <td>1627640919641416534</td>\n",
       "      <td>is-a</td>\n",
       "      <td>-3225102379882035722</td>\n",
       "    </tr>\n",
       "    <tr>\n",
       "      <th>4</th>\n",
       "      <td>-8905194830923781468</td>\n",
       "      <td>-4205335484956817028</td>\n",
       "      <td>is-a</td>\n",
       "      <td>1527215629594465118</td>\n",
       "    </tr>\n",
       "  </tbody>\n",
       "</table>\n",
       "</div>"
      ],
      "text/plain": [
       "               msrc_id             :START_ID type:TYPE               :END_ID\n",
       "0 -9211345763361301943   6239307973426633202      is-a   3282417126387566677\n",
       "1 -3731716512881823565   1343312264829427527      is-a   -863247210018012795\n",
       "2 -8958809409459120766   1708574876942514891      is-a   7238354997095386169\n",
       "3 -8943127545137010003   1627640919641416534      is-a  -3225102379882035722\n",
       "4 -8905194830923781468  -4205335484956817028      is-a   1527215629594465118"
      ]
     },
<<<<<<< HEAD
     "execution_count": 26,
=======
     "execution_count": 33,
>>>>>>> cleaned up file names
     "metadata": {},
     "output_type": "execute_result"
    }
   ],
   "source": [
    "df_att=df_att.drop(columns=['id2'])\n",
    "\n",
    "df_att.info(); df_att.head()"
   ]
  },
  {
   "cell_type": "code",
<<<<<<< HEAD
   "execution_count": 40,
   "metadata": {
    "execution": {
     "iopub.execute_input": "2022-10-21T18:07:54.452663Z",
     "iopub.status.busy": "2022-10-21T18:07:54.452663Z",
     "iopub.status.idle": "2022-10-21T18:07:54.749836Z",
     "shell.execute_reply": "2022-10-21T18:07:54.746845Z",
     "shell.execute_reply.started": "2022-10-21T18:07:54.452663Z"
    },
    "tags": []
   },
   "outputs": [
    {
     "data": {
      "text/html": [
       "<div>\n",
       "<style scoped>\n",
       "    .dataframe tbody tr th:only-of-type {\n",
       "        vertical-align: middle;\n",
       "    }\n",
       "\n",
       "    .dataframe tbody tr th {\n",
       "        vertical-align: top;\n",
       "    }\n",
       "\n",
       "    .dataframe thead th {\n",
       "        text-align: right;\n",
       "    }\n",
       "</style>\n",
       "<table border=\"1\" class=\"dataframe\">\n",
       "  <thead>\n",
       "    <tr style=\"text-align: right;\">\n",
       "      <th></th>\n",
       "      <th>msrc_id</th>\n",
       "      <th>:START_ID</th>\n",
       "      <th>type:TYPE</th>\n",
       "      <th>:END_ID</th>\n",
       "    </tr>\n",
       "  </thead>\n",
       "  <tbody>\n",
       "    <tr>\n",
       "      <th>0</th>\n",
       "      <td>-9211345763361301943</td>\n",
       "      <td>6239307973426633202</td>\n",
       "      <td>IS_A</td>\n",
       "      <td>3282417126387566677</td>\n",
       "    </tr>\n",
       "    <tr>\n",
       "      <th>1</th>\n",
       "      <td>-9199385581024420801</td>\n",
       "      <td>3431286749236869131</td>\n",
       "      <td>SIMILAR_TO</td>\n",
       "      <td>4166951674999260658</td>\n",
       "    </tr>\n",
       "    <tr>\n",
       "      <th>2</th>\n",
       "      <td>-9171611659504516599</td>\n",
       "      <td>1782891673412044594</td>\n",
       "      <td>IS_A</td>\n",
       "      <td>4571827019359806331</td>\n",
       "    </tr>\n",
       "    <tr>\n",
       "      <th>3</th>\n",
       "      <td>-9167253756875171418</td>\n",
       "      <td>-3646445504188635301</td>\n",
       "      <td>SIMILAR_TO</td>\n",
       "      <td>8441324521048175572</td>\n",
       "    </tr>\n",
       "    <tr>\n",
       "      <th>4</th>\n",
       "      <td>-9022844312547271757</td>\n",
       "      <td>1866838472195476209</td>\n",
       "      <td>IS_A</td>\n",
       "      <td>-781694405486375532</td>\n",
       "    </tr>\n",
       "  </tbody>\n",
       "</table>\n",
       "</div>"
      ],
      "text/plain": [
       "               msrc_id             :START_ID   type:TYPE              :END_ID\n",
       "0 -9211345763361301943   6239307973426633202        IS_A  3282417126387566677\n",
       "1 -9199385581024420801   3431286749236869131  SIMILAR_TO  4166951674999260658\n",
       "2 -9171611659504516599   1782891673412044594        IS_A  4571827019359806331\n",
       "3 -9167253756875171418  -3646445504188635301  SIMILAR_TO  8441324521048175572\n",
       "4 -9022844312547271757   1866838472195476209        IS_A  -781694405486375532"
      ]
     },
     "execution_count": 40,
     "metadata": {},
     "output_type": "execute_result"
    }
   ],
   "source": [
    "df_att['type:TYPE']=df_att['type:TYPE'].apply(str.upper)\n",
    "df_att['type:TYPE']=df_att['type:TYPE'].replace(['IS-A', 'SIMILAR-TO', 'PART-OF', 'DERIVATIVE-OF'], ['IS_A', 'SIMILAR_TO', 'PART_OF', 'DERIVATIVE_OF'])\n",
    "df_att.head()"
   ]
  },
  {
   "cell_type": "code",
   "execution_count": 42,
   "metadata": {
    "Collapsed": "false",
    "execution": {
     "iopub.execute_input": "2022-10-21T18:08:59.830143Z",
     "iopub.status.busy": "2022-10-21T18:08:59.830143Z",
     "iopub.status.idle": "2022-10-21T18:09:01.418911Z",
     "shell.execute_reply": "2022-10-21T18:09:01.417906Z",
     "shell.execute_reply.started": "2022-10-21T18:08:59.830143Z"
=======
   "execution_count": 58,
   "metadata": {
    "Collapsed": "false",
    "execution": {
     "iopub.execute_input": "2024-04-09T18:04:21.235245Z",
     "iopub.status.busy": "2024-04-09T18:04:21.235000Z",
     "iopub.status.idle": "2024-04-09T18:04:22.970821Z",
     "shell.execute_reply": "2024-04-09T18:04:22.969738Z",
     "shell.execute_reply.started": "2024-04-09T18:04:21.235225Z"
>>>>>>> cleaned up file names
    },
    "tags": []
   },
   "outputs": [],
   "source": [
    "# remove any unwanted white space\n",
    "for col in list(df_att.columns):\n",
    "    df_att[col]=df_att[col].apply(lambda x: str(x).strip())"
   ]
  },
  {
   "cell_type": "code",
<<<<<<< HEAD
   "execution_count": 43,
   "metadata": {
    "Collapsed": "false",
    "execution": {
     "iopub.execute_input": "2022-10-21T18:09:05.622757Z",
     "iopub.status.busy": "2022-10-21T18:09:05.622757Z",
     "iopub.status.idle": "2022-10-21T18:09:06.215999Z",
     "shell.execute_reply": "2022-10-21T18:09:06.214995Z",
     "shell.execute_reply.started": "2022-10-21T18:09:05.622757Z"
=======
   "execution_count": 59,
   "metadata": {
    "Collapsed": "false",
    "execution": {
     "iopub.execute_input": "2024-04-09T18:04:41.404715Z",
     "iopub.status.busy": "2024-04-09T18:04:41.404471Z",
     "iopub.status.idle": "2024-04-09T18:04:41.924527Z",
     "shell.execute_reply": "2024-04-09T18:04:41.923750Z",
     "shell.execute_reply.started": "2024-04-09T18:04:41.404695Z"
>>>>>>> cleaned up file names
    },
    "tags": []
   },
   "outputs": [
    {
     "name": "stdout",
     "output_type": "stream",
     "text": [
      "<class 'pandas.core.frame.DataFrame'>\n",
      "RangeIndex: 1113173 entries, 0 to 1113172\n",
      "Data columns (total 4 columns):\n",
      " #   Column     Non-Null Count    Dtype   \n",
      "---  ------     --------------    -----   \n",
      " 0   msrc_id    1113173 non-null  object  \n",
      " 1   :START_ID  1113173 non-null  int64   \n",
      " 2   type:TYPE  1113173 non-null  category\n",
      " 3   :END_ID    1113173 non-null  int64   \n",
      "dtypes: category(1), int64(2), object(1)\n",
      "memory usage: 26.5+ MB\n"
     ]
    }
   ],
   "source": [
    "# set dtypes\n",
    "df_att[':START_ID']=df_att[':START_ID'].astype('int64')\n",
    "df_att[':END_ID']=df_att[':END_ID'].astype('int64')\n",
    "df_att['type:TYPE']=df_att['type:TYPE'].astype('category')\n",
    "\n",
    "df_att.info()\n"
   ]
  },
  {
   "cell_type": "code",
<<<<<<< HEAD
   "execution_count": 44,
   "metadata": {
    "Collapsed": "false",
    "execution": {
     "iopub.execute_input": "2022-10-21T18:09:08.541327Z",
     "iopub.status.busy": "2022-10-21T18:09:08.541327Z",
     "iopub.status.idle": "2022-10-21T18:09:08.953806Z",
     "shell.execute_reply": "2022-10-21T18:09:08.952739Z",
     "shell.execute_reply.started": "2022-10-21T18:09:08.541327Z"
=======
   "execution_count": 60,
   "metadata": {
    "Collapsed": "false",
    "execution": {
     "iopub.execute_input": "2024-04-09T18:04:45.284913Z",
     "iopub.status.busy": "2024-04-09T18:04:45.284656Z",
     "iopub.status.idle": "2024-04-09T18:04:45.682269Z",
     "shell.execute_reply": "2024-04-09T18:04:45.681285Z",
     "shell.execute_reply.started": "2024-04-09T18:04:45.284893Z"
>>>>>>> cleaned up file names
    },
    "tags": []
   },
   "outputs": [],
   "source": [
    "df_att.to_pickle('./data/processed/attributes_df.pkl')"
   ]
  },
  {
   "cell_type": "markdown",
   "metadata": {
    "Collapsed": "false"
   },
   "source": [
    "### Concatenate Relationships"
   ]
  },
  {
   "cell_type": "code",
<<<<<<< HEAD
   "execution_count": 45,
   "metadata": {
    "Collapsed": "false",
    "execution": {
     "iopub.execute_input": "2022-10-21T18:09:17.280412Z",
     "iopub.status.busy": "2022-10-21T18:09:17.279414Z",
     "iopub.status.idle": "2022-10-21T18:09:19.193086Z",
     "shell.execute_reply": "2022-10-21T18:09:19.192572Z",
     "shell.execute_reply.started": "2022-10-21T18:09:17.280412Z"
    },
    "tags": []
   },
   "outputs": [
    {
     "name": "stdout",
     "output_type": "stream",
     "text": [
      "<class 'pandas.core.frame.DataFrame'>\n",
      "RangeIndex: 10191129 entries, 0 to 10191128\n",
      "Data columns (total 17 columns):\n",
      " #   Column            Dtype   \n",
      "---  ------            -----   \n",
      " 0   msrc_id           int64   \n",
      " 1   :START_ID         int64   \n",
      " 2   type:TYPE         category\n",
      " 3   effect            category\n",
      " 4   mechanism         category\n",
      " 5   ref_count:int     int16   \n",
      " 6   :END_ID           int64   \n",
      " 7   biomarkertype     category\n",
      " 8   celllinename      category\n",
      " 9   celltype          category\n",
      " 10  changetype        category\n",
      " 11  organ             category\n",
      " 12  organism          category\n",
      " 13  quantitativetype  category\n",
      " 14  tissue            category\n",
      " 15  nct_id            category\n",
      " 16  phase             category\n",
      "dtypes: category(13), int16(1), int64(3)\n",
      "memory usage: 556.0 MB\n"
     ]
    }
   ],
   "source": [
    "df_directional=pd.read_pickle('./data/processed/directional_df.pkl')\n",
    "df_directional.info()"
   ]
  },
  {
   "cell_type": "code",
   "execution_count": 46,
   "metadata": {
    "Collapsed": "false",
    "execution": {
     "iopub.execute_input": "2022-10-21T18:09:20.535307Z",
     "iopub.status.busy": "2022-10-21T18:09:20.535307Z",
     "iopub.status.idle": "2022-10-21T18:09:23.896978Z",
     "shell.execute_reply": "2022-10-21T18:09:23.896978Z",
     "shell.execute_reply.started": "2022-10-21T18:09:20.535307Z"
    },
    "tags": []
   },
   "outputs": [
    {
     "name": "stdout",
     "output_type": "stream",
     "text": [
      "<class 'pandas.core.frame.DataFrame'>\n",
      "RangeIndex: 4718418 entries, 0 to 4718417\n",
      "Data columns (total 15 columns):\n",
      " #   Column            Dtype   \n",
      "---  ------            -----   \n",
      " 0   msrc_id           int64   \n",
      " 1   :START_ID         int64   \n",
      " 2   type:TYPE         category\n",
      " 3   effect            category\n",
      " 4   mechanism         category\n",
      " 5   ref_count:int     int16   \n",
      " 6   :END_ID           int64   \n",
      " 7   biomarkertype     category\n",
      " 8   celllinename      category\n",
      " 9   celltype          category\n",
      " 10  changetype        category\n",
      " 11  organ             category\n",
      " 12  organism          category\n",
      " 13  quantitativetype  category\n",
      " 14  tissue            category\n",
      "dtypes: category(11), int16(1), int64(3)\n",
      "memory usage: 229.5 MB\n"
     ]
    }
   ],
   "source": [
    "df_bidirect=pd.read_pickle('./data/processed/bidirectional_df.pkl')\n",
    "df_bidirect.info()"
   ]
  },
  {
   "cell_type": "code",
   "execution_count": 47,
   "metadata": {
    "Collapsed": "false",
    "execution": {
     "iopub.execute_input": "2022-10-21T18:09:25.784223Z",
     "iopub.status.busy": "2022-10-21T18:09:25.784223Z",
     "iopub.status.idle": "2022-10-21T18:09:26.162993Z",
     "shell.execute_reply": "2022-10-21T18:09:26.162246Z",
     "shell.execute_reply.started": "2022-10-21T18:09:25.784223Z"
    },
    "tags": []
   },
   "outputs": [
    {
     "name": "stdout",
     "output_type": "stream",
     "text": [
      "<class 'pandas.core.frame.DataFrame'>\n",
      "RangeIndex: 1092484 entries, 0 to 1092483\n",
      "Data columns (total 4 columns):\n",
      " #   Column     Non-Null Count    Dtype   \n",
      "---  ------     --------------    -----   \n",
      " 0   msrc_id    1092484 non-null  object  \n",
      " 1   :START_ID  1092484 non-null  int64   \n",
      " 2   type:TYPE  1092484 non-null  category\n",
      " 3   :END_ID    1092484 non-null  int64   \n",
      "dtypes: category(1), int64(2), object(1)\n",
      "memory usage: 26.0+ MB\n"
     ]
    }
   ],
   "source": [
    "df_att=pd.read_pickle('./data/processed/attributes_df.pkl')\n",
    "df_att.info()"
   ]
  },
  {
   "cell_type": "code",
   "execution_count": 48,
   "metadata": {
    "Collapsed": "false",
    "execution": {
     "iopub.execute_input": "2022-10-21T18:09:30.582172Z",
     "iopub.status.busy": "2022-10-21T18:09:30.582172Z",
     "iopub.status.idle": "2022-10-21T18:09:36.400379Z",
     "shell.execute_reply": "2022-10-21T18:09:36.399384Z",
     "shell.execute_reply.started": "2022-10-21T18:09:30.582172Z"
    },
    "tags": []
   },
   "outputs": [
    {
     "name": "stdout",
     "output_type": "stream",
     "text": [
      "Wall time: 5.72 s\n"
     ]
    }
   ],
   "source": [
    "%%time\n",
    "\n",
    "df_concat=pd.concat([df_directional, df_bidirect, df_att])"
   ]
  },
  {
   "cell_type": "code",
   "execution_count": 49,
   "metadata": {
    "Collapsed": "false",
    "execution": {
     "iopub.execute_input": "2022-10-21T18:09:38.442033Z",
     "iopub.status.busy": "2022-10-21T18:09:38.441036Z",
     "iopub.status.idle": "2022-10-21T18:09:38.620380Z",
     "shell.execute_reply": "2022-10-21T18:09:38.619382Z",
     "shell.execute_reply.started": "2022-10-21T18:09:38.442033Z"
=======
   "execution_count": 72,
   "metadata": {
    "Collapsed": "false",
    "execution": {
     "iopub.execute_input": "2024-04-12T22:06:11.162576Z",
     "iopub.status.busy": "2024-04-12T22:06:11.139575Z",
     "iopub.status.idle": "2024-04-12T22:06:20.322717Z",
     "shell.execute_reply": "2024-04-12T22:06:20.315215Z",
     "shell.execute_reply.started": "2024-04-12T22:06:11.162274Z"
>>>>>>> cleaned up file names
    },
    "tags": []
   },
   "outputs": [
    {
     "data": {
      "text/html": [
       "<div>\n",
       "<style scoped>\n",
       "    .dataframe tbody tr th:only-of-type {\n",
       "        vertical-align: middle;\n",
       "    }\n",
       "\n",
       "    .dataframe tbody tr th {\n",
       "        vertical-align: top;\n",
       "    }\n",
       "\n",
       "    .dataframe thead th {\n",
       "        text-align: right;\n",
       "    }\n",
       "</style>\n",
       "<table border=\"1\" class=\"dataframe\">\n",
       "  <thead>\n",
       "    <tr style=\"text-align: right;\">\n",
       "      <th></th>\n",
       "      <th>msrc_id</th>\n",
       "      <th>:START_ID</th>\n",
       "      <th>type:TYPE</th>\n",
       "      <th>effect</th>\n",
       "      <th>mechanism</th>\n",
       "      <th>ref_count:int</th>\n",
       "      <th>:END_ID</th>\n",
       "      <th>biomarkertype</th>\n",
       "      <th>celllinename</th>\n",
       "      <th>celltype</th>\n",
       "      <th>changetype</th>\n",
       "      <th>organ</th>\n",
       "      <th>organism</th>\n",
       "      <th>quantitativetype</th>\n",
       "      <th>tissue</th>\n",
       "      <th>nct_id</th>\n",
       "      <th>phase</th>\n",
       "    </tr>\n",
       "  </thead>\n",
       "  <tbody>\n",
       "    <tr>\n",
       "      <th>0</th>\n",
       "      <td>-9223366135359139662</td>\n",
       "      <td>6434163658456377940</td>\n",
       "      <td>MolSynthesis</td>\n",
       "      <td>None</td>\n",
       "      <td>None</td>\n",
       "      <td>3</td>\n",
       "      <td>4596447325930325903</td>\n",
       "      <td>None</td>\n",
       "      <td>None</td>\n",
       "      <td>None</td>\n",
       "      <td>None</td>\n",
       "      <td>None</td>\n",
       "      <td>None</td>\n",
       "      <td>None</td>\n",
       "      <td>None</td>\n",
       "      <td>None</td>\n",
       "      <td>None</td>\n",
       "    </tr>\n",
       "    <tr>\n",
       "      <th>1</th>\n",
       "      <td>-9223365986387833915</td>\n",
       "      <td>-4129340824583713637</td>\n",
       "      <td>Regulation</td>\n",
       "      <td>None</td>\n",
       "      <td>None</td>\n",
       "      <td>1</td>\n",
       "      <td>-2983484129356197270</td>\n",
       "      <td>None</td>\n",
       "      <td>None</td>\n",
       "      <td>None</td>\n",
       "      <td>None</td>\n",
       "      <td>intestine</td>\n",
       "      <td>Rattus norvegicus (rat)</td>\n",
       "      <td>None</td>\n",
       "      <td>None</td>\n",
       "      <td>None</td>\n",
       "      <td>None</td>\n",
       "    </tr>\n",
       "    <tr>\n",
       "      <th>2</th>\n",
       "      <td>-9223365556180770043</td>\n",
       "      <td>7111680438658927661</td>\n",
       "      <td>Regulation</td>\n",
       "      <td>None</td>\n",
       "      <td>None</td>\n",
       "      <td>1</td>\n",
       "      <td>-3121142714757276759</td>\n",
       "      <td>None</td>\n",
       "      <td>None</td>\n",
       "      <td>None</td>\n",
       "      <td>None</td>\n",
       "      <td>None</td>\n",
       "      <td>None</td>\n",
       "      <td>None</td>\n",
       "      <td>serum</td>\n",
       "      <td>None</td>\n",
       "      <td>None</td>\n",
       "    </tr>\n",
       "    <tr>\n",
       "      <th>3</th>\n",
       "      <td>-9223365466130767478</td>\n",
       "      <td>-8447327320654612427</td>\n",
       "      <td>Regulation</td>\n",
       "      <td>None</td>\n",
       "      <td>None</td>\n",
       "      <td>9</td>\n",
       "      <td>-1646880163763186214</td>\n",
       "      <td>None</td>\n",
       "      <td>TOV-112D</td>\n",
       "      <td>B-cell, endothelial cell</td>\n",
       "      <td>None</td>\n",
       "      <td>peripheral nervous system, synovial membrane</td>\n",
       "      <td>None</td>\n",
       "      <td>None</td>\n",
       "      <td>None</td>\n",
       "      <td>None</td>\n",
       "      <td>None</td>\n",
       "    </tr>\n",
       "    <tr>\n",
       "      <th>4</th>\n",
       "      <td>-9223362118268724280</td>\n",
       "      <td>3670031740130349683</td>\n",
       "      <td>Regulation</td>\n",
       "      <td>positive</td>\n",
       "      <td>None</td>\n",
       "      <td>1</td>\n",
       "      <td>-4650140568030604438</td>\n",
       "      <td>None</td>\n",
       "      <td>None</td>\n",
       "      <td>plasma cell</td>\n",
       "      <td>None</td>\n",
       "      <td>None</td>\n",
       "      <td>None</td>\n",
       "      <td>None</td>\n",
       "      <td>plasma</td>\n",
       "      <td>None</td>\n",
       "      <td>None</td>\n",
       "    </tr>\n",
       "  </tbody>\n",
       "</table>\n",
       "</div>"
      ],
      "text/plain": [
       "               msrc_id            :START_ID     type:TYPE    effect mechanism  \\\n",
       "0 -9223366135359139662  6434163658456377940  MolSynthesis      None      None   \n",
       "1 -9223365986387833915 -4129340824583713637    Regulation      None      None   \n",
       "2 -9223365556180770043  7111680438658927661    Regulation      None      None   \n",
       "3 -9223365466130767478 -8447327320654612427    Regulation      None      None   \n",
       "4 -9223362118268724280  3670031740130349683    Regulation  positive      None   \n",
       "\n",
       "   ref_count:int              :END_ID biomarkertype celllinename  \\\n",
       "0              3  4596447325930325903          None         None   \n",
       "1              1 -2983484129356197270          None         None   \n",
       "2              1 -3121142714757276759          None         None   \n",
       "3              9 -1646880163763186214          None     TOV-112D   \n",
       "4              1 -4650140568030604438          None         None   \n",
       "\n",
       "                   celltype changetype  \\\n",
       "0                      None       None   \n",
       "1                      None       None   \n",
       "2                      None       None   \n",
       "3  B-cell, endothelial cell       None   \n",
       "4               plasma cell       None   \n",
       "\n",
       "                                          organ                 organism  \\\n",
       "0                                          None                     None   \n",
       "1                                     intestine  Rattus norvegicus (rat)   \n",
       "2                                          None                     None   \n",
       "3  peripheral nervous system, synovial membrane                     None   \n",
       "4                                          None                     None   \n",
       "\n",
       "  quantitativetype  tissue nct_id phase  \n",
       "0             None    None   None  None  \n",
       "1             None    None   None  None  \n",
       "2             None   serum   None  None  \n",
       "3             None    None   None  None  \n",
       "4             None  plasma   None  None  "
      ]
     },
     "execution_count": 72,
     "metadata": {},
     "output_type": "execute_result"
    },
    {
     "name": "stdout",
     "output_type": "stream",
     "text": [
      "<class 'pandas.core.frame.DataFrame'>\n",
      "RangeIndex: 11087753 entries, 0 to 11087752\n",
      "Data columns (total 17 columns):\n",
      " #   Column            Dtype   \n",
      "---  ------            -----   \n",
      " 0   msrc_id           int64   \n",
      " 1   :START_ID         int64   \n",
      " 2   type:TYPE         category\n",
      " 3   effect            category\n",
      " 4   mechanism         category\n",
      " 5   ref_count:int     int16   \n",
      " 6   :END_ID           int64   \n",
      " 7   biomarkertype     category\n",
      " 8   celllinename      category\n",
      " 9   celltype          category\n",
      " 10  changetype        category\n",
      " 11  organ             category\n",
      " 12  organism          category\n",
      " 13  quantitativetype  category\n",
      " 14  tissue            category\n",
      " 15  nct_id            category\n",
      " 16  phase             category\n",
      "dtypes: category(13), int16(1), int64(3)\n",
      "memory usage: 605.0 MB\n"
     ]
    }
   ],
   "source": [
    "df_directional=pd.read_pickle('./data/processed/directional_df.pkl')\n",
    "df_directional.head(); df_directional.info()"
   ]
  },
  {
   "cell_type": "code",
   "execution_count": null,
   "metadata": {},
   "outputs": [],
   "source": []
  },
  {
   "cell_type": "code",
   "execution_count": 54,
   "metadata": {
    "Collapsed": "false",
    "execution": {
     "iopub.execute_input": "2024-04-12T21:52:20.113427Z",
     "iopub.status.busy": "2024-04-12T21:52:20.113046Z",
     "iopub.status.idle": "2024-04-12T21:52:21.591068Z",
     "shell.execute_reply": "2024-04-12T21:52:21.589774Z",
     "shell.execute_reply.started": "2024-04-12T21:52:20.113403Z"
    },
    "tags": []
   },
   "outputs": [
    {
     "data": {
      "text/html": [
       "<div>\n",
       "<style scoped>\n",
       "    .dataframe tbody tr th:only-of-type {\n",
       "        vertical-align: middle;\n",
       "    }\n",
       "\n",
       "    .dataframe tbody tr th {\n",
       "        vertical-align: top;\n",
       "    }\n",
       "\n",
       "    .dataframe thead th {\n",
       "        text-align: right;\n",
       "    }\n",
       "</style>\n",
       "<table border=\"1\" class=\"dataframe\">\n",
       "  <thead>\n",
       "    <tr style=\"text-align: right;\">\n",
       "      <th></th>\n",
       "      <th>msrc_id</th>\n",
       "      <th>:START_ID</th>\n",
       "      <th>type:TYPE</th>\n",
       "      <th>effect</th>\n",
       "      <th>mechanism</th>\n",
       "      <th>ref_count:int</th>\n",
       "      <th>:END_ID</th>\n",
       "      <th>biomarkertype</th>\n",
       "      <th>celllinename</th>\n",
       "      <th>celltype</th>\n",
       "      <th>changetype</th>\n",
       "      <th>organ</th>\n",
       "      <th>organism</th>\n",
       "      <th>quantitativetype</th>\n",
       "      <th>tissue</th>\n",
       "    </tr>\n",
       "  </thead>\n",
       "  <tbody>\n",
       "    <tr>\n",
       "      <th>0</th>\n",
       "      <td>-9223367021478908826</td>\n",
       "      <td>5747547533469447186</td>\n",
       "      <td>FunctionalAssociation</td>\n",
       "      <td>nan</td>\n",
       "      <td>nan</td>\n",
       "      <td>1</td>\n",
       "      <td>6031869671835980567</td>\n",
       "      <td>NaN</td>\n",
       "      <td>nan</td>\n",
       "      <td>nan</td>\n",
       "      <td>nan</td>\n",
       "      <td>liver</td>\n",
       "      <td>nan</td>\n",
       "      <td>NaN</td>\n",
       "      <td>nan</td>\n",
       "    </tr>\n",
       "    <tr>\n",
       "      <th>1</th>\n",
       "      <td>-9223365481314032826</td>\n",
       "      <td>5445426109658919917</td>\n",
       "      <td>FunctionalAssociation</td>\n",
       "      <td>nan</td>\n",
       "      <td>nan</td>\n",
       "      <td>1</td>\n",
       "      <td>-2285403010002775161</td>\n",
       "      <td>NaN</td>\n",
       "      <td>nan</td>\n",
       "      <td>nan</td>\n",
       "      <td>nan</td>\n",
       "      <td>leg</td>\n",
       "      <td>nan</td>\n",
       "      <td>NaN</td>\n",
       "      <td>nan</td>\n",
       "    </tr>\n",
       "    <tr>\n",
       "      <th>2</th>\n",
       "      <td>-9223357200775258657</td>\n",
       "      <td>1596328558605610184</td>\n",
       "      <td>CellExpression</td>\n",
       "      <td>nan</td>\n",
       "      <td>nan</td>\n",
       "      <td>8</td>\n",
       "      <td>-8708891732207432195</td>\n",
       "      <td>NaN</td>\n",
       "      <td>MDA-MB-231</td>\n",
       "      <td>nan</td>\n",
       "      <td>nan</td>\n",
       "      <td>breast</td>\n",
       "      <td>Homo sapiens (human), Oryctolagus cuniculus (r...</td>\n",
       "      <td>NaN</td>\n",
       "      <td>serum</td>\n",
       "    </tr>\n",
       "    <tr>\n",
       "      <th>3</th>\n",
       "      <td>-9223356961959519979</td>\n",
       "      <td>4541556823765750071</td>\n",
       "      <td>CellExpression</td>\n",
       "      <td>nan</td>\n",
       "      <td>nan</td>\n",
       "      <td>1</td>\n",
       "      <td>3096071376414863663</td>\n",
       "      <td>NaN</td>\n",
       "      <td>A2058</td>\n",
       "      <td>nan</td>\n",
       "      <td>nan</td>\n",
       "      <td>nan</td>\n",
       "      <td>nan</td>\n",
       "      <td>NaN</td>\n",
       "      <td>nan</td>\n",
       "    </tr>\n",
       "    <tr>\n",
       "      <th>4</th>\n",
       "      <td>-9223351835527058603</td>\n",
       "      <td>-2894717825806059007</td>\n",
       "      <td>FunctionalAssociation</td>\n",
       "      <td>nan</td>\n",
       "      <td>nan</td>\n",
       "      <td>2</td>\n",
       "      <td>-5196628532512894922</td>\n",
       "      <td>NaN</td>\n",
       "      <td>nan</td>\n",
       "      <td>nan</td>\n",
       "      <td>nan</td>\n",
       "      <td>thoracolumbar spine</td>\n",
       "      <td>nan</td>\n",
       "      <td>NaN</td>\n",
       "      <td>nan</td>\n",
       "    </tr>\n",
       "  </tbody>\n",
       "</table>\n",
       "</div>"
      ],
      "text/plain": [
       "               msrc_id            :START_ID              type:TYPE effect  \\\n",
       "0 -9223367021478908826  5747547533469447186  FunctionalAssociation    nan   \n",
       "1 -9223365481314032826  5445426109658919917  FunctionalAssociation    nan   \n",
       "2 -9223357200775258657  1596328558605610184         CellExpression    nan   \n",
       "3 -9223356961959519979  4541556823765750071         CellExpression    nan   \n",
       "4 -9223351835527058603 -2894717825806059007  FunctionalAssociation    nan   \n",
       "\n",
       "  mechanism  ref_count:int              :END_ID  biomarkertype celllinename  \\\n",
       "0       nan              1  6031869671835980567            NaN          nan   \n",
       "1       nan              1 -2285403010002775161            NaN          nan   \n",
       "2       nan              8 -8708891732207432195            NaN   MDA-MB-231   \n",
       "3       nan              1  3096071376414863663            NaN        A2058   \n",
       "4       nan              2 -5196628532512894922            NaN          nan   \n",
       "\n",
       "  celltype changetype                organ  \\\n",
       "0      nan        nan                liver   \n",
       "1      nan        nan                  leg   \n",
       "2      nan        nan               breast   \n",
       "3      nan        nan                  nan   \n",
       "4      nan        nan  thoracolumbar spine   \n",
       "\n",
       "                                            organism  quantitativetype tissue  \n",
       "0                                                nan               NaN    nan  \n",
       "1                                                nan               NaN    nan  \n",
       "2  Homo sapiens (human), Oryctolagus cuniculus (r...               NaN  serum  \n",
       "3                                                nan               NaN    nan  \n",
       "4                                                nan               NaN    nan  "
      ]
     },
<<<<<<< HEAD
     "execution_count": 49,
=======
     "execution_count": 54,
>>>>>>> cleaned up file names
     "metadata": {},
     "output_type": "execute_result"
    },
    {
     "name": "stdout",
     "output_type": "stream",
     "text": [
      "<class 'pandas.core.frame.DataFrame'>\n",
      "RangeIndex: 5440406 entries, 0 to 5440405\n",
      "Data columns (total 15 columns):\n",
      " #   Column            Dtype   \n",
      "---  ------            -----   \n",
      " 0   msrc_id           int64   \n",
      " 1   :START_ID         int64   \n",
      " 2   type:TYPE         category\n",
      " 3   effect            category\n",
      " 4   mechanism         category\n",
      " 5   ref_count:int     int16   \n",
      " 6   :END_ID           int64   \n",
      " 7   biomarkertype     float64 \n",
      " 8   celllinename      category\n",
      " 9   celltype          category\n",
      " 10  changetype        category\n",
      " 11  organ             category\n",
      " 12  organism          category\n",
      " 13  quantitativetype  float64 \n",
      " 14  tissue            category\n",
      "dtypes: category(9), float64(2), int16(1), int64(3)\n",
      "memory usage: 337.3 MB\n"
     ]
    }
   ],
   "source": [
    "df_bidirect=pd.read_pickle('./data/processed/bidirectional_df.pkl')\n",
    "df_bidirect.head(); df_bidirect.info()"
   ]
  },
  {
   "cell_type": "code",
<<<<<<< HEAD
   "execution_count": 50,
   "metadata": {
    "Collapsed": "false",
    "execution": {
     "iopub.execute_input": "2022-10-21T18:09:58.045154Z",
     "iopub.status.busy": "2022-10-21T18:09:58.044156Z",
     "iopub.status.idle": "2022-10-21T18:10:04.360737Z",
     "shell.execute_reply": "2022-10-21T18:10:04.359738Z",
     "shell.execute_reply.started": "2022-10-21T18:09:58.045154Z"
=======
   "execution_count": 55,
   "metadata": {
    "Collapsed": "false",
    "execution": {
     "iopub.execute_input": "2024-04-12T21:52:32.789985Z",
     "iopub.status.busy": "2024-04-12T21:52:32.789536Z",
     "iopub.status.idle": "2024-04-12T21:52:33.724766Z",
     "shell.execute_reply": "2024-04-12T21:52:33.723124Z",
     "shell.execute_reply.started": "2024-04-12T21:52:32.789945Z"
>>>>>>> cleaned up file names
    },
    "tags": []
   },
   "outputs": [
    {
     "data": {
      "text/html": [
       "<div>\n",
       "<style scoped>\n",
       "    .dataframe tbody tr th:only-of-type {\n",
       "        vertical-align: middle;\n",
       "    }\n",
       "\n",
       "    .dataframe tbody tr th {\n",
       "        vertical-align: top;\n",
       "    }\n",
       "\n",
       "    .dataframe thead th {\n",
       "        text-align: right;\n",
       "    }\n",
       "</style>\n",
       "<table border=\"1\" class=\"dataframe\">\n",
       "  <thead>\n",
       "    <tr style=\"text-align: right;\">\n",
       "      <th></th>\n",
       "      <th>msrc_id</th>\n",
       "      <th>:START_ID</th>\n",
       "      <th>type:TYPE</th>\n",
       "      <th>:END_ID</th>\n",
       "    </tr>\n",
       "  </thead>\n",
       "  <tbody>\n",
       "    <tr>\n",
       "      <th>0</th>\n",
       "      <td>-9211345763361301943</td>\n",
       "      <td>6239307973426632704</td>\n",
       "      <td>is-a</td>\n",
       "      <td>3282417126387566592</td>\n",
       "    </tr>\n",
       "    <tr>\n",
       "      <th>1</th>\n",
       "      <td>-3731716512881823565</td>\n",
       "      <td>1343312264829427712</td>\n",
       "      <td>is-a</td>\n",
       "      <td>-863247210018012800</td>\n",
       "    </tr>\n",
       "    <tr>\n",
       "      <th>2</th>\n",
       "      <td>-9171611659504516599</td>\n",
       "      <td>1782891673412044288</td>\n",
       "      <td>is-a</td>\n",
       "      <td>4571827019359806976</td>\n",
       "    </tr>\n",
       "    <tr>\n",
       "      <th>3</th>\n",
       "      <td>-9152042026611259893</td>\n",
       "      <td>-655714910843208064</td>\n",
       "      <td>is-a</td>\n",
       "      <td>-8777874296820159488</td>\n",
       "    </tr>\n",
       "    <tr>\n",
       "      <th>4</th>\n",
       "      <td>-9144529735599240758</td>\n",
       "      <td>-754411543613721728</td>\n",
       "      <td>is-a</td>\n",
       "      <td>4571827019359806976</td>\n",
       "    </tr>\n",
       "  </tbody>\n",
       "</table>\n",
       "</div>"
      ],
      "text/plain": [
       "                msrc_id            :START_ID type:TYPE              :END_ID\n",
       "0  -9211345763361301943  6239307973426632704      is-a  3282417126387566592\n",
       "1  -3731716512881823565  1343312264829427712      is-a  -863247210018012800\n",
       "2  -9171611659504516599  1782891673412044288      is-a  4571827019359806976\n",
       "3  -9152042026611259893  -655714910843208064      is-a -8777874296820159488\n",
       "4  -9144529735599240758  -754411543613721728      is-a  4571827019359806976"
      ]
     },
     "execution_count": 55,
     "metadata": {},
     "output_type": "execute_result"
    },
    {
     "name": "stdout",
     "output_type": "stream",
     "text": [
      "<class 'pandas.core.frame.DataFrame'>\n",
      "RangeIndex: 1113173 entries, 0 to 1113172\n",
      "Data columns (total 4 columns):\n",
      " #   Column     Non-Null Count    Dtype   \n",
      "---  ------     --------------    -----   \n",
      " 0   msrc_id    1113173 non-null  object  \n",
      " 1   :START_ID  1113173 non-null  int64   \n",
      " 2   type:TYPE  1113173 non-null  category\n",
      " 3   :END_ID    1113173 non-null  int64   \n",
      "dtypes: category(1), int64(2), object(1)\n",
      "memory usage: 26.5+ MB\n"
     ]
    }
   ],
   "source": [
    "df_att=pd.read_pickle('./data/processed/attributes_df.pkl')\n",
    "df_att.head(); df_att.info()"
   ]
  },
  {
   "cell_type": "code",
   "execution_count": 56,
   "metadata": {
    "Collapsed": "false",
    "execution": {
     "iopub.execute_input": "2024-04-12T21:52:40.169628Z",
     "iopub.status.busy": "2024-04-12T21:52:40.167992Z",
     "iopub.status.idle": "2024-04-12T21:52:52.222774Z",
     "shell.execute_reply": "2024-04-12T21:52:52.221236Z",
     "shell.execute_reply.started": "2024-04-12T21:52:40.169596Z"
    },
    "tags": []
   },
   "outputs": [
    {
     "name": "stdout",
     "output_type": "stream",
     "text": [
      "CPU times: user 2.33 s, sys: 3.94 s, total: 6.27 s\n",
      "Wall time: 12 s\n"
     ]
    }
   ],
   "source": [
    "%%time\n",
    "\n",
    "df_concat=pd.concat([df_directional, df_bidirect, df_att])"
   ]
  },
  {
   "cell_type": "code",
   "execution_count": 57,
   "metadata": {
    "Collapsed": "false",
    "execution": {
     "iopub.execute_input": "2024-04-12T21:53:11.146578Z",
     "iopub.status.busy": "2024-04-12T21:53:11.145088Z",
     "iopub.status.idle": "2024-04-12T21:53:11.290075Z",
     "shell.execute_reply": "2024-04-12T21:53:11.288692Z",
     "shell.execute_reply.started": "2024-04-12T21:53:11.146535Z"
    },
    "tags": []
   },
   "outputs": [
    {
     "name": "stdout",
     "output_type": "stream",
     "text": [
      "<class 'pandas.core.frame.DataFrame'>\n",
      "Int64Index: 17641332 entries, 0 to 1113172\n",
      "Data columns (total 17 columns):\n",
      " #   Column            Dtype   \n",
      "---  ------            -----   \n",
      " 0   msrc_id           object  \n",
      " 1   :START_ID         int64   \n",
      " 2   type:TYPE         object  \n",
      " 3   effect            category\n",
      " 4   mechanism         object  \n",
      " 5   ref_count:int     float64 \n",
      " 6   :END_ID           int64   \n",
      " 7   biomarkertype     category\n",
      " 8   celllinename      object  \n",
      " 9   celltype          object  \n",
      " 10  changetype        object  \n",
      " 11  organ             object  \n",
      " 12  organism          object  \n",
      " 13  quantitativetype  category\n",
      " 14  tissue            object  \n",
      " 15  nct_id            category\n",
      " 16  phase             category\n",
      "dtypes: category(5), float64(1), int64(2), object(9)\n",
      "memory usage: 1.9+ GB\n"
     ]
    },
    {
     "data": {
      "text/html": [
       "<div>\n",
       "<style scoped>\n",
       "    .dataframe tbody tr th:only-of-type {\n",
       "        vertical-align: middle;\n",
       "    }\n",
       "\n",
       "    .dataframe tbody tr th {\n",
       "        vertical-align: top;\n",
       "    }\n",
       "\n",
       "    .dataframe thead th {\n",
       "        text-align: right;\n",
       "    }\n",
       "</style>\n",
       "<table border=\"1\" class=\"dataframe\">\n",
       "  <thead>\n",
       "    <tr style=\"text-align: right;\">\n",
       "      <th></th>\n",
       "      <th>msrc_id</th>\n",
       "      <th>:START_ID</th>\n",
       "      <th>type:TYPE</th>\n",
       "      <th>effect</th>\n",
       "      <th>mechanism</th>\n",
       "      <th>ref_count:int</th>\n",
       "      <th>:END_ID</th>\n",
       "      <th>biomarkertype</th>\n",
       "      <th>celllinename</th>\n",
       "      <th>celltype</th>\n",
       "      <th>changetype</th>\n",
       "      <th>organ</th>\n",
       "      <th>organism</th>\n",
       "      <th>quantitativetype</th>\n",
       "      <th>tissue</th>\n",
       "      <th>nct_id</th>\n",
       "      <th>phase</th>\n",
       "    </tr>\n",
       "  </thead>\n",
       "  <tbody>\n",
       "    <tr>\n",
       "      <th>0</th>\n",
       "      <td>-9223366135359139662</td>\n",
       "      <td>6434163658456377940</td>\n",
       "      <td>MolSynthesis</td>\n",
       "      <td>nan</td>\n",
       "      <td>nan</td>\n",
       "      <td>3.0</td>\n",
       "      <td>4596447325930325903</td>\n",
       "      <td>nan</td>\n",
       "      <td>nan</td>\n",
       "      <td>nan</td>\n",
       "      <td>nan</td>\n",
       "      <td>nan</td>\n",
       "      <td>nan</td>\n",
       "      <td>nan</td>\n",
       "      <td>nan</td>\n",
       "      <td>nan</td>\n",
       "      <td>None</td>\n",
       "    </tr>\n",
       "    <tr>\n",
       "      <th>1</th>\n",
       "      <td>-9223365986387833915</td>\n",
       "      <td>-4129340824583713637</td>\n",
       "      <td>Regulation</td>\n",
       "      <td>nan</td>\n",
       "      <td>nan</td>\n",
       "      <td>1.0</td>\n",
       "      <td>-2983484129356197270</td>\n",
       "      <td>nan</td>\n",
       "      <td>nan</td>\n",
       "      <td>nan</td>\n",
       "      <td>nan</td>\n",
       "      <td>intestine</td>\n",
       "      <td>Rattus norvegicus (rat)</td>\n",
       "      <td>nan</td>\n",
       "      <td>nan</td>\n",
       "      <td>nan</td>\n",
       "      <td>None</td>\n",
       "    </tr>\n",
       "    <tr>\n",
       "      <th>2</th>\n",
       "      <td>-9223365556180770043</td>\n",
       "      <td>7111680438658927661</td>\n",
       "      <td>Regulation</td>\n",
       "      <td>nan</td>\n",
       "      <td>nan</td>\n",
       "      <td>1.0</td>\n",
       "      <td>-3121142714757276759</td>\n",
       "      <td>nan</td>\n",
       "      <td>nan</td>\n",
       "      <td>nan</td>\n",
       "      <td>nan</td>\n",
       "      <td>nan</td>\n",
       "      <td>nan</td>\n",
       "      <td>nan</td>\n",
       "      <td>serum</td>\n",
       "      <td>nan</td>\n",
       "      <td>None</td>\n",
       "    </tr>\n",
       "    <tr>\n",
       "      <th>3</th>\n",
       "      <td>-9223365466130767478</td>\n",
       "      <td>-8447327320654612427</td>\n",
       "      <td>Regulation</td>\n",
       "      <td>nan</td>\n",
       "      <td>nan</td>\n",
       "      <td>9.0</td>\n",
       "      <td>-1646880163763186214</td>\n",
       "      <td>nan</td>\n",
       "      <td>TOV-112D</td>\n",
       "      <td>B-cell, endothelial cell</td>\n",
       "      <td>nan</td>\n",
       "      <td>peripheral nervous system, synovial membrane</td>\n",
       "      <td>nan</td>\n",
       "      <td>nan</td>\n",
       "      <td>nan</td>\n",
       "      <td>nan</td>\n",
       "      <td>None</td>\n",
       "    </tr>\n",
       "    <tr>\n",
       "      <th>4</th>\n",
       "      <td>-9223362118268724280</td>\n",
       "      <td>3670031740130349683</td>\n",
       "      <td>Regulation</td>\n",
       "      <td>positive</td>\n",
       "      <td>nan</td>\n",
       "      <td>1.0</td>\n",
       "      <td>-4650140568030604438</td>\n",
       "      <td>nan</td>\n",
       "      <td>nan</td>\n",
       "      <td>plasma cell</td>\n",
       "      <td>nan</td>\n",
       "      <td>nan</td>\n",
       "      <td>nan</td>\n",
       "      <td>nan</td>\n",
       "      <td>plasma</td>\n",
       "      <td>nan</td>\n",
       "      <td>None</td>\n",
       "    </tr>\n",
       "  </tbody>\n",
       "</table>\n",
       "</div>"
      ],
      "text/plain": [
       "                msrc_id            :START_ID     type:TYPE    effect  \\\n",
       "0  -9223366135359139662  6434163658456377940  MolSynthesis       nan   \n",
       "1  -9223365986387833915 -4129340824583713637    Regulation       nan   \n",
       "2  -9223365556180770043  7111680438658927661    Regulation       nan   \n",
       "3  -9223365466130767478 -8447327320654612427    Regulation       nan   \n",
       "4  -9223362118268724280  3670031740130349683    Regulation  positive   \n",
       "\n",
       "  mechanism  ref_count:int              :END_ID biomarkertype celllinename  \\\n",
       "0       nan            3.0  4596447325930325903           nan          nan   \n",
       "1       nan            1.0 -2983484129356197270           nan          nan   \n",
       "2       nan            1.0 -3121142714757276759           nan          nan   \n",
       "3       nan            9.0 -1646880163763186214           nan     TOV-112D   \n",
       "4       nan            1.0 -4650140568030604438           nan          nan   \n",
       "\n",
       "                   celltype changetype  \\\n",
       "0                       nan        nan   \n",
       "1                       nan        nan   \n",
       "2                       nan        nan   \n",
       "3  B-cell, endothelial cell        nan   \n",
       "4               plasma cell        nan   \n",
       "\n",
       "                                          organ                 organism  \\\n",
       "0                                           nan                      nan   \n",
       "1                                     intestine  Rattus norvegicus (rat)   \n",
       "2                                           nan                      nan   \n",
       "3  peripheral nervous system, synovial membrane                      nan   \n",
       "4                                           nan                      nan   \n",
       "\n",
       "  quantitativetype  tissue nct_id phase  \n",
       "0              nan     nan    nan  None  \n",
       "1              nan     nan    nan  None  \n",
       "2              nan   serum    nan  None  \n",
       "3              nan     nan    nan  None  \n",
       "4              nan  plasma    nan  None  "
      ]
     },
     "execution_count": 57,
     "metadata": {},
     "output_type": "execute_result"
    }
   ],
   "source": [
    "df_concat.info(); df_concat.head()"
   ]
  },
  {
   "cell_type": "code",
   "execution_count": 61,
   "metadata": {
    "execution": {
     "iopub.execute_input": "2024-04-12T21:55:55.643620Z",
     "iopub.status.busy": "2024-04-12T21:55:55.643113Z",
     "iopub.status.idle": "2024-04-12T21:55:59.248270Z",
     "shell.execute_reply": "2024-04-12T21:55:59.246133Z",
     "shell.execute_reply.started": "2024-04-12T21:55:55.643597Z"
    }
   },
   "outputs": [],
   "source": [
    "for col in df_concat.select_dtypes(include=['category']).columns:\n",
    "    df_concat[col] = df_concat[col].astype('object')"
   ]
  },
  {
   "cell_type": "code",
   "execution_count": 62,
   "metadata": {
    "execution": {
     "iopub.execute_input": "2024-04-12T21:56:05.898273Z",
     "iopub.status.busy": "2024-04-12T21:56:05.897791Z",
     "iopub.status.idle": "2024-04-12T21:56:05.956986Z",
     "shell.execute_reply": "2024-04-12T21:56:05.955501Z",
     "shell.execute_reply.started": "2024-04-12T21:56:05.898218Z"
    }
   },
   "outputs": [
    {
     "name": "stdout",
     "output_type": "stream",
     "text": [
      "<class 'pandas.core.frame.DataFrame'>\n",
      "Int64Index: 17641332 entries, 0 to 1113172\n",
      "Data columns (total 17 columns):\n",
      " #   Column            Dtype  \n",
      "---  ------            -----  \n",
      " 0   msrc_id           object \n",
      " 1   :START_ID         int64  \n",
      " 2   type:TYPE         object \n",
      " 3   effect            object \n",
      " 4   mechanism         object \n",
      " 5   ref_count:int     float64\n",
      " 6   :END_ID           int64  \n",
      " 7   biomarkertype     object \n",
      " 8   celllinename      object \n",
      " 9   celltype          object \n",
      " 10  changetype        object \n",
      " 11  organ             object \n",
      " 12  organism          object \n",
      " 13  quantitativetype  object \n",
      " 14  tissue            object \n",
      " 15  nct_id            object \n",
      " 16  phase             object \n",
      "dtypes: float64(1), int64(2), object(14)\n",
      "memory usage: 2.4+ GB\n"
     ]
    }
   ],
   "source": [
    "df_concat.info()"
   ]
  },
  {
   "cell_type": "code",
   "execution_count": 58,
   "metadata": {
    "Collapsed": "false",
    "execution": {
     "iopub.execute_input": "2024-04-12T21:53:14.905649Z",
     "iopub.status.busy": "2024-04-12T21:53:14.905357Z",
     "iopub.status.idle": "2024-04-12T21:53:31.379464Z",
     "shell.execute_reply": "2024-04-12T21:53:31.378408Z",
     "shell.execute_reply.started": "2024-04-12T21:53:14.905631Z"
    },
    "tags": []
   },
   "outputs": [
    {
     "data": {
      "text/plain": [
       "msrc_id                   0\n",
       ":START_ID                 0\n",
       "type:TYPE                 0\n",
       "effect              1113173\n",
       "mechanism           1113173\n",
       "ref_count:int       1113173\n",
       ":END_ID                   0\n",
       "biomarkertype       6553579\n",
       "celllinename        1113173\n",
       "celltype            1113173\n",
       "changetype          1113173\n",
       "organ               1113173\n",
       "organism            1113173\n",
       "quantitativetype    6553579\n",
       "tissue              1113173\n",
       "nct_id              6553579\n",
       "phase               6553579\n",
       "dtype: int64"
      ]
     },
     "execution_count": 58,
     "metadata": {},
     "output_type": "execute_result"
    }
   ],
   "source": [
    "df_concat.isnull().sum()"
   ]
  },
  {
   "cell_type": "code",
   "execution_count": 63,
   "metadata": {
    "Collapsed": "false",
    "execution": {
     "iopub.execute_input": "2024-04-12T21:56:12.278943Z",
     "iopub.status.busy": "2024-04-12T21:56:12.278534Z",
     "iopub.status.idle": "2024-04-12T21:56:12.472585Z",
     "shell.execute_reply": "2024-04-12T21:56:12.471856Z",
     "shell.execute_reply.started": "2024-04-12T21:56:12.278908Z"
    },
    "tags": []
   },
   "outputs": [],
   "source": [
    "df_concat['ref_count:int'].fillna(0, inplace=True)"
   ]
  },
  {
   "cell_type": "code",
   "execution_count": 64,
   "metadata": {
    "Collapsed": "false",
    "execution": {
     "iopub.execute_input": "2024-04-12T21:56:18.032951Z",
     "iopub.status.busy": "2024-04-12T21:56:18.032664Z",
     "iopub.status.idle": "2024-04-12T21:57:05.063002Z",
     "shell.execute_reply": "2024-04-12T21:57:05.061200Z",
     "shell.execute_reply.started": "2024-04-12T21:56:18.032932Z"
    },
    "tags": []
   },
   "outputs": [],
   "source": [
    "df_concat=df_concat.fillna('None')"
   ]
  },
  {
   "cell_type": "code",
   "execution_count": 70,
   "metadata": {
    "execution": {
     "iopub.execute_input": "2024-04-12T22:01:17.061844Z",
     "iopub.status.busy": "2024-04-12T22:01:17.061367Z",
     "iopub.status.idle": "2024-04-12T22:01:49.095616Z",
     "shell.execute_reply": "2024-04-12T22:01:49.094378Z",
     "shell.execute_reply.started": "2024-04-12T22:01:17.061823Z"
    },
    "tags": []
   },
   "outputs": [],
   "source": [
    "df_concat=df_concat.replace('nan', 'None')"
   ]
  },
  {
   "cell_type": "code",
   "execution_count": 71,
   "metadata": {
    "execution": {
     "iopub.execute_input": "2024-04-12T22:01:59.207378Z",
     "iopub.status.busy": "2024-04-12T22:01:59.206558Z",
     "iopub.status.idle": "2024-04-12T22:01:59.321316Z",
     "shell.execute_reply": "2024-04-12T22:01:59.316826Z",
     "shell.execute_reply.started": "2024-04-12T22:01:59.207314Z"
    },
    "tags": []
   },
   "outputs": [
    {
     "data": {
      "text/html": [
       "<div>\n",
       "<style scoped>\n",
       "    .dataframe tbody tr th:only-of-type {\n",
       "        vertical-align: middle;\n",
       "    }\n",
       "\n",
       "    .dataframe tbody tr th {\n",
       "        vertical-align: top;\n",
       "    }\n",
       "\n",
       "    .dataframe thead th {\n",
       "        text-align: right;\n",
       "    }\n",
       "</style>\n",
       "<table border=\"1\" class=\"dataframe\">\n",
       "  <thead>\n",
       "    <tr style=\"text-align: right;\">\n",
       "      <th></th>\n",
       "      <th>msrc_id</th>\n",
       "      <th>:START_ID</th>\n",
       "      <th>type:TYPE</th>\n",
       "      <th>effect</th>\n",
       "      <th>mechanism</th>\n",
       "      <th>ref_count:int</th>\n",
       "      <th>:END_ID</th>\n",
       "      <th>biomarkertype</th>\n",
       "      <th>celllinename</th>\n",
       "      <th>celltype</th>\n",
       "      <th>changetype</th>\n",
       "      <th>organ</th>\n",
       "      <th>organism</th>\n",
       "      <th>quantitativetype</th>\n",
       "      <th>tissue</th>\n",
       "      <th>nct_id</th>\n",
       "      <th>phase</th>\n",
       "    </tr>\n",
       "  </thead>\n",
       "  <tbody>\n",
       "    <tr>\n",
       "      <th>0</th>\n",
       "      <td>-9223366135359139662</td>\n",
       "      <td>6434163658456377940</td>\n",
       "      <td>MolSynthesis</td>\n",
       "      <td>None</td>\n",
       "      <td>None</td>\n",
       "      <td>3.0</td>\n",
       "      <td>4596447325930325903</td>\n",
       "      <td>None</td>\n",
       "      <td>None</td>\n",
       "      <td>None</td>\n",
       "      <td>None</td>\n",
       "      <td>None</td>\n",
       "      <td>None</td>\n",
       "      <td>None</td>\n",
       "      <td>None</td>\n",
       "      <td>None</td>\n",
       "      <td>None</td>\n",
       "    </tr>\n",
       "    <tr>\n",
       "      <th>1</th>\n",
       "      <td>-9223365986387833915</td>\n",
       "      <td>-4129340824583713637</td>\n",
       "      <td>Regulation</td>\n",
       "      <td>None</td>\n",
       "      <td>None</td>\n",
       "      <td>1.0</td>\n",
       "      <td>-2983484129356197270</td>\n",
       "      <td>None</td>\n",
       "      <td>None</td>\n",
       "      <td>None</td>\n",
       "      <td>None</td>\n",
       "      <td>intestine</td>\n",
       "      <td>Rattus norvegicus (rat)</td>\n",
       "      <td>None</td>\n",
       "      <td>None</td>\n",
       "      <td>None</td>\n",
       "      <td>None</td>\n",
       "    </tr>\n",
       "    <tr>\n",
       "      <th>2</th>\n",
       "      <td>-9223365556180770043</td>\n",
       "      <td>7111680438658927661</td>\n",
       "      <td>Regulation</td>\n",
       "      <td>None</td>\n",
       "      <td>None</td>\n",
       "      <td>1.0</td>\n",
       "      <td>-3121142714757276759</td>\n",
       "      <td>None</td>\n",
       "      <td>None</td>\n",
       "      <td>None</td>\n",
       "      <td>None</td>\n",
       "      <td>None</td>\n",
       "      <td>None</td>\n",
       "      <td>None</td>\n",
       "      <td>serum</td>\n",
       "      <td>None</td>\n",
       "      <td>None</td>\n",
       "    </tr>\n",
       "    <tr>\n",
       "      <th>3</th>\n",
       "      <td>-9223365466130767478</td>\n",
       "      <td>-8447327320654612427</td>\n",
       "      <td>Regulation</td>\n",
       "      <td>None</td>\n",
       "      <td>None</td>\n",
       "      <td>9.0</td>\n",
       "      <td>-1646880163763186214</td>\n",
       "      <td>None</td>\n",
       "      <td>TOV-112D</td>\n",
       "      <td>B-cell, endothelial cell</td>\n",
       "      <td>None</td>\n",
       "      <td>peripheral nervous system, synovial membrane</td>\n",
       "      <td>None</td>\n",
       "      <td>None</td>\n",
       "      <td>None</td>\n",
       "      <td>None</td>\n",
       "      <td>None</td>\n",
       "    </tr>\n",
       "    <tr>\n",
       "      <th>4</th>\n",
       "      <td>-9223362118268724280</td>\n",
       "      <td>3670031740130349683</td>\n",
       "      <td>Regulation</td>\n",
       "      <td>positive</td>\n",
       "      <td>None</td>\n",
       "      <td>1.0</td>\n",
       "      <td>-4650140568030604438</td>\n",
       "      <td>None</td>\n",
       "      <td>None</td>\n",
       "      <td>plasma cell</td>\n",
       "      <td>None</td>\n",
       "      <td>None</td>\n",
       "      <td>None</td>\n",
       "      <td>None</td>\n",
       "      <td>plasma</td>\n",
       "      <td>None</td>\n",
       "      <td>None</td>\n",
       "    </tr>\n",
       "  </tbody>\n",
       "</table>\n",
       "</div>"
      ],
      "text/plain": [
       "                msrc_id            :START_ID     type:TYPE    effect  \\\n",
       "0  -9223366135359139662  6434163658456377940  MolSynthesis      None   \n",
       "1  -9223365986387833915 -4129340824583713637    Regulation      None   \n",
       "2  -9223365556180770043  7111680438658927661    Regulation      None   \n",
       "3  -9223365466130767478 -8447327320654612427    Regulation      None   \n",
       "4  -9223362118268724280  3670031740130349683    Regulation  positive   \n",
       "\n",
       "  mechanism  ref_count:int              :END_ID biomarkertype celllinename  \\\n",
       "0      None            3.0  4596447325930325903          None         None   \n",
       "1      None            1.0 -2983484129356197270          None         None   \n",
       "2      None            1.0 -3121142714757276759          None         None   \n",
       "3      None            9.0 -1646880163763186214          None     TOV-112D   \n",
       "4      None            1.0 -4650140568030604438          None         None   \n",
       "\n",
       "                   celltype changetype  \\\n",
       "0                      None       None   \n",
       "1                      None       None   \n",
       "2                      None       None   \n",
       "3  B-cell, endothelial cell       None   \n",
       "4               plasma cell       None   \n",
       "\n",
       "                                          organ                 organism  \\\n",
       "0                                          None                     None   \n",
       "1                                     intestine  Rattus norvegicus (rat)   \n",
       "2                                          None                     None   \n",
       "3  peripheral nervous system, synovial membrane                     None   \n",
       "4                                          None                     None   \n",
       "\n",
       "  quantitativetype  tissue nct_id phase  \n",
       "0             None    None   None  None  \n",
       "1             None    None   None  None  \n",
       "2             None   serum   None  None  \n",
       "3             None    None   None  None  \n",
       "4             None  plasma   None  None  "
      ]
     },
<<<<<<< HEAD
     "execution_count": 50,
=======
     "execution_count": 71,
>>>>>>> cleaned up file names
     "metadata": {},
     "output_type": "execute_result"
    },
    {
     "name": "stdout",
     "output_type": "stream",
     "text": [
      "<class 'pandas.core.frame.DataFrame'>\n",
      "Int64Index: 17641332 entries, 0 to 1113172\n",
      "Data columns (total 17 columns):\n",
      " #   Column            Dtype  \n",
      "---  ------            -----  \n",
      " 0   msrc_id           object \n",
      " 1   :START_ID         int64  \n",
      " 2   type:TYPE         object \n",
      " 3   effect            object \n",
      " 4   mechanism         object \n",
      " 5   ref_count:int     float64\n",
      " 6   :END_ID           int64  \n",
      " 7   biomarkertype     object \n",
      " 8   celllinename      object \n",
      " 9   celltype          object \n",
      " 10  changetype        object \n",
      " 11  organ             object \n",
      " 12  organism          object \n",
      " 13  quantitativetype  object \n",
      " 14  tissue            object \n",
      " 15  nct_id            object \n",
      " 16  phase             object \n",
      "dtypes: float64(1), int64(2), object(14)\n",
      "memory usage: 2.4+ GB\n"
     ]
    }
   ],
   "source": [
<<<<<<< HEAD
    "df_concat.isnull().sum()"
   ]
  },
  {
   "cell_type": "code",
   "execution_count": 52,
   "metadata": {
    "Collapsed": "false",
    "execution": {
     "iopub.execute_input": "2022-10-21T18:10:40.511109Z",
     "iopub.status.busy": "2022-10-21T18:10:40.510111Z",
     "iopub.status.idle": "2022-10-21T18:10:40.647781Z",
     "shell.execute_reply": "2022-10-21T18:10:40.646884Z",
     "shell.execute_reply.started": "2022-10-21T18:10:40.510111Z"
    },
    "tags": []
   },
   "outputs": [],
   "source": [
    "df_concat['ref_count:int'].fillna(0, inplace=True)"
   ]
  },
  {
   "cell_type": "code",
   "execution_count": 53,
   "metadata": {
    "Collapsed": "false",
    "execution": {
     "iopub.execute_input": "2022-10-21T18:10:42.606296Z",
     "iopub.status.busy": "2022-10-21T18:10:42.606296Z",
     "iopub.status.idle": "2022-10-21T18:10:58.374585Z",
     "shell.execute_reply": "2022-10-21T18:10:58.373585Z",
     "shell.execute_reply.started": "2022-10-21T18:10:42.606296Z"
    },
    "tags": []
   },
   "outputs": [],
   "source": [
    "df_concat=df_concat.fillna('None')"
=======
    "df_concat.head(); df_concat.info()"
>>>>>>> cleaned up file names
   ]
  },
  {
   "cell_type": "code",
<<<<<<< HEAD
   "execution_count": 54,
   "metadata": {
    "Collapsed": "false",
    "execution": {
     "iopub.execute_input": "2022-10-21T18:10:58.376578Z",
     "iopub.status.busy": "2022-10-21T18:10:58.376578Z",
     "iopub.status.idle": "2022-10-21T18:10:59.672799Z",
     "shell.execute_reply": "2022-10-21T18:10:59.672799Z",
     "shell.execute_reply.started": "2022-10-21T18:10:58.376578Z"
=======
   "execution_count": 41,
   "metadata": {
    "Collapsed": "false",
    "execution": {
     "iopub.execute_input": "2024-04-12T20:21:08.853392Z",
     "iopub.status.busy": "2024-04-12T20:21:08.852570Z",
     "iopub.status.idle": "2024-04-12T20:21:10.210005Z",
     "shell.execute_reply": "2024-04-12T20:21:10.208995Z",
     "shell.execute_reply.started": "2024-04-12T20:21:08.853362Z"
>>>>>>> cleaned up file names
    },
    "tags": []
   },
   "outputs": [],
   "source": [
    "# set ref count dtype\n",
    "df_concat['ref_count:int']=df_concat['ref_count:int'].astype('int16')\n",
    "df_concat['msrc_id']=df_concat['msrc_id'].astype('int64')"
   ]
  },
  {
   "cell_type": "code",
<<<<<<< HEAD
   "execution_count": 55,
   "metadata": {
    "Collapsed": "false",
    "execution": {
     "iopub.execute_input": "2022-10-21T18:11:00.903087Z",
     "iopub.status.busy": "2022-10-21T18:11:00.903087Z",
     "iopub.status.idle": "2022-10-21T18:11:54.979805Z",
     "shell.execute_reply": "2022-10-21T18:11:54.978838Z",
     "shell.execute_reply.started": "2022-10-21T18:11:00.903087Z"
=======
   "execution_count": 44,
   "metadata": {
    "Collapsed": "false",
    "execution": {
     "iopub.execute_input": "2024-04-12T20:23:43.121288Z",
     "iopub.status.busy": "2024-04-12T20:23:43.120996Z",
     "iopub.status.idle": "2024-04-12T20:25:18.650138Z",
     "shell.execute_reply": "2024-04-12T20:25:18.649126Z",
     "shell.execute_reply.started": "2024-04-12T20:23:43.121265Z"
>>>>>>> cleaned up file names
    },
    "tags": []
   },
   "outputs": [
    {
     "name": "stdout",
     "output_type": "stream",
     "text": [
      "<class 'pandas.core.frame.DataFrame'>\n",
      "Int64Index: 17641332 entries, 0 to 1113172\n",
      "Data columns (total 17 columns):\n",
      " #   Column            Dtype   \n",
      "---  ------            -----   \n",
      " 0   msrc_id           int64   \n",
      " 1   :START_ID         int64   \n",
      " 2   type:TYPE         category\n",
      " 3   effect            category\n",
      " 4   mechanism         category\n",
      " 5   ref_count:int     int16   \n",
      " 6   :END_ID           int64   \n",
      " 7   biomarkertype     category\n",
      " 8   celllinename      category\n",
      " 9   celltype          category\n",
      " 10  changetype        category\n",
      " 11  organ             category\n",
      " 12  organism          category\n",
      " 13  quantitativetype  category\n",
      " 14  tissue            category\n",
      " 15  nct_id            category\n",
      " 16  phase             category\n",
      "dtypes: category(13), int16(1), int64(3)\n",
      "memory usage: 1.1 GB\n"
     ]
    }
   ],
   "source": [
    "# change object to category to save memory\n",
    "df_concat=convert_object_to_category(df_concat)\n",
    "\n",
    "df_concat.info()"
   ]
  },
  {
   "cell_type": "code",
<<<<<<< HEAD
   "execution_count": 56,
   "metadata": {
    "Collapsed": "false",
    "execution": {
     "iopub.execute_input": "2022-10-21T18:11:57.960839Z",
     "iopub.status.busy": "2022-10-21T18:11:57.960839Z",
     "iopub.status.idle": "2022-10-21T18:11:58.077275Z",
     "shell.execute_reply": "2022-10-21T18:11:58.075913Z",
     "shell.execute_reply.started": "2022-10-21T18:11:57.960839Z"
=======
   "execution_count": 71,
   "metadata": {
    "Collapsed": "false",
    "execution": {
     "iopub.execute_input": "2024-04-09T18:09:04.687667Z",
     "iopub.status.busy": "2024-04-09T18:09:04.687383Z",
     "iopub.status.idle": "2024-04-09T18:09:04.736304Z",
     "shell.execute_reply": "2024-04-09T18:09:04.734580Z",
     "shell.execute_reply.started": "2024-04-09T18:09:04.687646Z"
>>>>>>> cleaned up file names
    },
    "tags": []
   },
   "outputs": [
    {
     "name": "stdout",
     "output_type": "stream",
     "text": [
      "<class 'pandas.core.frame.DataFrame'>\n",
      "RangeIndex: 17641332 entries, 0 to 17641331\n",
      "Data columns (total 17 columns):\n",
      " #   Column            Dtype   \n",
      "---  ------            -----   \n",
      " 0   msrc_id           int64   \n",
      " 1   :START_ID         int64   \n",
      " 2   type:TYPE         category\n",
      " 3   effect            category\n",
      " 4   mechanism         category\n",
      " 5   ref_count:int     int16   \n",
      " 6   :END_ID           int64   \n",
      " 7   biomarkertype     category\n",
      " 8   celllinename      category\n",
      " 9   celltype          category\n",
      " 10  changetype        category\n",
      " 11  organ             category\n",
      " 12  organism          category\n",
      " 13  quantitativetype  category\n",
      " 14  tissue            category\n",
      " 15  nct_id            category\n",
      " 16  phase             category\n",
      "dtypes: category(13), int16(1), int64(3)\n",
      "memory usage: 1.0 GB\n"
     ]
    }
   ],
   "source": [
    "df_concat.reset_index(drop=True, inplace=True)\n",
    "df_concat.info()"
   ]
  },
  {
   "cell_type": "code",
<<<<<<< HEAD
   "execution_count": 57,
   "metadata": {
    "Collapsed": "false",
    "execution": {
     "iopub.execute_input": "2022-10-21T18:12:00.807797Z",
     "iopub.status.busy": "2022-10-21T18:12:00.807797Z",
     "iopub.status.idle": "2022-10-21T18:12:52.071584Z",
     "shell.execute_reply": "2022-10-21T18:12:52.070625Z",
     "shell.execute_reply.started": "2022-10-21T18:12:00.807797Z"
=======
   "execution_count": 72,
   "metadata": {
    "Collapsed": "false",
    "execution": {
     "iopub.execute_input": "2024-04-09T18:09:20.171795Z",
     "iopub.status.busy": "2024-04-09T18:09:20.171529Z",
     "iopub.status.idle": "2024-04-09T18:10:48.122119Z",
     "shell.execute_reply": "2024-04-09T18:10:48.120489Z",
     "shell.execute_reply.started": "2024-04-09T18:09:20.171775Z"
>>>>>>> cleaned up file names
    },
    "tags": []
   },
   "outputs": [
    {
     "name": "stdout",
     "output_type": "stream",
     "text": [
      "<class 'pandas.core.frame.DataFrame'>\n",
      "RangeIndex: 17641332 entries, 0 to 17641331\n",
      "Data columns (total 17 columns):\n",
      " #   Column            Dtype   \n",
      "---  ------            -----   \n",
      " 0   msrc_id           int64   \n",
      " 1   :START_ID         int64   \n",
      " 2   type:TYPE         category\n",
      " 3   effect            category\n",
      " 4   mechanism         category\n",
      " 5   ref_count:int     int16   \n",
      " 6   :END_ID           int64   \n",
      " 7   biomarkertype     category\n",
      " 8   celllinename      category\n",
      " 9   celltype          category\n",
      " 10  changetype        category\n",
      " 11  organ             category\n",
      " 12  organism          category\n",
      " 13  quantitativetype  category\n",
      " 14  tissue            category\n",
      " 15  nct_id            category\n",
      " 16  phase             category\n",
      "dtypes: category(13), int16(1), int64(3)\n",
      "memory usage: 1.0 GB\n"
     ]
    }
   ],
   "source": [
    "df_concat.drop_duplicates(inplace=True)\n",
    "df_concat.reset_index(drop=True, inplace=True)\n",
    "\n",
    "df_concat.info()"
   ]
  },
  {
   "cell_type": "code",
<<<<<<< HEAD
   "execution_count": 58,
   "metadata": {
    "Collapsed": "false",
    "execution": {
     "iopub.execute_input": "2022-10-21T18:16:09.700470Z",
     "iopub.status.busy": "2022-10-21T18:16:09.700470Z",
     "iopub.status.idle": "2022-10-21T18:16:11.025618Z",
     "shell.execute_reply": "2022-10-21T18:16:11.024622Z",
     "shell.execute_reply.started": "2022-10-21T18:16:09.700470Z"
=======
   "execution_count": 73,
   "metadata": {
    "Collapsed": "false",
    "execution": {
     "iopub.execute_input": "2024-04-09T18:11:25.799431Z",
     "iopub.status.busy": "2024-04-09T18:11:25.799154Z",
     "iopub.status.idle": "2024-04-09T18:11:27.262542Z",
     "shell.execute_reply": "2024-04-09T18:11:27.261600Z",
     "shell.execute_reply.started": "2024-04-09T18:11:25.799410Z"
>>>>>>> cleaned up file names
    },
    "tags": []
   },
   "outputs": [
    {
     "data": {
      "text/plain": [
<<<<<<< HEAD
       "Regulation               6310394\n",
       "FunctionalAssociation    2068008\n",
       "CellExpression           1492256\n",
       "Binding                  1157797\n",
       "IS_A                     1062691\n",
       "Expression                972328\n",
       "DirectRegulation          780719\n",
       "QuantitativeChange        503905\n",
       "GeneticChange             466177\n",
       "MolTransport              283335\n",
       "MolSynthesis              179200\n",
       "StateChange               168537\n",
       "Biomarker                 145749\n",
       "ClinicalTrial             128920\n",
       "ProtModification           80243\n",
       "miRNAEffect                67012\n",
       "ChemicalReaction           60489\n",
       "PromoterBinding            44478\n",
       "SIMILAR_TO                 25740\n",
       "PART_OF                     3325\n",
       "DERIVATIVE_OF                728\n",
       "Name: type:TYPE, dtype: int64"
      ]
     },
     "execution_count": 58,
=======
       "Regulation               6905951\n",
       "FunctionalAssociation    2622415\n",
       "CellExpression           1634629\n",
       "Binding                  1183363\n",
       "is-a                     1109109\n",
       "Expression               1056648\n",
       "DirectRegulation          791305\n",
       "QuantitativeChange        557593\n",
       "GeneticChange             547987\n",
       "MolTransport              297136\n",
       "MolSynthesis              192613\n",
       "Biomarker                 172998\n",
       "StateChange               162337\n",
       "ClinicalTrial             140983\n",
       "ProtModification           82187\n",
       "miRNAEffect                71573\n",
       "ChemicalReaction           63325\n",
       "PromoterBinding            45116\n",
       "part-of                     3336\n",
       "derivative-of                728\n",
       "Name: type:TYPE, dtype: int64"
      ]
     },
     "execution_count": 73,
>>>>>>> cleaned up file names
     "metadata": {},
     "output_type": "execute_result"
    },
    {
     "data": {
      "text/plain": [
       "None                                                                               10644497\n",
       "liver                                                                                288353\n",
       "brain                                                                                274567\n",
       "heart                                                                                174932\n",
       "skin                                                                                 144444\n",
       "                                                                                     ...   \n",
       "blood vessel, bone, peripheral nervous system, sympathetic nervous system                 1\n",
       "blood vessel, bone, perirenal fascia, skin                                                1\n",
       "blood vessel, bone, peritoneal cavity                                                     1\n",
       "blood vessel, bone, peritoneal cavity, peritoneum, sigmoid colon                          1\n",
       "brain, cerebellum, cerebral cortex, dorsal hippocampus, suprachiasmatic nucleus           1\n",
       "Name: organ, Length: 923941, dtype: int64"
      ]
     },
<<<<<<< HEAD
     "execution_count": 58,
=======
     "execution_count": 73,
>>>>>>> cleaned up file names
     "metadata": {},
     "output_type": "execute_result"
    }
   ],
   "source": [
    "df_concat['type:TYPE'].value_counts()\n",
    "df_concat['organ'].value_counts()"
   ]
  },
  {
   "cell_type": "code",
<<<<<<< HEAD
   "execution_count": 59,
   "metadata": {
    "Collapsed": "false",
    "execution": {
     "iopub.execute_input": "2022-10-21T18:16:14.099570Z",
     "iopub.status.busy": "2022-10-21T18:16:14.099570Z",
     "iopub.status.idle": "2022-10-21T18:16:15.884491Z",
     "shell.execute_reply": "2022-10-21T18:16:15.883521Z",
     "shell.execute_reply.started": "2022-10-21T18:16:14.099570Z"
=======
   "execution_count": 74,
   "metadata": {
    "Collapsed": "false",
    "execution": {
     "iopub.execute_input": "2024-04-09T18:11:30.360418Z",
     "iopub.status.busy": "2024-04-09T18:11:30.359377Z",
     "iopub.status.idle": "2024-04-09T18:11:35.773870Z",
     "shell.execute_reply": "2024-04-09T18:11:35.772672Z",
     "shell.execute_reply.started": "2024-04-09T18:11:30.360367Z"
>>>>>>> cleaned up file names
    },
    "tags": []
   },
   "outputs": [
    {
     "name": "stdout",
     "output_type": "stream",
     "text": [
      "<class 'pandas.core.frame.DataFrame'>\n",
      "RangeIndex: 17641332 entries, 0 to 17641331\n",
      "Data columns (total 17 columns):\n",
      " #   Column            Dtype   \n",
      "---  ------            -----   \n",
      " 0   msrc_id           int64   \n",
      " 1   :START_ID         int64   \n",
      " 2   type:TYPE         category\n",
      " 3   effect            category\n",
      " 4   mechanism         category\n",
      " 5   ref_count:int     int16   \n",
      " 6   :END_ID           int64   \n",
      " 7   biomarkertype     category\n",
      " 8   celllinename      category\n",
      " 9   celltype          category\n",
      " 10  changetype        category\n",
      " 11  organ             category\n",
      " 12  organism          category\n",
      " 13  quantitativetype  category\n",
      " 14  tissue            category\n",
      " 15  nct_id            category\n",
      " 16  phase             category\n",
      "dtypes: category(13), int16(1), int64(3)\n",
      "memory usage: 1.0 GB\n"
     ]
    },
    {
     "data": {
      "text/html": [
       "<div>\n",
       "<style scoped>\n",
       "    .dataframe tbody tr th:only-of-type {\n",
       "        vertical-align: middle;\n",
       "    }\n",
       "\n",
       "    .dataframe tbody tr th {\n",
       "        vertical-align: top;\n",
       "    }\n",
       "\n",
       "    .dataframe thead th {\n",
       "        text-align: right;\n",
       "    }\n",
       "</style>\n",
       "<table border=\"1\" class=\"dataframe\">\n",
       "  <thead>\n",
       "    <tr style=\"text-align: right;\">\n",
       "      <th></th>\n",
       "      <th>msrc_id</th>\n",
       "      <th>:START_ID</th>\n",
       "      <th>type:TYPE</th>\n",
       "      <th>effect</th>\n",
       "      <th>mechanism</th>\n",
       "      <th>ref_count:int</th>\n",
       "      <th>:END_ID</th>\n",
       "      <th>biomarkertype</th>\n",
       "      <th>celllinename</th>\n",
       "      <th>celltype</th>\n",
       "      <th>changetype</th>\n",
       "      <th>organ</th>\n",
       "      <th>organism</th>\n",
       "      <th>quantitativetype</th>\n",
       "      <th>tissue</th>\n",
       "      <th>nct_id</th>\n",
       "      <th>phase</th>\n",
       "    </tr>\n",
       "  </thead>\n",
       "  <tbody>\n",
       "    <tr>\n",
       "      <th>0</th>\n",
       "      <td>-9223366135359139662</td>\n",
       "      <td>6434163658456377940</td>\n",
       "      <td>MolSynthesis</td>\n",
       "      <td>_</td>\n",
       "      <td>_</td>\n",
       "      <td>3</td>\n",
       "      <td>4596447325930325903</td>\n",
       "      <td>_</td>\n",
       "      <td>_</td>\n",
       "      <td>_</td>\n",
       "      <td>_</td>\n",
       "      <td>_</td>\n",
       "      <td>_</td>\n",
       "      <td>_</td>\n",
       "      <td>_</td>\n",
       "      <td>_</td>\n",
       "      <td>_</td>\n",
       "    </tr>\n",
       "    <tr>\n",
       "      <th>1</th>\n",
       "      <td>-9223365986387833915</td>\n",
       "      <td>-4129340824583713637</td>\n",
       "      <td>Regulation</td>\n",
       "      <td>_</td>\n",
       "      <td>_</td>\n",
       "      <td>1</td>\n",
       "      <td>-2983484129356197270</td>\n",
       "      <td>_</td>\n",
       "      <td>_</td>\n",
       "      <td>_</td>\n",
       "      <td>_</td>\n",
       "      <td>intestine</td>\n",
       "      <td>Rattus norvegicus (rat)</td>\n",
       "      <td>_</td>\n",
       "      <td>_</td>\n",
       "      <td>_</td>\n",
       "      <td>_</td>\n",
       "    </tr>\n",
       "    <tr>\n",
       "      <th>2</th>\n",
       "      <td>-9223365556180770043</td>\n",
       "      <td>7111680438658927661</td>\n",
       "      <td>Regulation</td>\n",
       "      <td>_</td>\n",
       "      <td>_</td>\n",
       "      <td>1</td>\n",
       "      <td>-3121142714757276759</td>\n",
       "      <td>_</td>\n",
       "      <td>_</td>\n",
       "      <td>_</td>\n",
       "      <td>_</td>\n",
       "      <td>_</td>\n",
       "      <td>_</td>\n",
       "      <td>_</td>\n",
       "      <td>serum</td>\n",
       "      <td>_</td>\n",
       "      <td>_</td>\n",
       "    </tr>\n",
       "    <tr>\n",
       "      <th>3</th>\n",
       "      <td>-9223365466130767478</td>\n",
       "      <td>-8447327320654612427</td>\n",
       "      <td>Regulation</td>\n",
       "      <td>_</td>\n",
       "      <td>_</td>\n",
       "      <td>9</td>\n",
       "      <td>-1646880163763186214</td>\n",
       "      <td>_</td>\n",
       "      <td>TOV-112D</td>\n",
       "      <td>B-cell, endothelial cell</td>\n",
       "      <td>_</td>\n",
       "      <td>peripheral nervous system, synovial membrane</td>\n",
       "      <td>_</td>\n",
       "      <td>_</td>\n",
       "      <td>_</td>\n",
       "      <td>_</td>\n",
       "      <td>_</td>\n",
       "    </tr>\n",
       "    <tr>\n",
       "      <th>4</th>\n",
       "      <td>-9223362118268724280</td>\n",
       "      <td>3670031740130349683</td>\n",
       "      <td>Regulation</td>\n",
       "      <td>positive</td>\n",
       "      <td>_</td>\n",
       "      <td>1</td>\n",
       "      <td>-4650140568030604438</td>\n",
       "      <td>_</td>\n",
       "      <td>_</td>\n",
       "      <td>plasma cell</td>\n",
       "      <td>_</td>\n",
       "      <td>_</td>\n",
       "      <td>_</td>\n",
       "      <td>_</td>\n",
       "      <td>plasma</td>\n",
       "      <td>_</td>\n",
       "      <td>_</td>\n",
       "    </tr>\n",
       "  </tbody>\n",
       "</table>\n",
       "</div>"
      ],
      "text/plain": [
       "               msrc_id            :START_ID     type:TYPE    effect mechanism  \\\n",
       "0 -9223366135359139662  6434163658456377940  MolSynthesis         _         _   \n",
       "1 -9223365986387833915 -4129340824583713637    Regulation         _         _   \n",
       "2 -9223365556180770043  7111680438658927661    Regulation         _         _   \n",
       "3 -9223365466130767478 -8447327320654612427    Regulation         _         _   \n",
       "4 -9223362118268724280  3670031740130349683    Regulation  positive         _   \n",
       "\n",
       "   ref_count:int              :END_ID biomarkertype celllinename  \\\n",
       "0              3  4596447325930325903             _            _   \n",
       "1              1 -2983484129356197270             _            _   \n",
       "2              1 -3121142714757276759             _            _   \n",
       "3              9 -1646880163763186214             _     TOV-112D   \n",
       "4              1 -4650140568030604438             _            _   \n",
       "\n",
       "                   celltype changetype  \\\n",
       "0                         _          _   \n",
       "1                         _          _   \n",
       "2                         _          _   \n",
       "3  B-cell, endothelial cell          _   \n",
       "4               plasma cell          _   \n",
       "\n",
       "                                          organ                 organism  \\\n",
       "0                                             _                        _   \n",
       "1                                     intestine  Rattus norvegicus (rat)   \n",
       "2                                             _                        _   \n",
       "3  peripheral nervous system, synovial membrane                        _   \n",
       "4                                             _                        _   \n",
       "\n",
       "  quantitativetype  tissue nct_id phase  \n",
       "0                _       _      _     _  \n",
       "1                _       _      _     _  \n",
       "2                _   serum      _     _  \n",
       "3                _       _      _     _  \n",
       "4                _  plasma      _     _  "
      ]
     },
<<<<<<< HEAD
     "execution_count": 59,
=======
     "execution_count": 74,
>>>>>>> cleaned up file names
     "metadata": {},
     "output_type": "execute_result"
    }
   ],
   "source": [
    "df_concat=df_concat.replace('None', '_')\n",
    "df_concat.info(); df_concat.head()"
   ]
  },
  {
   "cell_type": "code",
<<<<<<< HEAD
   "execution_count": 60,
   "metadata": {
    "Collapsed": "false",
    "execution": {
     "iopub.execute_input": "2022-10-21T18:16:29.161347Z",
     "iopub.status.busy": "2022-10-21T18:16:29.160349Z",
     "iopub.status.idle": "2022-10-21T18:16:29.324509Z",
     "shell.execute_reply": "2022-10-21T18:16:29.323506Z",
     "shell.execute_reply.started": "2022-10-21T18:16:29.161347Z"
=======
   "execution_count": 75,
   "metadata": {
    "Collapsed": "false",
    "execution": {
     "iopub.execute_input": "2024-04-09T18:11:39.133492Z",
     "iopub.status.busy": "2024-04-09T18:11:39.133184Z",
     "iopub.status.idle": "2024-04-09T18:11:39.251876Z",
     "shell.execute_reply": "2024-04-09T18:11:39.249554Z",
     "shell.execute_reply.started": "2024-04-09T18:11:39.133468Z"
>>>>>>> cleaned up file names
    },
    "tags": []
   },
   "outputs": [
    {
     "name": "stdout",
     "output_type": "stream",
     "text": [
      "<class 'pandas.core.frame.DataFrame'>\n",
      "RangeIndex: 17641332 entries, 0 to 17641331\n",
      "Data columns (total 17 columns):\n",
      " #   Column            Dtype   \n",
      "---  ------            -----   \n",
      " 0   msrc_id           int64   \n",
      " 1   :START_ID         int64   \n",
      " 2   type:TYPE         category\n",
      " 3   effect            category\n",
      " 4   mechanism         category\n",
      " 5   ref_count:int     int16   \n",
      " 6   :END_ID           int64   \n",
      " 7   biomarkertype     category\n",
      " 8   celllinename      category\n",
      " 9   celltype          category\n",
      " 10  changetype        category\n",
      " 11  organ             category\n",
      " 12  organism          category\n",
      " 13  quantitativetype  category\n",
      " 14  tissue            category\n",
      " 15  nct_id            category\n",
      " 16  phase             category\n",
      "dtypes: category(13), int16(1), int64(3)\n",
      "memory usage: 1.0 GB\n"
     ]
    },
    {
     "data": {
      "text/html": [
       "<div>\n",
       "<style scoped>\n",
       "    .dataframe tbody tr th:only-of-type {\n",
       "        vertical-align: middle;\n",
       "    }\n",
       "\n",
       "    .dataframe tbody tr th {\n",
       "        vertical-align: top;\n",
       "    }\n",
       "\n",
       "    .dataframe thead th {\n",
       "        text-align: right;\n",
       "    }\n",
       "</style>\n",
       "<table border=\"1\" class=\"dataframe\">\n",
       "  <thead>\n",
       "    <tr style=\"text-align: right;\">\n",
       "      <th></th>\n",
       "      <th>msrc_id</th>\n",
       "      <th>:START_ID</th>\n",
       "      <th>type:TYPE</th>\n",
       "      <th>effect</th>\n",
       "      <th>mechanism</th>\n",
       "      <th>ref_count:int</th>\n",
       "      <th>:END_ID</th>\n",
       "      <th>biomarkertype</th>\n",
       "      <th>celllinename</th>\n",
       "      <th>celltype</th>\n",
       "      <th>changetype</th>\n",
       "      <th>organ</th>\n",
       "      <th>organism</th>\n",
       "      <th>quantitativetype</th>\n",
       "      <th>tissue</th>\n",
       "      <th>nct_id</th>\n",
       "      <th>phase</th>\n",
       "    </tr>\n",
       "  </thead>\n",
       "  <tbody>\n",
       "    <tr>\n",
       "      <th>0</th>\n",
       "      <td>-9223366135359139662</td>\n",
       "      <td>6434163658456377940</td>\n",
       "      <td>MOLSYNTHESIS</td>\n",
       "      <td>_</td>\n",
       "      <td>_</td>\n",
       "      <td>3</td>\n",
       "      <td>4596447325930325903</td>\n",
       "      <td>_</td>\n",
       "      <td>_</td>\n",
       "      <td>_</td>\n",
       "      <td>_</td>\n",
       "      <td>_</td>\n",
       "      <td>_</td>\n",
       "      <td>_</td>\n",
       "      <td>_</td>\n",
       "      <td>_</td>\n",
       "      <td>_</td>\n",
       "    </tr>\n",
       "    <tr>\n",
       "      <th>1</th>\n",
       "      <td>-9223365986387833915</td>\n",
       "      <td>-4129340824583713637</td>\n",
       "      <td>REGULATION</td>\n",
       "      <td>_</td>\n",
       "      <td>_</td>\n",
       "      <td>1</td>\n",
       "      <td>-2983484129356197270</td>\n",
       "      <td>_</td>\n",
       "      <td>_</td>\n",
       "      <td>_</td>\n",
       "      <td>_</td>\n",
       "      <td>intestine</td>\n",
       "      <td>Rattus norvegicus (rat)</td>\n",
       "      <td>_</td>\n",
       "      <td>_</td>\n",
       "      <td>_</td>\n",
       "      <td>_</td>\n",
       "    </tr>\n",
       "    <tr>\n",
       "      <th>2</th>\n",
       "      <td>-9223365556180770043</td>\n",
       "      <td>7111680438658927661</td>\n",
       "      <td>REGULATION</td>\n",
       "      <td>_</td>\n",
       "      <td>_</td>\n",
       "      <td>1</td>\n",
       "      <td>-3121142714757276759</td>\n",
       "      <td>_</td>\n",
       "      <td>_</td>\n",
       "      <td>_</td>\n",
       "      <td>_</td>\n",
       "      <td>_</td>\n",
       "      <td>_</td>\n",
       "      <td>_</td>\n",
       "      <td>serum</td>\n",
       "      <td>_</td>\n",
       "      <td>_</td>\n",
       "    </tr>\n",
       "    <tr>\n",
       "      <th>3</th>\n",
       "      <td>-9223365466130767478</td>\n",
       "      <td>-8447327320654612427</td>\n",
       "      <td>REGULATION</td>\n",
       "      <td>_</td>\n",
       "      <td>_</td>\n",
       "      <td>9</td>\n",
       "      <td>-1646880163763186214</td>\n",
       "      <td>_</td>\n",
       "      <td>TOV-112D</td>\n",
       "      <td>B-cell, endothelial cell</td>\n",
       "      <td>_</td>\n",
       "      <td>peripheral nervous system, synovial membrane</td>\n",
       "      <td>_</td>\n",
       "      <td>_</td>\n",
       "      <td>_</td>\n",
       "      <td>_</td>\n",
       "      <td>_</td>\n",
       "    </tr>\n",
       "    <tr>\n",
       "      <th>4</th>\n",
       "      <td>-9223362118268724280</td>\n",
       "      <td>3670031740130349683</td>\n",
       "      <td>REGULATION</td>\n",
       "      <td>positive</td>\n",
       "      <td>_</td>\n",
       "      <td>1</td>\n",
       "      <td>-4650140568030604438</td>\n",
       "      <td>_</td>\n",
       "      <td>_</td>\n",
       "      <td>plasma cell</td>\n",
       "      <td>_</td>\n",
       "      <td>_</td>\n",
       "      <td>_</td>\n",
       "      <td>_</td>\n",
       "      <td>plasma</td>\n",
       "      <td>_</td>\n",
       "      <td>_</td>\n",
       "    </tr>\n",
       "  </tbody>\n",
       "</table>\n",
       "</div>"
      ],
      "text/plain": [
       "               msrc_id            :START_ID     type:TYPE    effect mechanism  \\\n",
       "0 -9223366135359139662  6434163658456377940  MOLSYNTHESIS         _         _   \n",
       "1 -9223365986387833915 -4129340824583713637    REGULATION         _         _   \n",
       "2 -9223365556180770043  7111680438658927661    REGULATION         _         _   \n",
       "3 -9223365466130767478 -8447327320654612427    REGULATION         _         _   \n",
       "4 -9223362118268724280  3670031740130349683    REGULATION  positive         _   \n",
       "\n",
       "   ref_count:int              :END_ID biomarkertype celllinename  \\\n",
       "0              3  4596447325930325903             _            _   \n",
       "1              1 -2983484129356197270             _            _   \n",
       "2              1 -3121142714757276759             _            _   \n",
       "3              9 -1646880163763186214             _     TOV-112D   \n",
       "4              1 -4650140568030604438             _            _   \n",
       "\n",
       "                   celltype changetype  \\\n",
       "0                         _          _   \n",
       "1                         _          _   \n",
       "2                         _          _   \n",
       "3  B-cell, endothelial cell          _   \n",
       "4               plasma cell          _   \n",
       "\n",
       "                                          organ                 organism  \\\n",
       "0                                             _                        _   \n",
       "1                                     intestine  Rattus norvegicus (rat)   \n",
       "2                                             _                        _   \n",
       "3  peripheral nervous system, synovial membrane                        _   \n",
       "4                                             _                        _   \n",
       "\n",
       "  quantitativetype  tissue nct_id phase  \n",
       "0                _       _      _     _  \n",
       "1                _       _      _     _  \n",
       "2                _   serum      _     _  \n",
       "3                _       _      _     _  \n",
       "4                _  plasma      _     _  "
      ]
     },
<<<<<<< HEAD
     "execution_count": 60,
=======
     "execution_count": 75,
>>>>>>> cleaned up file names
     "metadata": {},
     "output_type": "execute_result"
    }
   ],
   "source": [
    "\n",
    "df_concat['type:TYPE']=df_concat['type:TYPE'].apply(lambda x: x.upper())\n",
    "df_concat.info(); df_concat.head()"
   ]
  },
  {
   "cell_type": "code",
<<<<<<< HEAD
   "execution_count": 61,
   "metadata": {
    "Collapsed": "false",
    "execution": {
     "iopub.execute_input": "2022-10-21T18:16:33.176635Z",
     "iopub.status.busy": "2022-10-21T18:16:33.175640Z",
     "iopub.status.idle": "2022-10-21T18:16:33.358610Z",
     "shell.execute_reply": "2022-10-21T18:16:33.357613Z",
     "shell.execute_reply.started": "2022-10-21T18:16:33.176635Z"
=======
   "execution_count": 76,
   "metadata": {
    "Collapsed": "false",
    "execution": {
     "iopub.execute_input": "2024-04-09T18:11:44.636784Z",
     "iopub.status.busy": "2024-04-09T18:11:44.636014Z",
     "iopub.status.idle": "2024-04-09T18:11:44.914387Z",
     "shell.execute_reply": "2024-04-09T18:11:44.913460Z",
     "shell.execute_reply.started": "2024-04-09T18:11:44.636754Z"
>>>>>>> cleaned up file names
    },
    "tags": []
   },
   "outputs": [
    {
     "data": {
      "text/plain": [
<<<<<<< HEAD
       "REGULATION               6310394\n",
       "FUNCTIONALASSOCIATION    2068008\n",
       "CELLEXPRESSION           1492256\n",
       "BINDING                  1157797\n",
       "IS_A                     1062691\n",
       "EXPRESSION                972328\n",
       "DIRECTREGULATION          780719\n",
       "QUANTITATIVECHANGE        503905\n",
       "GENETICCHANGE             466177\n",
       "MOLTRANSPORT              283335\n",
       "MOLSYNTHESIS              179200\n",
       "STATECHANGE               168537\n",
       "BIOMARKER                 145749\n",
       "CLINICALTRIAL             128920\n",
       "PROTMODIFICATION           80243\n",
       "MIRNAEFFECT                67012\n",
       "CHEMICALREACTION           60489\n",
       "PROMOTERBINDING            44478\n",
       "SIMILAR_TO                 25740\n",
       "PART_OF                     3325\n",
       "DERIVATIVE_OF                728\n",
       "Name: type:TYPE, dtype: int64"
      ]
     },
     "execution_count": 61,
=======
       "REGULATION               6905951\n",
       "FUNCTIONALASSOCIATION    2622415\n",
       "CELLEXPRESSION           1634629\n",
       "BINDING                  1183363\n",
       "IS-A                     1109109\n",
       "EXPRESSION               1056648\n",
       "DIRECTREGULATION          791305\n",
       "QUANTITATIVECHANGE        557593\n",
       "GENETICCHANGE             547987\n",
       "MOLTRANSPORT              297136\n",
       "MOLSYNTHESIS              192613\n",
       "BIOMARKER                 172998\n",
       "STATECHANGE               162337\n",
       "CLINICALTRIAL             140983\n",
       "PROTMODIFICATION           82187\n",
       "MIRNAEFFECT                71573\n",
       "CHEMICALREACTION           63325\n",
       "PROMOTERBINDING            45116\n",
       "PART-OF                     3336\n",
       "DERIVATIVE-OF                728\n",
       "Name: type:TYPE, dtype: int64"
      ]
     },
     "execution_count": 76,
>>>>>>> cleaned up file names
     "metadata": {},
     "output_type": "execute_result"
    }
   ],
   "source": [
    "df_concat['type:TYPE'].value_counts()"
   ]
  },
  {
   "cell_type": "code",
<<<<<<< HEAD
   "execution_count": 62,
   "metadata": {
    "execution": {
     "iopub.execute_input": "2022-10-21T18:16:35.649966Z",
     "iopub.status.busy": "2022-10-21T18:16:35.648969Z",
     "iopub.status.idle": "2022-10-21T18:16:35.742719Z",
     "shell.execute_reply": "2022-10-21T18:16:35.741755Z",
     "shell.execute_reply.started": "2022-10-21T18:16:35.649966Z"
=======
   "execution_count": 77,
   "metadata": {
    "execution": {
     "iopub.execute_input": "2024-04-09T18:11:49.295194Z",
     "iopub.status.busy": "2024-04-09T18:11:49.294940Z",
     "iopub.status.idle": "2024-04-09T18:11:49.336831Z",
     "shell.execute_reply": "2024-04-09T18:11:49.332608Z",
     "shell.execute_reply.started": "2024-04-09T18:11:49.295175Z"
>>>>>>> cleaned up file names
    },
    "tags": []
   },
   "outputs": [
    {
     "data": {
      "text/plain": [
       "['msrc_id',\n",
       " ':START_ID',\n",
       " 'type:TYPE',\n",
       " 'effect',\n",
       " 'mechanism',\n",
       " 'ref_count:int',\n",
       " ':END_ID',\n",
       " 'biomarkertype',\n",
       " 'celllinename',\n",
       " 'celltype',\n",
       " 'changetype',\n",
       " 'organ',\n",
       " 'organism',\n",
       " 'quantitativetype',\n",
       " 'tissue',\n",
       " 'nct_id',\n",
       " 'phase']"
      ]
     },
<<<<<<< HEAD
     "execution_count": 62,
=======
     "execution_count": 77,
>>>>>>> cleaned up file names
     "metadata": {},
     "output_type": "execute_result"
    }
   ],
   "source": [
    "cols=list(df_directional.columns)\n",
    "cols"
   ]
  },
  {
   "cell_type": "code",
<<<<<<< HEAD
   "execution_count": 63,
   "metadata": {
    "execution": {
     "iopub.execute_input": "2022-10-21T18:16:38.188592Z",
     "iopub.status.busy": "2022-10-21T18:16:38.188592Z",
     "iopub.status.idle": "2022-10-21T18:16:38.464892Z",
     "shell.execute_reply": "2022-10-21T18:16:38.462909Z",
     "shell.execute_reply.started": "2022-10-21T18:16:38.188592Z"
=======
   "execution_count": 78,
   "metadata": {
    "execution": {
     "iopub.execute_input": "2024-04-09T18:11:58.694547Z",
     "iopub.status.busy": "2024-04-09T18:11:58.694246Z",
     "iopub.status.idle": "2024-04-09T18:11:59.462694Z",
     "shell.execute_reply": "2024-04-09T18:11:59.459669Z",
     "shell.execute_reply.started": "2024-04-09T18:11:58.694526Z"
>>>>>>> cleaned up file names
    },
    "tags": []
   },
   "outputs": [
    {
     "data": {
      "text/html": [
       "<div>\n",
       "<style scoped>\n",
       "    .dataframe tbody tr th:only-of-type {\n",
       "        vertical-align: middle;\n",
       "    }\n",
       "\n",
       "    .dataframe tbody tr th {\n",
       "        vertical-align: top;\n",
       "    }\n",
       "\n",
       "    .dataframe thead th {\n",
       "        text-align: right;\n",
       "    }\n",
       "</style>\n",
       "<table border=\"1\" class=\"dataframe\">\n",
       "  <thead>\n",
       "    <tr style=\"text-align: right;\">\n",
       "      <th></th>\n",
       "      <th>msrc_id</th>\n",
       "      <th>:START_ID</th>\n",
       "      <th>type:TYPE</th>\n",
       "      <th>effect</th>\n",
       "      <th>mechanism</th>\n",
       "      <th>ref_count:int</th>\n",
       "      <th>:END_ID</th>\n",
       "      <th>biomarkertype</th>\n",
       "      <th>celllinename</th>\n",
       "      <th>celltype</th>\n",
       "      <th>changetype</th>\n",
       "      <th>organ</th>\n",
       "      <th>organism</th>\n",
       "      <th>quantitativetype</th>\n",
       "      <th>tissue</th>\n",
       "      <th>nct_id</th>\n",
       "      <th>phase</th>\n",
       "    </tr>\n",
       "  </thead>\n",
       "  <tbody>\n",
       "    <tr>\n",
       "      <th>0</th>\n",
       "      <td>-9223366135359139662</td>\n",
       "      <td>6434163658456377940</td>\n",
       "      <td>MOLSYNTHESIS</td>\n",
       "      <td>_</td>\n",
       "      <td>_</td>\n",
       "      <td>3</td>\n",
       "      <td>4596447325930325903</td>\n",
       "      <td>_</td>\n",
       "      <td>_</td>\n",
       "      <td>_</td>\n",
       "      <td>_</td>\n",
       "      <td>_</td>\n",
       "      <td>_</td>\n",
       "      <td>_</td>\n",
       "      <td>_</td>\n",
       "      <td>_</td>\n",
       "      <td>_</td>\n",
       "    </tr>\n",
       "    <tr>\n",
       "      <th>1</th>\n",
       "      <td>-9223365986387833915</td>\n",
       "      <td>-4129340824583713637</td>\n",
       "      <td>REGULATION</td>\n",
       "      <td>_</td>\n",
       "      <td>_</td>\n",
       "      <td>1</td>\n",
       "      <td>-2983484129356197270</td>\n",
       "      <td>_</td>\n",
       "      <td>_</td>\n",
       "      <td>_</td>\n",
       "      <td>_</td>\n",
       "      <td>intestine</td>\n",
       "      <td>Rattus norvegicus (rat)</td>\n",
       "      <td>_</td>\n",
       "      <td>_</td>\n",
       "      <td>_</td>\n",
       "      <td>_</td>\n",
       "    </tr>\n",
       "    <tr>\n",
       "      <th>2</th>\n",
       "      <td>-9223365556180770043</td>\n",
       "      <td>7111680438658927661</td>\n",
       "      <td>REGULATION</td>\n",
       "      <td>_</td>\n",
       "      <td>_</td>\n",
       "      <td>1</td>\n",
       "      <td>-3121142714757276759</td>\n",
       "      <td>_</td>\n",
       "      <td>_</td>\n",
       "      <td>_</td>\n",
       "      <td>_</td>\n",
       "      <td>_</td>\n",
       "      <td>_</td>\n",
       "      <td>_</td>\n",
       "      <td>serum</td>\n",
       "      <td>_</td>\n",
       "      <td>_</td>\n",
       "    </tr>\n",
       "    <tr>\n",
       "      <th>3</th>\n",
       "      <td>-9223365466130767478</td>\n",
       "      <td>-8447327320654612427</td>\n",
       "      <td>REGULATION</td>\n",
       "      <td>_</td>\n",
       "      <td>_</td>\n",
       "      <td>9</td>\n",
       "      <td>-1646880163763186214</td>\n",
       "      <td>_</td>\n",
       "      <td>TOV-112D</td>\n",
       "      <td>B-cell, endothelial cell</td>\n",
       "      <td>_</td>\n",
       "      <td>peripheral nervous system, synovial membrane</td>\n",
       "      <td>_</td>\n",
       "      <td>_</td>\n",
       "      <td>_</td>\n",
       "      <td>_</td>\n",
       "      <td>_</td>\n",
       "    </tr>\n",
       "    <tr>\n",
       "      <th>4</th>\n",
       "      <td>-9223362118268724280</td>\n",
       "      <td>3670031740130349683</td>\n",
       "      <td>REGULATION</td>\n",
       "      <td>positive</td>\n",
       "      <td>_</td>\n",
       "      <td>1</td>\n",
       "      <td>-4650140568030604438</td>\n",
       "      <td>_</td>\n",
       "      <td>_</td>\n",
       "      <td>plasma cell</td>\n",
       "      <td>_</td>\n",
       "      <td>_</td>\n",
       "      <td>_</td>\n",
       "      <td>_</td>\n",
       "      <td>plasma</td>\n",
       "      <td>_</td>\n",
       "      <td>_</td>\n",
       "    </tr>\n",
       "  </tbody>\n",
       "</table>\n",
       "</div>"
      ],
      "text/plain": [
       "               msrc_id            :START_ID     type:TYPE    effect mechanism  \\\n",
       "0 -9223366135359139662  6434163658456377940  MOLSYNTHESIS         _         _   \n",
       "1 -9223365986387833915 -4129340824583713637    REGULATION         _         _   \n",
       "2 -9223365556180770043  7111680438658927661    REGULATION         _         _   \n",
       "3 -9223365466130767478 -8447327320654612427    REGULATION         _         _   \n",
       "4 -9223362118268724280  3670031740130349683    REGULATION  positive         _   \n",
       "\n",
       "   ref_count:int              :END_ID biomarkertype celllinename  \\\n",
       "0              3  4596447325930325903             _            _   \n",
       "1              1 -2983484129356197270             _            _   \n",
       "2              1 -3121142714757276759             _            _   \n",
       "3              9 -1646880163763186214             _     TOV-112D   \n",
       "4              1 -4650140568030604438             _            _   \n",
       "\n",
       "                   celltype changetype  \\\n",
       "0                         _          _   \n",
       "1                         _          _   \n",
       "2                         _          _   \n",
       "3  B-cell, endothelial cell          _   \n",
       "4               plasma cell          _   \n",
       "\n",
       "                                          organ                 organism  \\\n",
       "0                                             _                        _   \n",
       "1                                     intestine  Rattus norvegicus (rat)   \n",
       "2                                             _                        _   \n",
       "3  peripheral nervous system, synovial membrane                        _   \n",
       "4                                             _                        _   \n",
       "\n",
       "  quantitativetype  tissue nct_id phase  \n",
       "0                _       _      _     _  \n",
       "1                _       _      _     _  \n",
       "2                _   serum      _     _  \n",
       "3                _       _      _     _  \n",
       "4                _  plasma      _     _  "
      ]
     },
<<<<<<< HEAD
     "execution_count": 63,
=======
     "execution_count": 78,
>>>>>>> cleaned up file names
     "metadata": {},
     "output_type": "execute_result"
    }
   ],
   "source": [
    "df_concat=df_concat[cols]\n",
    "df_concat.head(5)"
   ]
  },
  {
   "cell_type": "code",
   "execution_count": 79,
   "metadata": {
    "Collapsed": "false",
    "execution": {
     "iopub.execute_input": "2024-04-09T18:12:07.120556Z",
     "iopub.status.busy": "2024-04-09T18:12:07.120287Z",
     "iopub.status.idle": "2024-04-09T18:18:50.437982Z",
     "shell.execute_reply": "2024-04-09T18:18:50.436828Z",
     "shell.execute_reply.started": "2024-04-09T18:12:07.120537Z"
    },
    "tags": []
   },
   "outputs": [
    {
     "name": "stdout",
     "output_type": "stream",
     "text": [
      "CPU times: user 2min 52s, sys: 10.2 s, total: 3min 2s\n",
      "Wall time: 6min 43s\n"
     ]
    }
   ],
   "source": [
    "%%time\n",
    "df_concat.to_csv('./data/processed/relations.txt', sep='|', index=False, header=True)"
   ]
  },
  {
   "cell_type": "code",
   "execution_count": 80,
   "metadata": {
    "Collapsed": "false",
    "execution": {
     "iopub.execute_input": "2024-04-09T18:20:26.435910Z",
     "iopub.status.busy": "2024-04-09T18:20:26.435093Z",
     "iopub.status.idle": "2024-04-09T18:20:26.479795Z",
     "shell.execute_reply": "2024-04-09T18:20:26.476585Z",
     "shell.execute_reply.started": "2024-04-09T18:20:26.435879Z"
    },
    "tags": []
   },
   "outputs": [
    {
     "data": {
      "text/plain": [
       "['msrc_id',\n",
       " ':START_ID',\n",
       " 'type:TYPE',\n",
       " 'effect',\n",
       " 'mechanism',\n",
       " 'ref_count:int',\n",
       " ':END_ID',\n",
       " 'biomarkertype',\n",
       " 'celllinename',\n",
       " 'celltype',\n",
       " 'changetype',\n",
       " 'organ',\n",
       " 'organism',\n",
       " 'quantitativetype',\n",
       " 'tissue',\n",
       " 'nct_id',\n",
       " 'phase']"
      ]
     },
     "execution_count": 80,
     "metadata": {},
     "output_type": "execute_result"
    }
   ],
   "source": [
    "# list of column names for header file\n",
    "cols=list(df_concat.columns)\n",
    "cols"
   ]
  },
  {
   "cell_type": "code",
   "execution_count": 81,
   "metadata": {
    "Collapsed": "false",
    "execution": {
     "iopub.execute_input": "2024-04-09T18:20:29.719798Z",
     "iopub.status.busy": "2024-04-09T18:20:29.719450Z",
     "iopub.status.idle": "2024-04-09T18:20:29.825337Z",
     "shell.execute_reply": "2024-04-09T18:20:29.823730Z",
     "shell.execute_reply.started": "2024-04-09T18:20:29.719776Z"
    },
    "tags": []
   },
   "outputs": [
    {
     "data": {
      "text/html": [
       "<div>\n",
       "<style scoped>\n",
       "    .dataframe tbody tr th:only-of-type {\n",
       "        vertical-align: middle;\n",
       "    }\n",
       "\n",
       "    .dataframe tbody tr th {\n",
       "        vertical-align: top;\n",
       "    }\n",
       "\n",
       "    .dataframe thead th {\n",
       "        text-align: right;\n",
       "    }\n",
       "</style>\n",
       "<table border=\"1\" class=\"dataframe\">\n",
       "  <thead>\n",
       "    <tr style=\"text-align: right;\">\n",
       "      <th></th>\n",
       "      <th>msrc_id</th>\n",
       "      <th>:START_ID</th>\n",
       "      <th>type:TYPE</th>\n",
       "      <th>effect</th>\n",
       "      <th>mechanism</th>\n",
       "      <th>ref_count:int</th>\n",
       "      <th>:END_ID</th>\n",
       "      <th>biomarkertype</th>\n",
       "      <th>celllinename</th>\n",
       "      <th>celltype</th>\n",
       "      <th>changetype</th>\n",
       "      <th>organ</th>\n",
       "      <th>organism</th>\n",
       "      <th>quantitativetype</th>\n",
       "      <th>tissue</th>\n",
       "      <th>nct_id</th>\n",
       "      <th>phase</th>\n",
       "    </tr>\n",
       "  </thead>\n",
       "  <tbody>\n",
       "  </tbody>\n",
       "</table>\n",
       "</div>"
      ],
      "text/plain": [
       "Empty DataFrame\n",
       "Columns: [msrc_id, :START_ID, type:TYPE, effect, mechanism, ref_count:int, :END_ID, biomarkertype, celllinename, celltype, changetype, organ, organism, quantitativetype, tissue, nct_id, phase]\n",
       "Index: []"
      ]
     },
     "execution_count": 81,
     "metadata": {},
     "output_type": "execute_result"
    }
   ],
   "source": [
    "# create headers file\n",
    "    df_rel_headers=pd.DataFrame(columns=cols)\n",
    "df_rel_headers\n",
    "df_rel_headers.to_csv('./data/processed/relations_header.txt', sep= '|', index=False)"
   ]
  },
  {
   "cell_type": "markdown",
   "metadata": {
    "Collapsed": "false"
   },
   "source": [
    "## Nodes"
   ]
  },
  {
   "cell_type": "code",
   "execution_count": 82,
   "metadata": {
    "Collapsed": "false",
    "execution": {
     "iopub.execute_input": "2024-04-09T18:20:44.967420Z",
     "iopub.status.busy": "2024-04-09T18:20:44.966996Z",
     "iopub.status.idle": "2024-04-09T18:20:44.999770Z",
     "shell.execute_reply": "2024-04-09T18:20:44.998267Z",
     "shell.execute_reply.started": "2024-04-09T18:20:44.967386Z"
    },
    "tags": []
   },
   "outputs": [],
   "source": [
    "# define query\n",
    "sql='select id, name, nodetype from resnet18.node where id is not null and name is not null and nodetype is not null'"
   ]
  },
  {
   "cell_type": "code",
   "execution_count": 83,
   "metadata": {
    "Collapsed": "false",
    "execution": {
     "iopub.execute_input": "2024-04-09T18:20:50.805444Z",
     "iopub.status.busy": "2024-04-09T18:20:50.804030Z",
     "iopub.status.idle": "2024-04-09T18:21:35.946846Z",
     "shell.execute_reply": "2024-04-09T18:21:35.945002Z",
     "shell.execute_reply.started": "2024-04-09T18:20:50.805386Z"
    },
    "tags": []
   },
   "outputs": [
    {
     "name": "stdout",
     "output_type": "stream",
     "text": [
      "CPU times: user 2.66 s, sys: 3.58 s, total: 6.23 s\n",
      "Wall time: 45.1 s\n"
     ]
    }
   ],
   "source": [
    "%%time\n",
    "\n",
    "# save query results to file\n",
    "with conn.cursor() as cur:\n",
    "    with open('./data/raw/nodes_.txt', 'w', encoding=\"utf-8\") as f:\n",
    "        cur.execute(sql)\n",
    "        csv_writer=csv.writer(f, delimiter='|')\n",
    "        for record in cur.fetchall():\n",
    "            line=\"|\".join(map(str, record))+'\\n'\n",
    "            \n",
    "            f.write(line)"
   ]
  },
  {
   "cell_type": "markdown",
   "metadata": {
    "Collapsed": "false"
   },
   "source": [
    "### Create Node files"
   ]
  },
  {
   "cell_type": "code",
   "execution_count": 84,
   "metadata": {
    "Collapsed": "false",
    "execution": {
     "iopub.execute_input": "2024-04-09T18:22:11.631687Z",
     "iopub.status.busy": "2024-04-09T18:22:11.631417Z",
     "iopub.status.idle": "2024-04-09T18:22:14.675979Z",
     "shell.execute_reply": "2024-04-09T18:22:14.674511Z",
     "shell.execute_reply.started": "2024-04-09T18:22:11.631668Z"
    },
    "tags": []
   },
   "outputs": [
    {
     "name": "stdout",
     "output_type": "stream",
     "text": [
      "<class 'pandas.core.frame.DataFrame'>\n",
      "RangeIndex: 1514236 entries, 0 to 1514235\n",
      "Data columns (total 3 columns):\n",
      " #   Column  Non-Null Count    Dtype \n",
      "---  ------  --------------    ----- \n",
      " 0   0       1514236 non-null  int64 \n",
      " 1   1       1514236 non-null  object\n",
      " 2   2       1514236 non-null  object\n",
      "dtypes: int64(1), object(2)\n",
      "memory usage: 34.7+ MB\n"
     ]
    },
    {
     "data": {
      "text/html": [
       "<div>\n",
       "<style scoped>\n",
       "    .dataframe tbody tr th:only-of-type {\n",
       "        vertical-align: middle;\n",
       "    }\n",
       "\n",
       "    .dataframe tbody tr th {\n",
       "        vertical-align: top;\n",
       "    }\n",
       "\n",
       "    .dataframe thead th {\n",
       "        text-align: right;\n",
       "    }\n",
       "</style>\n",
       "<table border=\"1\" class=\"dataframe\">\n",
       "  <thead>\n",
       "    <tr style=\"text-align: right;\">\n",
       "      <th></th>\n",
       "      <th>0</th>\n",
       "      <th>1</th>\n",
       "      <th>2</th>\n",
       "    </tr>\n",
       "  </thead>\n",
       "  <tbody>\n",
       "    <tr>\n",
       "      <th>0</th>\n",
       "      <td>1000020775393047472</td>\n",
       "      <td>r_LOC108352567</td>\n",
       "      <td>Protein</td>\n",
       "    </tr>\n",
       "    <tr>\n",
       "      <th>1</th>\n",
       "      <td>-1000022879358845591</td>\n",
       "      <td>Rx26449263</td>\n",
       "      <td>SmallMol</td>\n",
       "    </tr>\n",
       "    <tr>\n",
       "      <th>2</th>\n",
       "      <td>-1000024917554356200</td>\n",
       "      <td>GO: extracellular matrix of synaptic cleft</td>\n",
       "      <td>SemanticConcept</td>\n",
       "    </tr>\n",
       "    <tr>\n",
       "      <th>3</th>\n",
       "      <td>1000026386881640747</td>\n",
       "      <td>rs876660037</td>\n",
       "      <td>GeneticVariant</td>\n",
       "    </tr>\n",
       "    <tr>\n",
       "      <th>4</th>\n",
       "      <td>-1000028657865034959</td>\n",
       "      <td>m_Fbxw19</td>\n",
       "      <td>Protein</td>\n",
       "    </tr>\n",
       "  </tbody>\n",
       "</table>\n",
       "</div>"
      ],
      "text/plain": [
       "                     0                                           1  \\\n",
       "0  1000020775393047472                              r_LOC108352567   \n",
       "1 -1000022879358845591                                  Rx26449263   \n",
       "2 -1000024917554356200  GO: extracellular matrix of synaptic cleft   \n",
       "3  1000026386881640747                                 rs876660037   \n",
       "4 -1000028657865034959                                    m_Fbxw19   \n",
       "\n",
       "                 2  \n",
       "0          Protein  \n",
       "1         SmallMol  \n",
       "2  SemanticConcept  \n",
       "3   GeneticVariant  \n",
       "4          Protein  "
      ]
     },
     "execution_count": 84,
     "metadata": {},
     "output_type": "execute_result"
    }
   ],
   "source": [
    "df_node=pd.read_csv('./data/raw/nodes_.txt', delimiter='|', header=None, encoding='utf-8')\n",
    "df_node.info(); df_node.head()"
   ]
  },
  {
   "cell_type": "code",
   "execution_count": 85,
   "metadata": {
    "Collapsed": "false",
    "execution": {
     "iopub.execute_input": "2024-04-09T18:22:17.243718Z",
     "iopub.status.busy": "2024-04-09T18:22:17.243421Z",
     "iopub.status.idle": "2024-04-09T18:22:17.284801Z",
     "shell.execute_reply": "2024-04-09T18:22:17.282916Z",
     "shell.execute_reply.started": "2024-04-09T18:22:17.243696Z"
    },
    "tags": []
   },
   "outputs": [
    {
     "data": {
      "text/html": [
       "<div>\n",
       "<style scoped>\n",
       "    .dataframe tbody tr th:only-of-type {\n",
       "        vertical-align: middle;\n",
       "    }\n",
       "\n",
       "    .dataframe tbody tr th {\n",
       "        vertical-align: top;\n",
       "    }\n",
       "\n",
       "    .dataframe thead th {\n",
       "        text-align: right;\n",
       "    }\n",
       "</style>\n",
       "<table border=\"1\" class=\"dataframe\">\n",
       "  <thead>\n",
       "    <tr style=\"text-align: right;\">\n",
       "      <th></th>\n",
       "      <th>:ID</th>\n",
       "      <th>name</th>\n",
       "      <th>:LABEL</th>\n",
       "    </tr>\n",
       "  </thead>\n",
       "  <tbody>\n",
       "    <tr>\n",
       "      <th>0</th>\n",
       "      <td>1000020775393047472</td>\n",
       "      <td>r_LOC108352567</td>\n",
       "      <td>Protein</td>\n",
       "    </tr>\n",
       "    <tr>\n",
       "      <th>1</th>\n",
       "      <td>-1000022879358845591</td>\n",
       "      <td>Rx26449263</td>\n",
       "      <td>SmallMol</td>\n",
       "    </tr>\n",
       "    <tr>\n",
       "      <th>2</th>\n",
       "      <td>-1000024917554356200</td>\n",
       "      <td>GO: extracellular matrix of synaptic cleft</td>\n",
       "      <td>SemanticConcept</td>\n",
       "    </tr>\n",
       "    <tr>\n",
       "      <th>3</th>\n",
       "      <td>1000026386881640747</td>\n",
       "      <td>rs876660037</td>\n",
       "      <td>GeneticVariant</td>\n",
       "    </tr>\n",
       "    <tr>\n",
       "      <th>4</th>\n",
       "      <td>-1000028657865034959</td>\n",
       "      <td>m_Fbxw19</td>\n",
       "      <td>Protein</td>\n",
       "    </tr>\n",
       "  </tbody>\n",
       "</table>\n",
       "</div>"
      ],
      "text/plain": [
       "                   :ID                                        name  \\\n",
       "0  1000020775393047472                              r_LOC108352567   \n",
       "1 -1000022879358845591                                  Rx26449263   \n",
       "2 -1000024917554356200  GO: extracellular matrix of synaptic cleft   \n",
       "3  1000026386881640747                                 rs876660037   \n",
       "4 -1000028657865034959                                    m_Fbxw19   \n",
       "\n",
       "            :LABEL  \n",
       "0          Protein  \n",
       "1         SmallMol  \n",
       "2  SemanticConcept  \n",
       "3   GeneticVariant  \n",
       "4          Protein  "
      ]
     },
     "execution_count": 85,
     "metadata": {},
     "output_type": "execute_result"
    }
   ],
   "source": [
    "# create column headers\n",
    "df_node.columns=[':ID', 'name', ':LABEL']\n",
    "df_node.head()"
   ]
  },
  {
   "cell_type": "code",
   "execution_count": 86,
   "metadata": {
    "Collapsed": "false",
    "execution": {
     "iopub.execute_input": "2024-04-09T19:14:00.044482Z",
     "iopub.status.busy": "2024-04-09T19:14:00.044029Z",
     "iopub.status.idle": "2024-04-09T19:14:03.060809Z",
     "shell.execute_reply": "2024-04-09T19:14:03.059528Z",
     "shell.execute_reply.started": "2024-04-09T19:14:00.044453Z"
    },
    "tags": []
   },
   "outputs": [
    {
     "name": "stdout",
     "output_type": "stream",
     "text": [
      "<class 'pandas.core.frame.DataFrame'>\n",
      "RangeIndex: 1514236 entries, 0 to 1514235\n",
      "Data columns (total 3 columns):\n",
      " #   Column  Non-Null Count    Dtype \n",
      "---  ------  --------------    ----- \n",
      " 0   :ID     1514236 non-null  int64 \n",
      " 1   name    1514236 non-null  object\n",
      " 2   :LABEL  1514236 non-null  object\n",
      "dtypes: int64(1), object(2)\n",
      "memory usage: 34.7+ MB\n"
     ]
    },
    {
     "data": {
      "text/html": [
       "<div>\n",
       "<style scoped>\n",
       "    .dataframe tbody tr th:only-of-type {\n",
       "        vertical-align: middle;\n",
       "    }\n",
       "\n",
       "    .dataframe tbody tr th {\n",
       "        vertical-align: top;\n",
       "    }\n",
       "\n",
       "    .dataframe thead th {\n",
       "        text-align: right;\n",
       "    }\n",
       "</style>\n",
       "<table border=\"1\" class=\"dataframe\">\n",
       "  <thead>\n",
       "    <tr style=\"text-align: right;\">\n",
       "      <th></th>\n",
       "      <th>:ID</th>\n",
       "      <th>name</th>\n",
       "      <th>:LABEL</th>\n",
       "    </tr>\n",
       "  </thead>\n",
       "  <tbody>\n",
       "    <tr>\n",
       "      <th>0</th>\n",
       "      <td>1000020775393047472</td>\n",
       "      <td>r_LOC108352567</td>\n",
       "      <td>PROTEIN</td>\n",
       "    </tr>\n",
       "    <tr>\n",
       "      <th>1</th>\n",
       "      <td>-1000022879358845591</td>\n",
       "      <td>Rx26449263</td>\n",
       "      <td>SMALLMOL</td>\n",
       "    </tr>\n",
       "    <tr>\n",
       "      <th>2</th>\n",
       "      <td>-1000024917554356200</td>\n",
       "      <td>GO: extracellular matrix of synaptic cleft</td>\n",
       "      <td>SEMANTICCONCEPT</td>\n",
       "    </tr>\n",
       "    <tr>\n",
       "      <th>3</th>\n",
       "      <td>1000026386881640747</td>\n",
       "      <td>rs876660037</td>\n",
       "      <td>GENETICVARIANT</td>\n",
       "    </tr>\n",
       "    <tr>\n",
       "      <th>4</th>\n",
       "      <td>-1000028657865034959</td>\n",
       "      <td>m_Fbxw19</td>\n",
       "      <td>PROTEIN</td>\n",
       "    </tr>\n",
       "  </tbody>\n",
       "</table>\n",
       "</div>"
      ],
      "text/plain": [
       "                   :ID                                        name  \\\n",
       "0  1000020775393047472                              r_LOC108352567   \n",
       "1 -1000022879358845591                                  Rx26449263   \n",
       "2 -1000024917554356200  GO: extracellular matrix of synaptic cleft   \n",
       "3  1000026386881640747                                 rs876660037   \n",
       "4 -1000028657865034959                                    m_Fbxw19   \n",
       "\n",
       "            :LABEL  \n",
       "0          PROTEIN  \n",
       "1         SMALLMOL  \n",
       "2  SEMANTICCONCEPT  \n",
       "3   GENETICVARIANT  \n",
       "4          PROTEIN  "
      ]
     },
     "execution_count": 86,
     "metadata": {},
     "output_type": "execute_result"
    }
   ],
   "source": [
    "# df cleanup\n",
    "df_node[':LABEL']=df_node[':LABEL'].apply(lambda x: x.upper())\n",
    "df_node[':LABEL']=df_node[':LABEL'].apply(lambda x: x.strip())\n",
    "df_node['name']=df_node['name'].apply(lambda x: x.strip())\n",
    "df_node[':ID']=df_node[':ID'].apply(lambda x: str(x).strip())  #convert to string and strip()\n",
    "df_node[':ID']=df_node[':ID'].astype('int64')   # convert back to int\n",
    "df_node.info(); df_node.head()"
   ]
  },
  {
   "cell_type": "code",
   "execution_count": 87,
   "metadata": {
    "Collapsed": "false",
    "execution": {
     "iopub.execute_input": "2024-04-09T19:14:07.194399Z",
     "iopub.status.busy": "2024-04-09T19:14:07.193892Z",
     "iopub.status.idle": "2024-04-09T19:14:07.695009Z",
     "shell.execute_reply": "2024-04-09T19:14:07.693831Z",
     "shell.execute_reply.started": "2024-04-09T19:14:07.194377Z"
    },
    "tags": []
   },
   "outputs": [],
   "source": [
    "# check for name strings that are too long\n",
    "df_node['name_len']=df_node['name'].apply(lambda x: len(x))"
   ]
  },
  {
   "cell_type": "code",
   "execution_count": 88,
   "metadata": {
    "Collapsed": "false",
    "execution": {
     "iopub.execute_input": "2024-04-09T19:14:09.727297Z",
     "iopub.status.busy": "2024-04-09T19:14:09.726987Z",
     "iopub.status.idle": "2024-04-09T19:14:10.286137Z",
     "shell.execute_reply": "2024-04-09T19:14:10.285265Z",
     "shell.execute_reply.started": "2024-04-09T19:14:09.727274Z"
    },
    "tags": []
   },
   "outputs": [
    {
     "data": {
      "text/html": [
       "<div>\n",
       "<style scoped>\n",
       "    .dataframe tbody tr th:only-of-type {\n",
       "        vertical-align: middle;\n",
       "    }\n",
       "\n",
       "    .dataframe tbody tr th {\n",
       "        vertical-align: top;\n",
       "    }\n",
       "\n",
       "    .dataframe thead th {\n",
       "        text-align: right;\n",
       "    }\n",
       "</style>\n",
       "<table border=\"1\" class=\"dataframe\">\n",
       "  <thead>\n",
       "    <tr style=\"text-align: right;\">\n",
       "      <th></th>\n",
       "      <th>:ID</th>\n",
       "      <th>name</th>\n",
       "      <th>:LABEL</th>\n",
       "      <th>name_len</th>\n",
       "    </tr>\n",
       "  </thead>\n",
       "  <tbody>\n",
       "    <tr>\n",
       "      <th>1140507</th>\n",
       "      <td>-7235442027224814239</td>\n",
       "      <td>1-(4-(4-(6-fluorobenzoisoxazol-3-yl)piperidin-...</td>\n",
       "      <td>SMALLMOL</td>\n",
       "      <td>286046</td>\n",
       "    </tr>\n",
       "    <tr>\n",
       "      <th>618191</th>\n",
       "      <td>-4382490639255431495</td>\n",
       "      <td>D-Glucose, O-4,6-dideoxy-4-((4-(alpha-D-glucop...</td>\n",
       "      <td>SMALLMOL</td>\n",
       "      <td>254</td>\n",
       "    </tr>\n",
       "    <tr>\n",
       "      <th>7990</th>\n",
       "      <td>1043483757283375332</td>\n",
       "      <td>2,4a-Dihydroxy-1-methyl-8-methylenegibb-3-ene-...</td>\n",
       "      <td>SMALLMOL</td>\n",
       "      <td>248</td>\n",
       "    </tr>\n",
       "    <tr>\n",
       "      <th>1266038</th>\n",
       "      <td>7946627188054156171</td>\n",
       "      <td>Cholan-24-oic acid, 3,7,12-trioxo-, (5beta)-, ...</td>\n",
       "      <td>SMALLMOL</td>\n",
       "      <td>243</td>\n",
       "    </tr>\n",
       "    <tr>\n",
       "      <th>388178</th>\n",
       "      <td>-3119824026281474218</td>\n",
       "      <td>1,3,5-Triazine-2,4,6-triamine, N,N'''-1,2-etha...</td>\n",
       "      <td>SMALLMOL</td>\n",
       "      <td>216</td>\n",
       "    </tr>\n",
       "    <tr>\n",
       "      <th>...</th>\n",
       "      <td>...</td>\n",
       "      <td>...</td>\n",
       "      <td>...</td>\n",
       "      <td>...</td>\n",
       "    </tr>\n",
       "    <tr>\n",
       "      <th>639654</th>\n",
       "      <td>4499394967403211944</td>\n",
       "      <td>SK</td>\n",
       "      <td>CELLTYPE</td>\n",
       "      <td>2</td>\n",
       "    </tr>\n",
       "    <tr>\n",
       "      <th>1253989</th>\n",
       "      <td>-7880660184182268733</td>\n",
       "      <td>P1</td>\n",
       "      <td>SMALLMOL</td>\n",
       "      <td>2</td>\n",
       "    </tr>\n",
       "    <tr>\n",
       "      <th>445725</th>\n",
       "      <td>-3437747827402286845</td>\n",
       "      <td>\\</td>\n",
       "      <td>SMALLMOL</td>\n",
       "      <td>1</td>\n",
       "    </tr>\n",
       "    <tr>\n",
       "      <th>1447762</th>\n",
       "      <td>-8939843474765356553</td>\n",
       "      <td>K</td>\n",
       "      <td>SMALLMOL</td>\n",
       "      <td>1</td>\n",
       "    </tr>\n",
       "    <tr>\n",
       "      <th>1118665</th>\n",
       "      <td>-7115660023470151832</td>\n",
       "      <td>c</td>\n",
       "      <td>SMALLMOL</td>\n",
       "      <td>1</td>\n",
       "    </tr>\n",
       "  </tbody>\n",
       "</table>\n",
       "<p>1514236 rows × 4 columns</p>\n",
       "</div>"
      ],
      "text/plain": [
       "                         :ID  \\\n",
       "1140507 -7235442027224814239   \n",
       "618191  -4382490639255431495   \n",
       "7990     1043483757283375332   \n",
       "1266038  7946627188054156171   \n",
       "388178  -3119824026281474218   \n",
       "...                      ...   \n",
       "639654   4499394967403211944   \n",
       "1253989 -7880660184182268733   \n",
       "445725  -3437747827402286845   \n",
       "1447762 -8939843474765356553   \n",
       "1118665 -7115660023470151832   \n",
       "\n",
       "                                                      name    :LABEL  name_len  \n",
       "1140507  1-(4-(4-(6-fluorobenzoisoxazol-3-yl)piperidin-...  SMALLMOL    286046  \n",
       "618191   D-Glucose, O-4,6-dideoxy-4-((4-(alpha-D-glucop...  SMALLMOL       254  \n",
       "7990     2,4a-Dihydroxy-1-methyl-8-methylenegibb-3-ene-...  SMALLMOL       248  \n",
       "1266038  Cholan-24-oic acid, 3,7,12-trioxo-, (5beta)-, ...  SMALLMOL       243  \n",
       "388178   1,3,5-Triazine-2,4,6-triamine, N,N'''-1,2-etha...  SMALLMOL       216  \n",
       "...                                                    ...       ...       ...  \n",
       "639654                                                  SK  CELLTYPE         2  \n",
       "1253989                                                 P1  SMALLMOL         2  \n",
       "445725                                                   \\  SMALLMOL         1  \n",
       "1447762                                                  K  SMALLMOL         1  \n",
       "1118665                                                  c  SMALLMOL         1  \n",
       "\n",
       "[1514236 rows x 4 columns]"
      ]
     },
     "execution_count": 88,
     "metadata": {},
     "output_type": "execute_result"
    }
   ],
   "source": [
    "df_node.sort_values(by='name_len', ascending=False)"
   ]
  },
  {
   "cell_type": "code",
   "execution_count": 89,
   "metadata": {
    "Collapsed": "false",
    "execution": {
     "iopub.execute_input": "2024-04-09T19:14:52.673799Z",
     "iopub.status.busy": "2024-04-09T19:14:52.673459Z",
     "iopub.status.idle": "2024-04-09T19:14:53.079331Z",
     "shell.execute_reply": "2024-04-09T19:14:53.077973Z",
     "shell.execute_reply.started": "2024-04-09T19:14:52.673775Z"
    },
    "tags": []
   },
   "outputs": [
    {
     "data": {
      "text/plain": [
       "1140507"
      ]
     },
     "execution_count": 89,
     "metadata": {},
     "output_type": "execute_result"
    },
    {
     "name": "stdout",
     "output_type": "stream",
     "text": [
      "<class 'pandas.core.frame.DataFrame'>\n",
      "RangeIndex: 1 entries, 0 to 0\n",
      "Data columns (total 2 columns):\n",
      " #   Column  Non-Null Count  Dtype \n",
      "---  ------  --------------  ----- \n",
      " 0   index   1 non-null      int64 \n",
      " 1   name    1 non-null      object\n",
      "dtypes: int64(1), object(1)\n",
      "memory usage: 144.0+ bytes\n"
     ]
    },
    {
     "data": {
      "text/html": [
       "<div>\n",
       "<style scoped>\n",
       "    .dataframe tbody tr th:only-of-type {\n",
       "        vertical-align: middle;\n",
       "    }\n",
       "\n",
       "    .dataframe tbody tr th {\n",
       "        vertical-align: top;\n",
       "    }\n",
       "\n",
       "    .dataframe thead th {\n",
       "        text-align: right;\n",
       "    }\n",
       "</style>\n",
       "<table border=\"1\" class=\"dataframe\">\n",
       "  <thead>\n",
       "    <tr style=\"text-align: right;\">\n",
       "      <th></th>\n",
       "      <th>index</th>\n",
       "      <th>name</th>\n",
       "    </tr>\n",
       "  </thead>\n",
       "  <tbody>\n",
       "    <tr>\n",
       "      <th>0</th>\n",
       "      <td>1140507</td>\n",
       "      <td>1-(4-(4-(6-fluorobenzoisoxazol-3-yl)piperidin-...</td>\n",
       "    </tr>\n",
       "  </tbody>\n",
       "</table>\n",
       "</div>"
      ],
      "text/plain": [
       "     index                                               name\n",
       "0  1140507  1-(4-(4-(6-fluorobenzoisoxazol-3-yl)piperidin-..."
      ]
     },
     "execution_count": 89,
     "metadata": {},
     "output_type": "execute_result"
    },
    {
     "data": {
      "text/plain": [
       "286046"
      ]
     },
     "execution_count": 89,
     "metadata": {},
     "output_type": "execute_result"
    }
   ],
   "source": [
    "# Does not seem to be an issue when preprocessing in a Linux environment\n",
    "# Issue is leading quote with no ending quote in sql db for id -7235442027224814239 above\n",
    "# the following is a temp fix unitil resolved in sql db\n",
    "# process long name field\n",
    "\n",
    "x=df_node[df_node[':ID']==-7235442027224814239]['name']\n",
    "long_index=df_node[df_node[':ID']==-7235442027224814239].index[0] #capture index to delete later\n",
    "long_index\n",
    "x=x.to_frame().reset_index()\n",
    "x.info(); x.head()\n",
    "y=x.loc[0,'name']\n",
    "len(y)"
   ]
  },
  {
   "cell_type": "code",
   "execution_count": 91,
   "metadata": {
    "Collapsed": "false",
    "execution": {
     "iopub.execute_input": "2024-04-09T19:15:11.512876Z",
     "iopub.status.busy": "2024-04-09T19:15:11.512262Z",
     "iopub.status.idle": "2024-04-09T19:15:11.554779Z",
     "shell.execute_reply": "2024-04-09T19:15:11.552950Z",
     "shell.execute_reply.started": "2024-04-09T19:15:11.512837Z"
    },
    "scrolled": true,
    "tags": []
   },
   "outputs": [
    {
     "data": {
      "text/plain": [
       "['1-(4-(4-(6-fluorobenzoisoxazol-3-yl)piperidin-1-yl)butyl)-4-(4-fluorophenyl)piperidine-2,6-dione|SmallMol',\n",
       " '7235446264322303181|Rx25148080|SmallMol',\n",
       " '7235446778373378569|6-chloro-2-fluoropurine|SmallMol',\n",
       " '-7235449901734945744|2,2,7-trimethyl-4H-1,4-benzoxazin-3-one|SmallMol',\n",
       " '-7235456322816637391|N-(p-Tolyl)-p-toluenesulphonamide|SmallMol']"
      ]
     },
     "execution_count": 91,
     "metadata": {},
     "output_type": "execute_result"
    },
    {
     "data": {
      "text/plain": [
       "['-7235442027224814239|1-(4-(4-(6-fluorobenzoisoxazol-3-yl)piperidin-1-yl)butyl)-4-(4-fluorophenyl)piperidine-2,6-dione|SmallMol',\n",
       " '7235446264322303181|Rx25148080|SmallMol',\n",
       " '7235446778373378569|6-chloro-2-fluoropurine|SmallMol',\n",
       " '-7235449901734945744|2,2,7-trimethyl-4H-1,4-benzoxazin-3-one|SmallMol',\n",
       " '-7235456322816637391|N-(p-Tolyl)-p-toluenesulphonamide|SmallMol']"
      ]
     },
     "execution_count": 91,
     "metadata": {},
     "output_type": "execute_result"
    }
   ],
   "source": [
    "# parse bad field\n",
    "lst=y.split('\\r\\n')\n",
    "lst=y.split('\\n') # use this if above fails\n",
    "\n",
    "lst[:5]\n",
    "lst[0]='-7235442027224814239|' + lst[0]\n",
    "lst[:5]"
   ]
  },
  {
   "cell_type": "code",
   "execution_count": 92,
   "metadata": {
    "Collapsed": "false",
    "execution": {
     "iopub.execute_input": "2024-04-09T19:15:17.123881Z",
     "iopub.status.busy": "2024-04-09T19:15:17.123377Z",
     "iopub.status.idle": "2024-04-09T19:15:17.186380Z",
     "shell.execute_reply": "2024-04-09T19:15:17.184511Z",
     "shell.execute_reply.started": "2024-04-09T19:15:17.123852Z"
    },
    "tags": []
   },
   "outputs": [],
   "source": [
    "# create list of lists from long name field\n",
    "new_list=[]\n",
    "for i in range(len(lst)):\n",
    "    z=lst[i].split('|')\n",
    "    new_list.append(z)\n",
    "    "
   ]
  },
  {
   "cell_type": "code",
   "execution_count": 93,
   "metadata": {
    "Collapsed": "false",
    "execution": {
     "iopub.execute_input": "2024-04-09T19:15:18.748098Z",
     "iopub.status.busy": "2024-04-09T19:15:18.747800Z",
     "iopub.status.idle": "2024-04-09T19:15:18.794223Z",
     "shell.execute_reply": "2024-04-09T19:15:18.790968Z",
     "shell.execute_reply.started": "2024-04-09T19:15:18.748077Z"
    },
    "tags": []
   },
   "outputs": [
    {
     "data": {
      "text/plain": [
       "3989"
      ]
     },
     "execution_count": 93,
     "metadata": {},
     "output_type": "execute_result"
    },
    {
     "data": {
      "text/plain": [
       "[['-7235442027224814239',\n",
       "  '1-(4-(4-(6-fluorobenzoisoxazol-3-yl)piperidin-1-yl)butyl)-4-(4-fluorophenyl)piperidine-2,6-dione',\n",
       "  'SmallMol'],\n",
       " ['7235446264322303181', 'Rx25148080', 'SmallMol'],\n",
       " ['7235446778373378569', '6-chloro-2-fluoropurine', 'SmallMol'],\n",
       " ['-7235449901734945744',\n",
       "  '2,2,7-trimethyl-4H-1,4-benzoxazin-3-one',\n",
       "  'SmallMol'],\n",
       " ['-7235456322816637391', 'N-(p-Tolyl)-p-toluenesulphonamide', 'SmallMol']]"
      ]
     },
     "execution_count": 93,
     "metadata": {},
     "output_type": "execute_result"
    }
   ],
   "source": [
    "len(new_list)\n",
    "new_list[:5]"
   ]
  },
  {
   "cell_type": "code",
   "execution_count": 94,
   "metadata": {
    "Collapsed": "false",
    "execution": {
     "iopub.execute_input": "2024-04-09T19:15:28.112893Z",
     "iopub.status.busy": "2024-04-09T19:15:28.112121Z",
     "iopub.status.idle": "2024-04-09T19:15:28.176541Z",
     "shell.execute_reply": "2024-04-09T19:15:28.173791Z",
     "shell.execute_reply.started": "2024-04-09T19:15:28.112869Z"
    },
    "tags": []
   },
   "outputs": [
    {
     "name": "stdout",
     "output_type": "stream",
     "text": [
      "<class 'pandas.core.frame.DataFrame'>\n",
      "RangeIndex: 3989 entries, 0 to 3988\n",
      "Data columns (total 3 columns):\n",
      " #   Column  Non-Null Count  Dtype \n",
      "---  ------  --------------  ----- \n",
      " 0   :ID     3989 non-null   object\n",
      " 1   name    3989 non-null   object\n",
      " 2   :LABEL  3988 non-null   object\n",
      "dtypes: object(3)\n",
      "memory usage: 93.6+ KB\n"
     ]
    },
    {
     "data": {
      "text/html": [
       "<div>\n",
       "<style scoped>\n",
       "    .dataframe tbody tr th:only-of-type {\n",
       "        vertical-align: middle;\n",
       "    }\n",
       "\n",
       "    .dataframe tbody tr th {\n",
       "        vertical-align: top;\n",
       "    }\n",
       "\n",
       "    .dataframe thead th {\n",
       "        text-align: right;\n",
       "    }\n",
       "</style>\n",
       "<table border=\"1\" class=\"dataframe\">\n",
       "  <thead>\n",
       "    <tr style=\"text-align: right;\">\n",
       "      <th></th>\n",
       "      <th>:ID</th>\n",
       "      <th>name</th>\n",
       "      <th>:LABEL</th>\n",
       "    </tr>\n",
       "  </thead>\n",
       "  <tbody>\n",
       "    <tr>\n",
       "      <th>0</th>\n",
       "      <td>-7235442027224814239</td>\n",
       "      <td>1-(4-(4-(6-fluorobenzoisoxazol-3-yl)piperidin-...</td>\n",
       "      <td>SmallMol</td>\n",
       "    </tr>\n",
       "    <tr>\n",
       "      <th>1</th>\n",
       "      <td>7235446264322303181</td>\n",
       "      <td>Rx25148080</td>\n",
       "      <td>SmallMol</td>\n",
       "    </tr>\n",
       "    <tr>\n",
       "      <th>2</th>\n",
       "      <td>7235446778373378569</td>\n",
       "      <td>6-chloro-2-fluoropurine</td>\n",
       "      <td>SmallMol</td>\n",
       "    </tr>\n",
       "    <tr>\n",
       "      <th>3</th>\n",
       "      <td>-7235449901734945744</td>\n",
       "      <td>2,2,7-trimethyl-4H-1,4-benzoxazin-3-one</td>\n",
       "      <td>SmallMol</td>\n",
       "    </tr>\n",
       "    <tr>\n",
       "      <th>4</th>\n",
       "      <td>-7235456322816637391</td>\n",
       "      <td>N-(p-Tolyl)-p-toluenesulphonamide</td>\n",
       "      <td>SmallMol</td>\n",
       "    </tr>\n",
       "  </tbody>\n",
       "</table>\n",
       "</div>"
      ],
      "text/plain": [
       "                    :ID                                               name  \\\n",
       "0  -7235442027224814239  1-(4-(4-(6-fluorobenzoisoxazol-3-yl)piperidin-...   \n",
       "1   7235446264322303181                                         Rx25148080   \n",
       "2   7235446778373378569                            6-chloro-2-fluoropurine   \n",
       "3  -7235449901734945744            2,2,7-trimethyl-4H-1,4-benzoxazin-3-one   \n",
       "4  -7235456322816637391                  N-(p-Tolyl)-p-toluenesulphonamide   \n",
       "\n",
       "     :LABEL  \n",
       "0  SmallMol  \n",
       "1  SmallMol  \n",
       "2  SmallMol  \n",
       "3  SmallMol  \n",
       "4  SmallMol  "
      ]
     },
     "execution_count": 94,
     "metadata": {},
     "output_type": "execute_result"
    }
   ],
   "source": [
    "# create df from list of lists\n",
    "df_temp=pd.DataFrame(new_list, columns=[':ID', 'name', ':LABEL'])\n",
    "df_temp.info(); df_temp.head()"
   ]
  },
  {
   "cell_type": "code",
   "execution_count": 95,
   "metadata": {
    "Collapsed": "false",
    "execution": {
     "iopub.execute_input": "2024-04-09T19:15:36.013085Z",
     "iopub.status.busy": "2024-04-09T19:15:36.012535Z",
     "iopub.status.idle": "2024-04-09T19:15:36.110019Z",
     "shell.execute_reply": "2024-04-09T19:15:36.106009Z",
     "shell.execute_reply.started": "2024-04-09T19:15:36.013044Z"
    },
    "tags": []
   },
   "outputs": [
    {
     "name": "stdout",
     "output_type": "stream",
     "text": [
      "<class 'pandas.core.frame.DataFrame'>\n",
      "Int64Index: 3988 entries, 0 to 3987\n",
      "Data columns (total 3 columns):\n",
      " #   Column  Non-Null Count  Dtype \n",
      "---  ------  --------------  ----- \n",
      " 0   :ID     3988 non-null   object\n",
      " 1   name    3988 non-null   object\n",
      " 2   :LABEL  3988 non-null   object\n",
      "dtypes: object(3)\n",
      "memory usage: 124.6+ KB\n"
     ]
    }
   ],
   "source": [
    "df_temp.dropna(inplace=True)\n",
    "df_temp.info()"
   ]
  },
  {
   "cell_type": "code",
   "execution_count": 96,
   "metadata": {
    "Collapsed": "false",
    "execution": {
     "iopub.execute_input": "2024-04-09T19:15:42.683025Z",
     "iopub.status.busy": "2024-04-09T19:15:42.682561Z",
     "iopub.status.idle": "2024-04-09T19:15:42.744963Z",
     "shell.execute_reply": "2024-04-09T19:15:42.735853Z",
     "shell.execute_reply.started": "2024-04-09T19:15:42.682988Z"
    },
    "tags": []
   },
   "outputs": [
    {
     "data": {
      "text/html": [
       "<div>\n",
       "<style scoped>\n",
       "    .dataframe tbody tr th:only-of-type {\n",
       "        vertical-align: middle;\n",
       "    }\n",
       "\n",
       "    .dataframe tbody tr th {\n",
       "        vertical-align: top;\n",
       "    }\n",
       "\n",
       "    .dataframe thead th {\n",
       "        text-align: right;\n",
       "    }\n",
       "</style>\n",
       "<table border=\"1\" class=\"dataframe\">\n",
       "  <thead>\n",
       "    <tr style=\"text-align: right;\">\n",
       "      <th></th>\n",
       "      <th>:ID</th>\n",
       "      <th>name</th>\n",
       "      <th>:LABEL</th>\n",
       "    </tr>\n",
       "  </thead>\n",
       "  <tbody>\n",
       "    <tr>\n",
       "      <th>0</th>\n",
       "      <td>-7235442027224814239</td>\n",
       "      <td>1-(4-(4-(6-fluorobenzoisoxazol-3-yl)piperidin-...</td>\n",
       "      <td>SMALLMOL</td>\n",
       "    </tr>\n",
       "    <tr>\n",
       "      <th>1</th>\n",
       "      <td>7235446264322303181</td>\n",
       "      <td>Rx25148080</td>\n",
       "      <td>SMALLMOL</td>\n",
       "    </tr>\n",
       "    <tr>\n",
       "      <th>2</th>\n",
       "      <td>7235446778373378569</td>\n",
       "      <td>6-chloro-2-fluoropurine</td>\n",
       "      <td>SMALLMOL</td>\n",
       "    </tr>\n",
       "    <tr>\n",
       "      <th>3</th>\n",
       "      <td>-7235449901734945744</td>\n",
       "      <td>2,2,7-trimethyl-4H-1,4-benzoxazin-3-one</td>\n",
       "      <td>SMALLMOL</td>\n",
       "    </tr>\n",
       "    <tr>\n",
       "      <th>4</th>\n",
       "      <td>-7235456322816637391</td>\n",
       "      <td>N-(p-Tolyl)-p-toluenesulphonamide</td>\n",
       "      <td>SMALLMOL</td>\n",
       "    </tr>\n",
       "  </tbody>\n",
       "</table>\n",
       "</div>"
      ],
      "text/plain": [
       "                    :ID                                               name  \\\n",
       "0  -7235442027224814239  1-(4-(4-(6-fluorobenzoisoxazol-3-yl)piperidin-...   \n",
       "1   7235446264322303181                                         Rx25148080   \n",
       "2   7235446778373378569                            6-chloro-2-fluoropurine   \n",
       "3  -7235449901734945744            2,2,7-trimethyl-4H-1,4-benzoxazin-3-one   \n",
       "4  -7235456322816637391                  N-(p-Tolyl)-p-toluenesulphonamide   \n",
       "\n",
       "     :LABEL  \n",
       "0  SMALLMOL  \n",
       "1  SMALLMOL  \n",
       "2  SMALLMOL  \n",
       "3  SMALLMOL  \n",
       "4  SMALLMOL  "
      ]
     },
     "execution_count": 96,
     "metadata": {},
     "output_type": "execute_result"
    }
   ],
   "source": [
    "df_temp[':LABEL']=df_temp[':LABEL'].apply(lambda x: x.upper())\n",
    "df_temp.head()"
   ]
  },
  {
   "cell_type": "code",
   "execution_count": 97,
   "metadata": {
    "Collapsed": "false",
    "execution": {
     "iopub.execute_input": "2024-04-09T19:16:29.062262Z",
     "iopub.status.busy": "2024-04-09T19:16:29.061992Z",
     "iopub.status.idle": "2024-04-09T19:16:30.034517Z",
     "shell.execute_reply": "2024-04-09T19:16:30.033342Z",
     "shell.execute_reply.started": "2024-04-09T19:16:29.062242Z"
    },
    "tags": []
   },
   "outputs": [
    {
     "name": "stdout",
     "output_type": "stream",
     "text": [
      "<class 'pandas.core.frame.DataFrame'>\n",
      "RangeIndex: 1518223 entries, 0 to 1518222\n",
      "Data columns (total 3 columns):\n",
      " #   Column  Non-Null Count    Dtype \n",
      "---  ------  --------------    ----- \n",
      " 0   :ID     1518223 non-null  object\n",
      " 1   name    1518223 non-null  object\n",
      " 2   :LABEL  1518223 non-null  object\n",
      "dtypes: object(3)\n",
      "memory usage: 34.7+ MB\n"
     ]
    },
    {
     "data": {
      "text/html": [
       "<div>\n",
       "<style scoped>\n",
       "    .dataframe tbody tr th:only-of-type {\n",
       "        vertical-align: middle;\n",
       "    }\n",
       "\n",
       "    .dataframe tbody tr th {\n",
       "        vertical-align: top;\n",
       "    }\n",
       "\n",
       "    .dataframe thead th {\n",
       "        text-align: right;\n",
       "    }\n",
       "</style>\n",
       "<table border=\"1\" class=\"dataframe\">\n",
       "  <thead>\n",
       "    <tr style=\"text-align: right;\">\n",
       "      <th></th>\n",
       "      <th>:ID</th>\n",
       "      <th>name</th>\n",
       "      <th>:LABEL</th>\n",
       "    </tr>\n",
       "  </thead>\n",
       "  <tbody>\n",
       "    <tr>\n",
       "      <th>0</th>\n",
       "      <td>1000020775393047472</td>\n",
       "      <td>r_LOC108352567</td>\n",
       "      <td>PROTEIN</td>\n",
       "    </tr>\n",
       "    <tr>\n",
       "      <th>1</th>\n",
       "      <td>-1000022879358845591</td>\n",
       "      <td>Rx26449263</td>\n",
       "      <td>SMALLMOL</td>\n",
       "    </tr>\n",
       "    <tr>\n",
       "      <th>2</th>\n",
       "      <td>-1000024917554356200</td>\n",
       "      <td>GO: extracellular matrix of synaptic cleft</td>\n",
       "      <td>SEMANTICCONCEPT</td>\n",
       "    </tr>\n",
       "    <tr>\n",
       "      <th>3</th>\n",
       "      <td>1000026386881640747</td>\n",
       "      <td>rs876660037</td>\n",
       "      <td>GENETICVARIANT</td>\n",
       "    </tr>\n",
       "    <tr>\n",
       "      <th>4</th>\n",
       "      <td>-1000028657865034959</td>\n",
       "      <td>m_Fbxw19</td>\n",
       "      <td>PROTEIN</td>\n",
       "    </tr>\n",
       "  </tbody>\n",
       "</table>\n",
       "</div>"
      ],
      "text/plain": [
       "                    :ID                                        name  \\\n",
       "0   1000020775393047472                              r_LOC108352567   \n",
       "1  -1000022879358845591                                  Rx26449263   \n",
       "2  -1000024917554356200  GO: extracellular matrix of synaptic cleft   \n",
       "3   1000026386881640747                                 rs876660037   \n",
       "4  -1000028657865034959                                    m_Fbxw19   \n",
       "\n",
       "            :LABEL  \n",
       "0          PROTEIN  \n",
       "1         SMALLMOL  \n",
       "2  SEMANTICCONCEPT  \n",
       "3   GENETICVARIANT  \n",
       "4          PROTEIN  "
      ]
     },
     "execution_count": 97,
     "metadata": {},
     "output_type": "execute_result"
    }
   ],
   "source": [
    "# combine dfs\n",
    "df_node.drop(int(f'{long_index}'), inplace = True) #drop row with long name field\n",
    "df_node.drop(columns=['name_len'], inplace=True)\n",
    "\n",
    "df_node_new=pd.concat([df_node, df_temp])\n",
    "df_node_new.reset_index(inplace=True, drop=True)\n",
    "df_node_new.info(); df_node_new.head()"
   ]
  },
  {
   "cell_type": "code",
   "execution_count": 98,
   "metadata": {
    "Collapsed": "false",
    "execution": {
     "iopub.execute_input": "2024-04-09T19:16:38.047963Z",
     "iopub.status.busy": "2024-04-09T19:16:38.047654Z",
     "iopub.status.idle": "2024-04-09T19:16:39.535989Z",
     "shell.execute_reply": "2024-04-09T19:16:39.535225Z",
     "shell.execute_reply.started": "2024-04-09T19:16:38.047942Z"
    },
    "tags": []
   },
   "outputs": [
    {
     "data": {
      "text/html": [
       "<div>\n",
       "<style scoped>\n",
       "    .dataframe tbody tr th:only-of-type {\n",
       "        vertical-align: middle;\n",
       "    }\n",
       "\n",
       "    .dataframe tbody tr th {\n",
       "        vertical-align: top;\n",
       "    }\n",
       "\n",
       "    .dataframe thead th {\n",
       "        text-align: right;\n",
       "    }\n",
       "</style>\n",
       "<table border=\"1\" class=\"dataframe\">\n",
       "  <thead>\n",
       "    <tr style=\"text-align: right;\">\n",
       "      <th></th>\n",
       "      <th>:ID</th>\n",
       "      <th>name</th>\n",
       "      <th>:LABEL</th>\n",
       "    </tr>\n",
       "  </thead>\n",
       "  <tbody>\n",
       "    <tr>\n",
       "      <th>96</th>\n",
       "      <td>-1000445907920769387</td>\n",
       "      <td>Ac-FRPX(Hle; D)F(3-Cl)F-NH2</td>\n",
       "      <td>SMALLMOL</td>\n",
       "    </tr>\n",
       "    <tr>\n",
       "      <th>106</th>\n",
       "      <td>1000511471434219628</td>\n",
       "      <td>(S)-3-chloro-4-(N-(3-fluoropropyl)pyrrolidin-3...</td>\n",
       "      <td>SMALLMOL</td>\n",
       "    </tr>\n",
       "    <tr>\n",
       "      <th>1065</th>\n",
       "      <td>10055389442503362</td>\n",
       "      <td>Carbamoyl-C(D;bridge C11)KFFW(D)F(4-(Isopropyl...</td>\n",
       "      <td>SMALLMOL</td>\n",
       "    </tr>\n",
       "    <tr>\n",
       "      <th>1330</th>\n",
       "      <td>-1006961062563094732</td>\n",
       "      <td>Ac-ED(lactam K7)HX(2-Nal; D)RWK-NH2</td>\n",
       "      <td>SMALLMOL</td>\n",
       "    </tr>\n",
       "    <tr>\n",
       "      <th>1539</th>\n",
       "      <td>1008036727165805856</td>\n",
       "      <td>X(Iqc; D)C(bridge X7)YW(D)RTX(Pen)T-NH2</td>\n",
       "      <td>SMALLMOL</td>\n",
       "    </tr>\n",
       "    <tr>\n",
       "      <th>...</th>\n",
       "      <td>...</td>\n",
       "      <td>...</td>\n",
       "      <td>...</td>\n",
       "    </tr>\n",
       "    <tr>\n",
       "      <th>1517124</th>\n",
       "      <td>7251653840688617755</td>\n",
       "      <td>X(Inp)F(D;4-(Chloro))X(2-Nal;D)F-Amino</td>\n",
       "      <td>SMALLMOL</td>\n",
       "    </tr>\n",
       "    <tr>\n",
       "      <th>1517453</th>\n",
       "      <td>-7253500055656412392</td>\n",
       "      <td>m_T(3;10)61H (Gene ID 21159)</td>\n",
       "      <td>PROTEIN</td>\n",
       "    </tr>\n",
       "    <tr>\n",
       "      <th>1517656</th>\n",
       "      <td>7254604792324956166</td>\n",
       "      <td>YF(D)GW(D)X(Nle; N-Me)DF-NH2</td>\n",
       "      <td>SMALLMOL</td>\n",
       "    </tr>\n",
       "    <tr>\n",
       "      <th>1517802</th>\n",
       "      <td>725545692487216447</td>\n",
       "      <td>2(S)2-{[6-(5-chloro-1H-pyrrolo[2,3-b]pyridin-3...</td>\n",
       "      <td>SMALLMOL</td>\n",
       "    </tr>\n",
       "    <tr>\n",
       "      <th>1517929</th>\n",
       "      <td>7256875620697643165</td>\n",
       "      <td>[MET(O)]-Neuropeptide W-23 (Human; porcine)</td>\n",
       "      <td>SMALLMOL</td>\n",
       "    </tr>\n",
       "  </tbody>\n",
       "</table>\n",
       "<p>4504 rows × 3 columns</p>\n",
       "</div>"
      ],
      "text/plain": [
       "                          :ID  \\\n",
       "96       -1000445907920769387   \n",
       "106       1000511471434219628   \n",
       "1065        10055389442503362   \n",
       "1330     -1006961062563094732   \n",
       "1539      1008036727165805856   \n",
       "...                       ...   \n",
       "1517124   7251653840688617755   \n",
       "1517453  -7253500055656412392   \n",
       "1517656   7254604792324956166   \n",
       "1517802    725545692487216447   \n",
       "1517929   7256875620697643165   \n",
       "\n",
       "                                                      name    :LABEL  \n",
       "96                             Ac-FRPX(Hle; D)F(3-Cl)F-NH2  SMALLMOL  \n",
       "106      (S)-3-chloro-4-(N-(3-fluoropropyl)pyrrolidin-3...  SMALLMOL  \n",
       "1065     Carbamoyl-C(D;bridge C11)KFFW(D)F(4-(Isopropyl...  SMALLMOL  \n",
       "1330                   Ac-ED(lactam K7)HX(2-Nal; D)RWK-NH2  SMALLMOL  \n",
       "1539               X(Iqc; D)C(bridge X7)YW(D)RTX(Pen)T-NH2  SMALLMOL  \n",
       "...                                                    ...       ...  \n",
       "1517124             X(Inp)F(D;4-(Chloro))X(2-Nal;D)F-Amino  SMALLMOL  \n",
       "1517453                       m_T(3;10)61H (Gene ID 21159)   PROTEIN  \n",
       "1517656                       YF(D)GW(D)X(Nle; N-Me)DF-NH2  SMALLMOL  \n",
       "1517802  2(S)2-{[6-(5-chloro-1H-pyrrolo[2,3-b]pyridin-3...  SMALLMOL  \n",
       "1517929        [MET(O)]-Neuropeptide W-23 (Human; porcine)  SMALLMOL  \n",
       "\n",
       "[4504 rows x 3 columns]"
      ]
     },
     "execution_count": 98,
     "metadata": {},
     "output_type": "execute_result"
    },
    {
     "data": {
      "text/html": [
       "<div>\n",
       "<style scoped>\n",
       "    .dataframe tbody tr th:only-of-type {\n",
       "        vertical-align: middle;\n",
       "    }\n",
       "\n",
       "    .dataframe tbody tr th {\n",
       "        vertical-align: top;\n",
       "    }\n",
       "\n",
       "    .dataframe thead th {\n",
       "        text-align: right;\n",
       "    }\n",
       "</style>\n",
       "<table border=\"1\" class=\"dataframe\">\n",
       "  <thead>\n",
       "    <tr style=\"text-align: right;\">\n",
       "      <th></th>\n",
       "      <th>:ID</th>\n",
       "      <th>name</th>\n",
       "      <th>:LABEL</th>\n",
       "    </tr>\n",
       "  </thead>\n",
       "  <tbody>\n",
       "    <tr>\n",
       "      <th>8989</th>\n",
       "      <td>-1048773164875225821</td>\n",
       "      <td>Y(2,6-Me; N-CO)X(Orn(D)modifixfffd;; lactam G5...</td>\n",
       "      <td>SMALLMOL</td>\n",
       "    </tr>\n",
       "    <tr>\n",
       "      <th>974526</th>\n",
       "      <td>6327831653333845569</td>\n",
       "      <td>X(Orn(D)modifixfffd;; lactam G4)X(2-Nal)P(D)G</td>\n",
       "      <td>SMALLMOL</td>\n",
       "    </tr>\n",
       "  </tbody>\n",
       "</table>\n",
       "</div>"
      ],
      "text/plain": [
       "                         :ID  \\\n",
       "8989    -1048773164875225821   \n",
       "974526   6327831653333845569   \n",
       "\n",
       "                                                     name    :LABEL  \n",
       "8989    Y(2,6-Me; N-CO)X(Orn(D)modifixfffd;; lactam G5...  SMALLMOL  \n",
       "974526      X(Orn(D)modifixfffd;; lactam G4)X(2-Nal)P(D)G  SMALLMOL  "
      ]
     },
     "execution_count": 98,
     "metadata": {},
     "output_type": "execute_result"
    }
   ],
   "source": [
    "# check for presence of ';;' & ';'\n",
    "df_node_new[df_node_new['name'].str.contains(\";\")]\n",
    "df_node_new[df_node_new['name'].str.contains(\";;\")]"
   ]
  },
  {
   "cell_type": "code",
   "execution_count": 99,
   "metadata": {
    "Collapsed": "false",
    "execution": {
     "iopub.execute_input": "2024-04-09T19:17:01.866062Z",
     "iopub.status.busy": "2024-04-09T19:17:01.865685Z",
     "iopub.status.idle": "2024-04-09T19:17:03.200478Z",
     "shell.execute_reply": "2024-04-09T19:17:03.198837Z",
     "shell.execute_reply.started": "2024-04-09T19:17:01.866031Z"
    },
    "tags": []
   },
   "outputs": [],
   "source": [
    "# convert single and double semi-colons to colons\n",
    "df_node_new['name']=df_node_new['name'].str.replace(';;', ':')\n",
    "df_node_new['name']=df_node_new['name'].str.replace(';', ':')\n"
   ]
  },
  {
   "cell_type": "code",
   "execution_count": 100,
   "metadata": {
    "Collapsed": "false",
    "execution": {
     "iopub.execute_input": "2024-04-09T19:17:11.043438Z",
     "iopub.status.busy": "2024-04-09T19:17:11.043027Z",
     "iopub.status.idle": "2024-04-09T19:17:15.914790Z",
     "shell.execute_reply": "2024-04-09T19:17:15.913745Z",
     "shell.execute_reply.started": "2024-04-09T19:17:11.043405Z"
    },
    "tags": []
   },
   "outputs": [],
   "source": [
    "df_node_new.to_csv('./data/processed/nodes.txt', sep='|', index=False, header=True)"
   ]
  },
  {
   "cell_type": "code",
   "execution_count": 101,
   "metadata": {
    "Collapsed": "false",
    "execution": {
     "iopub.execute_input": "2024-04-09T19:17:17.447799Z",
     "iopub.status.busy": "2024-04-09T19:17:17.447522Z",
     "iopub.status.idle": "2024-04-09T19:17:17.481572Z",
     "shell.execute_reply": "2024-04-09T19:17:17.479871Z",
     "shell.execute_reply.started": "2024-04-09T19:17:17.447779Z"
    },
    "tags": []
   },
   "outputs": [
    {
     "data": {
      "text/plain": [
       "[':ID', 'name', ':LABEL']"
      ]
     },
     "execution_count": 101,
     "metadata": {},
     "output_type": "execute_result"
    }
   ],
   "source": [
    "# create list of column names for header file\n",
    "cols=list(df_node.columns)\n",
    "cols"
   ]
  },
  {
   "cell_type": "code",
   "execution_count": 102,
   "metadata": {
    "Collapsed": "false",
    "execution": {
     "iopub.execute_input": "2024-04-09T19:17:19.112032Z",
     "iopub.status.busy": "2024-04-09T19:17:19.111780Z",
     "iopub.status.idle": "2024-04-09T19:17:19.173275Z",
     "shell.execute_reply": "2024-04-09T19:17:19.167453Z",
     "shell.execute_reply.started": "2024-04-09T19:17:19.112012Z"
    },
    "tags": []
   },
   "outputs": [
    {
     "data": {
      "text/html": [
       "<div>\n",
       "<style scoped>\n",
       "    .dataframe tbody tr th:only-of-type {\n",
       "        vertical-align: middle;\n",
       "    }\n",
       "\n",
       "    .dataframe tbody tr th {\n",
       "        vertical-align: top;\n",
       "    }\n",
       "\n",
       "    .dataframe thead th {\n",
       "        text-align: right;\n",
       "    }\n",
       "</style>\n",
       "<table border=\"1\" class=\"dataframe\">\n",
       "  <thead>\n",
       "    <tr style=\"text-align: right;\">\n",
       "      <th></th>\n",
       "      <th>:ID</th>\n",
       "      <th>name</th>\n",
       "      <th>:LABEL</th>\n",
       "    </tr>\n",
       "  </thead>\n",
       "  <tbody>\n",
       "  </tbody>\n",
       "</table>\n",
       "</div>"
      ],
      "text/plain": [
       "Empty DataFrame\n",
       "Columns: [:ID, name, :LABEL]\n",
       "Index: []"
      ]
     },
     "execution_count": 102,
     "metadata": {},
     "output_type": "execute_result"
    }
   ],
   "source": [
    "# create and save header file\n",
    "node_headers=pd.DataFrame(columns=cols)\n",
    "node_headers\n",
    "node_headers.to_csv('./data/processed/nodes_header.txt', sep='|', index=False)"
   ]
  },
  {
   "cell_type": "code",
   "execution_count": 103,
   "metadata": {
    "Collapsed": "false",
    "execution": {
     "iopub.execute_input": "2024-04-09T19:50:15.338130Z",
     "iopub.status.busy": "2024-04-09T19:50:15.337624Z",
     "iopub.status.idle": "2024-04-09T19:50:15.433878Z",
     "shell.execute_reply": "2024-04-09T19:50:15.432955Z",
     "shell.execute_reply.started": "2024-04-09T19:50:15.338096Z"
    },
    "tags": []
   },
   "outputs": [],
   "source": [
    "conn.close()"
   ]
  },
  {
   "cell_type": "markdown",
   "metadata": {
    "Collapsed": "false"
   },
   "source": [
    "**To load data into Neo4j**, click on 'Add' in the project pane. Name the new project, click on the '...' by the 'Open' button for the project, and choose 'Terminal'. Take note of the dbms number at the cursor. Copy the nodes.txt, nodes_header.txt, relations.txt, and realations_header.txt files pepared above. Drop them in the import file found here: C:\\Users\\\\[user_name]\\\\.Neo4jDesktop\\relate-data\\dbmss\\dbms-##(number at cursor)\\import\n",
    "\n",
    "At the Neo4j terminal, change to the bin directory (type 'cd bin') and then paste the following at the cursor:\n",
    "neo4j-admin import --delimiter=\"|\" --nodes=import/nodes_header.txt, import/nodes.txt --relationships=import/relations_header.txt, import/relations.txt --skip-bad-relationships=true\n",
    "\n",
    "Go back to the project pane, press 'Start'. The active database will now be shown in a pane at the top. Press open to use in the Neo4j browser."
   ]
  }
 ],
 "metadata": {
  "kernelspec": {
   "display_name": "psg_sqlDB",
   "language": "python",
   "name": "psg_sqldb"
  },
  "language_info": {
   "codemirror_mode": {
    "name": "ipython",
    "version": 3
   },
   "file_extension": ".py",
   "mimetype": "text/x-python",
   "name": "python",
   "nbconvert_exporter": "python",
   "pygments_lexer": "ipython3",
   "version": "3.8.13"
  },
  "toc-autonumbering": false,
  "toc-showcode": false,
  "toc-showmarkdowntxt": false
 },
 "nbformat": 4,
 "nbformat_minor": 4
}
