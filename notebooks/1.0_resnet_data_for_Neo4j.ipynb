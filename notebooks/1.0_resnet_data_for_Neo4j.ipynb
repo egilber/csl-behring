{
 "cells": [
  {
   "cell_type": "code",
   "execution_count": 1,
   "metadata": {
    "Collapsed": "false",
    "execution": {
     "iopub.execute_input": "2024-06-19T13:31:53.957658Z",
     "iopub.status.busy": "2024-06-19T13:31:53.956916Z",
     "iopub.status.idle": "2024-06-19T13:31:55.252806Z",
     "shell.execute_reply": "2024-06-19T13:31:55.251818Z",
     "shell.execute_reply.started": "2024-06-19T13:31:53.957591Z"
    },
    "tags": []
   },
   "outputs": [],
   "source": [
    "%reload_ext autoreload\n",
    "%autoreload 2\n",
    "%matplotlib inline"
   ]
  },
  {
   "cell_type": "code",
   "execution_count": 2,
   "metadata": {
    "Collapsed": "false",
    "execution": {
     "iopub.execute_input": "2024-06-19T13:31:55.254857Z",
     "iopub.status.busy": "2024-06-19T13:31:55.254265Z",
     "iopub.status.idle": "2024-06-19T13:31:55.342023Z",
     "shell.execute_reply": "2024-06-19T13:31:55.341051Z",
     "shell.execute_reply.started": "2024-06-19T13:31:55.254829Z"
    },
    "pycharm": {
     "is_executing": false
    },
    "tags": []
   },
   "outputs": [],
   "source": [
    "%%capture   \n",
    "%pwd\n"
   ]
  },
  {
   "cell_type": "code",
   "execution_count": 3,
   "metadata": {
    "Collapsed": "false",
    "execution": {
     "iopub.execute_input": "2024-06-19T13:31:56.098597Z",
     "iopub.status.busy": "2024-06-19T13:31:56.098330Z",
     "iopub.status.idle": "2024-06-19T13:31:56.176497Z",
     "shell.execute_reply": "2024-06-19T13:31:56.175654Z",
     "shell.execute_reply.started": "2024-06-19T13:31:56.098575Z"
    },
    "tags": []
   },
   "outputs": [],
   "source": [
    "%%capture\n",
    "cd .."
   ]
  },
  {
   "cell_type": "code",
   "execution_count": 4,
   "metadata": {
    "Collapsed": "false",
    "execution": {
     "iopub.execute_input": "2024-06-19T13:31:56.842310Z",
     "iopub.status.busy": "2024-06-19T13:31:56.841894Z",
     "iopub.status.idle": "2024-06-19T13:31:56.881428Z",
     "shell.execute_reply": "2024-06-19T13:31:56.880226Z",
     "shell.execute_reply.started": "2024-06-19T13:31:56.842277Z"
    },
    "pycharm": {
     "is_executing": false
    },
    "tags": []
   },
   "outputs": [],
   "source": [
    "from IPython.core.interactiveshell import InteractiveShell\n",
    "InteractiveShell.ast_node_interactivity = \"all\""
   ]
  },
  {
   "cell_type": "code",
   "execution_count": 5,
   "metadata": {
    "Collapsed": "false",
    "execution": {
     "iopub.execute_input": "2024-06-19T13:31:57.274663Z",
     "iopub.status.busy": "2024-06-19T13:31:57.273801Z",
     "iopub.status.idle": "2024-06-19T13:31:58.365986Z",
     "shell.execute_reply": "2024-06-19T13:31:58.364964Z",
     "shell.execute_reply.started": "2024-06-19T13:31:57.274615Z"
    },
    "tags": []
   },
   "outputs": [
    {
     "data": {
      "text/plain": [
       "True"
      ]
     },
     "execution_count": 5,
     "metadata": {},
     "output_type": "execute_result"
    }
   ],
   "source": [
    "import psycopg2 as ps2\n",
    "import os\n",
    "import pandas as pd\n",
    "import numpy as np\n",
    "import csv\n",
    "from src.funcs.utils import *\n",
    "\n",
    "from dotenv import load_dotenv\n",
    "load_dotenv()"
   ]
  },
  {
   "cell_type": "code",
   "execution_count": 6,
   "metadata": {
    "Collapsed": "false",
    "execution": {
     "iopub.execute_input": "2024-06-19T13:31:59.218843Z",
     "iopub.status.busy": "2024-06-19T13:31:59.218110Z",
     "iopub.status.idle": "2024-06-19T13:31:59.273660Z",
     "shell.execute_reply": "2024-06-19T13:31:59.272231Z",
     "shell.execute_reply.started": "2024-06-19T13:31:59.218797Z"
    },
    "tags": []
   },
   "outputs": [],
   "source": [
    "# pull in db credentials from .env file\n",
    "db_name=os.getenv('DB_NAME')\n",
    "db_user=os.getenv('DB_USER')\n",
    "db_host=os.getenv('DB_HOST_IP')\n",
    "db_pwd=os.getenv('DB_PWD')"
   ]
  },
  {
   "cell_type": "code",
   "execution_count": 7,
   "metadata": {
    "Collapsed": "false",
    "execution": {
     "iopub.execute_input": "2024-06-19T13:32:00.258069Z",
     "iopub.status.busy": "2024-06-19T13:32:00.257776Z",
     "iopub.status.idle": "2024-06-19T13:32:00.322880Z",
     "shell.execute_reply": "2024-06-19T13:32:00.321577Z",
     "shell.execute_reply.started": "2024-06-19T13:32:00.258044Z"
    },
    "tags": []
   },
   "outputs": [],
   "source": [
    "# conn.close()\n",
    "# conn.rollback()"
   ]
  },
  {
   "cell_type": "code",
   "execution_count": 8,
   "metadata": {
    "Collapsed": "false",
    "execution": {
     "iopub.execute_input": "2024-06-19T13:32:00.635717Z",
     "iopub.status.busy": "2024-06-19T13:32:00.635375Z",
     "iopub.status.idle": "2024-06-19T13:32:01.002250Z",
     "shell.execute_reply": "2024-06-19T13:32:01.001501Z",
     "shell.execute_reply.started": "2024-06-19T13:32:00.635691Z"
    },
    "tags": []
   },
   "outputs": [],
   "source": [
    "# define db session\n",
    "conn = ps2.connect(\n",
    "    host = db_host,\n",
    "    database = db_name,\n",
    "    user = db_user,\n",
    "    password = db_pwd)"
   ]
  },
  {
   "cell_type": "markdown",
   "metadata": {},
   "source": [
    "## Relationships"
   ]
  },
  {
   "cell_type": "markdown",
   "metadata": {
    "Collapsed": "false"
   },
   "source": [
    "### Query for data"
   ]
  },
  {
   "cell_type": "markdown",
   "metadata": {
    "Collapsed": "false"
   },
   "source": [
    "### Directional"
   ]
  },
  {
   "cell_type": "code",
   "execution_count": null,
   "metadata": {
    "Collapsed": "false",
    "tags": []
   },
   "outputs": [],
   "source": [
    "sql=\"SELECT \\\n",
    "control.id, inkey[1], controltype,  string_agg(distinct(effect), ', '), string_agg(distinct(mechanism), ', '), \\\n",
    "num_refs, outkey[1] , reference.id, string_agg(distinct(biomarkertype), ', ') , string_agg(distinct(celllinename), ', '), \\\n",
    "string_agg(distinct(celltype), ', '), string_agg(distinct(changetype), ', '), string_agg(distinct(organ), ', '), \\\n",
    "string_agg(distinct(organism), ', '), string_agg(distinct(quantitativetype), ', '), string_agg(distinct(tissue), ', '),  \\\n",
    "string_agg(distinct(nct_id), ', '),  string_agg(distinct(phase), ', ') \\\n",
    "FROM resnet18.control, resnet18.reference \\\n",
    "WHERE control.id = reference.id and inkey[1] is not null and outkey[1] is not null \\\n",
    "GROUP BY control.id, inkey[1], controltype, num_refs, outkey[1], reference.id\""
   ]
  },
  {
   "cell_type": "code",
   "execution_count": null,
   "metadata": {
    "Collapsed": "false",
    "tags": []
   },
   "outputs": [],
   "source": [
    "%%time\n",
    "# run query and save to file\n",
    "with conn.cursor() as cur:\n",
    "    with open('./data/processed/directional_rels_raw.txt', 'w', encoding=\"utf-8\") as f:\n",
    "        cur.execute(sql)\n",
    "        csv_writer = csv.writer(f, delimiter='|')\n",
    "        for record in cur.fetchall():\n",
    "            csv_writer.writerow(record)  "
   ]
  },
  {
   "cell_type": "markdown",
   "metadata": {
    "Collapsed": "false"
   },
   "source": [
    "### Bi-derectional"
   ]
  },
  {
   "cell_type": "code",
   "execution_count": null,
   "metadata": {
    "Collapsed": "false",
    "tags": []
   },
   "outputs": [],
   "source": [
    "sql=\"SELECT \\\n",
    "control.id, inkey[1], inoutkey, controltype, relationship, string_agg(distinct(effect), ', '), string_agg(distinct(mechanism), ', '), num_refs, outkey[1], \\\n",
    "reference.id, string_agg(distinct(biomarkertype), ', '), string_agg(distinct(celllinename), ', '), string_agg(distinct(celltype), ', '), string_agg(distinct(changetype), ', '), \\\n",
    "string_agg(distinct(organ), ', '), string_agg(distinct(organism), ', '), string_agg(distinct(quantitativetype), ', '), string_agg(distinct(tissue), ', ') \\\n",
    "FROM resnet18.control, resnet18.reference \\\n",
    "WHERE control.id = reference.id and inkey[1] is null and outkey[1] is null \\\n",
    "GROUP BY control.id, controltype, reference.id\""
   ]
  },
  {
   "cell_type": "code",
   "execution_count": null,
   "metadata": {
    "Collapsed": "false",
    "tags": []
   },
   "outputs": [],
   "source": [
    "%%time\n",
    "# run query and save to file\n",
    "with conn.cursor() as cur:\n",
    "    with open('./data/processed/bidirectional_rels_raw.txt', 'w', encoding=\"utf-8\") as f:\n",
    "        cur.execute(sql)\n",
    "        csv_writer=csv.writer(f, delimiter= '|')\n",
    "        for record in cur.fetchall():\n",
    "            line='|'.join(map(str, record))+'\\n'\n",
    "            f.write(line)"
   ]
  },
  {
   "cell_type": "markdown",
   "metadata": {
    "Collapsed": "false"
   },
   "source": [
    "### Attributes"
   ]
  },
  {
   "cell_type": "code",
   "execution_count": null,
   "metadata": {
    "Collapsed": "false",
    "tags": []
   },
   "outputs": [],
   "source": [
    "sql=\"SELECT  \\\n",
    "id, inkey[1], attributes, relationship, outkey[1] from resnet18.control \\\n",
    "WHERE (control.id = control.attributes and inkey[1] is not null and outkey[1] is not null)\";"
   ]
  },
  {
   "cell_type": "code",
   "execution_count": null,
   "metadata": {
    "Collapsed": "false",
    "tags": []
   },
   "outputs": [],
   "source": [
    "%%time\n",
    "with conn.cursor() as cur:\n",
    "    with open('./data/processed/attribute_rels_raw.txt', 'w', encoding=\"utf-8\") as f:\n",
    "        cur.execute(sql)\n",
    "        csv_writer=csv.writer(f, delimiter= '|')\n",
    "        for record in cur.fetchall():\n",
    "            line='|'.join(map(str, record))+'\\n'\n",
    "            f.write(line)"
   ]
  },
  {
   "cell_type": "markdown",
   "metadata": {
    "Collapsed": "false"
   },
   "source": [
    "## Process Data"
   ]
  },
  {
   "cell_type": "markdown",
   "metadata": {
    "Collapsed": "false"
   },
   "source": [
    "### Bi-directional"
   ]
  },
  {
   "cell_type": "code",
   "execution_count": 9,
   "metadata": {
    "Collapsed": "false",
    "execution": {
     "iopub.execute_input": "2024-06-19T13:32:11.708159Z",
     "iopub.status.busy": "2024-06-19T13:32:11.707742Z",
     "iopub.status.idle": "2024-06-19T13:32:34.677470Z",
     "shell.execute_reply": "2024-06-19T13:32:34.676210Z",
     "shell.execute_reply.started": "2024-06-19T13:32:11.708131Z"
    },
    "tags": []
   },
   "outputs": [
    {
     "name": "stdout",
     "output_type": "stream",
     "text": [
      "<class 'pandas.core.frame.DataFrame'>\n",
      "RangeIndex: 5460397 entries, 0 to 5460396\n",
      "Data columns (total 18 columns):\n",
      " #   Column  Dtype  \n",
      "---  ------  -----  \n",
      " 0   0       int64  \n",
      " 1   1       float64\n",
      " 2   2       object \n",
      " 3   3       object \n",
      " 4   4       float64\n",
      " 5   5       object \n",
      " 6   6       object \n",
      " 7   7       int64  \n",
      " 8   8       float64\n",
      " 9   9       int64  \n",
      " 10  10      float64\n",
      " 11  11      object \n",
      " 12  12      object \n",
      " 13  13      object \n",
      " 14  14      object \n",
      " 15  15      object \n",
      " 16  16      float64\n",
      " 17  17      object \n",
      "dtypes: float64(5), int64(3), object(10)\n",
      "memory usage: 749.9+ MB\n",
      "CPU times: user 9.69 s, sys: 3.67 s, total: 13.4 s\n",
      "Wall time: 22.9 s\n"
     ]
    },
    {
     "data": {
      "text/html": [
       "<div>\n",
       "<style scoped>\n",
       "    .dataframe tbody tr th:only-of-type {\n",
       "        vertical-align: middle;\n",
       "    }\n",
       "\n",
       "    .dataframe tbody tr th {\n",
       "        vertical-align: top;\n",
       "    }\n",
       "\n",
       "    .dataframe thead th {\n",
       "        text-align: right;\n",
       "    }\n",
       "</style>\n",
       "<table border=\"1\" class=\"dataframe\">\n",
       "  <thead>\n",
       "    <tr style=\"text-align: right;\">\n",
       "      <th></th>\n",
       "      <th>0</th>\n",
       "      <th>1</th>\n",
       "      <th>2</th>\n",
       "      <th>3</th>\n",
       "      <th>4</th>\n",
       "      <th>5</th>\n",
       "      <th>6</th>\n",
       "      <th>7</th>\n",
       "      <th>8</th>\n",
       "      <th>9</th>\n",
       "      <th>10</th>\n",
       "      <th>11</th>\n",
       "      <th>12</th>\n",
       "      <th>13</th>\n",
       "      <th>14</th>\n",
       "      <th>15</th>\n",
       "      <th>16</th>\n",
       "      <th>17</th>\n",
       "    </tr>\n",
       "  </thead>\n",
       "  <tbody>\n",
       "    <tr>\n",
       "      <th>0</th>\n",
       "      <td>-9223367021478908826</td>\n",
       "      <td>NaN</td>\n",
       "      <td>[5747547533469447186, 6031869671835980567]</td>\n",
       "      <td>FunctionalAssociation</td>\n",
       "      <td>NaN</td>\n",
       "      <td>NaN</td>\n",
       "      <td>NaN</td>\n",
       "      <td>1</td>\n",
       "      <td>NaN</td>\n",
       "      <td>-9223367021478908826</td>\n",
       "      <td>NaN</td>\n",
       "      <td>NaN</td>\n",
       "      <td>NaN</td>\n",
       "      <td>NaN</td>\n",
       "      <td>liver</td>\n",
       "      <td>NaN</td>\n",
       "      <td>NaN</td>\n",
       "      <td>NaN</td>\n",
       "    </tr>\n",
       "    <tr>\n",
       "      <th>1</th>\n",
       "      <td>-9223365481314032826</td>\n",
       "      <td>NaN</td>\n",
       "      <td>[5445426109658919917, -2285403010002775161]</td>\n",
       "      <td>FunctionalAssociation</td>\n",
       "      <td>NaN</td>\n",
       "      <td>NaN</td>\n",
       "      <td>NaN</td>\n",
       "      <td>1</td>\n",
       "      <td>NaN</td>\n",
       "      <td>-9223365481314032826</td>\n",
       "      <td>NaN</td>\n",
       "      <td>NaN</td>\n",
       "      <td>NaN</td>\n",
       "      <td>NaN</td>\n",
       "      <td>leg</td>\n",
       "      <td>NaN</td>\n",
       "      <td>NaN</td>\n",
       "      <td>NaN</td>\n",
       "    </tr>\n",
       "    <tr>\n",
       "      <th>2</th>\n",
       "      <td>-9223361153568711706</td>\n",
       "      <td>NaN</td>\n",
       "      <td>[3492638404650443242, -6868785757227974641]</td>\n",
       "      <td>FunctionalAssociation</td>\n",
       "      <td>NaN</td>\n",
       "      <td>NaN</td>\n",
       "      <td>NaN</td>\n",
       "      <td>1</td>\n",
       "      <td>NaN</td>\n",
       "      <td>-9223361153568711706</td>\n",
       "      <td>NaN</td>\n",
       "      <td>NaN</td>\n",
       "      <td>NaN</td>\n",
       "      <td>NaN</td>\n",
       "      <td>brain</td>\n",
       "      <td>Mus musculus (mouse)</td>\n",
       "      <td>NaN</td>\n",
       "      <td>NaN</td>\n",
       "    </tr>\n",
       "    <tr>\n",
       "      <th>3</th>\n",
       "      <td>-9223357200775258657</td>\n",
       "      <td>NaN</td>\n",
       "      <td>[1596328558605610184, -8708891732207432195]</td>\n",
       "      <td>CellExpression</td>\n",
       "      <td>NaN</td>\n",
       "      <td>NaN</td>\n",
       "      <td>NaN</td>\n",
       "      <td>8</td>\n",
       "      <td>NaN</td>\n",
       "      <td>-9223357200775258657</td>\n",
       "      <td>NaN</td>\n",
       "      <td>MDA-MB-231</td>\n",
       "      <td>NaN</td>\n",
       "      <td>NaN</td>\n",
       "      <td>breast</td>\n",
       "      <td>Homo sapiens (human), Oryctolagus cuniculus (r...</td>\n",
       "      <td>NaN</td>\n",
       "      <td>serum</td>\n",
       "    </tr>\n",
       "    <tr>\n",
       "      <th>4</th>\n",
       "      <td>-9223356961959519979</td>\n",
       "      <td>NaN</td>\n",
       "      <td>[4541556823765750071, 3096071376414863663]</td>\n",
       "      <td>CellExpression</td>\n",
       "      <td>NaN</td>\n",
       "      <td>NaN</td>\n",
       "      <td>NaN</td>\n",
       "      <td>1</td>\n",
       "      <td>NaN</td>\n",
       "      <td>-9223356961959519979</td>\n",
       "      <td>NaN</td>\n",
       "      <td>A2058</td>\n",
       "      <td>NaN</td>\n",
       "      <td>NaN</td>\n",
       "      <td>NaN</td>\n",
       "      <td>NaN</td>\n",
       "      <td>NaN</td>\n",
       "      <td>NaN</td>\n",
       "    </tr>\n",
       "  </tbody>\n",
       "</table>\n",
       "</div>"
      ],
      "text/plain": [
       "                    0   1                                            2   \\\n",
       "0 -9223367021478908826 NaN   [5747547533469447186, 6031869671835980567]   \n",
       "1 -9223365481314032826 NaN  [5445426109658919917, -2285403010002775161]   \n",
       "2 -9223361153568711706 NaN  [3492638404650443242, -6868785757227974641]   \n",
       "3 -9223357200775258657 NaN  [1596328558605610184, -8708891732207432195]   \n",
       "4 -9223356961959519979 NaN   [4541556823765750071, 3096071376414863663]   \n",
       "\n",
       "                      3   4    5    6   7   8                    9   10  \\\n",
       "0  FunctionalAssociation NaN  NaN  NaN   1 NaN -9223367021478908826 NaN   \n",
       "1  FunctionalAssociation NaN  NaN  NaN   1 NaN -9223365481314032826 NaN   \n",
       "2  FunctionalAssociation NaN  NaN  NaN   1 NaN -9223361153568711706 NaN   \n",
       "3         CellExpression NaN  NaN  NaN   8 NaN -9223357200775258657 NaN   \n",
       "4         CellExpression NaN  NaN  NaN   1 NaN -9223356961959519979 NaN   \n",
       "\n",
       "           11   12   13      14  \\\n",
       "0         NaN  NaN  NaN   liver   \n",
       "1         NaN  NaN  NaN     leg   \n",
       "2         NaN  NaN  NaN   brain   \n",
       "3  MDA-MB-231  NaN  NaN  breast   \n",
       "4       A2058  NaN  NaN     NaN   \n",
       "\n",
       "                                                  15  16     17  \n",
       "0                                                NaN NaN    NaN  \n",
       "1                                                NaN NaN    NaN  \n",
       "2                               Mus musculus (mouse) NaN    NaN  \n",
       "3  Homo sapiens (human), Oryctolagus cuniculus (r... NaN  serum  \n",
       "4                                                NaN NaN    NaN  "
      ]
     },
     "execution_count": 9,
     "metadata": {},
     "output_type": "execute_result"
    }
   ],
   "source": [
    "%%time\n",
    "\n",
    "df_birect=pd.read_csv('./data/processed/bidirectional_rels_raw.txt', sep='|', header=None, encoding='utf-8')\n",
    "df_birect.info(); df_birect.head()"
   ]
  },
  {
   "cell_type": "code",
   "execution_count": 10,
   "metadata": {
    "Collapsed": "false",
    "execution": {
     "iopub.execute_input": "2024-06-19T13:32:40.254180Z",
     "iopub.status.busy": "2024-06-19T13:32:40.253551Z",
     "iopub.status.idle": "2024-06-19T13:32:40.372718Z",
     "shell.execute_reply": "2024-06-19T13:32:40.371076Z",
     "shell.execute_reply.started": "2024-06-19T13:32:40.254119Z"
    },
    "tags": []
   },
   "outputs": [
    {
     "data": {
      "text/html": [
       "<div>\n",
       "<style scoped>\n",
       "    .dataframe tbody tr th:only-of-type {\n",
       "        vertical-align: middle;\n",
       "    }\n",
       "\n",
       "    .dataframe tbody tr th {\n",
       "        vertical-align: top;\n",
       "    }\n",
       "\n",
       "    .dataframe thead th {\n",
       "        text-align: right;\n",
       "    }\n",
       "</style>\n",
       "<table border=\"1\" class=\"dataframe\">\n",
       "  <thead>\n",
       "    <tr style=\"text-align: right;\">\n",
       "      <th></th>\n",
       "      <th>msrc_id</th>\n",
       "      <th>:START_ID</th>\n",
       "      <th>inOutkey</th>\n",
       "      <th>type:TYPE</th>\n",
       "      <th>relationship</th>\n",
       "      <th>effect</th>\n",
       "      <th>mechanism</th>\n",
       "      <th>ref_count:int</th>\n",
       "      <th>:END_ID</th>\n",
       "      <th>id2</th>\n",
       "      <th>biomarkertype</th>\n",
       "      <th>celllinename</th>\n",
       "      <th>celltype</th>\n",
       "      <th>changetype</th>\n",
       "      <th>organ</th>\n",
       "      <th>organism</th>\n",
       "      <th>quantitativetype</th>\n",
       "      <th>tissue</th>\n",
       "    </tr>\n",
       "  </thead>\n",
       "  <tbody>\n",
       "    <tr>\n",
       "      <th>0</th>\n",
       "      <td>-9223367021478908826</td>\n",
       "      <td>NaN</td>\n",
       "      <td>[5747547533469447186, 6031869671835980567]</td>\n",
       "      <td>FunctionalAssociation</td>\n",
       "      <td>NaN</td>\n",
       "      <td>NaN</td>\n",
       "      <td>NaN</td>\n",
       "      <td>1</td>\n",
       "      <td>NaN</td>\n",
       "      <td>-9223367021478908826</td>\n",
       "      <td>NaN</td>\n",
       "      <td>NaN</td>\n",
       "      <td>NaN</td>\n",
       "      <td>NaN</td>\n",
       "      <td>liver</td>\n",
       "      <td>NaN</td>\n",
       "      <td>NaN</td>\n",
       "      <td>NaN</td>\n",
       "    </tr>\n",
       "    <tr>\n",
       "      <th>1</th>\n",
       "      <td>-9223365481314032826</td>\n",
       "      <td>NaN</td>\n",
       "      <td>[5445426109658919917, -2285403010002775161]</td>\n",
       "      <td>FunctionalAssociation</td>\n",
       "      <td>NaN</td>\n",
       "      <td>NaN</td>\n",
       "      <td>NaN</td>\n",
       "      <td>1</td>\n",
       "      <td>NaN</td>\n",
       "      <td>-9223365481314032826</td>\n",
       "      <td>NaN</td>\n",
       "      <td>NaN</td>\n",
       "      <td>NaN</td>\n",
       "      <td>NaN</td>\n",
       "      <td>leg</td>\n",
       "      <td>NaN</td>\n",
       "      <td>NaN</td>\n",
       "      <td>NaN</td>\n",
       "    </tr>\n",
       "    <tr>\n",
       "      <th>2</th>\n",
       "      <td>-9223361153568711706</td>\n",
       "      <td>NaN</td>\n",
       "      <td>[3492638404650443242, -6868785757227974641]</td>\n",
       "      <td>FunctionalAssociation</td>\n",
       "      <td>NaN</td>\n",
       "      <td>NaN</td>\n",
       "      <td>NaN</td>\n",
       "      <td>1</td>\n",
       "      <td>NaN</td>\n",
       "      <td>-9223361153568711706</td>\n",
       "      <td>NaN</td>\n",
       "      <td>NaN</td>\n",
       "      <td>NaN</td>\n",
       "      <td>NaN</td>\n",
       "      <td>brain</td>\n",
       "      <td>Mus musculus (mouse)</td>\n",
       "      <td>NaN</td>\n",
       "      <td>NaN</td>\n",
       "    </tr>\n",
       "    <tr>\n",
       "      <th>3</th>\n",
       "      <td>-9223357200775258657</td>\n",
       "      <td>NaN</td>\n",
       "      <td>[1596328558605610184, -8708891732207432195]</td>\n",
       "      <td>CellExpression</td>\n",
       "      <td>NaN</td>\n",
       "      <td>NaN</td>\n",
       "      <td>NaN</td>\n",
       "      <td>8</td>\n",
       "      <td>NaN</td>\n",
       "      <td>-9223357200775258657</td>\n",
       "      <td>NaN</td>\n",
       "      <td>MDA-MB-231</td>\n",
       "      <td>NaN</td>\n",
       "      <td>NaN</td>\n",
       "      <td>breast</td>\n",
       "      <td>Homo sapiens (human), Oryctolagus cuniculus (r...</td>\n",
       "      <td>NaN</td>\n",
       "      <td>serum</td>\n",
       "    </tr>\n",
       "    <tr>\n",
       "      <th>4</th>\n",
       "      <td>-9223356961959519979</td>\n",
       "      <td>NaN</td>\n",
       "      <td>[4541556823765750071, 3096071376414863663]</td>\n",
       "      <td>CellExpression</td>\n",
       "      <td>NaN</td>\n",
       "      <td>NaN</td>\n",
       "      <td>NaN</td>\n",
       "      <td>1</td>\n",
       "      <td>NaN</td>\n",
       "      <td>-9223356961959519979</td>\n",
       "      <td>NaN</td>\n",
       "      <td>A2058</td>\n",
       "      <td>NaN</td>\n",
       "      <td>NaN</td>\n",
       "      <td>NaN</td>\n",
       "      <td>NaN</td>\n",
       "      <td>NaN</td>\n",
       "      <td>NaN</td>\n",
       "    </tr>\n",
       "  </tbody>\n",
       "</table>\n",
       "</div>"
      ],
      "text/plain": [
       "               msrc_id  :START_ID  \\\n",
       "0 -9223367021478908826        NaN   \n",
       "1 -9223365481314032826        NaN   \n",
       "2 -9223361153568711706        NaN   \n",
       "3 -9223357200775258657        NaN   \n",
       "4 -9223356961959519979        NaN   \n",
       "\n",
       "                                      inOutkey              type:TYPE  \\\n",
       "0   [5747547533469447186, 6031869671835980567]  FunctionalAssociation   \n",
       "1  [5445426109658919917, -2285403010002775161]  FunctionalAssociation   \n",
       "2  [3492638404650443242, -6868785757227974641]  FunctionalAssociation   \n",
       "3  [1596328558605610184, -8708891732207432195]         CellExpression   \n",
       "4   [4541556823765750071, 3096071376414863663]         CellExpression   \n",
       "\n",
       "   relationship effect mechanism  ref_count:int  :END_ID                  id2  \\\n",
       "0           NaN    NaN       NaN              1      NaN -9223367021478908826   \n",
       "1           NaN    NaN       NaN              1      NaN -9223365481314032826   \n",
       "2           NaN    NaN       NaN              1      NaN -9223361153568711706   \n",
       "3           NaN    NaN       NaN              8      NaN -9223357200775258657   \n",
       "4           NaN    NaN       NaN              1      NaN -9223356961959519979   \n",
       "\n",
       "   biomarkertype celllinename celltype changetype   organ  \\\n",
       "0            NaN          NaN      NaN        NaN   liver   \n",
       "1            NaN          NaN      NaN        NaN     leg   \n",
       "2            NaN          NaN      NaN        NaN   brain   \n",
       "3            NaN   MDA-MB-231      NaN        NaN  breast   \n",
       "4            NaN        A2058      NaN        NaN     NaN   \n",
       "\n",
       "                                            organism  quantitativetype tissue  \n",
       "0                                                NaN               NaN    NaN  \n",
       "1                                                NaN               NaN    NaN  \n",
       "2                               Mus musculus (mouse)               NaN    NaN  \n",
       "3  Homo sapiens (human), Oryctolagus cuniculus (r...               NaN  serum  \n",
       "4                                                NaN               NaN    NaN  "
      ]
     },
     "execution_count": 10,
     "metadata": {},
     "output_type": "execute_result"
    }
   ],
   "source": [
    "df_birect.columns=['msrc_id', ':START_ID', 'inOutkey', 'type:TYPE', 'relationship', 'effect', 'mechanism', 'ref_count:int', ':END_ID' , 'id2', 'biomarkertype', 'celllinename', 'celltype',\n",
    "      'changetype', 'organ', 'organism', 'quantitativetype', 'tissue']\n",
    "\n",
    "df_birect.head()"
   ]
  },
  {
   "cell_type": "code",
   "execution_count": 11,
   "metadata": {
    "execution": {
     "iopub.execute_input": "2024-06-19T13:32:44.330122Z",
     "iopub.status.busy": "2024-06-19T13:32:44.329824Z",
     "iopub.status.idle": "2024-06-19T13:32:58.825334Z",
     "shell.execute_reply": "2024-06-19T13:32:58.824485Z",
     "shell.execute_reply.started": "2024-06-19T13:32:44.330098Z"
    },
    "tags": []
   },
   "outputs": [
    {
     "data": {
      "text/plain": [
       "5460397"
      ]
     },
     "execution_count": 11,
     "metadata": {},
     "output_type": "execute_result"
    },
    {
     "data": {
      "text/plain": [
       "5460397"
      ]
     },
     "execution_count": 11,
     "metadata": {},
     "output_type": "execute_result"
    },
    {
     "data": {
      "text/plain": [
       "['5747547533469447186',\n",
       " '5445426109658919917',\n",
       " '3492638404650443242',\n",
       " '1596328558605610184',\n",
       " '4541556823765750071']"
      ]
     },
     "execution_count": 11,
     "metadata": {},
     "output_type": "execute_result"
    },
    {
     "data": {
      "text/plain": [
       "['6031869671835980567',\n",
       " '-2285403010002775161',\n",
       " '-6868785757227974641',\n",
       " '-8708891732207432195',\n",
       " '3096071376414863663']"
      ]
     },
     "execution_count": 11,
     "metadata": {},
     "output_type": "execute_result"
    }
   ],
   "source": [
    "# create separate columns for inOutkeys\n",
    "first_ids, second_ids = inOutkeys_to_lists(df_birect)\n",
    "\n",
    "len(first_ids); len(second_ids)\n",
    "first_ids[:5]; second_ids[:5]"
   ]
  },
  {
   "cell_type": "code",
   "execution_count": 12,
   "metadata": {
    "Collapsed": "false",
    "execution": {
     "iopub.execute_input": "2024-06-19T13:32:58.828033Z",
     "iopub.status.busy": "2024-06-19T13:32:58.826963Z",
     "iopub.status.idle": "2024-06-19T13:33:08.126693Z",
     "shell.execute_reply": "2024-06-19T13:33:08.124976Z",
     "shell.execute_reply.started": "2024-06-19T13:32:58.827992Z"
    },
    "tags": []
   },
   "outputs": [],
   "source": [
    "df_birect_1=df_birect.copy()\n",
    "df_birect_1.drop(columns=['inOutkey', 'id2', 'relationship'], inplace=True)"
   ]
  },
  {
   "cell_type": "code",
   "execution_count": 13,
   "metadata": {
    "Collapsed": "false",
    "execution": {
     "iopub.execute_input": "2024-06-19T13:33:12.324524Z",
     "iopub.status.busy": "2024-06-19T13:33:12.324107Z",
     "iopub.status.idle": "2024-06-19T13:33:14.140474Z",
     "shell.execute_reply": "2024-06-19T13:33:14.139148Z",
     "shell.execute_reply.started": "2024-06-19T13:33:12.324490Z"
    },
    "tags": []
   },
   "outputs": [
    {
     "name": "stdout",
     "output_type": "stream",
     "text": [
      "<class 'pandas.core.frame.DataFrame'>\n",
      "RangeIndex: 5460397 entries, 0 to 5460396\n",
      "Data columns (total 15 columns):\n",
      " #   Column            Dtype  \n",
      "---  ------            -----  \n",
      " 0   msrc_id           int64  \n",
      " 1   :START_ID         object \n",
      " 2   type:TYPE         object \n",
      " 3   effect            object \n",
      " 4   mechanism         object \n",
      " 5   ref_count:int     int64  \n",
      " 6   :END_ID           object \n",
      " 7   biomarkertype     float64\n",
      " 8   celllinename      object \n",
      " 9   celltype          object \n",
      " 10  changetype        object \n",
      " 11  organ             object \n",
      " 12  organism          object \n",
      " 13  quantitativetype  float64\n",
      " 14  tissue            object \n",
      "dtypes: float64(2), int64(2), object(11)\n",
      "memory usage: 624.9+ MB\n"
     ]
    },
    {
     "data": {
      "text/html": [
       "<div>\n",
       "<style scoped>\n",
       "    .dataframe tbody tr th:only-of-type {\n",
       "        vertical-align: middle;\n",
       "    }\n",
       "\n",
       "    .dataframe tbody tr th {\n",
       "        vertical-align: top;\n",
       "    }\n",
       "\n",
       "    .dataframe thead th {\n",
       "        text-align: right;\n",
       "    }\n",
       "</style>\n",
       "<table border=\"1\" class=\"dataframe\">\n",
       "  <thead>\n",
       "    <tr style=\"text-align: right;\">\n",
       "      <th></th>\n",
       "      <th>msrc_id</th>\n",
       "      <th>:START_ID</th>\n",
       "      <th>type:TYPE</th>\n",
       "      <th>effect</th>\n",
       "      <th>mechanism</th>\n",
       "      <th>ref_count:int</th>\n",
       "      <th>:END_ID</th>\n",
       "      <th>biomarkertype</th>\n",
       "      <th>celllinename</th>\n",
       "      <th>celltype</th>\n",
       "      <th>changetype</th>\n",
       "      <th>organ</th>\n",
       "      <th>organism</th>\n",
       "      <th>quantitativetype</th>\n",
       "      <th>tissue</th>\n",
       "    </tr>\n",
       "  </thead>\n",
       "  <tbody>\n",
       "    <tr>\n",
       "      <th>0</th>\n",
       "      <td>-9223367021478908826</td>\n",
       "      <td>5747547533469447186</td>\n",
       "      <td>FunctionalAssociation</td>\n",
       "      <td>NaN</td>\n",
       "      <td>NaN</td>\n",
       "      <td>1</td>\n",
       "      <td>6031869671835980567</td>\n",
       "      <td>NaN</td>\n",
       "      <td>NaN</td>\n",
       "      <td>NaN</td>\n",
       "      <td>NaN</td>\n",
       "      <td>liver</td>\n",
       "      <td>NaN</td>\n",
       "      <td>NaN</td>\n",
       "      <td>NaN</td>\n",
       "    </tr>\n",
       "    <tr>\n",
       "      <th>1</th>\n",
       "      <td>-9223365481314032826</td>\n",
       "      <td>5445426109658919917</td>\n",
       "      <td>FunctionalAssociation</td>\n",
       "      <td>NaN</td>\n",
       "      <td>NaN</td>\n",
       "      <td>1</td>\n",
       "      <td>-2285403010002775161</td>\n",
       "      <td>NaN</td>\n",
       "      <td>NaN</td>\n",
       "      <td>NaN</td>\n",
       "      <td>NaN</td>\n",
       "      <td>leg</td>\n",
       "      <td>NaN</td>\n",
       "      <td>NaN</td>\n",
       "      <td>NaN</td>\n",
       "    </tr>\n",
       "    <tr>\n",
       "      <th>2</th>\n",
       "      <td>-9223361153568711706</td>\n",
       "      <td>3492638404650443242</td>\n",
       "      <td>FunctionalAssociation</td>\n",
       "      <td>NaN</td>\n",
       "      <td>NaN</td>\n",
       "      <td>1</td>\n",
       "      <td>-6868785757227974641</td>\n",
       "      <td>NaN</td>\n",
       "      <td>NaN</td>\n",
       "      <td>NaN</td>\n",
       "      <td>NaN</td>\n",
       "      <td>brain</td>\n",
       "      <td>Mus musculus (mouse)</td>\n",
       "      <td>NaN</td>\n",
       "      <td>NaN</td>\n",
       "    </tr>\n",
       "    <tr>\n",
       "      <th>3</th>\n",
       "      <td>-9223357200775258657</td>\n",
       "      <td>1596328558605610184</td>\n",
       "      <td>CellExpression</td>\n",
       "      <td>NaN</td>\n",
       "      <td>NaN</td>\n",
       "      <td>8</td>\n",
       "      <td>-8708891732207432195</td>\n",
       "      <td>NaN</td>\n",
       "      <td>MDA-MB-231</td>\n",
       "      <td>NaN</td>\n",
       "      <td>NaN</td>\n",
       "      <td>breast</td>\n",
       "      <td>Homo sapiens (human), Oryctolagus cuniculus (r...</td>\n",
       "      <td>NaN</td>\n",
       "      <td>serum</td>\n",
       "    </tr>\n",
       "    <tr>\n",
       "      <th>4</th>\n",
       "      <td>-9223356961959519979</td>\n",
       "      <td>4541556823765750071</td>\n",
       "      <td>CellExpression</td>\n",
       "      <td>NaN</td>\n",
       "      <td>NaN</td>\n",
       "      <td>1</td>\n",
       "      <td>3096071376414863663</td>\n",
       "      <td>NaN</td>\n",
       "      <td>A2058</td>\n",
       "      <td>NaN</td>\n",
       "      <td>NaN</td>\n",
       "      <td>NaN</td>\n",
       "      <td>NaN</td>\n",
       "      <td>NaN</td>\n",
       "      <td>NaN</td>\n",
       "    </tr>\n",
       "  </tbody>\n",
       "</table>\n",
       "</div>"
      ],
      "text/plain": [
       "               msrc_id            :START_ID              type:TYPE effect  \\\n",
       "0 -9223367021478908826  5747547533469447186  FunctionalAssociation    NaN   \n",
       "1 -9223365481314032826  5445426109658919917  FunctionalAssociation    NaN   \n",
       "2 -9223361153568711706  3492638404650443242  FunctionalAssociation    NaN   \n",
       "3 -9223357200775258657  1596328558605610184         CellExpression    NaN   \n",
       "4 -9223356961959519979  4541556823765750071         CellExpression    NaN   \n",
       "\n",
       "  mechanism  ref_count:int               :END_ID  biomarkertype celllinename  \\\n",
       "0       NaN              1   6031869671835980567            NaN          NaN   \n",
       "1       NaN              1  -2285403010002775161            NaN          NaN   \n",
       "2       NaN              1  -6868785757227974641            NaN          NaN   \n",
       "3       NaN              8  -8708891732207432195            NaN   MDA-MB-231   \n",
       "4       NaN              1   3096071376414863663            NaN        A2058   \n",
       "\n",
       "  celltype changetype   organ  \\\n",
       "0      NaN        NaN   liver   \n",
       "1      NaN        NaN     leg   \n",
       "2      NaN        NaN   brain   \n",
       "3      NaN        NaN  breast   \n",
       "4      NaN        NaN     NaN   \n",
       "\n",
       "                                            organism  quantitativetype tissue  \n",
       "0                                                NaN               NaN    NaN  \n",
       "1                                                NaN               NaN    NaN  \n",
       "2                               Mus musculus (mouse)               NaN    NaN  \n",
       "3  Homo sapiens (human), Oryctolagus cuniculus (r...               NaN  serum  \n",
       "4                                                NaN               NaN    NaN  "
      ]
     },
     "execution_count": 13,
     "metadata": {},
     "output_type": "execute_result"
    }
   ],
   "source": [
    "df_birect_1[':START_ID']=first_ids\n",
    "df_birect_1[':END_ID']=second_ids\n",
    "df_birect_1.info(); df_birect_1.head()"
   ]
  },
  {
   "cell_type": "code",
   "execution_count": 14,
   "metadata": {
    "Collapsed": "false",
    "execution": {
     "iopub.execute_input": "2024-06-19T13:33:16.962991Z",
     "iopub.status.busy": "2024-06-19T13:33:16.962359Z",
     "iopub.status.idle": "2024-06-19T13:33:18.907936Z",
     "shell.execute_reply": "2024-06-19T13:33:18.906697Z",
     "shell.execute_reply.started": "2024-06-19T13:33:16.962967Z"
    },
    "tags": []
   },
   "outputs": [
    {
     "name": "stdout",
     "output_type": "stream",
     "text": [
      "<class 'pandas.core.frame.DataFrame'>\n",
      "RangeIndex: 5460397 entries, 0 to 5460396\n",
      "Data columns (total 15 columns):\n",
      " #   Column            Dtype  \n",
      "---  ------            -----  \n",
      " 0   msrc_id           int64  \n",
      " 1   :START_ID         int64  \n",
      " 2   type:TYPE         object \n",
      " 3   effect            object \n",
      " 4   mechanism         object \n",
      " 5   ref_count:int     int16  \n",
      " 6   :END_ID           int64  \n",
      " 7   biomarkertype     float64\n",
      " 8   celllinename      object \n",
      " 9   celltype          object \n",
      " 10  changetype        object \n",
      " 11  organ             object \n",
      " 12  organism          object \n",
      " 13  quantitativetype  float64\n",
      " 14  tissue            object \n",
      "dtypes: float64(2), int16(1), int64(3), object(9)\n",
      "memory usage: 593.6+ MB\n"
     ]
    }
   ],
   "source": [
    "df_birect_1[':START_ID']=df_birect_1[':START_ID'].astype('int64')\n",
    "df_birect_1[':END_ID']=df_birect_1[':END_ID'].astype('int64')\n",
    "df_birect_1['ref_count:int']=df_birect_1['ref_count:int'].astype('int16')\n",
    "\n",
    "df_birect_1.info()"
   ]
  },
  {
   "cell_type": "code",
   "execution_count": 15,
   "metadata": {
    "execution": {
     "iopub.execute_input": "2024-06-19T13:33:22.554691Z",
     "iopub.status.busy": "2024-06-19T13:33:22.554423Z",
     "iopub.status.idle": "2024-06-19T13:34:02.370101Z",
     "shell.execute_reply": "2024-06-19T13:34:02.368679Z",
     "shell.execute_reply.started": "2024-06-19T13:33:22.554668Z"
    },
    "tags": []
   },
   "outputs": [
    {
     "name": "stdout",
     "output_type": "stream",
     "text": [
      "<class 'pandas.core.frame.DataFrame'>\n",
      "RangeIndex: 5460397 entries, 0 to 5460396\n",
      "Data columns (total 15 columns):\n",
      " #   Column            Dtype   \n",
      "---  ------            -----   \n",
      " 0   msrc_id           int64   \n",
      " 1   :START_ID         int64   \n",
      " 2   type:TYPE         category\n",
      " 3   effect            category\n",
      " 4   mechanism         category\n",
      " 5   ref_count:int     int16   \n",
      " 6   :END_ID           int64   \n",
      " 7   biomarkertype     float64 \n",
      " 8   celllinename      category\n",
      " 9   celltype          category\n",
      " 10  changetype        category\n",
      " 11  organ             category\n",
      " 12  organism          category\n",
      " 13  quantitativetype  float64 \n",
      " 14  tissue            category\n",
      "dtypes: category(9), float64(2), int16(1), int64(3)\n",
      "memory usage: 353.9 MB\n"
     ]
    }
   ],
   "source": [
    "# convert to category to save memory\n",
    "df_birect_1=convert_object_to_category(df_birect_1)\n",
    "df_birect_1.info()"
   ]
  },
  {
   "cell_type": "code",
   "execution_count": null,
   "metadata": {
    "Collapsed": "false",
    "tags": []
   },
   "outputs": [],
   "source": [
    "df_birect_1.to_pickle('./data/processed/bidirectional_rels_procd.pkl')"
   ]
  },
  {
   "cell_type": "markdown",
   "metadata": {
    "Collapsed": "false"
   },
   "source": [
    "### Directional"
   ]
  },
  {
   "cell_type": "code",
   "execution_count": 19,
   "metadata": {
    "Collapsed": "false",
    "execution": {
     "iopub.execute_input": "2024-06-19T13:35:49.455416Z",
     "iopub.status.busy": "2024-06-19T13:35:49.454872Z",
     "iopub.status.idle": "2024-06-19T13:36:45.540698Z",
     "shell.execute_reply": "2024-06-19T13:36:45.533207Z",
     "shell.execute_reply.started": "2024-06-19T13:35:49.455371Z"
    },
    "tags": []
   },
   "outputs": [
    {
     "name": "stdout",
     "output_type": "stream",
     "text": [
      "<class 'pandas.core.frame.DataFrame'>\n",
      "RangeIndex: 11151487 entries, 0 to 11151486\n",
      "Data columns (total 18 columns):\n",
      " #   Column  Dtype \n",
      "---  ------  ----- \n",
      " 0   0       int64 \n",
      " 1   1       int64 \n",
      " 2   2       object\n",
      " 3   3       object\n",
      " 4   4       object\n",
      " 5   5       int64 \n",
      " 6   6       int64 \n",
      " 7   7       int64 \n",
      " 8   8       object\n",
      " 9   9       object\n",
      " 10  10      object\n",
      " 11  11      object\n",
      " 12  12      object\n",
      " 13  13      object\n",
      " 14  14      object\n",
      " 15  15      object\n",
      " 16  16      object\n",
      " 17  17      object\n",
      "dtypes: int64(5), object(13)\n",
      "memory usage: 1.5+ GB\n",
      "CPU times: user 16.5 s, sys: 8.8 s, total: 25.3 s\n",
      "Wall time: 56 s\n"
     ]
    },
    {
     "data": {
      "text/html": [
       "<div>\n",
       "<style scoped>\n",
       "    .dataframe tbody tr th:only-of-type {\n",
       "        vertical-align: middle;\n",
       "    }\n",
       "\n",
       "    .dataframe tbody tr th {\n",
       "        vertical-align: top;\n",
       "    }\n",
       "\n",
       "    .dataframe thead th {\n",
       "        text-align: right;\n",
       "    }\n",
       "</style>\n",
       "<table border=\"1\" class=\"dataframe\">\n",
       "  <thead>\n",
       "    <tr style=\"text-align: right;\">\n",
       "      <th></th>\n",
       "      <th>0</th>\n",
       "      <th>1</th>\n",
       "      <th>2</th>\n",
       "      <th>3</th>\n",
       "      <th>4</th>\n",
       "      <th>5</th>\n",
       "      <th>6</th>\n",
       "      <th>7</th>\n",
       "      <th>8</th>\n",
       "      <th>9</th>\n",
       "      <th>10</th>\n",
       "      <th>11</th>\n",
       "      <th>12</th>\n",
       "      <th>13</th>\n",
       "      <th>14</th>\n",
       "      <th>15</th>\n",
       "      <th>16</th>\n",
       "      <th>17</th>\n",
       "    </tr>\n",
       "  </thead>\n",
       "  <tbody>\n",
       "    <tr>\n",
       "      <th>0</th>\n",
       "      <td>-9223368466750536065</td>\n",
       "      <td>2590362169334839073</td>\n",
       "      <td>Regulation</td>\n",
       "      <td>NaN</td>\n",
       "      <td>NaN</td>\n",
       "      <td>2</td>\n",
       "      <td>3888856228337743280</td>\n",
       "      <td>-9223368466750536065</td>\n",
       "      <td>NaN</td>\n",
       "      <td>NaN</td>\n",
       "      <td>NaN</td>\n",
       "      <td>NaN</td>\n",
       "      <td>NaN</td>\n",
       "      <td>NaN</td>\n",
       "      <td>NaN</td>\n",
       "      <td>NaN</td>\n",
       "      <td>NaN</td>\n",
       "      <td>NaN</td>\n",
       "    </tr>\n",
       "    <tr>\n",
       "      <th>1</th>\n",
       "      <td>-9223366135359139662</td>\n",
       "      <td>6434163658456377940</td>\n",
       "      <td>MolSynthesis</td>\n",
       "      <td>NaN</td>\n",
       "      <td>NaN</td>\n",
       "      <td>3</td>\n",
       "      <td>4596447325930325903</td>\n",
       "      <td>-9223366135359139662</td>\n",
       "      <td>NaN</td>\n",
       "      <td>NaN</td>\n",
       "      <td>NaN</td>\n",
       "      <td>NaN</td>\n",
       "      <td>NaN</td>\n",
       "      <td>NaN</td>\n",
       "      <td>NaN</td>\n",
       "      <td>NaN</td>\n",
       "      <td>NaN</td>\n",
       "      <td>NaN</td>\n",
       "    </tr>\n",
       "    <tr>\n",
       "      <th>2</th>\n",
       "      <td>-9223365986387833915</td>\n",
       "      <td>-4129340824583713637</td>\n",
       "      <td>Regulation</td>\n",
       "      <td>NaN</td>\n",
       "      <td>NaN</td>\n",
       "      <td>1</td>\n",
       "      <td>-2983484129356197270</td>\n",
       "      <td>-9223365986387833915</td>\n",
       "      <td>NaN</td>\n",
       "      <td>NaN</td>\n",
       "      <td>NaN</td>\n",
       "      <td>NaN</td>\n",
       "      <td>intestine</td>\n",
       "      <td>Rattus norvegicus (rat)</td>\n",
       "      <td>NaN</td>\n",
       "      <td>NaN</td>\n",
       "      <td>NaN</td>\n",
       "      <td>NaN</td>\n",
       "    </tr>\n",
       "    <tr>\n",
       "      <th>3</th>\n",
       "      <td>-9223365556180770043</td>\n",
       "      <td>7111680438658927661</td>\n",
       "      <td>Regulation</td>\n",
       "      <td>NaN</td>\n",
       "      <td>NaN</td>\n",
       "      <td>1</td>\n",
       "      <td>-3121142714757276759</td>\n",
       "      <td>-9223365556180770043</td>\n",
       "      <td>NaN</td>\n",
       "      <td>NaN</td>\n",
       "      <td>NaN</td>\n",
       "      <td>NaN</td>\n",
       "      <td>NaN</td>\n",
       "      <td>NaN</td>\n",
       "      <td>NaN</td>\n",
       "      <td>serum</td>\n",
       "      <td>NaN</td>\n",
       "      <td>NaN</td>\n",
       "    </tr>\n",
       "    <tr>\n",
       "      <th>4</th>\n",
       "      <td>-9223365466130767478</td>\n",
       "      <td>-8447327320654612427</td>\n",
       "      <td>Regulation</td>\n",
       "      <td>NaN</td>\n",
       "      <td>NaN</td>\n",
       "      <td>9</td>\n",
       "      <td>-1646880163763186214</td>\n",
       "      <td>-9223365466130767478</td>\n",
       "      <td>NaN</td>\n",
       "      <td>TOV-112D</td>\n",
       "      <td>B-cell, endothelial cell</td>\n",
       "      <td>NaN</td>\n",
       "      <td>peripheral nervous system, synovial membrane</td>\n",
       "      <td>NaN</td>\n",
       "      <td>NaN</td>\n",
       "      <td>NaN</td>\n",
       "      <td>NaN</td>\n",
       "      <td>NaN</td>\n",
       "    </tr>\n",
       "  </tbody>\n",
       "</table>\n",
       "</div>"
      ],
      "text/plain": [
       "                    0                    1             2    3    4   5   \\\n",
       "0 -9223368466750536065  2590362169334839073    Regulation  NaN  NaN   2   \n",
       "1 -9223366135359139662  6434163658456377940  MolSynthesis  NaN  NaN   3   \n",
       "2 -9223365986387833915 -4129340824583713637    Regulation  NaN  NaN   1   \n",
       "3 -9223365556180770043  7111680438658927661    Regulation  NaN  NaN   1   \n",
       "4 -9223365466130767478 -8447327320654612427    Regulation  NaN  NaN   9   \n",
       "\n",
       "                    6                    7    8         9   \\\n",
       "0  3888856228337743280 -9223368466750536065  NaN       NaN   \n",
       "1  4596447325930325903 -9223366135359139662  NaN       NaN   \n",
       "2 -2983484129356197270 -9223365986387833915  NaN       NaN   \n",
       "3 -3121142714757276759 -9223365556180770043  NaN       NaN   \n",
       "4 -1646880163763186214 -9223365466130767478  NaN  TOV-112D   \n",
       "\n",
       "                         10   11  \\\n",
       "0                       NaN  NaN   \n",
       "1                       NaN  NaN   \n",
       "2                       NaN  NaN   \n",
       "3                       NaN  NaN   \n",
       "4  B-cell, endothelial cell  NaN   \n",
       "\n",
       "                                             12                       13   14  \\\n",
       "0                                           NaN                      NaN  NaN   \n",
       "1                                           NaN                      NaN  NaN   \n",
       "2                                     intestine  Rattus norvegicus (rat)  NaN   \n",
       "3                                           NaN                      NaN  NaN   \n",
       "4  peripheral nervous system, synovial membrane                      NaN  NaN   \n",
       "\n",
       "      15   16   17  \n",
       "0    NaN  NaN  NaN  \n",
       "1    NaN  NaN  NaN  \n",
       "2    NaN  NaN  NaN  \n",
       "3  serum  NaN  NaN  \n",
       "4    NaN  NaN  NaN  "
      ]
     },
     "execution_count": 19,
     "metadata": {},
     "output_type": "execute_result"
    }
   ],
   "source": [
    "%%time\n",
    "\n",
    "df_direct=pd.read_csv('./data/processed/directional_rels_raw.txt', sep='|', encoding='utf-8', header=None)\n",
    "\n",
    "df_direct.info(); df_direct.head()"
   ]
  },
  {
   "cell_type": "code",
   "execution_count": 20,
   "metadata": {
    "Collapsed": "false",
    "execution": {
     "iopub.execute_input": "2024-06-19T13:36:49.250418Z",
     "iopub.status.busy": "2024-06-19T13:36:49.250067Z",
     "iopub.status.idle": "2024-06-19T13:36:49.360716Z",
     "shell.execute_reply": "2024-06-19T13:36:49.359600Z",
     "shell.execute_reply.started": "2024-06-19T13:36:49.250391Z"
    },
    "tags": []
   },
   "outputs": [],
   "source": [
    "df_direct.columns=['msrc_id', ':START_ID', 'type:TYPE', 'effect', 'mechanism', 'ref_count:int', ':END_ID' , 'id2', \\\n",
    "            'biomarkertype', 'celllinename', 'celltype', 'changetype', 'organ', 'organism', 'quantitativetype', \\\n",
    "            'tissue', 'nct_id', 'phase']"
   ]
  },
  {
   "cell_type": "code",
   "execution_count": 21,
   "metadata": {
    "execution": {
     "iopub.execute_input": "2024-06-19T13:36:50.314902Z",
     "iopub.status.busy": "2024-06-19T13:36:50.314062Z",
     "iopub.status.idle": "2024-06-19T13:36:50.420890Z",
     "shell.execute_reply": "2024-06-19T13:36:50.416314Z",
     "shell.execute_reply.started": "2024-06-19T13:36:50.314868Z"
    },
    "tags": []
   },
   "outputs": [
    {
     "name": "stdout",
     "output_type": "stream",
     "text": [
      "<class 'pandas.core.frame.DataFrame'>\n",
      "RangeIndex: 11151487 entries, 0 to 11151486\n",
      "Data columns (total 18 columns):\n",
      " #   Column            Dtype \n",
      "---  ------            ----- \n",
      " 0   msrc_id           int64 \n",
      " 1   :START_ID         int64 \n",
      " 2   type:TYPE         object\n",
      " 3   effect            object\n",
      " 4   mechanism         object\n",
      " 5   ref_count:int     int64 \n",
      " 6   :END_ID           int64 \n",
      " 7   id2               int64 \n",
      " 8   biomarkertype     object\n",
      " 9   celllinename      object\n",
      " 10  celltype          object\n",
      " 11  changetype        object\n",
      " 12  organ             object\n",
      " 13  organism          object\n",
      " 14  quantitativetype  object\n",
      " 15  tissue            object\n",
      " 16  nct_id            object\n",
      " 17  phase             object\n",
      "dtypes: int64(5), object(13)\n",
      "memory usage: 1.5+ GB\n"
     ]
    },
    {
     "data": {
      "text/html": [
       "<div>\n",
       "<style scoped>\n",
       "    .dataframe tbody tr th:only-of-type {\n",
       "        vertical-align: middle;\n",
       "    }\n",
       "\n",
       "    .dataframe tbody tr th {\n",
       "        vertical-align: top;\n",
       "    }\n",
       "\n",
       "    .dataframe thead th {\n",
       "        text-align: right;\n",
       "    }\n",
       "</style>\n",
       "<table border=\"1\" class=\"dataframe\">\n",
       "  <thead>\n",
       "    <tr style=\"text-align: right;\">\n",
       "      <th></th>\n",
       "      <th>msrc_id</th>\n",
       "      <th>:START_ID</th>\n",
       "      <th>type:TYPE</th>\n",
       "      <th>effect</th>\n",
       "      <th>mechanism</th>\n",
       "      <th>ref_count:int</th>\n",
       "      <th>:END_ID</th>\n",
       "      <th>id2</th>\n",
       "      <th>biomarkertype</th>\n",
       "      <th>celllinename</th>\n",
       "      <th>celltype</th>\n",
       "      <th>changetype</th>\n",
       "      <th>organ</th>\n",
       "      <th>organism</th>\n",
       "      <th>quantitativetype</th>\n",
       "      <th>tissue</th>\n",
       "      <th>nct_id</th>\n",
       "      <th>phase</th>\n",
       "    </tr>\n",
       "  </thead>\n",
       "  <tbody>\n",
       "    <tr>\n",
       "      <th>0</th>\n",
       "      <td>-9223368466750536065</td>\n",
       "      <td>2590362169334839073</td>\n",
       "      <td>Regulation</td>\n",
       "      <td>NaN</td>\n",
       "      <td>NaN</td>\n",
       "      <td>2</td>\n",
       "      <td>3888856228337743280</td>\n",
       "      <td>-9223368466750536065</td>\n",
       "      <td>NaN</td>\n",
       "      <td>NaN</td>\n",
       "      <td>NaN</td>\n",
       "      <td>NaN</td>\n",
       "      <td>NaN</td>\n",
       "      <td>NaN</td>\n",
       "      <td>NaN</td>\n",
       "      <td>NaN</td>\n",
       "      <td>NaN</td>\n",
       "      <td>NaN</td>\n",
       "    </tr>\n",
       "    <tr>\n",
       "      <th>1</th>\n",
       "      <td>-9223366135359139662</td>\n",
       "      <td>6434163658456377940</td>\n",
       "      <td>MolSynthesis</td>\n",
       "      <td>NaN</td>\n",
       "      <td>NaN</td>\n",
       "      <td>3</td>\n",
       "      <td>4596447325930325903</td>\n",
       "      <td>-9223366135359139662</td>\n",
       "      <td>NaN</td>\n",
       "      <td>NaN</td>\n",
       "      <td>NaN</td>\n",
       "      <td>NaN</td>\n",
       "      <td>NaN</td>\n",
       "      <td>NaN</td>\n",
       "      <td>NaN</td>\n",
       "      <td>NaN</td>\n",
       "      <td>NaN</td>\n",
       "      <td>NaN</td>\n",
       "    </tr>\n",
       "    <tr>\n",
       "      <th>2</th>\n",
       "      <td>-9223365986387833915</td>\n",
       "      <td>-4129340824583713637</td>\n",
       "      <td>Regulation</td>\n",
       "      <td>NaN</td>\n",
       "      <td>NaN</td>\n",
       "      <td>1</td>\n",
       "      <td>-2983484129356197270</td>\n",
       "      <td>-9223365986387833915</td>\n",
       "      <td>NaN</td>\n",
       "      <td>NaN</td>\n",
       "      <td>NaN</td>\n",
       "      <td>NaN</td>\n",
       "      <td>intestine</td>\n",
       "      <td>Rattus norvegicus (rat)</td>\n",
       "      <td>NaN</td>\n",
       "      <td>NaN</td>\n",
       "      <td>NaN</td>\n",
       "      <td>NaN</td>\n",
       "    </tr>\n",
       "    <tr>\n",
       "      <th>3</th>\n",
       "      <td>-9223365556180770043</td>\n",
       "      <td>7111680438658927661</td>\n",
       "      <td>Regulation</td>\n",
       "      <td>NaN</td>\n",
       "      <td>NaN</td>\n",
       "      <td>1</td>\n",
       "      <td>-3121142714757276759</td>\n",
       "      <td>-9223365556180770043</td>\n",
       "      <td>NaN</td>\n",
       "      <td>NaN</td>\n",
       "      <td>NaN</td>\n",
       "      <td>NaN</td>\n",
       "      <td>NaN</td>\n",
       "      <td>NaN</td>\n",
       "      <td>NaN</td>\n",
       "      <td>serum</td>\n",
       "      <td>NaN</td>\n",
       "      <td>NaN</td>\n",
       "    </tr>\n",
       "    <tr>\n",
       "      <th>4</th>\n",
       "      <td>-9223365466130767478</td>\n",
       "      <td>-8447327320654612427</td>\n",
       "      <td>Regulation</td>\n",
       "      <td>NaN</td>\n",
       "      <td>NaN</td>\n",
       "      <td>9</td>\n",
       "      <td>-1646880163763186214</td>\n",
       "      <td>-9223365466130767478</td>\n",
       "      <td>NaN</td>\n",
       "      <td>TOV-112D</td>\n",
       "      <td>B-cell, endothelial cell</td>\n",
       "      <td>NaN</td>\n",
       "      <td>peripheral nervous system, synovial membrane</td>\n",
       "      <td>NaN</td>\n",
       "      <td>NaN</td>\n",
       "      <td>NaN</td>\n",
       "      <td>NaN</td>\n",
       "      <td>NaN</td>\n",
       "    </tr>\n",
       "  </tbody>\n",
       "</table>\n",
       "</div>"
      ],
      "text/plain": [
       "               msrc_id            :START_ID     type:TYPE effect mechanism  \\\n",
       "0 -9223368466750536065  2590362169334839073    Regulation    NaN       NaN   \n",
       "1 -9223366135359139662  6434163658456377940  MolSynthesis    NaN       NaN   \n",
       "2 -9223365986387833915 -4129340824583713637    Regulation    NaN       NaN   \n",
       "3 -9223365556180770043  7111680438658927661    Regulation    NaN       NaN   \n",
       "4 -9223365466130767478 -8447327320654612427    Regulation    NaN       NaN   \n",
       "\n",
       "   ref_count:int              :END_ID                  id2 biomarkertype  \\\n",
       "0              2  3888856228337743280 -9223368466750536065           NaN   \n",
       "1              3  4596447325930325903 -9223366135359139662           NaN   \n",
       "2              1 -2983484129356197270 -9223365986387833915           NaN   \n",
       "3              1 -3121142714757276759 -9223365556180770043           NaN   \n",
       "4              9 -1646880163763186214 -9223365466130767478           NaN   \n",
       "\n",
       "  celllinename                  celltype changetype  \\\n",
       "0          NaN                       NaN        NaN   \n",
       "1          NaN                       NaN        NaN   \n",
       "2          NaN                       NaN        NaN   \n",
       "3          NaN                       NaN        NaN   \n",
       "4     TOV-112D  B-cell, endothelial cell        NaN   \n",
       "\n",
       "                                          organ                 organism  \\\n",
       "0                                           NaN                      NaN   \n",
       "1                                           NaN                      NaN   \n",
       "2                                     intestine  Rattus norvegicus (rat)   \n",
       "3                                           NaN                      NaN   \n",
       "4  peripheral nervous system, synovial membrane                      NaN   \n",
       "\n",
       "  quantitativetype tissue nct_id phase  \n",
       "0              NaN    NaN    NaN   NaN  \n",
       "1              NaN    NaN    NaN   NaN  \n",
       "2              NaN    NaN    NaN   NaN  \n",
       "3              NaN  serum    NaN   NaN  \n",
       "4              NaN    NaN    NaN   NaN  "
      ]
     },
     "execution_count": 21,
     "metadata": {},
     "output_type": "execute_result"
    }
   ],
   "source": [
    "df_direct.info(); df_direct.head()"
   ]
  },
  {
   "cell_type": "code",
   "execution_count": 22,
   "metadata": {
    "Collapsed": "false",
    "execution": {
     "iopub.execute_input": "2024-06-19T13:36:52.947960Z",
     "iopub.status.busy": "2024-06-19T13:36:52.947437Z",
     "iopub.status.idle": "2024-06-19T13:36:56.411252Z",
     "shell.execute_reply": "2024-06-19T13:36:56.409686Z",
     "shell.execute_reply.started": "2024-06-19T13:36:52.947928Z"
    },
    "tags": []
   },
   "outputs": [
    {
     "data": {
      "text/html": [
       "<div>\n",
       "<style scoped>\n",
       "    .dataframe tbody tr th:only-of-type {\n",
       "        vertical-align: middle;\n",
       "    }\n",
       "\n",
       "    .dataframe tbody tr th {\n",
       "        vertical-align: top;\n",
       "    }\n",
       "\n",
       "    .dataframe thead th {\n",
       "        text-align: right;\n",
       "    }\n",
       "</style>\n",
       "<table border=\"1\" class=\"dataframe\">\n",
       "  <thead>\n",
       "    <tr style=\"text-align: right;\">\n",
       "      <th></th>\n",
       "      <th>msrc_id</th>\n",
       "      <th>:START_ID</th>\n",
       "      <th>type:TYPE</th>\n",
       "      <th>effect</th>\n",
       "      <th>mechanism</th>\n",
       "      <th>ref_count:int</th>\n",
       "      <th>:END_ID</th>\n",
       "      <th>biomarkertype</th>\n",
       "      <th>celllinename</th>\n",
       "      <th>celltype</th>\n",
       "      <th>changetype</th>\n",
       "      <th>organ</th>\n",
       "      <th>organism</th>\n",
       "      <th>quantitativetype</th>\n",
       "      <th>tissue</th>\n",
       "      <th>nct_id</th>\n",
       "      <th>phase</th>\n",
       "    </tr>\n",
       "  </thead>\n",
       "  <tbody>\n",
       "    <tr>\n",
       "      <th>0</th>\n",
       "      <td>-9223368466750536065</td>\n",
       "      <td>2590362169334839073</td>\n",
       "      <td>Regulation</td>\n",
       "      <td>NaN</td>\n",
       "      <td>NaN</td>\n",
       "      <td>2</td>\n",
       "      <td>3888856228337743280</td>\n",
       "      <td>NaN</td>\n",
       "      <td>NaN</td>\n",
       "      <td>NaN</td>\n",
       "      <td>NaN</td>\n",
       "      <td>NaN</td>\n",
       "      <td>NaN</td>\n",
       "      <td>NaN</td>\n",
       "      <td>NaN</td>\n",
       "      <td>NaN</td>\n",
       "      <td>NaN</td>\n",
       "    </tr>\n",
       "    <tr>\n",
       "      <th>1</th>\n",
       "      <td>-9223366135359139662</td>\n",
       "      <td>6434163658456377940</td>\n",
       "      <td>MolSynthesis</td>\n",
       "      <td>NaN</td>\n",
       "      <td>NaN</td>\n",
       "      <td>3</td>\n",
       "      <td>4596447325930325903</td>\n",
       "      <td>NaN</td>\n",
       "      <td>NaN</td>\n",
       "      <td>NaN</td>\n",
       "      <td>NaN</td>\n",
       "      <td>NaN</td>\n",
       "      <td>NaN</td>\n",
       "      <td>NaN</td>\n",
       "      <td>NaN</td>\n",
       "      <td>NaN</td>\n",
       "      <td>NaN</td>\n",
       "    </tr>\n",
       "    <tr>\n",
       "      <th>2</th>\n",
       "      <td>-9223365986387833915</td>\n",
       "      <td>-4129340824583713637</td>\n",
       "      <td>Regulation</td>\n",
       "      <td>NaN</td>\n",
       "      <td>NaN</td>\n",
       "      <td>1</td>\n",
       "      <td>-2983484129356197270</td>\n",
       "      <td>NaN</td>\n",
       "      <td>NaN</td>\n",
       "      <td>NaN</td>\n",
       "      <td>NaN</td>\n",
       "      <td>intestine</td>\n",
       "      <td>Rattus norvegicus (rat)</td>\n",
       "      <td>NaN</td>\n",
       "      <td>NaN</td>\n",
       "      <td>NaN</td>\n",
       "      <td>NaN</td>\n",
       "    </tr>\n",
       "    <tr>\n",
       "      <th>3</th>\n",
       "      <td>-9223365556180770043</td>\n",
       "      <td>7111680438658927661</td>\n",
       "      <td>Regulation</td>\n",
       "      <td>NaN</td>\n",
       "      <td>NaN</td>\n",
       "      <td>1</td>\n",
       "      <td>-3121142714757276759</td>\n",
       "      <td>NaN</td>\n",
       "      <td>NaN</td>\n",
       "      <td>NaN</td>\n",
       "      <td>NaN</td>\n",
       "      <td>NaN</td>\n",
       "      <td>NaN</td>\n",
       "      <td>NaN</td>\n",
       "      <td>serum</td>\n",
       "      <td>NaN</td>\n",
       "      <td>NaN</td>\n",
       "    </tr>\n",
       "    <tr>\n",
       "      <th>4</th>\n",
       "      <td>-9223365466130767478</td>\n",
       "      <td>-8447327320654612427</td>\n",
       "      <td>Regulation</td>\n",
       "      <td>NaN</td>\n",
       "      <td>NaN</td>\n",
       "      <td>9</td>\n",
       "      <td>-1646880163763186214</td>\n",
       "      <td>NaN</td>\n",
       "      <td>TOV-112D</td>\n",
       "      <td>B-cell, endothelial cell</td>\n",
       "      <td>NaN</td>\n",
       "      <td>peripheral nervous system, synovial membrane</td>\n",
       "      <td>NaN</td>\n",
       "      <td>NaN</td>\n",
       "      <td>NaN</td>\n",
       "      <td>NaN</td>\n",
       "      <td>NaN</td>\n",
       "    </tr>\n",
       "  </tbody>\n",
       "</table>\n",
       "</div>"
      ],
      "text/plain": [
       "               msrc_id            :START_ID     type:TYPE effect mechanism  \\\n",
       "0 -9223368466750536065  2590362169334839073    Regulation    NaN       NaN   \n",
       "1 -9223366135359139662  6434163658456377940  MolSynthesis    NaN       NaN   \n",
       "2 -9223365986387833915 -4129340824583713637    Regulation    NaN       NaN   \n",
       "3 -9223365556180770043  7111680438658927661    Regulation    NaN       NaN   \n",
       "4 -9223365466130767478 -8447327320654612427    Regulation    NaN       NaN   \n",
       "\n",
       "   ref_count:int              :END_ID biomarkertype celllinename  \\\n",
       "0              2  3888856228337743280           NaN          NaN   \n",
       "1              3  4596447325930325903           NaN          NaN   \n",
       "2              1 -2983484129356197270           NaN          NaN   \n",
       "3              1 -3121142714757276759           NaN          NaN   \n",
       "4              9 -1646880163763186214           NaN     TOV-112D   \n",
       "\n",
       "                   celltype changetype  \\\n",
       "0                       NaN        NaN   \n",
       "1                       NaN        NaN   \n",
       "2                       NaN        NaN   \n",
       "3                       NaN        NaN   \n",
       "4  B-cell, endothelial cell        NaN   \n",
       "\n",
       "                                          organ                 organism  \\\n",
       "0                                           NaN                      NaN   \n",
       "1                                           NaN                      NaN   \n",
       "2                                     intestine  Rattus norvegicus (rat)   \n",
       "3                                           NaN                      NaN   \n",
       "4  peripheral nervous system, synovial membrane                      NaN   \n",
       "\n",
       "  quantitativetype tissue nct_id phase  \n",
       "0              NaN    NaN    NaN   NaN  \n",
       "1              NaN    NaN    NaN   NaN  \n",
       "2              NaN    NaN    NaN   NaN  \n",
       "3              NaN  serum    NaN   NaN  \n",
       "4              NaN    NaN    NaN   NaN  "
      ]
     },
     "execution_count": 22,
     "metadata": {},
     "output_type": "execute_result"
    }
   ],
   "source": [
    "df_direct=df_direct.drop(columns=['id2'])\n",
    "\n",
    "df_direct.head()"
   ]
  },
  {
   "cell_type": "code",
   "execution_count": 23,
   "metadata": {
    "execution": {
     "iopub.execute_input": "2024-06-19T13:36:58.435425Z",
     "iopub.status.busy": "2024-06-19T13:36:58.435004Z",
     "iopub.status.idle": "2024-06-19T13:37:01.336495Z",
     "shell.execute_reply": "2024-06-19T13:37:01.335034Z",
     "shell.execute_reply.started": "2024-06-19T13:36:58.435397Z"
    },
    "tags": []
   },
   "outputs": [],
   "source": [
    "df_direct['phase']=df_direct['phase'].fillna('None')"
   ]
  },
  {
   "cell_type": "code",
   "execution_count": 24,
   "metadata": {
    "Collapsed": "false",
    "execution": {
     "iopub.execute_input": "2024-06-19T13:37:16.277637Z",
     "iopub.status.busy": "2024-06-19T13:37:16.277370Z",
     "iopub.status.idle": "2024-06-19T13:39:52.454714Z",
     "shell.execute_reply": "2024-06-19T13:39:52.452536Z",
     "shell.execute_reply.started": "2024-06-19T13:37:16.277615Z"
    },
    "tags": []
   },
   "outputs": [
    {
     "name": "stdout",
     "output_type": "stream",
     "text": [
      "<class 'pandas.core.frame.DataFrame'>\n",
      "RangeIndex: 11151487 entries, 0 to 11151486\n",
      "Data columns (total 17 columns):\n",
      " #   Column            Dtype   \n",
      "---  ------            -----   \n",
      " 0   msrc_id           int64   \n",
      " 1   :START_ID         int64   \n",
      " 2   type:TYPE         category\n",
      " 3   effect            category\n",
      " 4   mechanism         category\n",
      " 5   ref_count:int     int64   \n",
      " 6   :END_ID           int64   \n",
      " 7   biomarkertype     category\n",
      " 8   celllinename      category\n",
      " 9   celltype          category\n",
      " 10  changetype        category\n",
      " 11  organ             category\n",
      " 12  organism          category\n",
      " 13  quantitativetype  category\n",
      " 14  tissue            category\n",
      " 15  nct_id            category\n",
      " 16  phase             category\n",
      "dtypes: category(13), int64(4)\n",
      "memory usage: 719.2 MB\n"
     ]
    }
   ],
   "source": [
    "# convert to category dtype to save memory\n",
    "df_direct=convert_object_to_category(df_direct)\n",
    "    \n",
    "df_direct.info()"
   ]
  },
  {
   "cell_type": "code",
   "execution_count": 25,
   "metadata": {
    "Collapsed": "false",
    "execution": {
     "iopub.execute_input": "2024-06-19T13:39:52.460747Z",
     "iopub.status.busy": "2024-06-19T13:39:52.459952Z",
     "iopub.status.idle": "2024-06-19T13:39:53.591336Z",
     "shell.execute_reply": "2024-06-19T13:39:53.576750Z",
     "shell.execute_reply.started": "2024-06-19T13:39:52.460681Z"
    },
    "tags": []
   },
   "outputs": [],
   "source": [
    "df_direct['ref_count:int']=df_direct['ref_count:int'].astype('int16')"
   ]
  },
  {
   "cell_type": "code",
   "execution_count": 26,
   "metadata": {
    "Collapsed": "false",
    "execution": {
     "iopub.execute_input": "2024-06-19T13:40:04.047315Z",
     "iopub.status.busy": "2024-06-19T13:40:04.046884Z",
     "iopub.status.idle": "2024-06-19T13:40:04.576719Z",
     "shell.execute_reply": "2024-06-19T13:40:04.575595Z",
     "shell.execute_reply.started": "2024-06-19T13:40:04.047287Z"
    },
    "tags": []
   },
   "outputs": [
    {
     "data": {
      "text/plain": [
       "msrc_id             0\n",
       ":START_ID           0\n",
       "type:TYPE           0\n",
       "effect              0\n",
       "mechanism           0\n",
       "ref_count:int       0\n",
       ":END_ID             0\n",
       "biomarkertype       0\n",
       "celllinename        0\n",
       "celltype            0\n",
       "changetype          0\n",
       "organ               0\n",
       "organism            0\n",
       "quantitativetype    0\n",
       "tissue              0\n",
       "nct_id              0\n",
       "phase               0\n",
       "dtype: int64"
      ]
     },
     "execution_count": 26,
     "metadata": {},
     "output_type": "execute_result"
    }
   ],
   "source": [
    "df_direct.isnull().sum()"
   ]
  },
  {
   "cell_type": "code",
   "execution_count": 27,
   "metadata": {
    "Collapsed": "false",
    "execution": {
     "iopub.execute_input": "2024-06-19T13:40:05.982326Z",
     "iopub.status.busy": "2024-06-19T13:40:05.981515Z",
     "iopub.status.idle": "2024-06-19T13:40:06.274020Z",
     "shell.execute_reply": "2024-06-19T13:40:06.272818Z",
     "shell.execute_reply.started": "2024-06-19T13:40:05.982262Z"
    },
    "tags": []
   },
   "outputs": [
    {
     "data": {
      "text/plain": [
       "Regulation               6948309\n",
       "Expression               1064239\n",
       "DirectRegulation          792230\n",
       "QuantitativeChange        561392\n",
       "GeneticChange             549985\n",
       "MolTransport              298336\n",
       "MolSynthesis              193659\n",
       "Biomarker                 174491\n",
       "StateChange               164359\n",
       "ClinicalTrial             140983\n",
       "ProtModification           82540\n",
       "miRNAEffect                72018\n",
       "ChemicalReaction           63542\n",
       "PromoterBinding            45403\n",
       "FunctionalAssociation          1\n",
       "Name: type:TYPE, dtype: int64"
      ]
     },
     "execution_count": 27,
     "metadata": {},
     "output_type": "execute_result"
    }
   ],
   "source": [
    "df_direct['type:TYPE'].value_counts()"
   ]
  },
  {
   "cell_type": "code",
   "execution_count": null,
   "metadata": {
    "Collapsed": "false",
    "tags": []
   },
   "outputs": [],
   "source": [
    "df_direct.to_pickle('./data/processed/directional_rels_procd.pkl')"
   ]
  },
  {
   "cell_type": "markdown",
   "metadata": {
    "Collapsed": "false"
   },
   "source": [
    "### Attributes"
   ]
  },
  {
   "cell_type": "code",
   "execution_count": 28,
   "metadata": {
    "Collapsed": "false",
    "execution": {
     "iopub.execute_input": "2024-06-19T13:40:10.499958Z",
     "iopub.status.busy": "2024-06-19T13:40:10.499366Z",
     "iopub.status.idle": "2024-06-19T13:40:31.565053Z",
     "shell.execute_reply": "2024-06-19T13:40:31.563229Z",
     "shell.execute_reply.started": "2024-06-19T13:40:10.499911Z"
    },
    "tags": []
   },
   "outputs": [
    {
     "name": "stderr",
     "output_type": "stream",
     "text": [
      "<timed exec>:1: DtypeWarning: Columns (3) have mixed types. Specify dtype option on import or set low_memory=False.\n"
     ]
    },
    {
     "name": "stdout",
     "output_type": "stream",
     "text": [
      "<class 'pandas.core.frame.DataFrame'>\n",
      "RangeIndex: 12264718 entries, 0 to 12264717\n",
      "Data columns (total 5 columns):\n",
      " #   Column  Dtype \n",
      "---  ------  ----- \n",
      " 0   0       int64 \n",
      " 1   1       int64 \n",
      " 2   2       int64 \n",
      " 3   3       object\n",
      " 4   4       int64 \n",
      "dtypes: int64(4), object(1)\n",
      "memory usage: 467.9+ MB\n",
      "CPU times: user 6.14 s, sys: 1.89 s, total: 8.03 s\n",
      "Wall time: 21 s\n"
     ]
    },
    {
     "data": {
      "text/html": [
       "<div>\n",
       "<style scoped>\n",
       "    .dataframe tbody tr th:only-of-type {\n",
       "        vertical-align: middle;\n",
       "    }\n",
       "\n",
       "    .dataframe tbody tr th {\n",
       "        vertical-align: top;\n",
       "    }\n",
       "\n",
       "    .dataframe thead th {\n",
       "        text-align: right;\n",
       "    }\n",
       "</style>\n",
       "<table border=\"1\" class=\"dataframe\">\n",
       "  <thead>\n",
       "    <tr style=\"text-align: right;\">\n",
       "      <th></th>\n",
       "      <th>0</th>\n",
       "      <th>1</th>\n",
       "      <th>2</th>\n",
       "      <th>3</th>\n",
       "      <th>4</th>\n",
       "    </tr>\n",
       "  </thead>\n",
       "  <tbody>\n",
       "    <tr>\n",
       "      <th>0</th>\n",
       "      <td>-5796863195923429565</td>\n",
       "      <td>8750092258094575716</td>\n",
       "      <td>-5796863195923429565</td>\n",
       "      <td>is-a</td>\n",
       "      <td>-8777874296820158997</td>\n",
       "    </tr>\n",
       "    <tr>\n",
       "      <th>1</th>\n",
       "      <td>293546921283257022</td>\n",
       "      <td>-6517823221527382077</td>\n",
       "      <td>293546921283257022</td>\n",
       "      <td>NaN</td>\n",
       "      <td>-5326345662687474979</td>\n",
       "    </tr>\n",
       "    <tr>\n",
       "      <th>2</th>\n",
       "      <td>296455145851088043</td>\n",
       "      <td>8038933735751685804</td>\n",
       "      <td>296455145851088043</td>\n",
       "      <td>NaN</td>\n",
       "      <td>1547222595974281177</td>\n",
       "    </tr>\n",
       "    <tr>\n",
       "      <th>3</th>\n",
       "      <td>304327506551372941</td>\n",
       "      <td>-8419665601423615153</td>\n",
       "      <td>304327506551372941</td>\n",
       "      <td>NaN</td>\n",
       "      <td>-8526474292922723918</td>\n",
       "    </tr>\n",
       "    <tr>\n",
       "      <th>4</th>\n",
       "      <td>304546577606020441</td>\n",
       "      <td>6856256389387051829</td>\n",
       "      <td>304546577606020441</td>\n",
       "      <td>NaN</td>\n",
       "      <td>8932347568585589874</td>\n",
       "    </tr>\n",
       "  </tbody>\n",
       "</table>\n",
       "</div>"
      ],
      "text/plain": [
       "                     0                    1                    2     3  \\\n",
       "0 -5796863195923429565  8750092258094575716 -5796863195923429565  is-a   \n",
       "1   293546921283257022 -6517823221527382077   293546921283257022   NaN   \n",
       "2   296455145851088043  8038933735751685804   296455145851088043   NaN   \n",
       "3   304327506551372941 -8419665601423615153   304327506551372941   NaN   \n",
       "4   304546577606020441  6856256389387051829   304546577606020441   NaN   \n",
       "\n",
       "                     4  \n",
       "0 -8777874296820158997  \n",
       "1 -5326345662687474979  \n",
       "2  1547222595974281177  \n",
       "3 -8526474292922723918  \n",
       "4  8932347568585589874  "
      ]
     },
     "execution_count": 28,
     "metadata": {},
     "output_type": "execute_result"
    }
   ],
   "source": [
    "%%time\n",
    "\n",
    "df_att=pd.read_csv('./data/processed/attribute_rels_raw.txt', sep='|', header=None, encoding='utf-8')\n",
    "\n",
    "df_att.info(); df_att.head()"
   ]
  },
  {
   "cell_type": "code",
   "execution_count": 29,
   "metadata": {
    "Collapsed": "false",
    "execution": {
     "iopub.execute_input": "2024-06-19T13:40:44.698984Z",
     "iopub.status.busy": "2024-06-19T13:40:44.698436Z",
     "iopub.status.idle": "2024-06-19T13:40:44.773134Z",
     "shell.execute_reply": "2024-06-19T13:40:44.771440Z",
     "shell.execute_reply.started": "2024-06-19T13:40:44.698935Z"
    },
    "tags": []
   },
   "outputs": [
    {
     "name": "stdout",
     "output_type": "stream",
     "text": [
      "<class 'pandas.core.frame.DataFrame'>\n",
      "RangeIndex: 12264718 entries, 0 to 12264717\n",
      "Data columns (total 5 columns):\n",
      " #   Column     Dtype \n",
      "---  ------     ----- \n",
      " 0   msrc_id    int64 \n",
      " 1   :START_ID  int64 \n",
      " 2   id2        int64 \n",
      " 3   type:TYPE  object\n",
      " 4   :END_ID    int64 \n",
      "dtypes: int64(4), object(1)\n",
      "memory usage: 467.9+ MB\n"
     ]
    }
   ],
   "source": [
    "df_att.columns=['msrc_id', ':START_ID', 'id2', 'type:TYPE', ':END_ID']\n",
    "\n",
    "df_att.info()"
   ]
  },
  {
   "cell_type": "code",
   "execution_count": 30,
   "metadata": {
    "Collapsed": "false",
    "execution": {
     "iopub.execute_input": "2024-06-19T13:40:52.249901Z",
     "iopub.status.busy": "2024-06-19T13:40:52.248941Z",
     "iopub.status.idle": "2024-06-19T13:40:52.643694Z",
     "shell.execute_reply": "2024-06-19T13:40:52.641763Z",
     "shell.execute_reply.started": "2024-06-19T13:40:52.249869Z"
    },
    "tags": []
   },
   "outputs": [
    {
     "data": {
      "text/plain": [
       "is-a             1109167\n",
       "part-of             3336\n",
       "derivative-of        728\n",
       "Name: type:TYPE, dtype: int64"
      ]
     },
     "execution_count": 30,
     "metadata": {},
     "output_type": "execute_result"
    }
   ],
   "source": [
    "df_att['type:TYPE'].value_counts()"
   ]
  },
  {
   "cell_type": "code",
   "execution_count": 31,
   "metadata": {
    "execution": {
     "iopub.execute_input": "2024-06-19T13:59:57.531749Z",
     "iopub.status.busy": "2024-06-19T13:59:57.523441Z",
     "iopub.status.idle": "2024-06-19T14:00:03.685242Z",
     "shell.execute_reply": "2024-06-19T14:00:03.682642Z",
     "shell.execute_reply.started": "2024-06-19T13:59:57.531559Z"
    }
   },
   "outputs": [
    {
     "data": {
      "text/plain": [
       "is_a             1109167\n",
       "part_of             3336\n",
       "derivative_of        728\n",
       "Name: type:TYPE, dtype: int64"
      ]
     },
     "execution_count": 31,
     "metadata": {},
     "output_type": "execute_result"
    }
   ],
   "source": [
    "df_att['type:TYPE'] = df_att['type:TYPE'].str.replace('-', '_')\n",
    "df_att['type:TYPE'].value_counts()"
   ]
  },
  {
   "cell_type": "code",
   "execution_count": null,
   "metadata": {
    "Collapsed": "false",
    "tags": []
   },
   "outputs": [],
   "source": [
    "df_att=df_att.dropna(how='any')\n",
    "\n",
    "df_att.reset_index(drop=True, inplace=True)\n",
    "df_att. info(); df_att.head()"
   ]
  },
  {
   "cell_type": "code",
   "execution_count": null,
   "metadata": {
    "Collapsed": "false",
    "tags": []
   },
   "outputs": [],
   "source": [
    "df_att=df_att.drop(columns=['id2'])\n",
    "\n",
    "df_att.info(); df_att.head()"
   ]
  },
  {
   "cell_type": "code",
   "execution_count": null,
   "metadata": {
    "Collapsed": "false",
    "tags": []
   },
   "outputs": [],
   "source": [
    "# remove any unwanted white space\n",
    "for col in list(df_att.columns):\n",
    "    df_att[col]=df_att[col].apply(lambda x: str(x).strip())"
   ]
  },
  {
   "cell_type": "code",
   "execution_count": null,
   "metadata": {
    "tags": []
   },
   "outputs": [],
   "source": [
    "df_att[':START_ID'] = pd.to_numeric(df_att[':START_ID'], errors='coerce').astype('int64')\n",
    "df_att[':END_ID'] = pd.to_numeric(df_att[':END_ID'], errors='coerce').astype('int64')\n",
    "df_att['type:TYPE']=df_att['type:TYPE'].astype('category')\n"
   ]
  },
  {
   "cell_type": "code",
   "execution_count": null,
   "metadata": {
    "tags": []
   },
   "outputs": [],
   "source": [
    "df_att.head()"
   ]
  },
  {
   "cell_type": "code",
   "execution_count": null,
   "metadata": {},
   "outputs": [],
   "source": [
    "df_att['type:TYPE'].value_counts()"
   ]
  },
  {
   "cell_type": "code",
   "execution_count": null,
   "metadata": {
    "Collapsed": "false",
    "tags": []
   },
   "outputs": [],
   "source": [
    "df_att.to_pickle('./data/processed/attribute_rels_procd.pkl')"
   ]
  },
  {
   "cell_type": "markdown",
   "metadata": {
    "Collapsed": "false"
   },
   "source": [
    "### Concatenate Relationships"
   ]
  },
  {
   "cell_type": "code",
   "execution_count": null,
   "metadata": {
    "Collapsed": "false",
    "tags": []
   },
   "outputs": [],
   "source": [
    "df_directional=pd.read_pickle('./data/processed/directional_rels_procd.pkl')\n",
    "df_directional.head(); df_directional.info()"
   ]
  },
  {
   "cell_type": "code",
   "execution_count": null,
   "metadata": {
    "Collapsed": "false",
    "tags": []
   },
   "outputs": [],
   "source": [
    "df_bidirect=pd.read_pickle('./data/processed/bidirectional_rels_procd.pkl')\n",
    "df_bidirect.head(); df_bidirect.info()"
   ]
  },
  {
   "cell_type": "code",
   "execution_count": null,
   "metadata": {
    "Collapsed": "false",
    "tags": []
   },
   "outputs": [],
   "source": [
    "df_att=pd.read_pickle('./data/processed/attribute_rels_procd.pkl')\n",
    "df_att.head(); df_att.info()"
   ]
  },
  {
   "cell_type": "code",
   "execution_count": null,
   "metadata": {
    "Collapsed": "false",
    "tags": []
   },
   "outputs": [],
   "source": [
    "%%time\n",
    "\n",
    "df_concat=pd.concat([df_directional, df_bidirect, df_att])"
   ]
  },
  {
   "cell_type": "code",
   "execution_count": null,
   "metadata": {
    "Collapsed": "false",
    "tags": []
   },
   "outputs": [],
   "source": [
    "df_concat.info(); df_concat.head()"
   ]
  },
  {
   "cell_type": "code",
   "execution_count": null,
   "metadata": {
    "tags": []
   },
   "outputs": [],
   "source": [
    "for col in df_concat.select_dtypes(include=['category']).columns:\n",
    "    df_concat[col] = df_concat[col].astype('object')"
   ]
  },
  {
   "cell_type": "code",
   "execution_count": null,
   "metadata": {
    "tags": []
   },
   "outputs": [],
   "source": [
    "df_concat.info()"
   ]
  },
  {
   "cell_type": "code",
   "execution_count": null,
   "metadata": {
    "Collapsed": "false",
    "tags": []
   },
   "outputs": [],
   "source": [
    "df_concat.isnull().sum()"
   ]
  },
  {
   "cell_type": "code",
   "execution_count": null,
   "metadata": {
    "Collapsed": "false",
    "tags": []
   },
   "outputs": [],
   "source": [
    "df_concat['ref_count:int'].fillna(0, inplace=True)"
   ]
  },
  {
   "cell_type": "code",
   "execution_count": null,
   "metadata": {
    "Collapsed": "false",
    "tags": []
   },
   "outputs": [],
   "source": [
    "df_concat=df_concat.fillna('None')"
   ]
  },
  {
   "cell_type": "code",
   "execution_count": null,
   "metadata": {
    "tags": []
   },
   "outputs": [],
   "source": [
    "df_concat=df_concat.replace('nan', 'None')"
   ]
  },
  {
   "cell_type": "code",
   "execution_count": null,
   "metadata": {
    "tags": []
   },
   "outputs": [],
   "source": [
    "df_concat.head(); df_concat.info()"
   ]
  },
  {
   "cell_type": "code",
   "execution_count": null,
   "metadata": {
    "Collapsed": "false",
    "tags": []
   },
   "outputs": [],
   "source": [
    "# set ref count dtype\n",
    "df_concat['ref_count:int']=df_concat['ref_count:int'].astype('int16')\n",
    "df_concat['msrc_id']=df_concat['msrc_id'].astype('int64')"
   ]
  },
  {
   "cell_type": "code",
   "execution_count": null,
   "metadata": {
    "Collapsed": "false",
    "tags": []
   },
   "outputs": [],
   "source": [
    "# change object to category to save memory\n",
    "df_concat=convert_object_to_category(df_concat)\n",
    "\n",
    "df_concat.info()"
   ]
  },
  {
   "cell_type": "code",
   "execution_count": null,
   "metadata": {
    "Collapsed": "false",
    "tags": []
   },
   "outputs": [],
   "source": [
    "df_concat.reset_index(drop=True, inplace=True)\n",
    "df_concat.info()"
   ]
  },
  {
   "cell_type": "code",
   "execution_count": null,
   "metadata": {
    "Collapsed": "false",
    "tags": []
   },
   "outputs": [],
   "source": [
    "df_concat.drop_duplicates(inplace=True)\n",
    "df_concat.reset_index(drop=True, inplace=True)\n",
    "\n",
    "df_concat.info()"
   ]
  },
  {
   "cell_type": "code",
   "execution_count": null,
   "metadata": {
    "Collapsed": "false",
    "tags": []
   },
   "outputs": [],
   "source": [
    "df_concat['type:TYPE'].value_counts()\n",
    "df_concat['organ'].value_counts()"
   ]
  },
  {
   "cell_type": "code",
   "execution_count": null,
   "metadata": {
    "Collapsed": "false",
    "tags": []
   },
   "outputs": [],
   "source": [
    "df_concat=df_concat.replace('None', '_')\n",
    "df_concat.info(); df_concat.head()"
   ]
  },
  {
   "cell_type": "code",
   "execution_count": null,
   "metadata": {
    "Collapsed": "false",
    "tags": []
   },
   "outputs": [],
   "source": [
    "df_concat['type:TYPE']=df_concat['type:TYPE'].apply(lambda x: x.upper())\n",
    "df_concat.info(); df_concat.head()"
   ]
  },
  {
   "cell_type": "code",
   "execution_count": null,
   "metadata": {
    "tags": []
   },
   "outputs": [],
   "source": [
    "df_concat[df_concat['ref_count:int']==0]['type:TYPE'].value_counts()"
   ]
  },
  {
   "cell_type": "code",
   "execution_count": null,
   "metadata": {
    "Collapsed": "false",
    "tags": []
   },
   "outputs": [],
   "source": [
    "df_concat['type:TYPE'].value_counts()"
   ]
  },
  {
   "cell_type": "code",
   "execution_count": null,
   "metadata": {
    "tags": []
   },
   "outputs": [],
   "source": [
    "cols=list(df_directional.columns)\n",
    "cols"
   ]
  },
  {
   "cell_type": "code",
   "execution_count": null,
   "metadata": {
    "tags": []
   },
   "outputs": [],
   "source": [
    "df_concat=df_concat[cols]\n",
    "df_concat.head(5)"
   ]
  },
  {
   "cell_type": "code",
   "execution_count": null,
   "metadata": {
    "Collapsed": "false",
    "tags": []
   },
   "outputs": [],
   "source": [
    "%%time\n",
    "df_concat.to_csv('./data/processed/relations.txt', sep='|', index=False, header=True)"
   ]
  },
  {
   "cell_type": "code",
   "execution_count": null,
   "metadata": {
    "Collapsed": "false",
    "tags": []
   },
   "outputs": [],
   "source": [
    "# list of column names for header file\n",
    "cols=list(df_concat.columns)\n",
    "cols"
   ]
  },
  {
   "cell_type": "code",
   "execution_count": null,
   "metadata": {
    "Collapsed": "false",
    "tags": []
   },
   "outputs": [],
   "source": [
    "# create headers file\n",
    "df_rel_headers=pd.DataFrame(columns=cols)\n",
    "df_rel_headers\n",
    "df_rel_headers.to_csv('./data/processed/relations_header.txt', sep= '|', index=False)"
   ]
  },
  {
   "cell_type": "markdown",
   "metadata": {
    "Collapsed": "false"
   },
   "source": [
    "## Nodes"
   ]
  },
  {
   "cell_type": "code",
   "execution_count": null,
   "metadata": {
    "Collapsed": "false",
    "tags": []
   },
   "outputs": [],
   "source": [
    "# define query\n",
    "sql='select id, name, nodetype from resnet18.node where id is not null and name is not null and nodetype is not null'\n"
   ]
  },
  {
   "cell_type": "code",
   "execution_count": null,
   "metadata": {
    "Collapsed": "false",
    "tags": []
   },
   "outputs": [],
   "source": [
    "%%time\n",
    "\n",
    "# save query results to file\n",
    "with conn.cursor() as cur:\n",
    "    with open('./data/raw/nodes_raw.txt', 'w', encoding=\"utf-8\") as f:\n",
    "        cur.execute(sql)\n",
    "        csv_writer=csv.writer(f, delimiter='|')\n",
    "        for record in cur.fetchall():\n",
    "            line=\"|\".join(map(str, record))+'\\n'\n",
    "            \n",
    "            f.write(line)"
   ]
  },
  {
   "cell_type": "markdown",
   "metadata": {
    "Collapsed": "false"
   },
   "source": [
    "### Create Node files"
   ]
  },
  {
   "cell_type": "code",
   "execution_count": null,
   "metadata": {
    "Collapsed": "false",
    "tags": []
   },
   "outputs": [],
   "source": [
    "df_node=pd.read_csv('./data/raw/nodes_raw.txt', delimiter='|', header=None, encoding='utf-8')\n",
    "\n",
    "df_node.info(); df_node.head()"
   ]
  },
  {
   "cell_type": "code",
   "execution_count": null,
   "metadata": {
    "Collapsed": "false",
    "tags": []
   },
   "outputs": [],
   "source": [
    "# create column headers\n",
    "df_node.columns=[':ID', 'name', ':LABEL']\n",
    "df_node.head()"
   ]
  },
  {
   "cell_type": "code",
   "execution_count": null,
   "metadata": {
    "Collapsed": "false",
    "tags": []
   },
   "outputs": [],
   "source": [
    "# df cleanup\n",
    "df_node[':LABEL']=df_node[':LABEL'].apply(lambda x: x.upper())\n",
    "df_node[':LABEL']=df_node[':LABEL'].apply(lambda x: x.strip())\n",
    "df_node['name']=df_node['name'].apply(lambda x: x.strip())\n",
    "df_node[':ID']=df_node[':ID'].apply(lambda x: str(x).strip())  #convert to string and strip()\n",
    "df_node[':ID']=df_node[':ID'].astype('int64')   # convert back to int\n",
    "df_node.info(); df_node.head()"
   ]
  },
  {
   "cell_type": "code",
   "execution_count": null,
   "metadata": {
    "Collapsed": "false",
    "tags": []
   },
   "outputs": [],
   "source": [
    "# check for name strings that are too long\n",
    "df_node['name_len']=df_node['name'].apply(lambda x: len(x))"
   ]
  },
  {
   "cell_type": "code",
   "execution_count": null,
   "metadata": {
    "Collapsed": "false",
    "tags": []
   },
   "outputs": [],
   "source": [
    "df_node.sort_values(by='name_len', ascending=False)"
   ]
  },
  {
   "cell_type": "code",
   "execution_count": null,
   "metadata": {
    "Collapsed": "false",
    "tags": []
   },
   "outputs": [],
   "source": [
    "# Does not seem to be an issue when preprocessing in a Linux environment\n",
    "# Issue is leading quote with no ending quote in sql db for id -7235442027224814239 above\n",
    "# the following is a temp fix unitil resolved in sql db\n",
    "# process long name field\n",
    "\n",
    "x=df_node[df_node[':ID']==-7235442027224814239]['name']\n",
    "long_index=df_node[df_node[':ID']==-7235442027224814239].index[0] #capture index to delete later\n",
    "long_index\n",
    "x=x.to_frame().reset_index()\n",
    "x.info(); x.head()\n",
    "y=x.loc[0,'name']\n",
    "len(y)"
   ]
  },
  {
   "cell_type": "code",
   "execution_count": null,
   "metadata": {
    "Collapsed": "false",
    "scrolled": true,
    "tags": []
   },
   "outputs": [],
   "source": [
    "# parse bad field\n",
    "lst=y.split('\\r\\n')\n",
    "lst=y.split('\\n') # use this if above fails\n",
    "\n",
    "lst[:5]\n",
    "lst[0]='-7235442027224814239|' + lst[0]\n",
    "lst[:5]"
   ]
  },
  {
   "cell_type": "code",
   "execution_count": null,
   "metadata": {
    "Collapsed": "false",
    "tags": []
   },
   "outputs": [],
   "source": [
    "# create list of lists from long name field\n",
    "new_list=[]\n",
    "for i in range(len(lst)):\n",
    "    z=lst[i].split('|')\n",
    "    new_list.append(z)\n",
    "    "
   ]
  },
  {
   "cell_type": "code",
   "execution_count": null,
   "metadata": {
    "Collapsed": "false",
    "tags": []
   },
   "outputs": [],
   "source": [
    "len(new_list)\n",
    "new_list[:5]"
   ]
  },
  {
   "cell_type": "code",
   "execution_count": null,
   "metadata": {
    "Collapsed": "false",
    "tags": []
   },
   "outputs": [],
   "source": [
    "# create df from list of lists\n",
    "df_temp=pd.DataFrame(new_list, columns=[':ID', 'name', ':LABEL'])\n",
    "df_temp.info(); df_temp.head()"
   ]
  },
  {
   "cell_type": "code",
   "execution_count": null,
   "metadata": {
    "Collapsed": "false",
    "tags": []
   },
   "outputs": [],
   "source": [
    "df_temp.dropna(inplace=True)\n",
    "df_temp.info()"
   ]
  },
  {
   "cell_type": "code",
   "execution_count": null,
   "metadata": {
    "Collapsed": "false",
    "tags": []
   },
   "outputs": [],
   "source": [
    "df_temp[':LABEL']=df_temp[':LABEL'].apply(lambda x: x.upper())\n",
    "df_temp.head()"
   ]
  },
  {
   "cell_type": "code",
   "execution_count": null,
   "metadata": {
    "Collapsed": "false",
    "tags": []
   },
   "outputs": [],
   "source": [
    "# combine dfs\n",
    "df_node.drop(int(f'{long_index}'), inplace = True) #drop row with long name field\n",
    "df_node.drop(columns=['name_len'], inplace=True)\n",
    "\n",
    "df_node_new=pd.concat([df_node, df_temp])\n",
    "df_node_new.reset_index(inplace=True, drop=True)\n",
    "df_node_new.info(); df_node_new.head()"
   ]
  },
  {
   "cell_type": "code",
   "execution_count": null,
   "metadata": {
    "Collapsed": "false",
    "tags": []
   },
   "outputs": [],
   "source": [
    "# check for presence of ';;' & ';'\n",
    "df_node_new[df_node_new['name'].str.contains(\";\")]\n",
    "df_node_new[df_node_new['name'].str.contains(\";;\")]"
   ]
  },
  {
   "cell_type": "code",
   "execution_count": null,
   "metadata": {
    "Collapsed": "false",
    "tags": []
   },
   "outputs": [],
   "source": [
    "# convert single and double semi-colons to colons\n",
    "df_node_new['name']=df_node_new['name'].str.replace(';;', ':')\n",
    "df_node_new['name']=df_node_new['name'].str.replace(';', ':')\n"
   ]
  },
  {
   "cell_type": "code",
   "execution_count": null,
   "metadata": {
    "Collapsed": "false",
    "tags": []
   },
   "outputs": [],
   "source": [
    "df_node_new.to_csv('./data/processed/nodes.txt', sep='|', index=False, header=True)"
   ]
  },
  {
   "cell_type": "code",
   "execution_count": null,
   "metadata": {
    "Collapsed": "false",
    "tags": []
   },
   "outputs": [],
   "source": [
    "# create list of column names for header file\n",
    "cols=list(df_node.columns)\n",
    "cols"
   ]
  },
  {
   "cell_type": "code",
   "execution_count": null,
   "metadata": {
    "Collapsed": "false",
    "tags": []
   },
   "outputs": [],
   "source": [
    "# create and save header file\n",
    "node_headers=pd.DataFrame(columns=cols)\n",
    "node_headers\n",
    "node_headers.to_csv('./data/processed/nodes_header.txt', sep='|', index=False)"
   ]
  },
  {
   "cell_type": "code",
   "execution_count": null,
   "metadata": {
    "Collapsed": "false",
    "tags": []
   },
   "outputs": [],
   "source": [
    "conn.close()"
   ]
  },
  {
   "cell_type": "markdown",
   "metadata": {
    "Collapsed": "false"
   },
   "source": [
    "**To load data into Neo4j**, click on 'Add' in the project pane. Name the new project, click on the '...' by the 'Open' button for the project, and choose 'Terminal'. Take note of the dbms number at the cursor. Copy the nodes.txt, nodes_header.txt, relations.txt, and realations_header.txt files pepared above. Drop them in the import file found here: C:\\Users\\\\[user_name]\\\\.Neo4jDesktop\\relate-data\\dbmss\\dbms-##(number at cursor)\\import\n",
    "\n",
    "At the Neo4j terminal, change to the bin directory (type 'cd bin') and then paste the following at the cursor:\n",
    "neo4j-admin import --delimiter=\"|\" --nodes=import/nodes_header.txt, import/nodes.txt --relationships=import/relations_header.txt, import/relations.txt --skip-bad-relationships=true\n",
    "\n",
    "Go back to the project pane, press 'Start'. The active database will now be shown in a pane at the top. Press open to use in the Neo4j browser."
   ]
  }
 ],
 "metadata": {
  "kernelspec": {
   "display_name": "psg_sqlDB",
   "language": "python",
   "name": "psg_sqldb"
  },
  "language_info": {
   "codemirror_mode": {
    "name": "ipython",
    "version": 3
   },
   "file_extension": ".py",
   "mimetype": "text/x-python",
   "name": "python",
   "nbconvert_exporter": "python",
   "pygments_lexer": "ipython3",
   "version": "3.8.13"
  },
  "toc-autonumbering": false,
  "toc-showcode": false,
  "toc-showmarkdowntxt": false
 },
 "nbformat": 4,
 "nbformat_minor": 4
}
