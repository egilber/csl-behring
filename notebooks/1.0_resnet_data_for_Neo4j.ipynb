{
 "cells": [
  {
   "cell_type": "code",
   "execution_count": 1,
   "metadata": {
    "Collapsed": "false",
    "tags": []
   },
   "outputs": [],
   "source": [
    "%reload_ext autoreload\n",
    "%autoreload 2\n",
    "%matplotlib inline"
   ]
  },
  {
   "cell_type": "code",
   "execution_count": 2,
   "metadata": {
    "Collapsed": "false",
    "pycharm": {
     "is_executing": false
    },
    "tags": []
   },
   "outputs": [],
   "source": [
    "%%capture   \n",
    "%pwd\n"
   ]
  },
  {
   "cell_type": "code",
   "execution_count": 3,
   "metadata": {
    "Collapsed": "false",
    "tags": []
   },
   "outputs": [],
   "source": [
    "%%capture\n",
    "cd .."
   ]
  },
  {
   "cell_type": "code",
   "execution_count": 4,
   "metadata": {
    "Collapsed": "false",
    "pycharm": {
     "is_executing": false
    },
    "tags": []
   },
   "outputs": [],
   "source": [
    "from IPython.core.interactiveshell import InteractiveShell\n",
    "InteractiveShell.ast_node_interactivity = \"all\""
   ]
  },
  {
   "cell_type": "code",
   "execution_count": 5,
   "metadata": {
    "Collapsed": "false",
    "tags": []
   },
   "outputs": [
    {
     "data": {
      "text/plain": [
       "True"
      ]
     },
     "execution_count": 5,
     "metadata": {},
     "output_type": "execute_result"
    }
   ],
   "source": [
    "import psycopg2 as ps2\n",
    "import os\n",
    "import pandas as pd\n",
    "import numpy as np\n",
    "import csv\n",
    "from src.funcs.utils import *\n",
    "\n",
    "from dotenv import load_dotenv\n",
    "load_dotenv()"
   ]
  },
  {
   "cell_type": "code",
   "execution_count": 6,
   "metadata": {
    "Collapsed": "false",
    "tags": []
   },
   "outputs": [],
   "source": [
    "# pull in db credentials from .env file\n",
    "db_name=os.getenv('DB_NAME')\n",
    "db_user=os.getenv('DB_USER')\n",
    "db_host=os.getenv('DB_HOST_IP')\n",
    "db_pwd=os.getenv('DB_PWD')"
   ]
  },
  {
   "cell_type": "code",
   "execution_count": 7,
   "metadata": {
    "Collapsed": "false"
   },
   "outputs": [],
   "source": [
    "# conn.close()\n",
    "# conn.rollback()"
   ]
  },
  {
   "cell_type": "code",
   "execution_count": 9,
   "metadata": {
    "Collapsed": "false"
   },
   "outputs": [],
   "source": [
    "# define db session\n",
    "conn = ps2.connect(\n",
    "    host = db_host,\n",
    "    database = db_name,\n",
    "    user = db_user,\n",
    "    password = db_pwd)"
   ]
  },
  {
   "cell_type": "markdown",
   "metadata": {},
   "source": [
    "## Relationships"
   ]
  },
  {
   "cell_type": "markdown",
   "metadata": {
    "Collapsed": "false"
   },
   "source": [
    "### Query for data"
   ]
  },
  {
   "cell_type": "markdown",
   "metadata": {
    "Collapsed": "false"
   },
   "source": [
    "### Directional"
   ]
  },
  {
   "cell_type": "code",
   "execution_count": 10,
   "metadata": {
    "Collapsed": "false"
   },
   "outputs": [],
   "source": [
    "# define query\n",
    "# sql=\"SELECT DISTINCT \\\n",
    "sql=\"SELECT \\\n",
    "control.id, inkey[1], controltype,  string_agg(distinct(effect), ', '), string_agg(distinct(mechanism), ', '), \\\n",
    "num_refs, outkey[1] , reference.id, string_agg(distinct(biomarkertype), ', ') , string_agg(distinct(celllinename), ', '), \\\n",
    "string_agg(distinct(celltype), ', '), string_agg(distinct(changetype), ', '), string_agg(distinct(organ), ', '), \\\n",
    "string_agg(distinct(organism), ', '), string_agg(distinct(quantitativetype), ', '), string_agg(distinct(tissue), ', '),  \\\n",
    "string_agg(distinct(nct_id), ', '),  string_agg(distinct(phase), ', ') \\\n",
    "FROM resnet.control, resnet.reference \\\n",
    "WHERE control.id = reference.id and inkey[1] is not null and outkey[1] is not null \\\n",
    "GROUP BY control.id, inkey[1], controltype, num_refs, outkey[1], reference.id\""
   ]
  },
  {
   "cell_type": "code",
   "execution_count": 11,
   "metadata": {
    "Collapsed": "false"
   },
   "outputs": [
    {
     "name": "stdout",
     "output_type": "stream",
     "text": [
      "CPU times: user 1min 10s, sys: 8.27 s, total: 1min 18s\n",
      "Wall time: 25min 50s\n"
     ]
    }
   ],
   "source": [
    "%%time\n",
    "# run query and save to file\n",
    "with conn.cursor() as cur:\n",
    "    with open('./data/processed/relations_query_csl.txt', 'w', encoding=\"utf-8\") as f:\n",
    "        cur.execute(sql)\n",
    "        csv_writer=csv.writer(f, delimiter= '|')\n",
    "        for record in cur.fetchall():\n",
    "            line='|'.join(map(str, record))+'\\n'\n",
    "            f.write(line)"
   ]
  },
  {
   "cell_type": "markdown",
   "metadata": {
    "Collapsed": "false"
   },
   "source": [
    "### Bi-derectional"
   ]
  },
  {
   "cell_type": "code",
   "execution_count": 8,
   "metadata": {
    "Collapsed": "false"
   },
   "outputs": [],
   "source": [
    "# sql=\"SELECT DISTINCT \\\n",
    "control.id, inkey[1], inoutkey, controltype, ontology, relationship, effect, mechanism, num_refs, outkey[1] , reference.id, biomarkertype, celllinename, celltype, \\\n",
    "changetype, organ, organism, quantitativetype, tissue  \\\n",
    "FROM resnet.control, resnet.reference \\\n",
    "WHERE control.id = reference.id and inkey[1] is null and outkey[1] is null\""
   ]
  },
  {
   "cell_type": "code",
   "execution_count": 13,
   "metadata": {
    "Collapsed": "false"
   },
   "outputs": [],
   "source": [
    "# sql=\"SELECT DISTINCT \\\n",
    "sql=\"SELECT \\\n",
    "control.id, inkey[1], inoutkey, controltype, relationship, string_agg(distinct(effect), ', '), string_agg(distinct(mechanism), ', '), num_refs, outkey[1], \\\n",
    "reference.id, string_agg(distinct(biomarkertype), ', '), string_agg(distinct(celllinename), ', '), string_agg(distinct(celltype), ', '), string_agg(distinct(changetype), ', '), \\\n",
    "string_agg(distinct(organ), ', '), string_agg(distinct(organism), ', '), string_agg(distinct(quantitativetype), ', '), string_agg(distinct(tissue), ', ') \\\n",
    "FROM resnet.control, resnet.reference \\\n",
    "WHERE control.id = reference.id and inkey[1] is null and outkey[1] is null \\\n",
    "GROUP BY control.id, controltype, reference.id\""
   ]
  },
  {
   "cell_type": "code",
   "execution_count": 45,
   "metadata": {
    "Collapsed": "false"
   },
   "outputs": [],
   "source": [
    "# df_rel.columns=['id1', ':START_ID', 'type:TYPE', 'effect', 'mechanism', 'ref_count:int', ':END_ID' , 'id2', \\\n",
    "#             'biomarkertype', 'celllinename', 'celltype', 'changetype', 'organ', 'organism', 'quantitativetype', \\\n",
    "#             'tissue', 'nct_id', 'phase']"
   ]
  },
  {
   "cell_type": "code",
   "execution_count": 14,
   "metadata": {
    "Collapsed": "false"
   },
   "outputs": [
    {
     "name": "stdout",
     "output_type": "stream",
     "text": [
      "CPU times: user 44.1 s, sys: 2.8 s, total: 46.9 s\n",
      "Wall time: 1h 12min 47s\n"
     ]
    }
   ],
   "source": [
    "%%time\n",
    "# run query and save to file\n",
    "with conn.cursor() as cur:\n",
    "    with open('./data/processed/bidirectional_relations_query_csl.txt', 'w', encoding=\"utf-8\") as f:\n",
    "        cur.execute(sql)\n",
    "        csv_writer=csv.writer(f, delimiter= '|')\n",
    "        for record in cur.fetchall():\n",
    "            line='|'.join(map(str, record))+'\\n'\n",
    "            f.write(line)"
   ]
  },
  {
   "cell_type": "markdown",
   "metadata": {
    "Collapsed": "false"
   },
   "source": [
    "### Attributes"
   ]
  },
  {
   "cell_type": "code",
   "execution_count": null,
   "metadata": {
    "Collapsed": "false"
   },
   "outputs": [],
   "source": [
    "# sql=\"SELECT DISTINCT \\\n",
    "id, inkey[1], attributes, relationship, outkey[1] from resnet.control \\\n",
    "WHERE (control.id = control.attributes)\";"
   ]
  },
  {
   "cell_type": "code",
   "execution_count": 16,
   "metadata": {
    "Collapsed": "false"
   },
   "outputs": [],
   "source": [
    "sql=\"SELECT  \\\n",
    "id, inkey[1], attributes, relationship, outkey[1] from resnet.control \\\n",
    "WHERE (control.id = control.attributes)\";"
   ]
  },
  {
   "cell_type": "code",
   "execution_count": 17,
   "metadata": {
    "Collapsed": "false"
   },
   "outputs": [
    {
     "name": "stdout",
     "output_type": "stream",
     "text": [
      "CPU times: user 45.5 s, sys: 3.56 s, total: 49 s\n",
      "Wall time: 2min 27s\n"
     ]
    }
   ],
   "source": [
    "%%time\n",
    "# run query and save to file\n",
    "with conn.cursor() as cur:\n",
    "    with open('./data/processed/attributes_relations.txt', 'w', encoding=\"utf-8\") as f:\n",
    "        cur.execute(sql)\n",
    "        csv_writer=csv.writer(f, delimiter= '|')\n",
    "        for record in cur.fetchall():\n",
    "            line='|'.join(map(str, record))+'\\n'\n",
    "            f.write(line)"
   ]
  },
  {
   "cell_type": "markdown",
   "metadata": {
    "Collapsed": "false"
   },
   "source": [
    "## Process Data"
   ]
  },
  {
   "cell_type": "markdown",
   "metadata": {
    "Collapsed": "false"
   },
   "source": [
    "### Bi-directional"
   ]
  },
  {
   "cell_type": "code",
   "execution_count": 43,
   "metadata": {
    "Collapsed": "false"
   },
   "outputs": [
    {
     "name": "stdout",
     "output_type": "stream",
     "text": [
      "<class 'pandas.core.frame.DataFrame'>\n",
      "RangeIndex: 4718418 entries, 0 to 4718417\n",
      "Data columns (total 18 columns):\n",
      " #   Column  Dtype \n",
      "---  ------  ----- \n",
      " 0   0       int64 \n",
      " 1   1       object\n",
      " 2   2       object\n",
      " 3   3       object\n",
      " 4   4       object\n",
      " 5   5       object\n",
      " 6   6       object\n",
      " 7   7       int64 \n",
      " 8   8       object\n",
      " 9   9       int64 \n",
      " 10  10      object\n",
      " 11  11      object\n",
      " 12  12      object\n",
      " 13  13      object\n",
      " 14  14      object\n",
      " 15  15      object\n",
      " 16  16      object\n",
      " 17  17      object\n",
      "dtypes: int64(3), object(15)\n",
      "memory usage: 648.0+ MB\n",
      "CPU times: user 13.6 s, sys: 1.65 s, total: 15.3 s\n",
      "Wall time: 20.2 s\n"
     ]
    },
    {
     "data": {
      "text/html": [
       "<div>\n",
       "<style scoped>\n",
       "    .dataframe tbody tr th:only-of-type {\n",
       "        vertical-align: middle;\n",
       "    }\n",
       "\n",
       "    .dataframe tbody tr th {\n",
       "        vertical-align: top;\n",
       "    }\n",
       "\n",
       "    .dataframe thead th {\n",
       "        text-align: right;\n",
       "    }\n",
       "</style>\n",
       "<table border=\"1\" class=\"dataframe\">\n",
       "  <thead>\n",
       "    <tr style=\"text-align: right;\">\n",
       "      <th></th>\n",
       "      <th>0</th>\n",
       "      <th>1</th>\n",
       "      <th>2</th>\n",
       "      <th>3</th>\n",
       "      <th>4</th>\n",
       "      <th>5</th>\n",
       "      <th>6</th>\n",
       "      <th>7</th>\n",
       "      <th>8</th>\n",
       "      <th>9</th>\n",
       "      <th>10</th>\n",
       "      <th>11</th>\n",
       "      <th>12</th>\n",
       "      <th>13</th>\n",
       "      <th>14</th>\n",
       "      <th>15</th>\n",
       "      <th>16</th>\n",
       "      <th>17</th>\n",
       "    </tr>\n",
       "  </thead>\n",
       "  <tbody>\n",
       "    <tr>\n",
       "      <th>0</th>\n",
       "      <td>-9223367021478908826</td>\n",
       "      <td>None</td>\n",
       "      <td>[5747547533469447186, 6031869671835980567]</td>\n",
       "      <td>FunctionalAssociation</td>\n",
       "      <td>None</td>\n",
       "      <td>None</td>\n",
       "      <td>None</td>\n",
       "      <td>1</td>\n",
       "      <td>None</td>\n",
       "      <td>-9223367021478908826</td>\n",
       "      <td>None</td>\n",
       "      <td>None</td>\n",
       "      <td>None</td>\n",
       "      <td>None</td>\n",
       "      <td>liver</td>\n",
       "      <td>None</td>\n",
       "      <td>None</td>\n",
       "      <td>None</td>\n",
       "    </tr>\n",
       "    <tr>\n",
       "      <th>1</th>\n",
       "      <td>-9223365481314032826</td>\n",
       "      <td>None</td>\n",
       "      <td>[5445426109658919917, -2285403010002775161]</td>\n",
       "      <td>FunctionalAssociation</td>\n",
       "      <td>None</td>\n",
       "      <td>None</td>\n",
       "      <td>None</td>\n",
       "      <td>1</td>\n",
       "      <td>None</td>\n",
       "      <td>-9223365481314032826</td>\n",
       "      <td>None</td>\n",
       "      <td>None</td>\n",
       "      <td>None</td>\n",
       "      <td>None</td>\n",
       "      <td>leg</td>\n",
       "      <td>None</td>\n",
       "      <td>None</td>\n",
       "      <td>None</td>\n",
       "    </tr>\n",
       "    <tr>\n",
       "      <th>2</th>\n",
       "      <td>-9223357200775258657</td>\n",
       "      <td>None</td>\n",
       "      <td>[1596328558605610184, -8708891732207432195]</td>\n",
       "      <td>CellExpression</td>\n",
       "      <td>None</td>\n",
       "      <td>None</td>\n",
       "      <td>None</td>\n",
       "      <td>11</td>\n",
       "      <td>None</td>\n",
       "      <td>-9223357200775258657</td>\n",
       "      <td>None</td>\n",
       "      <td>MDA-MB-231</td>\n",
       "      <td>None</td>\n",
       "      <td>None</td>\n",
       "      <td>breast</td>\n",
       "      <td>Homo sapiens, Oryctolagus cuniculus</td>\n",
       "      <td>None</td>\n",
       "      <td>None</td>\n",
       "    </tr>\n",
       "    <tr>\n",
       "      <th>3</th>\n",
       "      <td>-9223356961959519979</td>\n",
       "      <td>None</td>\n",
       "      <td>[4541556823765750071, 3096071376414863663]</td>\n",
       "      <td>CellExpression</td>\n",
       "      <td>None</td>\n",
       "      <td>None</td>\n",
       "      <td>None</td>\n",
       "      <td>1</td>\n",
       "      <td>None</td>\n",
       "      <td>-9223356961959519979</td>\n",
       "      <td>None</td>\n",
       "      <td>A2058</td>\n",
       "      <td>None</td>\n",
       "      <td>None</td>\n",
       "      <td>None</td>\n",
       "      <td>None</td>\n",
       "      <td>None</td>\n",
       "      <td>None</td>\n",
       "    </tr>\n",
       "    <tr>\n",
       "      <th>4</th>\n",
       "      <td>-9223351835527058603</td>\n",
       "      <td>None</td>\n",
       "      <td>[-2894717825806059007, -5196628532512894922]</td>\n",
       "      <td>FunctionalAssociation</td>\n",
       "      <td>None</td>\n",
       "      <td>None</td>\n",
       "      <td>None</td>\n",
       "      <td>2</td>\n",
       "      <td>None</td>\n",
       "      <td>-9223351835527058603</td>\n",
       "      <td>None</td>\n",
       "      <td>None</td>\n",
       "      <td>None</td>\n",
       "      <td>None</td>\n",
       "      <td>thoracolumbar spine</td>\n",
       "      <td>None</td>\n",
       "      <td>None</td>\n",
       "      <td>None</td>\n",
       "    </tr>\n",
       "  </tbody>\n",
       "</table>\n",
       "</div>"
      ],
      "text/plain": [
       "                    0     1                                             2   \\\n",
       "0 -9223367021478908826  None    [5747547533469447186, 6031869671835980567]   \n",
       "1 -9223365481314032826  None   [5445426109658919917, -2285403010002775161]   \n",
       "2 -9223357200775258657  None   [1596328558605610184, -8708891732207432195]   \n",
       "3 -9223356961959519979  None    [4541556823765750071, 3096071376414863663]   \n",
       "4 -9223351835527058603  None  [-2894717825806059007, -5196628532512894922]   \n",
       "\n",
       "                      3     4     5     6   7     8                    9   \\\n",
       "0  FunctionalAssociation  None  None  None   1  None -9223367021478908826   \n",
       "1  FunctionalAssociation  None  None  None   1  None -9223365481314032826   \n",
       "2         CellExpression  None  None  None  11  None -9223357200775258657   \n",
       "3         CellExpression  None  None  None   1  None -9223356961959519979   \n",
       "4  FunctionalAssociation  None  None  None   2  None -9223351835527058603   \n",
       "\n",
       "     10          11    12    13                   14  \\\n",
       "0  None        None  None  None                liver   \n",
       "1  None        None  None  None                  leg   \n",
       "2  None  MDA-MB-231  None  None               breast   \n",
       "3  None       A2058  None  None                 None   \n",
       "4  None        None  None  None  thoracolumbar spine   \n",
       "\n",
       "                                    15    16    17  \n",
       "0                                 None  None  None  \n",
       "1                                 None  None  None  \n",
       "2  Homo sapiens, Oryctolagus cuniculus  None  None  \n",
       "3                                 None  None  None  \n",
       "4                                 None  None  None  "
      ]
     },
     "execution_count": 43,
     "metadata": {},
     "output_type": "execute_result"
    }
   ],
   "source": [
    "%%time\n",
    "\n",
    "df_birect=pd.read_csv('./data/processed/bidirectional_relations_query_csl.txt', sep='|', header=None, encoding='utf-8')\n",
    "\n",
    "df_birect.info(); df_birect.head()"
   ]
  },
  {
   "cell_type": "code",
   "execution_count": 44,
   "metadata": {
    "Collapsed": "false"
   },
   "outputs": [
    {
     "data": {
      "text/html": [
       "<div>\n",
       "<style scoped>\n",
       "    .dataframe tbody tr th:only-of-type {\n",
       "        vertical-align: middle;\n",
       "    }\n",
       "\n",
       "    .dataframe tbody tr th {\n",
       "        vertical-align: top;\n",
       "    }\n",
       "\n",
       "    .dataframe thead th {\n",
       "        text-align: right;\n",
       "    }\n",
       "</style>\n",
       "<table border=\"1\" class=\"dataframe\">\n",
       "  <thead>\n",
       "    <tr style=\"text-align: right;\">\n",
       "      <th></th>\n",
       "      <th>id1</th>\n",
       "      <th>:START_ID</th>\n",
       "      <th>inOutkey</th>\n",
       "      <th>type:TYPE</th>\n",
       "      <th>relationship</th>\n",
       "      <th>effect</th>\n",
       "      <th>mechanism</th>\n",
       "      <th>ref_count:int</th>\n",
       "      <th>:END_ID</th>\n",
       "      <th>id2</th>\n",
       "      <th>biomarkertype</th>\n",
       "      <th>celllinename</th>\n",
       "      <th>celltype</th>\n",
       "      <th>changetype</th>\n",
       "      <th>organ</th>\n",
       "      <th>organism</th>\n",
       "      <th>quantitativetype</th>\n",
       "      <th>tissue</th>\n",
       "    </tr>\n",
       "  </thead>\n",
       "  <tbody>\n",
       "    <tr>\n",
       "      <th>0</th>\n",
       "      <td>-9223367021478908826</td>\n",
       "      <td>None</td>\n",
       "      <td>[5747547533469447186, 6031869671835980567]</td>\n",
       "      <td>FunctionalAssociation</td>\n",
       "      <td>None</td>\n",
       "      <td>None</td>\n",
       "      <td>None</td>\n",
       "      <td>1</td>\n",
       "      <td>None</td>\n",
       "      <td>-9223367021478908826</td>\n",
       "      <td>None</td>\n",
       "      <td>None</td>\n",
       "      <td>None</td>\n",
       "      <td>None</td>\n",
       "      <td>liver</td>\n",
       "      <td>None</td>\n",
       "      <td>None</td>\n",
       "      <td>None</td>\n",
       "    </tr>\n",
       "    <tr>\n",
       "      <th>1</th>\n",
       "      <td>-9223365481314032826</td>\n",
       "      <td>None</td>\n",
       "      <td>[5445426109658919917, -2285403010002775161]</td>\n",
       "      <td>FunctionalAssociation</td>\n",
       "      <td>None</td>\n",
       "      <td>None</td>\n",
       "      <td>None</td>\n",
       "      <td>1</td>\n",
       "      <td>None</td>\n",
       "      <td>-9223365481314032826</td>\n",
       "      <td>None</td>\n",
       "      <td>None</td>\n",
       "      <td>None</td>\n",
       "      <td>None</td>\n",
       "      <td>leg</td>\n",
       "      <td>None</td>\n",
       "      <td>None</td>\n",
       "      <td>None</td>\n",
       "    </tr>\n",
       "    <tr>\n",
       "      <th>2</th>\n",
       "      <td>-9223357200775258657</td>\n",
       "      <td>None</td>\n",
       "      <td>[1596328558605610184, -8708891732207432195]</td>\n",
       "      <td>CellExpression</td>\n",
       "      <td>None</td>\n",
       "      <td>None</td>\n",
       "      <td>None</td>\n",
       "      <td>11</td>\n",
       "      <td>None</td>\n",
       "      <td>-9223357200775258657</td>\n",
       "      <td>None</td>\n",
       "      <td>MDA-MB-231</td>\n",
       "      <td>None</td>\n",
       "      <td>None</td>\n",
       "      <td>breast</td>\n",
       "      <td>Homo sapiens, Oryctolagus cuniculus</td>\n",
       "      <td>None</td>\n",
       "      <td>None</td>\n",
       "    </tr>\n",
       "    <tr>\n",
       "      <th>3</th>\n",
       "      <td>-9223356961959519979</td>\n",
       "      <td>None</td>\n",
       "      <td>[4541556823765750071, 3096071376414863663]</td>\n",
       "      <td>CellExpression</td>\n",
       "      <td>None</td>\n",
       "      <td>None</td>\n",
       "      <td>None</td>\n",
       "      <td>1</td>\n",
       "      <td>None</td>\n",
       "      <td>-9223356961959519979</td>\n",
       "      <td>None</td>\n",
       "      <td>A2058</td>\n",
       "      <td>None</td>\n",
       "      <td>None</td>\n",
       "      <td>None</td>\n",
       "      <td>None</td>\n",
       "      <td>None</td>\n",
       "      <td>None</td>\n",
       "    </tr>\n",
       "    <tr>\n",
       "      <th>4</th>\n",
       "      <td>-9223351835527058603</td>\n",
       "      <td>None</td>\n",
       "      <td>[-2894717825806059007, -5196628532512894922]</td>\n",
       "      <td>FunctionalAssociation</td>\n",
       "      <td>None</td>\n",
       "      <td>None</td>\n",
       "      <td>None</td>\n",
       "      <td>2</td>\n",
       "      <td>None</td>\n",
       "      <td>-9223351835527058603</td>\n",
       "      <td>None</td>\n",
       "      <td>None</td>\n",
       "      <td>None</td>\n",
       "      <td>None</td>\n",
       "      <td>thoracolumbar spine</td>\n",
       "      <td>None</td>\n",
       "      <td>None</td>\n",
       "      <td>None</td>\n",
       "    </tr>\n",
       "  </tbody>\n",
       "</table>\n",
       "</div>"
      ],
      "text/plain": [
       "                   id1 :START_ID  \\\n",
       "0 -9223367021478908826      None   \n",
       "1 -9223365481314032826      None   \n",
       "2 -9223357200775258657      None   \n",
       "3 -9223356961959519979      None   \n",
       "4 -9223351835527058603      None   \n",
       "\n",
       "                                       inOutkey              type:TYPE  \\\n",
       "0    [5747547533469447186, 6031869671835980567]  FunctionalAssociation   \n",
       "1   [5445426109658919917, -2285403010002775161]  FunctionalAssociation   \n",
       "2   [1596328558605610184, -8708891732207432195]         CellExpression   \n",
       "3    [4541556823765750071, 3096071376414863663]         CellExpression   \n",
       "4  [-2894717825806059007, -5196628532512894922]  FunctionalAssociation   \n",
       "\n",
       "  relationship effect mechanism  ref_count:int :END_ID                  id2  \\\n",
       "0         None   None      None              1    None -9223367021478908826   \n",
       "1         None   None      None              1    None -9223365481314032826   \n",
       "2         None   None      None             11    None -9223357200775258657   \n",
       "3         None   None      None              1    None -9223356961959519979   \n",
       "4         None   None      None              2    None -9223351835527058603   \n",
       "\n",
       "  biomarkertype celllinename celltype changetype                organ  \\\n",
       "0          None         None     None       None                liver   \n",
       "1          None         None     None       None                  leg   \n",
       "2          None   MDA-MB-231     None       None               breast   \n",
       "3          None        A2058     None       None                 None   \n",
       "4          None         None     None       None  thoracolumbar spine   \n",
       "\n",
       "                              organism quantitativetype tissue  \n",
       "0                                 None             None   None  \n",
       "1                                 None             None   None  \n",
       "2  Homo sapiens, Oryctolagus cuniculus             None   None  \n",
       "3                                 None             None   None  \n",
       "4                                 None             None   None  "
      ]
     },
     "execution_count": 44,
     "metadata": {},
     "output_type": "execute_result"
    }
   ],
   "source": [
    "df_birect.columns=['id1', ':START_ID', 'inOutkey', 'type:TYPE', 'relationship', 'effect', 'mechanism', 'ref_count:int', ':END_ID' , 'id2', 'biomarkertype', 'celllinename', 'celltype',\n",
    "      'changetype', 'organ', 'organism', 'quantitativetype', 'tissue']\n",
    "\n",
    "df_birect.head()"
   ]
  },
  {
   "cell_type": "code",
   "execution_count": 45,
   "metadata": {},
   "outputs": [
    {
     "data": {
      "text/plain": [
       "275"
      ]
     },
     "execution_count": 45,
     "metadata": {},
     "output_type": "execute_result"
    },
    {
     "data": {
      "text/plain": [
       "1"
      ]
     },
     "execution_count": 45,
     "metadata": {},
     "output_type": "execute_result"
    }
   ],
   "source": [
    "df_birect['ref_count:int'].max(); df_birect['ref_count:int'].min()"
   ]
  },
  {
   "cell_type": "code",
   "execution_count": 46,
   "metadata": {},
   "outputs": [
    {
     "data": {
      "text/plain": [
       "4718418"
      ]
     },
     "execution_count": 46,
     "metadata": {},
     "output_type": "execute_result"
    },
    {
     "data": {
      "text/plain": [
       "4718418"
      ]
     },
     "execution_count": 46,
     "metadata": {},
     "output_type": "execute_result"
    },
    {
     "data": {
      "text/plain": [
       "['5747547533469447186',\n",
       " '5445426109658919917',\n",
       " '1596328558605610184',\n",
       " '4541556823765750071',\n",
       " '-2894717825806059007']"
      ]
     },
     "execution_count": 46,
     "metadata": {},
     "output_type": "execute_result"
    },
    {
     "data": {
      "text/plain": [
       "['6031869671835980567',\n",
       " '-2285403010002775161',\n",
       " '-8708891732207432195',\n",
       " '3096071376414863663',\n",
       " '-5196628532512894922']"
      ]
     },
     "execution_count": 46,
     "metadata": {},
     "output_type": "execute_result"
    }
   ],
   "source": [
    "first_ids, second_ids = inOutkeys_to_lists(df_birect)\n",
    "\n",
    "len(first_ids); len(second_ids)\n",
    "first_ids[:5]; second_ids[:5]"
   ]
  },
  {
   "cell_type": "code",
   "execution_count": 47,
   "metadata": {
    "Collapsed": "false"
   },
   "outputs": [],
   "source": [
    "df_birect_1=df_birect.copy()\n",
    "\n",
    "df_birect_1.drop(columns=['inOutkey', 'id1', 'id2', 'relationship'], inplace=True)"
   ]
  },
  {
   "cell_type": "code",
   "execution_count": 48,
   "metadata": {
    "Collapsed": "false"
   },
   "outputs": [
    {
     "name": "stdout",
     "output_type": "stream",
     "text": [
      "<class 'pandas.core.frame.DataFrame'>\n",
      "RangeIndex: 4718418 entries, 0 to 4718417\n",
      "Data columns (total 14 columns):\n",
      " #   Column            Dtype \n",
      "---  ------            ----- \n",
      " 0   :START_ID         object\n",
      " 1   type:TYPE         object\n",
      " 2   effect            object\n",
      " 3   mechanism         object\n",
      " 4   ref_count:int     int64 \n",
      " 5   :END_ID           object\n",
      " 6   biomarkertype     object\n",
      " 7   celllinename      object\n",
      " 8   celltype          object\n",
      " 9   changetype        object\n",
      " 10  organ             object\n",
      " 11  organism          object\n",
      " 12  quantitativetype  object\n",
      " 13  tissue            object\n",
      "dtypes: int64(1), object(13)\n",
      "memory usage: 504.0+ MB\n"
     ]
    },
    {
     "data": {
      "text/html": [
       "<div>\n",
       "<style scoped>\n",
       "    .dataframe tbody tr th:only-of-type {\n",
       "        vertical-align: middle;\n",
       "    }\n",
       "\n",
       "    .dataframe tbody tr th {\n",
       "        vertical-align: top;\n",
       "    }\n",
       "\n",
       "    .dataframe thead th {\n",
       "        text-align: right;\n",
       "    }\n",
       "</style>\n",
       "<table border=\"1\" class=\"dataframe\">\n",
       "  <thead>\n",
       "    <tr style=\"text-align: right;\">\n",
       "      <th></th>\n",
       "      <th>:START_ID</th>\n",
       "      <th>type:TYPE</th>\n",
       "      <th>effect</th>\n",
       "      <th>mechanism</th>\n",
       "      <th>ref_count:int</th>\n",
       "      <th>:END_ID</th>\n",
       "      <th>biomarkertype</th>\n",
       "      <th>celllinename</th>\n",
       "      <th>celltype</th>\n",
       "      <th>changetype</th>\n",
       "      <th>organ</th>\n",
       "      <th>organism</th>\n",
       "      <th>quantitativetype</th>\n",
       "      <th>tissue</th>\n",
       "    </tr>\n",
       "  </thead>\n",
       "  <tbody>\n",
       "    <tr>\n",
       "      <th>0</th>\n",
       "      <td>5747547533469447186</td>\n",
       "      <td>FunctionalAssociation</td>\n",
       "      <td>None</td>\n",
       "      <td>None</td>\n",
       "      <td>1</td>\n",
       "      <td>6031869671835980567</td>\n",
       "      <td>None</td>\n",
       "      <td>None</td>\n",
       "      <td>None</td>\n",
       "      <td>None</td>\n",
       "      <td>liver</td>\n",
       "      <td>None</td>\n",
       "      <td>None</td>\n",
       "      <td>None</td>\n",
       "    </tr>\n",
       "    <tr>\n",
       "      <th>1</th>\n",
       "      <td>5445426109658919917</td>\n",
       "      <td>FunctionalAssociation</td>\n",
       "      <td>None</td>\n",
       "      <td>None</td>\n",
       "      <td>1</td>\n",
       "      <td>-2285403010002775161</td>\n",
       "      <td>None</td>\n",
       "      <td>None</td>\n",
       "      <td>None</td>\n",
       "      <td>None</td>\n",
       "      <td>leg</td>\n",
       "      <td>None</td>\n",
       "      <td>None</td>\n",
       "      <td>None</td>\n",
       "    </tr>\n",
       "    <tr>\n",
       "      <th>2</th>\n",
       "      <td>1596328558605610184</td>\n",
       "      <td>CellExpression</td>\n",
       "      <td>None</td>\n",
       "      <td>None</td>\n",
       "      <td>11</td>\n",
       "      <td>-8708891732207432195</td>\n",
       "      <td>None</td>\n",
       "      <td>MDA-MB-231</td>\n",
       "      <td>None</td>\n",
       "      <td>None</td>\n",
       "      <td>breast</td>\n",
       "      <td>Homo sapiens, Oryctolagus cuniculus</td>\n",
       "      <td>None</td>\n",
       "      <td>None</td>\n",
       "    </tr>\n",
       "    <tr>\n",
       "      <th>3</th>\n",
       "      <td>4541556823765750071</td>\n",
       "      <td>CellExpression</td>\n",
       "      <td>None</td>\n",
       "      <td>None</td>\n",
       "      <td>1</td>\n",
       "      <td>3096071376414863663</td>\n",
       "      <td>None</td>\n",
       "      <td>A2058</td>\n",
       "      <td>None</td>\n",
       "      <td>None</td>\n",
       "      <td>None</td>\n",
       "      <td>None</td>\n",
       "      <td>None</td>\n",
       "      <td>None</td>\n",
       "    </tr>\n",
       "    <tr>\n",
       "      <th>4</th>\n",
       "      <td>-2894717825806059007</td>\n",
       "      <td>FunctionalAssociation</td>\n",
       "      <td>None</td>\n",
       "      <td>None</td>\n",
       "      <td>2</td>\n",
       "      <td>-5196628532512894922</td>\n",
       "      <td>None</td>\n",
       "      <td>None</td>\n",
       "      <td>None</td>\n",
       "      <td>None</td>\n",
       "      <td>thoracolumbar spine</td>\n",
       "      <td>None</td>\n",
       "      <td>None</td>\n",
       "      <td>None</td>\n",
       "    </tr>\n",
       "  </tbody>\n",
       "</table>\n",
       "</div>"
      ],
      "text/plain": [
       "              :START_ID              type:TYPE effect mechanism  \\\n",
       "0   5747547533469447186  FunctionalAssociation   None      None   \n",
       "1   5445426109658919917  FunctionalAssociation   None      None   \n",
       "2   1596328558605610184         CellExpression   None      None   \n",
       "3   4541556823765750071         CellExpression   None      None   \n",
       "4  -2894717825806059007  FunctionalAssociation   None      None   \n",
       "\n",
       "   ref_count:int               :END_ID biomarkertype celllinename celltype  \\\n",
       "0              1   6031869671835980567          None         None     None   \n",
       "1              1  -2285403010002775161          None         None     None   \n",
       "2             11  -8708891732207432195          None   MDA-MB-231     None   \n",
       "3              1   3096071376414863663          None        A2058     None   \n",
       "4              2  -5196628532512894922          None         None     None   \n",
       "\n",
       "  changetype                organ                             organism  \\\n",
       "0       None                liver                                 None   \n",
       "1       None                  leg                                 None   \n",
       "2       None               breast  Homo sapiens, Oryctolagus cuniculus   \n",
       "3       None                 None                                 None   \n",
       "4       None  thoracolumbar spine                                 None   \n",
       "\n",
       "  quantitativetype tissue  \n",
       "0             None   None  \n",
       "1             None   None  \n",
       "2             None   None  \n",
       "3             None   None  \n",
       "4             None   None  "
      ]
     },
     "execution_count": 48,
     "metadata": {},
     "output_type": "execute_result"
    }
   ],
   "source": [
    "df_birect_1[':START_ID']=first_ids\n",
    "df_birect_1[':END_ID']=second_ids\n",
    "df_birect_1.info(); df_birect_1.head()"
   ]
  },
  {
   "cell_type": "code",
   "execution_count": 49,
   "metadata": {
    "Collapsed": "false"
   },
   "outputs": [
    {
     "name": "stdout",
     "output_type": "stream",
     "text": [
      "<class 'pandas.core.frame.DataFrame'>\n",
      "RangeIndex: 4718418 entries, 0 to 4718417\n",
      "Data columns (total 14 columns):\n",
      " #   Column            Dtype \n",
      "---  ------            ----- \n",
      " 0   :START_ID         int64 \n",
      " 1   type:TYPE         object\n",
      " 2   effect            object\n",
      " 3   mechanism         object\n",
      " 4   ref_count:int     int16 \n",
      " 5   :END_ID           int64 \n",
      " 6   biomarkertype     object\n",
      " 7   celllinename      object\n",
      " 8   celltype          object\n",
      " 9   changetype        object\n",
      " 10  organ             object\n",
      " 11  organism          object\n",
      " 12  quantitativetype  object\n",
      " 13  tissue            object\n",
      "dtypes: int16(1), int64(2), object(11)\n",
      "memory usage: 477.0+ MB\n"
     ]
    }
   ],
   "source": [
    "df_birect_1[':START_ID']=df_birect_1[':START_ID'].astype('int64')\n",
    "df_birect_1[':END_ID']=df_birect_1[':END_ID'].astype('int64')\n",
    "df_birect_1['ref_count:int']=df_birect_1['ref_count:int'].astype('int16')\n",
    "\n",
    "df_birect_1.info()"
   ]
  },
  {
   "cell_type": "code",
   "execution_count": 50,
   "metadata": {},
   "outputs": [
    {
     "name": "stdout",
     "output_type": "stream",
     "text": [
      "<class 'pandas.core.frame.DataFrame'>\n",
      "RangeIndex: 4718418 entries, 0 to 4718417\n",
      "Data columns (total 14 columns):\n",
      " #   Column            Dtype   \n",
      "---  ------            -----   \n",
      " 0   :START_ID         int64   \n",
      " 1   type:TYPE         category\n",
      " 2   effect            category\n",
      " 3   mechanism         category\n",
      " 4   ref_count:int     int16   \n",
      " 5   :END_ID           int64   \n",
      " 6   biomarkertype     category\n",
      " 7   celllinename      category\n",
      " 8   celltype          category\n",
      " 9   changetype        category\n",
      " 10  organ             category\n",
      " 11  organism          category\n",
      " 12  quantitativetype  category\n",
      " 13  tissue            category\n",
      "dtypes: category(11), int16(1), int64(2)\n",
      "memory usage: 208.9 MB\n"
     ]
    }
   ],
   "source": [
    "df_birect_1=convert_object_to_category(df_birect_1)\n",
    "df_birect_1.info()"
   ]
  },
  {
   "cell_type": "code",
   "execution_count": 51,
   "metadata": {
    "Collapsed": "false"
   },
   "outputs": [
    {
     "data": {
      "text/plain": [
       "None    4718418\n",
       "Name: biomarkertype, dtype: int64"
      ]
     },
     "execution_count": 51,
     "metadata": {},
     "output_type": "execute_result"
    },
    {
     "data": {
      "text/plain": [
       "None       4655608\n",
       "surface      62810\n",
       "Name: mechanism, dtype: int64"
      ]
     },
     "execution_count": 51,
     "metadata": {},
     "output_type": "execute_result"
    },
    {
     "data": {
      "text/plain": [
       "None    4718418\n",
       "Name: changetype, dtype: int64"
      ]
     },
     "execution_count": 51,
     "metadata": {},
     "output_type": "execute_result"
    },
    {
     "data": {
      "text/plain": [
       "None    4718418\n",
       "Name: quantitativetype, dtype: int64"
      ]
     },
     "execution_count": 51,
     "metadata": {},
     "output_type": "execute_result"
    }
   ],
   "source": [
    "df_birect_1['biomarkertype'].value_counts()\n",
    "df_birect_1['mechanism'].value_counts()\n",
    "df_birect_1['changetype'].value_counts()\n",
    "df_birect_1['quantitativetype'].value_counts()\n"
   ]
  },
  {
   "cell_type": "code",
   "execution_count": 52,
   "metadata": {
    "Collapsed": "false"
   },
   "outputs": [],
   "source": [
    "df_birect_1.to_pickle('./data/processed/bidirectional_df.pkl')"
   ]
  },
  {
   "cell_type": "markdown",
   "metadata": {
    "Collapsed": "false"
   },
   "source": [
    "### Directional"
   ]
  },
  {
   "cell_type": "code",
   "execution_count": 31,
   "metadata": {
    "Collapsed": "false"
   },
   "outputs": [
    {
     "name": "stdout",
     "output_type": "stream",
     "text": [
      "<class 'pandas.core.frame.DataFrame'>\n",
      "RangeIndex: 10191129 entries, 0 to 10191128\n",
      "Data columns (total 18 columns):\n",
      " #   Column  Dtype \n",
      "---  ------  ----- \n",
      " 0   0       int64 \n",
      " 1   1       int64 \n",
      " 2   2       object\n",
      " 3   3       object\n",
      " 4   4       object\n",
      " 5   5       int64 \n",
      " 6   6       int64 \n",
      " 7   7       int64 \n",
      " 8   8       object\n",
      " 9   9       object\n",
      " 10  10      object\n",
      " 11  11      object\n",
      " 12  12      object\n",
      " 13  13      object\n",
      " 14  14      object\n",
      " 15  15      object\n",
      " 16  16      object\n",
      " 17  17      object\n",
      "dtypes: int64(5), object(13)\n",
      "memory usage: 1.4+ GB\n",
      "CPU times: user 25.3 s, sys: 4.61 s, total: 29.9 s\n",
      "Wall time: 47.9 s\n"
     ]
    },
    {
     "data": {
      "text/html": [
       "<div>\n",
       "<style scoped>\n",
       "    .dataframe tbody tr th:only-of-type {\n",
       "        vertical-align: middle;\n",
       "    }\n",
       "\n",
       "    .dataframe tbody tr th {\n",
       "        vertical-align: top;\n",
       "    }\n",
       "\n",
       "    .dataframe thead th {\n",
       "        text-align: right;\n",
       "    }\n",
       "</style>\n",
       "<table border=\"1\" class=\"dataframe\">\n",
       "  <thead>\n",
       "    <tr style=\"text-align: right;\">\n",
       "      <th></th>\n",
       "      <th>0</th>\n",
       "      <th>1</th>\n",
       "      <th>2</th>\n",
       "      <th>3</th>\n",
       "      <th>4</th>\n",
       "      <th>5</th>\n",
       "      <th>6</th>\n",
       "      <th>7</th>\n",
       "      <th>8</th>\n",
       "      <th>9</th>\n",
       "      <th>10</th>\n",
       "      <th>11</th>\n",
       "      <th>12</th>\n",
       "      <th>13</th>\n",
       "      <th>14</th>\n",
       "      <th>15</th>\n",
       "      <th>16</th>\n",
       "      <th>17</th>\n",
       "    </tr>\n",
       "  </thead>\n",
       "  <tbody>\n",
       "    <tr>\n",
       "      <th>0</th>\n",
       "      <td>-9223365986387833915</td>\n",
       "      <td>-4129340824583713637</td>\n",
       "      <td>Regulation</td>\n",
       "      <td>None</td>\n",
       "      <td>None</td>\n",
       "      <td>1</td>\n",
       "      <td>-2983484129356197270</td>\n",
       "      <td>-9223365986387833915</td>\n",
       "      <td>None</td>\n",
       "      <td>None</td>\n",
       "      <td>None</td>\n",
       "      <td>None</td>\n",
       "      <td>intestine</td>\n",
       "      <td>Rattus norvegicus</td>\n",
       "      <td>None</td>\n",
       "      <td>None</td>\n",
       "      <td>None</td>\n",
       "      <td>None</td>\n",
       "    </tr>\n",
       "    <tr>\n",
       "      <th>1</th>\n",
       "      <td>-9223365556180770043</td>\n",
       "      <td>7111680438658927661</td>\n",
       "      <td>Regulation</td>\n",
       "      <td>None</td>\n",
       "      <td>None</td>\n",
       "      <td>1</td>\n",
       "      <td>-3121142714757276759</td>\n",
       "      <td>-9223365556180770043</td>\n",
       "      <td>None</td>\n",
       "      <td>None</td>\n",
       "      <td>None</td>\n",
       "      <td>None</td>\n",
       "      <td>None</td>\n",
       "      <td>None</td>\n",
       "      <td>None</td>\n",
       "      <td>None</td>\n",
       "      <td>None</td>\n",
       "      <td>None</td>\n",
       "    </tr>\n",
       "    <tr>\n",
       "      <th>2</th>\n",
       "      <td>-9223365466130767478</td>\n",
       "      <td>-8447327320654612427</td>\n",
       "      <td>Regulation</td>\n",
       "      <td>None</td>\n",
       "      <td>None</td>\n",
       "      <td>10</td>\n",
       "      <td>-1646880163763186214</td>\n",
       "      <td>-9223365466130767478</td>\n",
       "      <td>None</td>\n",
       "      <td>TOV-112D</td>\n",
       "      <td>B-cell, endothelial cell</td>\n",
       "      <td>None</td>\n",
       "      <td>peripheral nervous system</td>\n",
       "      <td>None</td>\n",
       "      <td>None</td>\n",
       "      <td>None</td>\n",
       "      <td>None</td>\n",
       "      <td>None</td>\n",
       "    </tr>\n",
       "    <tr>\n",
       "      <th>3</th>\n",
       "      <td>-9223362118268724280</td>\n",
       "      <td>3670031740130349683</td>\n",
       "      <td>Regulation</td>\n",
       "      <td>positive</td>\n",
       "      <td>None</td>\n",
       "      <td>1</td>\n",
       "      <td>-4650140568030604438</td>\n",
       "      <td>-9223362118268724280</td>\n",
       "      <td>None</td>\n",
       "      <td>None</td>\n",
       "      <td>plasma cell</td>\n",
       "      <td>None</td>\n",
       "      <td>None</td>\n",
       "      <td>None</td>\n",
       "      <td>None</td>\n",
       "      <td>plasma</td>\n",
       "      <td>None</td>\n",
       "      <td>None</td>\n",
       "    </tr>\n",
       "    <tr>\n",
       "      <th>4</th>\n",
       "      <td>-9223361192663839079</td>\n",
       "      <td>-6414782697893422681</td>\n",
       "      <td>Expression</td>\n",
       "      <td>positive</td>\n",
       "      <td>None</td>\n",
       "      <td>1</td>\n",
       "      <td>-296331965523681380</td>\n",
       "      <td>-9223361192663839079</td>\n",
       "      <td>None</td>\n",
       "      <td>None</td>\n",
       "      <td>T-cell</td>\n",
       "      <td>None</td>\n",
       "      <td>None</td>\n",
       "      <td>None</td>\n",
       "      <td>None</td>\n",
       "      <td>None</td>\n",
       "      <td>None</td>\n",
       "      <td>None</td>\n",
       "    </tr>\n",
       "  </tbody>\n",
       "</table>\n",
       "</div>"
      ],
      "text/plain": [
       "                    0                    1           2         3     4   5   \\\n",
       "0 -9223365986387833915 -4129340824583713637  Regulation      None  None   1   \n",
       "1 -9223365556180770043  7111680438658927661  Regulation      None  None   1   \n",
       "2 -9223365466130767478 -8447327320654612427  Regulation      None  None  10   \n",
       "3 -9223362118268724280  3670031740130349683  Regulation  positive  None   1   \n",
       "4 -9223361192663839079 -6414782697893422681  Expression  positive  None   1   \n",
       "\n",
       "                    6                    7     8         9   \\\n",
       "0 -2983484129356197270 -9223365986387833915  None      None   \n",
       "1 -3121142714757276759 -9223365556180770043  None      None   \n",
       "2 -1646880163763186214 -9223365466130767478  None  TOV-112D   \n",
       "3 -4650140568030604438 -9223362118268724280  None      None   \n",
       "4  -296331965523681380 -9223361192663839079  None      None   \n",
       "\n",
       "                         10    11                         12  \\\n",
       "0                      None  None                  intestine   \n",
       "1                      None  None                       None   \n",
       "2  B-cell, endothelial cell  None  peripheral nervous system   \n",
       "3               plasma cell  None                       None   \n",
       "4                    T-cell  None                       None   \n",
       "\n",
       "                  13    14      15    16    17  \n",
       "0  Rattus norvegicus  None    None  None  None  \n",
       "1               None  None    None  None  None  \n",
       "2               None  None    None  None  None  \n",
       "3               None  None  plasma  None  None  \n",
       "4               None  None    None  None  None  "
      ]
     },
     "execution_count": 31,
     "metadata": {},
     "output_type": "execute_result"
    }
   ],
   "source": [
    "%%time\n",
    "\n",
    "df_direct=pd.read_csv('./data/processed/relations_query_csl.txt', sep='|', header=None, encoding='utf-8')\n",
    "# df_direct=pd.read_csv('./data/processed/relations_query_csl_refs.txt', sep='|', header=None, encoding='utf-8')\n",
    "\n",
    "\n",
    "df_direct.info(); df_direct.head()"
   ]
  },
  {
   "cell_type": "code",
   "execution_count": 32,
   "metadata": {
    "Collapsed": "false"
   },
   "outputs": [],
   "source": [
    "df_direct.columns=['id1', ':START_ID', 'type:TYPE', 'effect', 'mechanism', 'ref_count:int', ':END_ID' , 'id2', \\\n",
    "            'biomarkertype', 'celllinename', 'celltype', 'changetype', 'organ', 'organism', 'quantitativetype', \\\n",
    "            'tissue', 'nct_id', 'phase']"
   ]
  },
  {
   "cell_type": "code",
   "execution_count": 33,
   "metadata": {},
   "outputs": [
    {
     "name": "stdout",
     "output_type": "stream",
     "text": [
      "<class 'pandas.core.frame.DataFrame'>\n",
      "RangeIndex: 10191129 entries, 0 to 10191128\n",
      "Data columns (total 18 columns):\n",
      " #   Column            Dtype \n",
      "---  ------            ----- \n",
      " 0   id1               int64 \n",
      " 1   :START_ID         int64 \n",
      " 2   type:TYPE         object\n",
      " 3   effect            object\n",
      " 4   mechanism         object\n",
      " 5   ref_count:int     int64 \n",
      " 6   :END_ID           int64 \n",
      " 7   id2               int64 \n",
      " 8   biomarkertype     object\n",
      " 9   celllinename      object\n",
      " 10  celltype          object\n",
      " 11  changetype        object\n",
      " 12  organ             object\n",
      " 13  organism          object\n",
      " 14  quantitativetype  object\n",
      " 15  tissue            object\n",
      " 16  nct_id            object\n",
      " 17  phase             object\n",
      "dtypes: int64(5), object(13)\n",
      "memory usage: 1.4+ GB\n"
     ]
    },
    {
     "data": {
      "text/html": [
       "<div>\n",
       "<style scoped>\n",
       "    .dataframe tbody tr th:only-of-type {\n",
       "        vertical-align: middle;\n",
       "    }\n",
       "\n",
       "    .dataframe tbody tr th {\n",
       "        vertical-align: top;\n",
       "    }\n",
       "\n",
       "    .dataframe thead th {\n",
       "        text-align: right;\n",
       "    }\n",
       "</style>\n",
       "<table border=\"1\" class=\"dataframe\">\n",
       "  <thead>\n",
       "    <tr style=\"text-align: right;\">\n",
       "      <th></th>\n",
       "      <th>id1</th>\n",
       "      <th>:START_ID</th>\n",
       "      <th>type:TYPE</th>\n",
       "      <th>effect</th>\n",
       "      <th>mechanism</th>\n",
       "      <th>ref_count:int</th>\n",
       "      <th>:END_ID</th>\n",
       "      <th>id2</th>\n",
       "      <th>biomarkertype</th>\n",
       "      <th>celllinename</th>\n",
       "      <th>celltype</th>\n",
       "      <th>changetype</th>\n",
       "      <th>organ</th>\n",
       "      <th>organism</th>\n",
       "      <th>quantitativetype</th>\n",
       "      <th>tissue</th>\n",
       "      <th>nct_id</th>\n",
       "      <th>phase</th>\n",
       "    </tr>\n",
       "  </thead>\n",
       "  <tbody>\n",
       "    <tr>\n",
       "      <th>0</th>\n",
       "      <td>-9223365986387833915</td>\n",
       "      <td>-4129340824583713637</td>\n",
       "      <td>Regulation</td>\n",
       "      <td>None</td>\n",
       "      <td>None</td>\n",
       "      <td>1</td>\n",
       "      <td>-2983484129356197270</td>\n",
       "      <td>-9223365986387833915</td>\n",
       "      <td>None</td>\n",
       "      <td>None</td>\n",
       "      <td>None</td>\n",
       "      <td>None</td>\n",
       "      <td>intestine</td>\n",
       "      <td>Rattus norvegicus</td>\n",
       "      <td>None</td>\n",
       "      <td>None</td>\n",
       "      <td>None</td>\n",
       "      <td>None</td>\n",
       "    </tr>\n",
       "    <tr>\n",
       "      <th>1</th>\n",
       "      <td>-9223365556180770043</td>\n",
       "      <td>7111680438658927661</td>\n",
       "      <td>Regulation</td>\n",
       "      <td>None</td>\n",
       "      <td>None</td>\n",
       "      <td>1</td>\n",
       "      <td>-3121142714757276759</td>\n",
       "      <td>-9223365556180770043</td>\n",
       "      <td>None</td>\n",
       "      <td>None</td>\n",
       "      <td>None</td>\n",
       "      <td>None</td>\n",
       "      <td>None</td>\n",
       "      <td>None</td>\n",
       "      <td>None</td>\n",
       "      <td>None</td>\n",
       "      <td>None</td>\n",
       "      <td>None</td>\n",
       "    </tr>\n",
       "    <tr>\n",
       "      <th>2</th>\n",
       "      <td>-9223365466130767478</td>\n",
       "      <td>-8447327320654612427</td>\n",
       "      <td>Regulation</td>\n",
       "      <td>None</td>\n",
       "      <td>None</td>\n",
       "      <td>10</td>\n",
       "      <td>-1646880163763186214</td>\n",
       "      <td>-9223365466130767478</td>\n",
       "      <td>None</td>\n",
       "      <td>TOV-112D</td>\n",
       "      <td>B-cell, endothelial cell</td>\n",
       "      <td>None</td>\n",
       "      <td>peripheral nervous system</td>\n",
       "      <td>None</td>\n",
       "      <td>None</td>\n",
       "      <td>None</td>\n",
       "      <td>None</td>\n",
       "      <td>None</td>\n",
       "    </tr>\n",
       "    <tr>\n",
       "      <th>3</th>\n",
       "      <td>-9223362118268724280</td>\n",
       "      <td>3670031740130349683</td>\n",
       "      <td>Regulation</td>\n",
       "      <td>positive</td>\n",
       "      <td>None</td>\n",
       "      <td>1</td>\n",
       "      <td>-4650140568030604438</td>\n",
       "      <td>-9223362118268724280</td>\n",
       "      <td>None</td>\n",
       "      <td>None</td>\n",
       "      <td>plasma cell</td>\n",
       "      <td>None</td>\n",
       "      <td>None</td>\n",
       "      <td>None</td>\n",
       "      <td>None</td>\n",
       "      <td>plasma</td>\n",
       "      <td>None</td>\n",
       "      <td>None</td>\n",
       "    </tr>\n",
       "    <tr>\n",
       "      <th>4</th>\n",
       "      <td>-9223361192663839079</td>\n",
       "      <td>-6414782697893422681</td>\n",
       "      <td>Expression</td>\n",
       "      <td>positive</td>\n",
       "      <td>None</td>\n",
       "      <td>1</td>\n",
       "      <td>-296331965523681380</td>\n",
       "      <td>-9223361192663839079</td>\n",
       "      <td>None</td>\n",
       "      <td>None</td>\n",
       "      <td>T-cell</td>\n",
       "      <td>None</td>\n",
       "      <td>None</td>\n",
       "      <td>None</td>\n",
       "      <td>None</td>\n",
       "      <td>None</td>\n",
       "      <td>None</td>\n",
       "      <td>None</td>\n",
       "    </tr>\n",
       "  </tbody>\n",
       "</table>\n",
       "</div>"
      ],
      "text/plain": [
       "                   id1            :START_ID   type:TYPE    effect mechanism  \\\n",
       "0 -9223365986387833915 -4129340824583713637  Regulation      None      None   \n",
       "1 -9223365556180770043  7111680438658927661  Regulation      None      None   \n",
       "2 -9223365466130767478 -8447327320654612427  Regulation      None      None   \n",
       "3 -9223362118268724280  3670031740130349683  Regulation  positive      None   \n",
       "4 -9223361192663839079 -6414782697893422681  Expression  positive      None   \n",
       "\n",
       "   ref_count:int              :END_ID                  id2 biomarkertype  \\\n",
       "0              1 -2983484129356197270 -9223365986387833915          None   \n",
       "1              1 -3121142714757276759 -9223365556180770043          None   \n",
       "2             10 -1646880163763186214 -9223365466130767478          None   \n",
       "3              1 -4650140568030604438 -9223362118268724280          None   \n",
       "4              1  -296331965523681380 -9223361192663839079          None   \n",
       "\n",
       "  celllinename                  celltype changetype  \\\n",
       "0         None                      None       None   \n",
       "1         None                      None       None   \n",
       "2     TOV-112D  B-cell, endothelial cell       None   \n",
       "3         None               plasma cell       None   \n",
       "4         None                    T-cell       None   \n",
       "\n",
       "                       organ           organism quantitativetype  tissue  \\\n",
       "0                  intestine  Rattus norvegicus             None    None   \n",
       "1                       None               None             None    None   \n",
       "2  peripheral nervous system               None             None    None   \n",
       "3                       None               None             None  plasma   \n",
       "4                       None               None             None    None   \n",
       "\n",
       "  nct_id phase  \n",
       "0   None  None  \n",
       "1   None  None  \n",
       "2   None  None  \n",
       "3   None  None  \n",
       "4   None  None  "
      ]
     },
     "execution_count": 33,
     "metadata": {},
     "output_type": "execute_result"
    }
   ],
   "source": [
    "df_direct.info(); df_direct.head()"
   ]
  },
  {
   "cell_type": "code",
   "execution_count": 34,
   "metadata": {},
   "outputs": [
    {
     "data": {
      "text/plain": [
       "689"
      ]
     },
     "execution_count": 34,
     "metadata": {},
     "output_type": "execute_result"
    },
    {
     "data": {
      "text/plain": [
       "1"
      ]
     },
     "execution_count": 34,
     "metadata": {},
     "output_type": "execute_result"
    }
   ],
   "source": [
    "df_direct['ref_count:int'].max(); df_direct['ref_count:int'].min()"
   ]
  },
  {
   "cell_type": "code",
   "execution_count": 35,
   "metadata": {
    "Collapsed": "false"
   },
   "outputs": [
    {
     "data": {
      "text/html": [
       "<div>\n",
       "<style scoped>\n",
       "    .dataframe tbody tr th:only-of-type {\n",
       "        vertical-align: middle;\n",
       "    }\n",
       "\n",
       "    .dataframe tbody tr th {\n",
       "        vertical-align: top;\n",
       "    }\n",
       "\n",
       "    .dataframe thead th {\n",
       "        text-align: right;\n",
       "    }\n",
       "</style>\n",
       "<table border=\"1\" class=\"dataframe\">\n",
       "  <thead>\n",
       "    <tr style=\"text-align: right;\">\n",
       "      <th></th>\n",
       "      <th>:START_ID</th>\n",
       "      <th>type:TYPE</th>\n",
       "      <th>effect</th>\n",
       "      <th>mechanism</th>\n",
       "      <th>ref_count:int</th>\n",
       "      <th>:END_ID</th>\n",
       "      <th>biomarkertype</th>\n",
       "      <th>celllinename</th>\n",
       "      <th>celltype</th>\n",
       "      <th>changetype</th>\n",
       "      <th>organ</th>\n",
       "      <th>organism</th>\n",
       "      <th>quantitativetype</th>\n",
       "      <th>tissue</th>\n",
       "      <th>nct_id</th>\n",
       "      <th>phase</th>\n",
       "    </tr>\n",
       "  </thead>\n",
       "  <tbody>\n",
       "    <tr>\n",
       "      <th>0</th>\n",
       "      <td>-4129340824583713637</td>\n",
       "      <td>Regulation</td>\n",
       "      <td>None</td>\n",
       "      <td>None</td>\n",
       "      <td>1</td>\n",
       "      <td>-2983484129356197270</td>\n",
       "      <td>None</td>\n",
       "      <td>None</td>\n",
       "      <td>None</td>\n",
       "      <td>None</td>\n",
       "      <td>intestine</td>\n",
       "      <td>Rattus norvegicus</td>\n",
       "      <td>None</td>\n",
       "      <td>None</td>\n",
       "      <td>None</td>\n",
       "      <td>None</td>\n",
       "    </tr>\n",
       "    <tr>\n",
       "      <th>1</th>\n",
       "      <td>7111680438658927661</td>\n",
       "      <td>Regulation</td>\n",
       "      <td>None</td>\n",
       "      <td>None</td>\n",
       "      <td>1</td>\n",
       "      <td>-3121142714757276759</td>\n",
       "      <td>None</td>\n",
       "      <td>None</td>\n",
       "      <td>None</td>\n",
       "      <td>None</td>\n",
       "      <td>None</td>\n",
       "      <td>None</td>\n",
       "      <td>None</td>\n",
       "      <td>None</td>\n",
       "      <td>None</td>\n",
       "      <td>None</td>\n",
       "    </tr>\n",
       "    <tr>\n",
       "      <th>2</th>\n",
       "      <td>-8447327320654612427</td>\n",
       "      <td>Regulation</td>\n",
       "      <td>None</td>\n",
       "      <td>None</td>\n",
       "      <td>10</td>\n",
       "      <td>-1646880163763186214</td>\n",
       "      <td>None</td>\n",
       "      <td>TOV-112D</td>\n",
       "      <td>B-cell, endothelial cell</td>\n",
       "      <td>None</td>\n",
       "      <td>peripheral nervous system</td>\n",
       "      <td>None</td>\n",
       "      <td>None</td>\n",
       "      <td>None</td>\n",
       "      <td>None</td>\n",
       "      <td>None</td>\n",
       "    </tr>\n",
       "    <tr>\n",
       "      <th>3</th>\n",
       "      <td>3670031740130349683</td>\n",
       "      <td>Regulation</td>\n",
       "      <td>positive</td>\n",
       "      <td>None</td>\n",
       "      <td>1</td>\n",
       "      <td>-4650140568030604438</td>\n",
       "      <td>None</td>\n",
       "      <td>None</td>\n",
       "      <td>plasma cell</td>\n",
       "      <td>None</td>\n",
       "      <td>None</td>\n",
       "      <td>None</td>\n",
       "      <td>None</td>\n",
       "      <td>plasma</td>\n",
       "      <td>None</td>\n",
       "      <td>None</td>\n",
       "    </tr>\n",
       "    <tr>\n",
       "      <th>4</th>\n",
       "      <td>-6414782697893422681</td>\n",
       "      <td>Expression</td>\n",
       "      <td>positive</td>\n",
       "      <td>None</td>\n",
       "      <td>1</td>\n",
       "      <td>-296331965523681380</td>\n",
       "      <td>None</td>\n",
       "      <td>None</td>\n",
       "      <td>T-cell</td>\n",
       "      <td>None</td>\n",
       "      <td>None</td>\n",
       "      <td>None</td>\n",
       "      <td>None</td>\n",
       "      <td>None</td>\n",
       "      <td>None</td>\n",
       "      <td>None</td>\n",
       "    </tr>\n",
       "  </tbody>\n",
       "</table>\n",
       "</div>"
      ],
      "text/plain": [
       "             :START_ID   type:TYPE    effect mechanism  ref_count:int  \\\n",
       "0 -4129340824583713637  Regulation      None      None              1   \n",
       "1  7111680438658927661  Regulation      None      None              1   \n",
       "2 -8447327320654612427  Regulation      None      None             10   \n",
       "3  3670031740130349683  Regulation  positive      None              1   \n",
       "4 -6414782697893422681  Expression  positive      None              1   \n",
       "\n",
       "               :END_ID biomarkertype celllinename                  celltype  \\\n",
       "0 -2983484129356197270          None         None                      None   \n",
       "1 -3121142714757276759          None         None                      None   \n",
       "2 -1646880163763186214          None     TOV-112D  B-cell, endothelial cell   \n",
       "3 -4650140568030604438          None         None               plasma cell   \n",
       "4  -296331965523681380          None         None                    T-cell   \n",
       "\n",
       "  changetype                      organ           organism quantitativetype  \\\n",
       "0       None                  intestine  Rattus norvegicus             None   \n",
       "1       None                       None               None             None   \n",
       "2       None  peripheral nervous system               None             None   \n",
       "3       None                       None               None             None   \n",
       "4       None                       None               None             None   \n",
       "\n",
       "   tissue nct_id phase  \n",
       "0    None   None  None  \n",
       "1    None   None  None  \n",
       "2    None   None  None  \n",
       "3  plasma   None  None  \n",
       "4    None   None  None  "
      ]
     },
     "execution_count": 35,
     "metadata": {},
     "output_type": "execute_result"
    }
   ],
   "source": [
    "df_direct=df_direct.drop(columns=['id1', 'id2'])\n",
    "df_direct.head()"
   ]
  },
  {
   "cell_type": "code",
   "execution_count": 36,
   "metadata": {},
   "outputs": [],
   "source": [
    "df_direct['phase']=df_direct['phase'].fillna('None')"
   ]
  },
  {
   "cell_type": "code",
   "execution_count": 37,
   "metadata": {
    "Collapsed": "false"
   },
   "outputs": [
    {
     "name": "stdout",
     "output_type": "stream",
     "text": [
      "<class 'pandas.core.frame.DataFrame'>\n",
      "RangeIndex: 10191129 entries, 0 to 10191128\n",
      "Data columns (total 16 columns):\n",
      " #   Column            Dtype   \n",
      "---  ------            -----   \n",
      " 0   :START_ID         int64   \n",
      " 1   type:TYPE         category\n",
      " 2   effect            category\n",
      " 3   mechanism         category\n",
      " 4   ref_count:int     int64   \n",
      " 5   :END_ID           int64   \n",
      " 6   biomarkertype     category\n",
      " 7   celllinename      category\n",
      " 8   celltype          category\n",
      " 9   changetype        category\n",
      " 10  organ             category\n",
      " 11  organism          category\n",
      " 12  quantitativetype  category\n",
      " 13  tissue            category\n",
      " 14  nct_id            category\n",
      " 15  phase             category\n",
      "dtypes: category(13), int64(3)\n",
      "memory usage: 583.5 MB\n"
     ]
    }
   ],
   "source": [
    "df_obj = df_direct.select_dtypes(['object'])\n",
    "\n",
    "for col in list(df_obj.columns):\n",
    "    df_direct[col] = df_direct[col].apply(lambda x: x.strip())\n",
    "    df_direct[col]=df_direct[col].astype('category')\n",
    "    \n",
    "df_direct.info()"
   ]
  },
  {
   "cell_type": "code",
   "execution_count": 38,
   "metadata": {
    "Collapsed": "false"
   },
   "outputs": [],
   "source": [
    "df_direct['ref_count:int']=df_direct['ref_count:int'].astype('int16')"
   ]
  },
  {
   "cell_type": "code",
   "execution_count": 39,
   "metadata": {
    "Collapsed": "false"
   },
   "outputs": [
    {
     "data": {
      "text/plain": [
       ":START_ID           0\n",
       "type:TYPE           0\n",
       "effect              0\n",
       "mechanism           0\n",
       "ref_count:int       0\n",
       ":END_ID             0\n",
       "biomarkertype       0\n",
       "celllinename        0\n",
       "celltype            0\n",
       "changetype          0\n",
       "organ               0\n",
       "organism            0\n",
       "quantitativetype    0\n",
       "tissue              0\n",
       "nct_id              0\n",
       "phase               0\n",
       "dtype: int64"
      ]
     },
     "execution_count": 39,
     "metadata": {},
     "output_type": "execute_result"
    }
   ],
   "source": [
    "df_direct.isnull().sum()"
   ]
  },
  {
   "cell_type": "code",
   "execution_count": 40,
   "metadata": {
    "Collapsed": "false"
   },
   "outputs": [
    {
     "data": {
      "text/plain": [
       "Regulation               6310394\n",
       "Expression                972328\n",
       "DirectRegulation          780719\n",
       "QuantitativeChange        503905\n",
       "GeneticChange             466177\n",
       "MolTransport              282980\n",
       "MolSynthesis              179200\n",
       "StateChange               168537\n",
       "Biomarker                 145749\n",
       "ClinicalTrial             128920\n",
       "ProtModification           80243\n",
       "miRNAEffect                67012\n",
       "ChemicalReaction           60486\n",
       "PromoterBinding            44478\n",
       "FunctionalAssociation          1\n",
       "Name: type:TYPE, dtype: int64"
      ]
     },
     "execution_count": 40,
     "metadata": {},
     "output_type": "execute_result"
    }
   ],
   "source": [
    "df_direct['type:TYPE'].value_counts()"
   ]
  },
  {
   "cell_type": "code",
   "execution_count": 41,
   "metadata": {},
   "outputs": [
    {
     "data": {
      "text/plain": [
       "689"
      ]
     },
     "execution_count": 41,
     "metadata": {},
     "output_type": "execute_result"
    },
    {
     "data": {
      "text/plain": [
       "1"
      ]
     },
     "execution_count": 41,
     "metadata": {},
     "output_type": "execute_result"
    }
   ],
   "source": [
    "df_direct['ref_count:int'].max(); df_direct['ref_count:int'].min()"
   ]
  },
  {
   "cell_type": "code",
   "execution_count": 42,
   "metadata": {
    "Collapsed": "false"
   },
   "outputs": [],
   "source": [
    "df_direct.to_pickle('./data/processed/directional_df.pkl')"
   ]
  },
  {
   "cell_type": "markdown",
   "metadata": {
    "Collapsed": "false"
   },
   "source": [
    "### Attributes"
   ]
  },
  {
   "cell_type": "code",
   "execution_count": 37,
   "metadata": {
    "Collapsed": "false"
   },
   "outputs": [
    {
     "name": "stderr",
     "output_type": "stream",
     "text": [
      "<timed exec>:1: DtypeWarning: Columns (1,4) have mixed types. Specify dtype option on import or set low_memory=False.\n"
     ]
    },
    {
     "name": "stdout",
     "output_type": "stream",
     "text": [
      "<class 'pandas.core.frame.DataFrame'>\n",
      "RangeIndex: 16009643 entries, 0 to 16009642\n",
      "Data columns (total 5 columns):\n",
      " #   Column  Dtype \n",
      "---  ------  ----- \n",
      " 0   0       int64 \n",
      " 1   1       object\n",
      " 2   2       int64 \n",
      " 3   3       object\n",
      " 4   4       object\n",
      "dtypes: int64(2), object(3)\n",
      "memory usage: 610.7+ MB\n",
      "CPU times: user 14.1 s, sys: 2.04 s, total: 16.2 s\n",
      "Wall time: 16.7 s\n"
     ]
    },
    {
     "data": {
      "text/html": [
       "<div>\n",
       "<style scoped>\n",
       "    .dataframe tbody tr th:only-of-type {\n",
       "        vertical-align: middle;\n",
       "    }\n",
       "\n",
       "    .dataframe tbody tr th {\n",
       "        vertical-align: top;\n",
       "    }\n",
       "\n",
       "    .dataframe thead th {\n",
       "        text-align: right;\n",
       "    }\n",
       "</style>\n",
       "<table border=\"1\" class=\"dataframe\">\n",
       "  <thead>\n",
       "    <tr style=\"text-align: right;\">\n",
       "      <th></th>\n",
       "      <th>0</th>\n",
       "      <th>1</th>\n",
       "      <th>2</th>\n",
       "      <th>3</th>\n",
       "      <th>4</th>\n",
       "    </tr>\n",
       "  </thead>\n",
       "  <tbody>\n",
       "    <tr>\n",
       "      <th>0</th>\n",
       "      <td>6334696553269802372</td>\n",
       "      <td>None</td>\n",
       "      <td>6334696553269802372</td>\n",
       "      <td>None</td>\n",
       "      <td>None</td>\n",
       "    </tr>\n",
       "    <tr>\n",
       "      <th>1</th>\n",
       "      <td>7583818703728147607</td>\n",
       "      <td>None</td>\n",
       "      <td>7583818703728147607</td>\n",
       "      <td>None</td>\n",
       "      <td>None</td>\n",
       "    </tr>\n",
       "    <tr>\n",
       "      <th>2</th>\n",
       "      <td>-8084350041919945976</td>\n",
       "      <td>None</td>\n",
       "      <td>-8084350041919945976</td>\n",
       "      <td>None</td>\n",
       "      <td>None</td>\n",
       "    </tr>\n",
       "    <tr>\n",
       "      <th>3</th>\n",
       "      <td>-1589731032242803384</td>\n",
       "      <td>None</td>\n",
       "      <td>-1589731032242803384</td>\n",
       "      <td>None</td>\n",
       "      <td>None</td>\n",
       "    </tr>\n",
       "    <tr>\n",
       "      <th>4</th>\n",
       "      <td>3611313750763955412</td>\n",
       "      <td>None</td>\n",
       "      <td>3611313750763955412</td>\n",
       "      <td>None</td>\n",
       "      <td>None</td>\n",
       "    </tr>\n",
       "  </tbody>\n",
       "</table>\n",
       "</div>"
      ],
      "text/plain": [
       "                     0     1                    2     3     4\n",
       "0  6334696553269802372  None  6334696553269802372  None  None\n",
       "1  7583818703728147607  None  7583818703728147607  None  None\n",
       "2 -8084350041919945976  None -8084350041919945976  None  None\n",
       "3 -1589731032242803384  None -1589731032242803384  None  None\n",
       "4  3611313750763955412  None  3611313750763955412  None  None"
      ]
     },
     "execution_count": 37,
     "metadata": {},
     "output_type": "execute_result"
    }
   ],
   "source": [
    "%%time\n",
    "\n",
    "df_att=pd.read_csv('./data/processed/attributes_relations.txt', sep='|', header=None, encoding='utf-8')\n",
    "\n",
    "df_att.info(); df_att.head()"
   ]
  },
  {
   "cell_type": "code",
   "execution_count": 38,
   "metadata": {
    "Collapsed": "false"
   },
   "outputs": [
    {
     "name": "stdout",
     "output_type": "stream",
     "text": [
      "<class 'pandas.core.frame.DataFrame'>\n",
      "RangeIndex: 16009643 entries, 0 to 16009642\n",
      "Data columns (total 5 columns):\n",
      " #   Column     Dtype \n",
      "---  ------     ----- \n",
      " 0   id1        int64 \n",
      " 1   :START_ID  object\n",
      " 2   id2        int64 \n",
      " 3   type:TYPE  object\n",
      " 4   :END_ID    object\n",
      "dtypes: int64(2), object(3)\n",
      "memory usage: 610.7+ MB\n"
     ]
    }
   ],
   "source": [
    "df_att.columns=['id1', ':START_ID', 'id2', 'type:TYPE', ':END_ID']\n",
    "df_att.info()"
   ]
  },
  {
   "cell_type": "code",
   "execution_count": 39,
   "metadata": {
    "Collapsed": "false"
   },
   "outputs": [
    {
     "data": {
      "text/plain": [
       "None             14917159\n",
       "is-a              1062691\n",
       "similar-to          25740\n",
       "part-of              3325\n",
       "derivative-of         728\n",
       "Name: type:TYPE, dtype: int64"
      ]
     },
     "execution_count": 39,
     "metadata": {},
     "output_type": "execute_result"
    }
   ],
   "source": [
    "df_att['type:TYPE'].value_counts()"
   ]
  },
  {
   "cell_type": "code",
   "execution_count": 40,
   "metadata": {
    "Collapsed": "false"
   },
   "outputs": [
    {
     "name": "stdout",
     "output_type": "stream",
     "text": [
      "<class 'pandas.core.frame.DataFrame'>\n",
      "RangeIndex: 1092484 entries, 0 to 1092483\n",
      "Data columns (total 5 columns):\n",
      " #   Column     Non-Null Count    Dtype \n",
      "---  ------     --------------    ----- \n",
      " 0   id1        1092484 non-null  int64 \n",
      " 1   :START_ID  1092484 non-null  object\n",
      " 2   id2        1092484 non-null  int64 \n",
      " 3   type:TYPE  1092484 non-null  object\n",
      " 4   :END_ID    1092484 non-null  object\n",
      "dtypes: int64(2), object(3)\n",
      "memory usage: 41.7+ MB\n"
     ]
    },
    {
     "data": {
      "text/html": [
       "<div>\n",
       "<style scoped>\n",
       "    .dataframe tbody tr th:only-of-type {\n",
       "        vertical-align: middle;\n",
       "    }\n",
       "\n",
       "    .dataframe tbody tr th {\n",
       "        vertical-align: top;\n",
       "    }\n",
       "\n",
       "    .dataframe thead th {\n",
       "        text-align: right;\n",
       "    }\n",
       "</style>\n",
       "<table border=\"1\" class=\"dataframe\">\n",
       "  <thead>\n",
       "    <tr style=\"text-align: right;\">\n",
       "      <th></th>\n",
       "      <th>id1</th>\n",
       "      <th>:START_ID</th>\n",
       "      <th>id2</th>\n",
       "      <th>type:TYPE</th>\n",
       "      <th>:END_ID</th>\n",
       "    </tr>\n",
       "  </thead>\n",
       "  <tbody>\n",
       "    <tr>\n",
       "      <th>0</th>\n",
       "      <td>-9211345763361301943</td>\n",
       "      <td>6239307973426633202</td>\n",
       "      <td>-9211345763361301943</td>\n",
       "      <td>is-a</td>\n",
       "      <td>3282417126387566677</td>\n",
       "    </tr>\n",
       "    <tr>\n",
       "      <th>1</th>\n",
       "      <td>-9199385581024420801</td>\n",
       "      <td>3431286749236869131</td>\n",
       "      <td>-9199385581024420801</td>\n",
       "      <td>similar-to</td>\n",
       "      <td>4166951674999260658</td>\n",
       "    </tr>\n",
       "    <tr>\n",
       "      <th>2</th>\n",
       "      <td>-9171611659504516599</td>\n",
       "      <td>1782891673412044594</td>\n",
       "      <td>-9171611659504516599</td>\n",
       "      <td>is-a</td>\n",
       "      <td>4571827019359806331</td>\n",
       "    </tr>\n",
       "    <tr>\n",
       "      <th>3</th>\n",
       "      <td>-9167253756875171418</td>\n",
       "      <td>-3646445504188635301</td>\n",
       "      <td>-9167253756875171418</td>\n",
       "      <td>similar-to</td>\n",
       "      <td>8441324521048175572</td>\n",
       "    </tr>\n",
       "    <tr>\n",
       "      <th>4</th>\n",
       "      <td>-9152042026611259893</td>\n",
       "      <td>-655714910843208032</td>\n",
       "      <td>-9152042026611259893</td>\n",
       "      <td>is-a</td>\n",
       "      <td>-8777874296820158997</td>\n",
       "    </tr>\n",
       "  </tbody>\n",
       "</table>\n",
       "</div>"
      ],
      "text/plain": [
       "                   id1             :START_ID                  id2   type:TYPE  \\\n",
       "0 -9211345763361301943   6239307973426633202 -9211345763361301943        is-a   \n",
       "1 -9199385581024420801   3431286749236869131 -9199385581024420801  similar-to   \n",
       "2 -9171611659504516599   1782891673412044594 -9171611659504516599        is-a   \n",
       "3 -9167253756875171418  -3646445504188635301 -9167253756875171418  similar-to   \n",
       "4 -9152042026611259893   -655714910843208032 -9152042026611259893        is-a   \n",
       "\n",
       "                :END_ID  \n",
       "0   3282417126387566677  \n",
       "1   4166951674999260658  \n",
       "2   4571827019359806331  \n",
       "3   8441324521048175572  \n",
       "4  -8777874296820158997  "
      ]
     },
     "execution_count": 40,
     "metadata": {},
     "output_type": "execute_result"
    }
   ],
   "source": [
    "df_att=df_att[df_att['type:TYPE']!='None']\n",
    "df_att.reset_index(drop=True, inplace=True)\n",
    "df_att. info(); df_att.head()"
   ]
  },
  {
   "cell_type": "code",
   "execution_count": 41,
   "metadata": {
    "Collapsed": "false"
   },
   "outputs": [
    {
     "name": "stdout",
     "output_type": "stream",
     "text": [
      "<class 'pandas.core.frame.DataFrame'>\n",
      "RangeIndex: 1092484 entries, 0 to 1092483\n",
      "Data columns (total 3 columns):\n",
      " #   Column     Non-Null Count    Dtype \n",
      "---  ------     --------------    ----- \n",
      " 0   :START_ID  1092484 non-null  object\n",
      " 1   type:TYPE  1092484 non-null  object\n",
      " 2   :END_ID    1092484 non-null  object\n",
      "dtypes: object(3)\n",
      "memory usage: 25.0+ MB\n"
     ]
    },
    {
     "data": {
      "text/html": [
       "<div>\n",
       "<style scoped>\n",
       "    .dataframe tbody tr th:only-of-type {\n",
       "        vertical-align: middle;\n",
       "    }\n",
       "\n",
       "    .dataframe tbody tr th {\n",
       "        vertical-align: top;\n",
       "    }\n",
       "\n",
       "    .dataframe thead th {\n",
       "        text-align: right;\n",
       "    }\n",
       "</style>\n",
       "<table border=\"1\" class=\"dataframe\">\n",
       "  <thead>\n",
       "    <tr style=\"text-align: right;\">\n",
       "      <th></th>\n",
       "      <th>:START_ID</th>\n",
       "      <th>type:TYPE</th>\n",
       "      <th>:END_ID</th>\n",
       "    </tr>\n",
       "  </thead>\n",
       "  <tbody>\n",
       "    <tr>\n",
       "      <th>0</th>\n",
       "      <td>6239307973426633202</td>\n",
       "      <td>is-a</td>\n",
       "      <td>3282417126387566677</td>\n",
       "    </tr>\n",
       "    <tr>\n",
       "      <th>1</th>\n",
       "      <td>3431286749236869131</td>\n",
       "      <td>similar-to</td>\n",
       "      <td>4166951674999260658</td>\n",
       "    </tr>\n",
       "    <tr>\n",
       "      <th>2</th>\n",
       "      <td>1782891673412044594</td>\n",
       "      <td>is-a</td>\n",
       "      <td>4571827019359806331</td>\n",
       "    </tr>\n",
       "    <tr>\n",
       "      <th>3</th>\n",
       "      <td>-3646445504188635301</td>\n",
       "      <td>similar-to</td>\n",
       "      <td>8441324521048175572</td>\n",
       "    </tr>\n",
       "    <tr>\n",
       "      <th>4</th>\n",
       "      <td>-655714910843208032</td>\n",
       "      <td>is-a</td>\n",
       "      <td>-8777874296820158997</td>\n",
       "    </tr>\n",
       "  </tbody>\n",
       "</table>\n",
       "</div>"
      ],
      "text/plain": [
       "              :START_ID   type:TYPE               :END_ID\n",
       "0   6239307973426633202        is-a   3282417126387566677\n",
       "1   3431286749236869131  similar-to   4166951674999260658\n",
       "2   1782891673412044594        is-a   4571827019359806331\n",
       "3  -3646445504188635301  similar-to   8441324521048175572\n",
       "4   -655714910843208032        is-a  -8777874296820158997"
      ]
     },
     "execution_count": 41,
     "metadata": {},
     "output_type": "execute_result"
    }
   ],
   "source": [
    "df_att=df_att.drop(columns=['id1', 'id2'])\n",
    "df_att.info(); df_att.head()"
   ]
  },
  {
   "cell_type": "code",
   "execution_count": 44,
   "metadata": {
    "Collapsed": "false"
   },
   "outputs": [],
   "source": [
    "for col in list(df_att.columns):\n",
    "    df_att[col]=df_att[col].apply(lambda x: str(x).strip())"
   ]
  },
  {
   "cell_type": "code",
   "execution_count": 45,
   "metadata": {
    "Collapsed": "false"
   },
   "outputs": [
    {
     "name": "stdout",
     "output_type": "stream",
     "text": [
      "<class 'pandas.core.frame.DataFrame'>\n",
      "RangeIndex: 1092484 entries, 0 to 1092483\n",
      "Data columns (total 3 columns):\n",
      " #   Column     Non-Null Count    Dtype   \n",
      "---  ------     --------------    -----   \n",
      " 0   :START_ID  1092484 non-null  int64   \n",
      " 1   type:TYPE  1092484 non-null  category\n",
      " 2   :END_ID    1092484 non-null  int64   \n",
      "dtypes: category(1), int64(2)\n",
      "memory usage: 17.7 MB\n"
     ]
    }
   ],
   "source": [
    "df_att[':START_ID']=df_att[':START_ID'].astype('int64')\n",
    "df_att[':END_ID']=df_att[':END_ID'].astype('int64')\n",
    "df_att['type:TYPE']=df_att['type:TYPE'].astype('category')\n",
    "\n",
    "df_att.info()\n"
   ]
  },
  {
   "cell_type": "code",
   "execution_count": 46,
   "metadata": {
    "Collapsed": "false"
   },
   "outputs": [],
   "source": [
    "df_att.to_pickle('./data/processed/attributes_df.pkl')"
   ]
  },
  {
   "cell_type": "markdown",
   "metadata": {
    "Collapsed": "false"
   },
   "source": [
    "### Concatenate Relationships"
   ]
  },
  {
   "cell_type": "code",
   "execution_count": 8,
   "metadata": {
    "Collapsed": "false"
   },
   "outputs": [
    {
     "name": "stdout",
     "output_type": "stream",
     "text": [
      "<class 'pandas.core.frame.DataFrame'>\n",
      "RangeIndex: 10191129 entries, 0 to 10191128\n",
      "Data columns (total 16 columns):\n",
      " #   Column            Dtype   \n",
      "---  ------            -----   \n",
      " 0   :START_ID         int64   \n",
      " 1   type:TYPE         category\n",
      " 2   effect            category\n",
      " 3   mechanism         category\n",
      " 4   ref_count:int     int16   \n",
      " 5   :END_ID           int64   \n",
      " 6   biomarkertype     category\n",
      " 7   celllinename      category\n",
      " 8   celltype          category\n",
      " 9   changetype        category\n",
      " 10  organ             category\n",
      " 11  organism          category\n",
      " 12  quantitativetype  category\n",
      " 13  tissue            category\n",
      " 14  nct_id            category\n",
      " 15  phase             category\n",
      "dtypes: category(13), int16(1), int64(2)\n",
      "memory usage: 478.3 MB\n"
     ]
    }
   ],
   "source": [
    "df_directional=pd.read_pickle('./data/processed/directional_df.pkl')\n",
    "df_directional.info()"
   ]
  },
  {
   "cell_type": "code",
   "execution_count": 9,
   "metadata": {
    "Collapsed": "false"
   },
   "outputs": [
    {
     "name": "stdout",
     "output_type": "stream",
     "text": [
      "<class 'pandas.core.frame.DataFrame'>\n",
      "RangeIndex: 4718418 entries, 0 to 4718417\n",
      "Data columns (total 14 columns):\n",
      " #   Column            Dtype   \n",
      "---  ------            -----   \n",
      " 0   :START_ID         int64   \n",
      " 1   type:TYPE         category\n",
      " 2   effect            category\n",
      " 3   mechanism         category\n",
      " 4   ref_count:int     int16   \n",
      " 5   :END_ID           int64   \n",
      " 6   biomarkertype     category\n",
      " 7   celllinename      category\n",
      " 8   celltype          category\n",
      " 9   changetype        category\n",
      " 10  organ             category\n",
      " 11  organism          category\n",
      " 12  quantitativetype  category\n",
      " 13  tissue            category\n",
      "dtypes: category(11), int16(1), int64(2)\n",
      "memory usage: 193.5 MB\n"
     ]
    }
   ],
   "source": [
    "df_bidirect=pd.read_pickle('./data/processed/bidirectional_df.pkl')\n",
    "df_bidirect.info()"
   ]
  },
  {
   "cell_type": "code",
   "execution_count": 10,
   "metadata": {
    "Collapsed": "false"
   },
   "outputs": [
    {
     "name": "stdout",
     "output_type": "stream",
     "text": [
      "<class 'pandas.core.frame.DataFrame'>\n",
      "RangeIndex: 1092484 entries, 0 to 1092483\n",
      "Data columns (total 3 columns):\n",
      " #   Column     Non-Null Count    Dtype   \n",
      "---  ------     --------------    -----   \n",
      " 0   :START_ID  1092484 non-null  int64   \n",
      " 1   type:TYPE  1092484 non-null  category\n",
      " 2   :END_ID    1092484 non-null  int64   \n",
      "dtypes: category(1), int64(2)\n",
      "memory usage: 17.7 MB\n"
     ]
    }
   ],
   "source": [
    "df_att=pd.read_pickle('./data/processed/attributes_df.pkl')\n",
    "df_att.info()"
   ]
  },
  {
   "cell_type": "code",
   "execution_count": 11,
   "metadata": {
    "Collapsed": "false"
   },
   "outputs": [
    {
     "name": "stdout",
     "output_type": "stream",
     "text": [
      "CPU times: user 2.69 s, sys: 831 ms, total: 3.52 s\n",
      "Wall time: 3.55 s\n"
     ]
    }
   ],
   "source": [
    "%%time\n",
    "\n",
    "df_concat=pd.concat([df_directional, df_bidirect, df_att])"
   ]
  },
  {
   "cell_type": "code",
   "execution_count": 12,
   "metadata": {
    "Collapsed": "false"
   },
   "outputs": [
    {
     "name": "stdout",
     "output_type": "stream",
     "text": [
      "<class 'pandas.core.frame.DataFrame'>\n",
      "Int64Index: 16002031 entries, 0 to 1092483\n",
      "Data columns (total 16 columns):\n",
      " #   Column            Dtype   \n",
      "---  ------            -----   \n",
      " 0   :START_ID         int64   \n",
      " 1   type:TYPE         object  \n",
      " 2   effect            category\n",
      " 3   mechanism         object  \n",
      " 4   ref_count:int     float64 \n",
      " 5   :END_ID           int64   \n",
      " 6   biomarkertype     object  \n",
      " 7   celllinename      object  \n",
      " 8   celltype          object  \n",
      " 9   changetype        object  \n",
      " 10  organ             object  \n",
      " 11  organism          object  \n",
      " 12  quantitativetype  object  \n",
      " 13  tissue            object  \n",
      " 14  nct_id            category\n",
      " 15  phase             category\n",
      "dtypes: category(3), float64(1), int64(2), object(10)\n",
      "memory usage: 1.8+ GB\n"
     ]
    },
    {
     "data": {
      "text/html": [
       "<div>\n",
       "<style scoped>\n",
       "    .dataframe tbody tr th:only-of-type {\n",
       "        vertical-align: middle;\n",
       "    }\n",
       "\n",
       "    .dataframe tbody tr th {\n",
       "        vertical-align: top;\n",
       "    }\n",
       "\n",
       "    .dataframe thead th {\n",
       "        text-align: right;\n",
       "    }\n",
       "</style>\n",
       "<table border=\"1\" class=\"dataframe\">\n",
       "  <thead>\n",
       "    <tr style=\"text-align: right;\">\n",
       "      <th></th>\n",
       "      <th>:START_ID</th>\n",
       "      <th>type:TYPE</th>\n",
       "      <th>effect</th>\n",
       "      <th>mechanism</th>\n",
       "      <th>ref_count:int</th>\n",
       "      <th>:END_ID</th>\n",
       "      <th>biomarkertype</th>\n",
       "      <th>celllinename</th>\n",
       "      <th>celltype</th>\n",
       "      <th>changetype</th>\n",
       "      <th>organ</th>\n",
       "      <th>organism</th>\n",
       "      <th>quantitativetype</th>\n",
       "      <th>tissue</th>\n",
       "      <th>nct_id</th>\n",
       "      <th>phase</th>\n",
       "    </tr>\n",
       "  </thead>\n",
       "  <tbody>\n",
       "    <tr>\n",
       "      <th>0</th>\n",
       "      <td>-4129340824583713637</td>\n",
       "      <td>Regulation</td>\n",
       "      <td>None</td>\n",
       "      <td>None</td>\n",
       "      <td>1.0</td>\n",
       "      <td>-2983484129356197270</td>\n",
       "      <td>None</td>\n",
       "      <td>None</td>\n",
       "      <td>None</td>\n",
       "      <td>None</td>\n",
       "      <td>intestine</td>\n",
       "      <td>Rattus norvegicus</td>\n",
       "      <td>None</td>\n",
       "      <td>None</td>\n",
       "      <td>None</td>\n",
       "      <td>None</td>\n",
       "    </tr>\n",
       "    <tr>\n",
       "      <th>1</th>\n",
       "      <td>7111680438658927661</td>\n",
       "      <td>Regulation</td>\n",
       "      <td>None</td>\n",
       "      <td>None</td>\n",
       "      <td>1.0</td>\n",
       "      <td>-3121142714757276759</td>\n",
       "      <td>None</td>\n",
       "      <td>None</td>\n",
       "      <td>None</td>\n",
       "      <td>None</td>\n",
       "      <td>None</td>\n",
       "      <td>None</td>\n",
       "      <td>None</td>\n",
       "      <td>None</td>\n",
       "      <td>None</td>\n",
       "      <td>None</td>\n",
       "    </tr>\n",
       "    <tr>\n",
       "      <th>2</th>\n",
       "      <td>-8447327320654612427</td>\n",
       "      <td>Regulation</td>\n",
       "      <td>None</td>\n",
       "      <td>None</td>\n",
       "      <td>10.0</td>\n",
       "      <td>-1646880163763186214</td>\n",
       "      <td>None</td>\n",
       "      <td>TOV-112D</td>\n",
       "      <td>B-cell, endothelial cell</td>\n",
       "      <td>None</td>\n",
       "      <td>peripheral nervous system</td>\n",
       "      <td>None</td>\n",
       "      <td>None</td>\n",
       "      <td>None</td>\n",
       "      <td>None</td>\n",
       "      <td>None</td>\n",
       "    </tr>\n",
       "    <tr>\n",
       "      <th>3</th>\n",
       "      <td>3670031740130349683</td>\n",
       "      <td>Regulation</td>\n",
       "      <td>positive</td>\n",
       "      <td>None</td>\n",
       "      <td>1.0</td>\n",
       "      <td>-4650140568030604438</td>\n",
       "      <td>None</td>\n",
       "      <td>None</td>\n",
       "      <td>plasma cell</td>\n",
       "      <td>None</td>\n",
       "      <td>None</td>\n",
       "      <td>None</td>\n",
       "      <td>None</td>\n",
       "      <td>plasma</td>\n",
       "      <td>None</td>\n",
       "      <td>None</td>\n",
       "    </tr>\n",
       "    <tr>\n",
       "      <th>4</th>\n",
       "      <td>-6414782697893422681</td>\n",
       "      <td>Expression</td>\n",
       "      <td>positive</td>\n",
       "      <td>None</td>\n",
       "      <td>1.0</td>\n",
       "      <td>-296331965523681380</td>\n",
       "      <td>None</td>\n",
       "      <td>None</td>\n",
       "      <td>T-cell</td>\n",
       "      <td>None</td>\n",
       "      <td>None</td>\n",
       "      <td>None</td>\n",
       "      <td>None</td>\n",
       "      <td>None</td>\n",
       "      <td>None</td>\n",
       "      <td>None</td>\n",
       "    </tr>\n",
       "  </tbody>\n",
       "</table>\n",
       "</div>"
      ],
      "text/plain": [
       "             :START_ID   type:TYPE    effect mechanism  ref_count:int  \\\n",
       "0 -4129340824583713637  Regulation      None      None            1.0   \n",
       "1  7111680438658927661  Regulation      None      None            1.0   \n",
       "2 -8447327320654612427  Regulation      None      None           10.0   \n",
       "3  3670031740130349683  Regulation  positive      None            1.0   \n",
       "4 -6414782697893422681  Expression  positive      None            1.0   \n",
       "\n",
       "               :END_ID biomarkertype celllinename                  celltype  \\\n",
       "0 -2983484129356197270          None         None                      None   \n",
       "1 -3121142714757276759          None         None                      None   \n",
       "2 -1646880163763186214          None     TOV-112D  B-cell, endothelial cell   \n",
       "3 -4650140568030604438          None         None               plasma cell   \n",
       "4  -296331965523681380          None         None                    T-cell   \n",
       "\n",
       "  changetype                      organ           organism quantitativetype  \\\n",
       "0       None                  intestine  Rattus norvegicus             None   \n",
       "1       None                       None               None             None   \n",
       "2       None  peripheral nervous system               None             None   \n",
       "3       None                       None               None             None   \n",
       "4       None                       None               None             None   \n",
       "\n",
       "   tissue nct_id phase  \n",
       "0    None   None  None  \n",
       "1    None   None  None  \n",
       "2    None   None  None  \n",
       "3  plasma   None  None  \n",
       "4    None   None  None  "
      ]
     },
     "execution_count": 12,
     "metadata": {},
     "output_type": "execute_result"
    }
   ],
   "source": [
    "df_concat.info(); df_concat.head()"
   ]
  },
  {
   "cell_type": "code",
   "execution_count": 13,
   "metadata": {
    "Collapsed": "false"
   },
   "outputs": [
    {
     "data": {
      "text/plain": [
       ":START_ID                 0\n",
       "type:TYPE                 0\n",
       "effect              1092484\n",
       "mechanism           1092484\n",
       "ref_count:int       1092484\n",
       ":END_ID                   0\n",
       "biomarkertype       1092484\n",
       "celllinename        1092484\n",
       "celltype            1092484\n",
       "changetype          1092484\n",
       "organ               1092484\n",
       "organism            1092484\n",
       "quantitativetype    1092484\n",
       "tissue              1092484\n",
       "nct_id              5810902\n",
       "phase               5810902\n",
       "dtype: int64"
      ]
     },
     "execution_count": 13,
     "metadata": {},
     "output_type": "execute_result"
    }
   ],
   "source": [
    "df_concat.isnull().sum()"
   ]
  },
  {
   "cell_type": "code",
   "execution_count": 14,
   "metadata": {
    "Collapsed": "false"
   },
   "outputs": [],
   "source": [
    "df_concat['ref_count:int'].fillna(0, inplace=True)"
   ]
  },
  {
   "cell_type": "code",
   "execution_count": 15,
   "metadata": {
    "Collapsed": "false"
   },
   "outputs": [],
   "source": [
    "df_concat=df_concat.fillna('None')"
   ]
  },
  {
   "cell_type": "code",
   "execution_count": 16,
   "metadata": {
    "Collapsed": "false"
   },
   "outputs": [],
   "source": [
    "df_concat['ref_count:int']=df_concat['ref_count:int'].astype('int16')"
   ]
  },
  {
   "cell_type": "code",
   "execution_count": 17,
   "metadata": {
    "Collapsed": "false"
   },
   "outputs": [
    {
     "name": "stdout",
     "output_type": "stream",
     "text": [
      "<class 'pandas.core.frame.DataFrame'>\n",
      "Int64Index: 16002031 entries, 0 to 1092483\n",
      "Data columns (total 16 columns):\n",
      " #   Column            Dtype   \n",
      "---  ------            -----   \n",
      " 0   :START_ID         int64   \n",
      " 1   type:TYPE         category\n",
      " 2   effect            category\n",
      " 3   mechanism         category\n",
      " 4   ref_count:int     int16   \n",
      " 5   :END_ID           int64   \n",
      " 6   biomarkertype     category\n",
      " 7   celllinename      category\n",
      " 8   celltype          category\n",
      " 9   changetype        category\n",
      " 10  organ             category\n",
      " 11  organism          category\n",
      " 12  quantitativetype  category\n",
      " 13  tissue            category\n",
      " 14  nct_id            category\n",
      " 15  phase             category\n",
      "dtypes: category(13), int16(1), int64(2)\n",
      "memory usage: 932.8 MB\n"
     ]
    }
   ],
   "source": [
    "df_obj = df_concat.select_dtypes(['object'])\n",
    "\n",
    "for col in list(df_obj.columns):\n",
    "    df_concat[col] = df_concat[col].apply(lambda x: x.strip())\n",
    "    df_concat[col]=df_concat[col].astype('category')\n",
    "    \n",
    "df_concat.info()"
   ]
  },
  {
   "cell_type": "code",
   "execution_count": 18,
   "metadata": {
    "Collapsed": "false"
   },
   "outputs": [
    {
     "name": "stdout",
     "output_type": "stream",
     "text": [
      "<class 'pandas.core.frame.DataFrame'>\n",
      "RangeIndex: 16002031 entries, 0 to 16002030\n",
      "Data columns (total 16 columns):\n",
      " #   Column            Dtype   \n",
      "---  ------            -----   \n",
      " 0   :START_ID         int64   \n",
      " 1   type:TYPE         category\n",
      " 2   effect            category\n",
      " 3   mechanism         category\n",
      " 4   ref_count:int     int16   \n",
      " 5   :END_ID           int64   \n",
      " 6   biomarkertype     category\n",
      " 7   celllinename      category\n",
      " 8   celltype          category\n",
      " 9   changetype        category\n",
      " 10  organ             category\n",
      " 11  organism          category\n",
      " 12  quantitativetype  category\n",
      " 13  tissue            category\n",
      " 14  nct_id            category\n",
      " 15  phase             category\n",
      "dtypes: category(13), int16(1), int64(2)\n",
      "memory usage: 810.7 MB\n"
     ]
    }
   ],
   "source": [
    "df_concat.reset_index(drop=True, inplace=True)\n",
    "df_concat.info()"
   ]
  },
  {
   "cell_type": "code",
   "execution_count": null,
   "metadata": {
    "Collapsed": "false"
   },
   "outputs": [],
   "source": [
    "# df_concat['celllinename'].value_counts()\n",
    "# df_concat['celltype'].value_counts()\n",
    "\n",
    "# df_concat['biomarkertype'].value_counts()\n",
    "# df_concat['mechanism'].value_counts()\n",
    "# df_concat['changetype'].value_counts()\n",
    "# df_concat['quantitativetype'].value_counts()\n",
    "# df_concat['effect'].value_counts()\n",
    "# df_concat['tissue'].value_counts()\n",
    "# df_concat['organism'].value_counts()"
   ]
  },
  {
   "cell_type": "code",
   "execution_count": 19,
   "metadata": {
    "Collapsed": "false"
   },
   "outputs": [
    {
     "name": "stdout",
     "output_type": "stream",
     "text": [
      "<class 'pandas.core.frame.DataFrame'>\n",
      "RangeIndex: 16001720 entries, 0 to 16001719\n",
      "Data columns (total 16 columns):\n",
      " #   Column            Dtype   \n",
      "---  ------            -----   \n",
      " 0   :START_ID         int64   \n",
      " 1   type:TYPE         category\n",
      " 2   effect            category\n",
      " 3   mechanism         category\n",
      " 4   ref_count:int     int16   \n",
      " 5   :END_ID           int64   \n",
      " 6   biomarkertype     category\n",
      " 7   celllinename      category\n",
      " 8   celltype          category\n",
      " 9   changetype        category\n",
      " 10  organ             category\n",
      " 11  organism          category\n",
      " 12  quantitativetype  category\n",
      " 13  tissue            category\n",
      " 14  nct_id            category\n",
      " 15  phase             category\n",
      "dtypes: category(13), int16(1), int64(2)\n",
      "memory usage: 810.7 MB\n"
     ]
    }
   ],
   "source": [
    "df_concat.drop_duplicates(inplace=True)\n",
    "df_concat.reset_index(drop=True, inplace=True)\n",
    "\n",
    "df_concat.info()"
   ]
  },
  {
   "cell_type": "code",
   "execution_count": 20,
   "metadata": {
    "Collapsed": "false"
   },
   "outputs": [
    {
     "data": {
      "text/plain": [
       "Regulation               6310394\n",
       "FunctionalAssociation    2068008\n",
       "CellExpression           1492256\n",
       "Binding                  1157797\n",
       "is-a                     1062397\n",
       "Expression                972328\n",
       "DirectRegulation          780719\n",
       "QuantitativeChange        503905\n",
       "GeneticChange             466177\n",
       "MolTransport              283319\n",
       "MolSynthesis              179200\n",
       "StateChange               168537\n",
       "Biomarker                 145749\n",
       "ClinicalTrial             128920\n",
       "ProtModification           80243\n",
       "miRNAEffect                67012\n",
       "ChemicalReaction           60489\n",
       "PromoterBinding            44478\n",
       "similar-to                 25740\n",
       "part-of                     3325\n",
       "derivative-of                727\n",
       "Name: type:TYPE, dtype: int64"
      ]
     },
     "execution_count": 20,
     "metadata": {},
     "output_type": "execute_result"
    },
    {
     "data": {
      "text/plain": [
       "None                                                                                                                     9662169\n",
       "liver                                                                                                                     263333\n",
       "brain                                                                                                                     246320\n",
       "heart                                                                                                                     156469\n",
       "skin                                                                                                                      128663\n",
       "                                                                                                                          ...   \n",
       "airway, alveolus, colon, esophagus, gastrointestinal tract, intestine, lung, mammary gland, nerve, nose, pleura, skin          1\n",
       "blood vessel, neural tube, placenta                                                                                            1\n",
       "blood vessel, neural tube, retina                                                                                              1\n",
       "blood vessel, neural tube, spinal cord                                                                                         1\n",
       "brain, cerebral cortex, corpus striatum, dopaminergic system, nigrostriatal system                                             1\n",
       "Name: organ, Length: 845556, dtype: int64"
      ]
     },
     "execution_count": 20,
     "metadata": {},
     "output_type": "execute_result"
    }
   ],
   "source": [
    "df_concat['type:TYPE'].value_counts()\n",
    "df_concat['organ'].value_counts()"
   ]
  },
  {
   "cell_type": "code",
   "execution_count": 21,
   "metadata": {
    "Collapsed": "false"
   },
   "outputs": [
    {
     "name": "stdout",
     "output_type": "stream",
     "text": [
      "<class 'pandas.core.frame.DataFrame'>\n",
      "RangeIndex: 16001720 entries, 0 to 16001719\n",
      "Data columns (total 16 columns):\n",
      " #   Column            Dtype   \n",
      "---  ------            -----   \n",
      " 0   :START_ID         int64   \n",
      " 1   type:TYPE         category\n",
      " 2   effect            category\n",
      " 3   mechanism         category\n",
      " 4   ref_count:int     int16   \n",
      " 5   :END_ID           int64   \n",
      " 6   biomarkertype     category\n",
      " 7   celllinename      category\n",
      " 8   celltype          category\n",
      " 9   changetype        category\n",
      " 10  organ             category\n",
      " 11  organism          category\n",
      " 12  quantitativetype  category\n",
      " 13  tissue            category\n",
      " 14  nct_id            category\n",
      " 15  phase             category\n",
      "dtypes: category(13), int16(1), int64(2)\n",
      "memory usage: 810.7 MB\n"
     ]
    },
    {
     "data": {
      "text/html": [
       "<div>\n",
       "<style scoped>\n",
       "    .dataframe tbody tr th:only-of-type {\n",
       "        vertical-align: middle;\n",
       "    }\n",
       "\n",
       "    .dataframe tbody tr th {\n",
       "        vertical-align: top;\n",
       "    }\n",
       "\n",
       "    .dataframe thead th {\n",
       "        text-align: right;\n",
       "    }\n",
       "</style>\n",
       "<table border=\"1\" class=\"dataframe\">\n",
       "  <thead>\n",
       "    <tr style=\"text-align: right;\">\n",
       "      <th></th>\n",
       "      <th>:START_ID</th>\n",
       "      <th>type:TYPE</th>\n",
       "      <th>effect</th>\n",
       "      <th>mechanism</th>\n",
       "      <th>ref_count:int</th>\n",
       "      <th>:END_ID</th>\n",
       "      <th>biomarkertype</th>\n",
       "      <th>celllinename</th>\n",
       "      <th>celltype</th>\n",
       "      <th>changetype</th>\n",
       "      <th>organ</th>\n",
       "      <th>organism</th>\n",
       "      <th>quantitativetype</th>\n",
       "      <th>tissue</th>\n",
       "      <th>nct_id</th>\n",
       "      <th>phase</th>\n",
       "    </tr>\n",
       "  </thead>\n",
       "  <tbody>\n",
       "    <tr>\n",
       "      <th>0</th>\n",
       "      <td>-4129340824583713637</td>\n",
       "      <td>Regulation</td>\n",
       "      <td>_</td>\n",
       "      <td>_</td>\n",
       "      <td>1</td>\n",
       "      <td>-2983484129356197270</td>\n",
       "      <td>_</td>\n",
       "      <td>_</td>\n",
       "      <td>_</td>\n",
       "      <td>_</td>\n",
       "      <td>intestine</td>\n",
       "      <td>Rattus norvegicus</td>\n",
       "      <td>_</td>\n",
       "      <td>_</td>\n",
       "      <td>_</td>\n",
       "      <td>_</td>\n",
       "    </tr>\n",
       "    <tr>\n",
       "      <th>1</th>\n",
       "      <td>7111680438658927661</td>\n",
       "      <td>Regulation</td>\n",
       "      <td>_</td>\n",
       "      <td>_</td>\n",
       "      <td>1</td>\n",
       "      <td>-3121142714757276759</td>\n",
       "      <td>_</td>\n",
       "      <td>_</td>\n",
       "      <td>_</td>\n",
       "      <td>_</td>\n",
       "      <td>_</td>\n",
       "      <td>_</td>\n",
       "      <td>_</td>\n",
       "      <td>_</td>\n",
       "      <td>_</td>\n",
       "      <td>_</td>\n",
       "    </tr>\n",
       "    <tr>\n",
       "      <th>2</th>\n",
       "      <td>-8447327320654612427</td>\n",
       "      <td>Regulation</td>\n",
       "      <td>_</td>\n",
       "      <td>_</td>\n",
       "      <td>10</td>\n",
       "      <td>-1646880163763186214</td>\n",
       "      <td>_</td>\n",
       "      <td>TOV-112D</td>\n",
       "      <td>B-cell, endothelial cell</td>\n",
       "      <td>_</td>\n",
       "      <td>peripheral nervous system</td>\n",
       "      <td>_</td>\n",
       "      <td>_</td>\n",
       "      <td>_</td>\n",
       "      <td>_</td>\n",
       "      <td>_</td>\n",
       "    </tr>\n",
       "    <tr>\n",
       "      <th>3</th>\n",
       "      <td>3670031740130349683</td>\n",
       "      <td>Regulation</td>\n",
       "      <td>positive</td>\n",
       "      <td>_</td>\n",
       "      <td>1</td>\n",
       "      <td>-4650140568030604438</td>\n",
       "      <td>_</td>\n",
       "      <td>_</td>\n",
       "      <td>plasma cell</td>\n",
       "      <td>_</td>\n",
       "      <td>_</td>\n",
       "      <td>_</td>\n",
       "      <td>_</td>\n",
       "      <td>plasma</td>\n",
       "      <td>_</td>\n",
       "      <td>_</td>\n",
       "    </tr>\n",
       "    <tr>\n",
       "      <th>4</th>\n",
       "      <td>-6414782697893422681</td>\n",
       "      <td>Expression</td>\n",
       "      <td>positive</td>\n",
       "      <td>_</td>\n",
       "      <td>1</td>\n",
       "      <td>-296331965523681380</td>\n",
       "      <td>_</td>\n",
       "      <td>_</td>\n",
       "      <td>T-cell</td>\n",
       "      <td>_</td>\n",
       "      <td>_</td>\n",
       "      <td>_</td>\n",
       "      <td>_</td>\n",
       "      <td>_</td>\n",
       "      <td>_</td>\n",
       "      <td>_</td>\n",
       "    </tr>\n",
       "  </tbody>\n",
       "</table>\n",
       "</div>"
      ],
      "text/plain": [
       "             :START_ID   type:TYPE    effect mechanism  ref_count:int  \\\n",
       "0 -4129340824583713637  Regulation         _         _              1   \n",
       "1  7111680438658927661  Regulation         _         _              1   \n",
       "2 -8447327320654612427  Regulation         _         _             10   \n",
       "3  3670031740130349683  Regulation  positive         _              1   \n",
       "4 -6414782697893422681  Expression  positive         _              1   \n",
       "\n",
       "               :END_ID biomarkertype celllinename                  celltype  \\\n",
       "0 -2983484129356197270             _            _                         _   \n",
       "1 -3121142714757276759             _            _                         _   \n",
       "2 -1646880163763186214             _     TOV-112D  B-cell, endothelial cell   \n",
       "3 -4650140568030604438             _            _               plasma cell   \n",
       "4  -296331965523681380             _            _                    T-cell   \n",
       "\n",
       "  changetype                      organ           organism quantitativetype  \\\n",
       "0          _                  intestine  Rattus norvegicus                _   \n",
       "1          _                          _                  _                _   \n",
       "2          _  peripheral nervous system                  _                _   \n",
       "3          _                          _                  _                _   \n",
       "4          _                          _                  _                _   \n",
       "\n",
       "   tissue nct_id phase  \n",
       "0       _      _     _  \n",
       "1       _      _     _  \n",
       "2       _      _     _  \n",
       "3  plasma      _     _  \n",
       "4       _      _     _  "
      ]
     },
     "execution_count": 21,
     "metadata": {},
     "output_type": "execute_result"
    }
   ],
   "source": [
    "df_concat=df_concat.replace('None', '_')\n",
    "df_concat.info(); df_concat.head()"
   ]
  },
  {
   "cell_type": "code",
   "execution_count": 22,
   "metadata": {
    "Collapsed": "false"
   },
   "outputs": [
    {
     "name": "stdout",
     "output_type": "stream",
     "text": [
      "<class 'pandas.core.frame.DataFrame'>\n",
      "RangeIndex: 16001720 entries, 0 to 16001719\n",
      "Data columns (total 16 columns):\n",
      " #   Column            Dtype   \n",
      "---  ------            -----   \n",
      " 0   :START_ID         int64   \n",
      " 1   type:TYPE         category\n",
      " 2   effect            category\n",
      " 3   mechanism         category\n",
      " 4   ref_count:int     int16   \n",
      " 5   :END_ID           int64   \n",
      " 6   biomarkertype     category\n",
      " 7   celllinename      category\n",
      " 8   celltype          category\n",
      " 9   changetype        category\n",
      " 10  organ             category\n",
      " 11  organism          category\n",
      " 12  quantitativetype  category\n",
      " 13  tissue            category\n",
      " 14  nct_id            category\n",
      " 15  phase             category\n",
      "dtypes: category(13), int16(1), int64(2)\n",
      "memory usage: 810.7 MB\n"
     ]
    },
    {
     "data": {
      "text/html": [
       "<div>\n",
       "<style scoped>\n",
       "    .dataframe tbody tr th:only-of-type {\n",
       "        vertical-align: middle;\n",
       "    }\n",
       "\n",
       "    .dataframe tbody tr th {\n",
       "        vertical-align: top;\n",
       "    }\n",
       "\n",
       "    .dataframe thead th {\n",
       "        text-align: right;\n",
       "    }\n",
       "</style>\n",
       "<table border=\"1\" class=\"dataframe\">\n",
       "  <thead>\n",
       "    <tr style=\"text-align: right;\">\n",
       "      <th></th>\n",
       "      <th>:START_ID</th>\n",
       "      <th>type:TYPE</th>\n",
       "      <th>effect</th>\n",
       "      <th>mechanism</th>\n",
       "      <th>ref_count:int</th>\n",
       "      <th>:END_ID</th>\n",
       "      <th>biomarkertype</th>\n",
       "      <th>celllinename</th>\n",
       "      <th>celltype</th>\n",
       "      <th>changetype</th>\n",
       "      <th>organ</th>\n",
       "      <th>organism</th>\n",
       "      <th>quantitativetype</th>\n",
       "      <th>tissue</th>\n",
       "      <th>nct_id</th>\n",
       "      <th>phase</th>\n",
       "    </tr>\n",
       "  </thead>\n",
       "  <tbody>\n",
       "    <tr>\n",
       "      <th>0</th>\n",
       "      <td>-4129340824583713637</td>\n",
       "      <td>REGULATION</td>\n",
       "      <td>_</td>\n",
       "      <td>_</td>\n",
       "      <td>1</td>\n",
       "      <td>-2983484129356197270</td>\n",
       "      <td>_</td>\n",
       "      <td>_</td>\n",
       "      <td>_</td>\n",
       "      <td>_</td>\n",
       "      <td>intestine</td>\n",
       "      <td>Rattus norvegicus</td>\n",
       "      <td>_</td>\n",
       "      <td>_</td>\n",
       "      <td>_</td>\n",
       "      <td>_</td>\n",
       "    </tr>\n",
       "    <tr>\n",
       "      <th>1</th>\n",
       "      <td>7111680438658927661</td>\n",
       "      <td>REGULATION</td>\n",
       "      <td>_</td>\n",
       "      <td>_</td>\n",
       "      <td>1</td>\n",
       "      <td>-3121142714757276759</td>\n",
       "      <td>_</td>\n",
       "      <td>_</td>\n",
       "      <td>_</td>\n",
       "      <td>_</td>\n",
       "      <td>_</td>\n",
       "      <td>_</td>\n",
       "      <td>_</td>\n",
       "      <td>_</td>\n",
       "      <td>_</td>\n",
       "      <td>_</td>\n",
       "    </tr>\n",
       "    <tr>\n",
       "      <th>2</th>\n",
       "      <td>-8447327320654612427</td>\n",
       "      <td>REGULATION</td>\n",
       "      <td>_</td>\n",
       "      <td>_</td>\n",
       "      <td>10</td>\n",
       "      <td>-1646880163763186214</td>\n",
       "      <td>_</td>\n",
       "      <td>TOV-112D</td>\n",
       "      <td>B-cell, endothelial cell</td>\n",
       "      <td>_</td>\n",
       "      <td>peripheral nervous system</td>\n",
       "      <td>_</td>\n",
       "      <td>_</td>\n",
       "      <td>_</td>\n",
       "      <td>_</td>\n",
       "      <td>_</td>\n",
       "    </tr>\n",
       "    <tr>\n",
       "      <th>3</th>\n",
       "      <td>3670031740130349683</td>\n",
       "      <td>REGULATION</td>\n",
       "      <td>positive</td>\n",
       "      <td>_</td>\n",
       "      <td>1</td>\n",
       "      <td>-4650140568030604438</td>\n",
       "      <td>_</td>\n",
       "      <td>_</td>\n",
       "      <td>plasma cell</td>\n",
       "      <td>_</td>\n",
       "      <td>_</td>\n",
       "      <td>_</td>\n",
       "      <td>_</td>\n",
       "      <td>plasma</td>\n",
       "      <td>_</td>\n",
       "      <td>_</td>\n",
       "    </tr>\n",
       "    <tr>\n",
       "      <th>4</th>\n",
       "      <td>-6414782697893422681</td>\n",
       "      <td>EXPRESSION</td>\n",
       "      <td>positive</td>\n",
       "      <td>_</td>\n",
       "      <td>1</td>\n",
       "      <td>-296331965523681380</td>\n",
       "      <td>_</td>\n",
       "      <td>_</td>\n",
       "      <td>T-cell</td>\n",
       "      <td>_</td>\n",
       "      <td>_</td>\n",
       "      <td>_</td>\n",
       "      <td>_</td>\n",
       "      <td>_</td>\n",
       "      <td>_</td>\n",
       "      <td>_</td>\n",
       "    </tr>\n",
       "  </tbody>\n",
       "</table>\n",
       "</div>"
      ],
      "text/plain": [
       "             :START_ID   type:TYPE    effect mechanism  ref_count:int  \\\n",
       "0 -4129340824583713637  REGULATION         _         _              1   \n",
       "1  7111680438658927661  REGULATION         _         _              1   \n",
       "2 -8447327320654612427  REGULATION         _         _             10   \n",
       "3  3670031740130349683  REGULATION  positive         _              1   \n",
       "4 -6414782697893422681  EXPRESSION  positive         _              1   \n",
       "\n",
       "               :END_ID biomarkertype celllinename                  celltype  \\\n",
       "0 -2983484129356197270             _            _                         _   \n",
       "1 -3121142714757276759             _            _                         _   \n",
       "2 -1646880163763186214             _     TOV-112D  B-cell, endothelial cell   \n",
       "3 -4650140568030604438             _            _               plasma cell   \n",
       "4  -296331965523681380             _            _                    T-cell   \n",
       "\n",
       "  changetype                      organ           organism quantitativetype  \\\n",
       "0          _                  intestine  Rattus norvegicus                _   \n",
       "1          _                          _                  _                _   \n",
       "2          _  peripheral nervous system                  _                _   \n",
       "3          _                          _                  _                _   \n",
       "4          _                          _                  _                _   \n",
       "\n",
       "   tissue nct_id phase  \n",
       "0       _      _     _  \n",
       "1       _      _     _  \n",
       "2       _      _     _  \n",
       "3  plasma      _     _  \n",
       "4       _      _     _  "
      ]
     },
     "execution_count": 22,
     "metadata": {},
     "output_type": "execute_result"
    }
   ],
   "source": [
    "# df cleanup\n",
    "\n",
    "df_concat['type:TYPE']=df_concat['type:TYPE'].apply(lambda x: x.upper())\n",
    "df_concat.info(); df_concat.head()"
   ]
  },
  {
   "cell_type": "code",
   "execution_count": 23,
   "metadata": {
    "Collapsed": "false"
   },
   "outputs": [
    {
     "data": {
      "text/plain": [
       "REGULATION               6310394\n",
       "FUNCTIONALASSOCIATION    2068008\n",
       "CELLEXPRESSION           1492256\n",
       "BINDING                  1157797\n",
       "IS-A                     1062397\n",
       "EXPRESSION                972328\n",
       "DIRECTREGULATION          780719\n",
       "QUANTITATIVECHANGE        503905\n",
       "GENETICCHANGE             466177\n",
       "MOLTRANSPORT              283319\n",
       "MOLSYNTHESIS              179200\n",
       "STATECHANGE               168537\n",
       "BIOMARKER                 145749\n",
       "CLINICALTRIAL             128920\n",
       "PROTMODIFICATION           80243\n",
       "MIRNAEFFECT                67012\n",
       "CHEMICALREACTION           60489\n",
       "PROMOTERBINDING            44478\n",
       "SIMILAR-TO                 25740\n",
       "PART-OF                     3325\n",
       "DERIVATIVE-OF                727\n",
       "Name: type:TYPE, dtype: int64"
      ]
     },
     "execution_count": 23,
     "metadata": {},
     "output_type": "execute_result"
    }
   ],
   "source": [
    "df_concat['type:TYPE'].value_counts()"
   ]
  },
  {
   "cell_type": "code",
   "execution_count": null,
   "metadata": {
    "Collapsed": "false"
   },
   "outputs": [],
   "source": [
    "# filter ref count =0 if type not Clinical trial\n",
    "\n",
    "# import numpy as np\n",
    "# idx =np.where((df_rel_deduped['ref_count:int']==0) & (df_rel_deduped['type:TYPE']!='CLINICALTRIAL') & \\\n",
    "#               (df_rel_deduped['type:TYPE']!='IS-A') & (df_rel_deduped['type:TYPE']!='PART-OF') & \\\n",
    "#              (df_rel_deduped['type:TYPE']!='DERIVATIVE-OF') & (df_rel_deduped['type:TYPE']!='SIMILAR-TO'))  #get index values to filter out\n",
    "# df_rel_filtered=df_rel_deduped[~df_rel_deduped.index.isin(idx[0])]\n",
    "# df_rel_filtered.info(); df_rel_filtered.head()"
   ]
  },
  {
   "cell_type": "code",
   "execution_count": 24,
   "metadata": {},
   "outputs": [
    {
     "data": {
      "text/plain": [
       "[':START_ID',\n",
       " 'type:TYPE',\n",
       " 'effect',\n",
       " 'mechanism',\n",
       " 'ref_count:int',\n",
       " ':END_ID',\n",
       " 'biomarkertype',\n",
       " 'celllinename',\n",
       " 'celltype',\n",
       " 'changetype',\n",
       " 'organ',\n",
       " 'organism',\n",
       " 'quantitativetype',\n",
       " 'tissue',\n",
       " 'nct_id',\n",
       " 'phase']"
      ]
     },
     "execution_count": 24,
     "metadata": {},
     "output_type": "execute_result"
    }
   ],
   "source": [
    "cols=list(df_directional.columns)\n",
    "cols"
   ]
  },
  {
   "cell_type": "code",
   "execution_count": 25,
   "metadata": {},
   "outputs": [
    {
     "data": {
      "text/html": [
       "<div>\n",
       "<style scoped>\n",
       "    .dataframe tbody tr th:only-of-type {\n",
       "        vertical-align: middle;\n",
       "    }\n",
       "\n",
       "    .dataframe tbody tr th {\n",
       "        vertical-align: top;\n",
       "    }\n",
       "\n",
       "    .dataframe thead th {\n",
       "        text-align: right;\n",
       "    }\n",
       "</style>\n",
       "<table border=\"1\" class=\"dataframe\">\n",
       "  <thead>\n",
       "    <tr style=\"text-align: right;\">\n",
       "      <th></th>\n",
       "      <th>:START_ID</th>\n",
       "      <th>type:TYPE</th>\n",
       "      <th>effect</th>\n",
       "      <th>mechanism</th>\n",
       "      <th>ref_count:int</th>\n",
       "      <th>:END_ID</th>\n",
       "      <th>biomarkertype</th>\n",
       "      <th>celllinename</th>\n",
       "      <th>celltype</th>\n",
       "      <th>changetype</th>\n",
       "      <th>organ</th>\n",
       "      <th>organism</th>\n",
       "      <th>quantitativetype</th>\n",
       "      <th>tissue</th>\n",
       "      <th>nct_id</th>\n",
       "      <th>phase</th>\n",
       "    </tr>\n",
       "  </thead>\n",
       "  <tbody>\n",
       "    <tr>\n",
       "      <th>0</th>\n",
       "      <td>-4129340824583713637</td>\n",
       "      <td>REGULATION</td>\n",
       "      <td>_</td>\n",
       "      <td>_</td>\n",
       "      <td>1</td>\n",
       "      <td>-2983484129356197270</td>\n",
       "      <td>_</td>\n",
       "      <td>_</td>\n",
       "      <td>_</td>\n",
       "      <td>_</td>\n",
       "      <td>intestine</td>\n",
       "      <td>Rattus norvegicus</td>\n",
       "      <td>_</td>\n",
       "      <td>_</td>\n",
       "      <td>_</td>\n",
       "      <td>_</td>\n",
       "    </tr>\n",
       "    <tr>\n",
       "      <th>1</th>\n",
       "      <td>7111680438658927661</td>\n",
       "      <td>REGULATION</td>\n",
       "      <td>_</td>\n",
       "      <td>_</td>\n",
       "      <td>1</td>\n",
       "      <td>-3121142714757276759</td>\n",
       "      <td>_</td>\n",
       "      <td>_</td>\n",
       "      <td>_</td>\n",
       "      <td>_</td>\n",
       "      <td>_</td>\n",
       "      <td>_</td>\n",
       "      <td>_</td>\n",
       "      <td>_</td>\n",
       "      <td>_</td>\n",
       "      <td>_</td>\n",
       "    </tr>\n",
       "    <tr>\n",
       "      <th>2</th>\n",
       "      <td>-8447327320654612427</td>\n",
       "      <td>REGULATION</td>\n",
       "      <td>_</td>\n",
       "      <td>_</td>\n",
       "      <td>10</td>\n",
       "      <td>-1646880163763186214</td>\n",
       "      <td>_</td>\n",
       "      <td>TOV-112D</td>\n",
       "      <td>B-cell, endothelial cell</td>\n",
       "      <td>_</td>\n",
       "      <td>peripheral nervous system</td>\n",
       "      <td>_</td>\n",
       "      <td>_</td>\n",
       "      <td>_</td>\n",
       "      <td>_</td>\n",
       "      <td>_</td>\n",
       "    </tr>\n",
       "    <tr>\n",
       "      <th>3</th>\n",
       "      <td>3670031740130349683</td>\n",
       "      <td>REGULATION</td>\n",
       "      <td>positive</td>\n",
       "      <td>_</td>\n",
       "      <td>1</td>\n",
       "      <td>-4650140568030604438</td>\n",
       "      <td>_</td>\n",
       "      <td>_</td>\n",
       "      <td>plasma cell</td>\n",
       "      <td>_</td>\n",
       "      <td>_</td>\n",
       "      <td>_</td>\n",
       "      <td>_</td>\n",
       "      <td>plasma</td>\n",
       "      <td>_</td>\n",
       "      <td>_</td>\n",
       "    </tr>\n",
       "    <tr>\n",
       "      <th>4</th>\n",
       "      <td>-6414782697893422681</td>\n",
       "      <td>EXPRESSION</td>\n",
       "      <td>positive</td>\n",
       "      <td>_</td>\n",
       "      <td>1</td>\n",
       "      <td>-296331965523681380</td>\n",
       "      <td>_</td>\n",
       "      <td>_</td>\n",
       "      <td>T-cell</td>\n",
       "      <td>_</td>\n",
       "      <td>_</td>\n",
       "      <td>_</td>\n",
       "      <td>_</td>\n",
       "      <td>_</td>\n",
       "      <td>_</td>\n",
       "      <td>_</td>\n",
       "    </tr>\n",
       "  </tbody>\n",
       "</table>\n",
       "</div>"
      ],
      "text/plain": [
       "             :START_ID   type:TYPE    effect mechanism  ref_count:int  \\\n",
       "0 -4129340824583713637  REGULATION         _         _              1   \n",
       "1  7111680438658927661  REGULATION         _         _              1   \n",
       "2 -8447327320654612427  REGULATION         _         _             10   \n",
       "3  3670031740130349683  REGULATION  positive         _              1   \n",
       "4 -6414782697893422681  EXPRESSION  positive         _              1   \n",
       "\n",
       "               :END_ID biomarkertype celllinename                  celltype  \\\n",
       "0 -2983484129356197270             _            _                         _   \n",
       "1 -3121142714757276759             _            _                         _   \n",
       "2 -1646880163763186214             _     TOV-112D  B-cell, endothelial cell   \n",
       "3 -4650140568030604438             _            _               plasma cell   \n",
       "4  -296331965523681380             _            _                    T-cell   \n",
       "\n",
       "  changetype                      organ           organism quantitativetype  \\\n",
       "0          _                  intestine  Rattus norvegicus                _   \n",
       "1          _                          _                  _                _   \n",
       "2          _  peripheral nervous system                  _                _   \n",
       "3          _                          _                  _                _   \n",
       "4          _                          _                  _                _   \n",
       "\n",
       "   tissue nct_id phase  \n",
       "0       _      _     _  \n",
       "1       _      _     _  \n",
       "2       _      _     _  \n",
       "3  plasma      _     _  \n",
       "4       _      _     _  "
      ]
     },
     "execution_count": 25,
     "metadata": {},
     "output_type": "execute_result"
    }
   ],
   "source": [
    "df_concat=df_concat[cols]\n",
    "df_concat.head(5)"
   ]
  },
  {
   "cell_type": "code",
   "execution_count": 26,
   "metadata": {
    "Collapsed": "false"
   },
   "outputs": [
    {
     "name": "stdout",
     "output_type": "stream",
     "text": [
      "CPU times: user 3min 4s, sys: 1.07 s, total: 3min 5s\n",
      "Wall time: 3min 7s\n"
     ]
    }
   ],
   "source": [
    "%%time\n",
    "df_concat.to_csv('./data/processed/relations.txt', sep='|', index=False, header=True)"
   ]
  },
  {
   "cell_type": "code",
   "execution_count": 29,
   "metadata": {},
   "outputs": [
    {
     "data": {
      "text/plain": [
       "689"
      ]
     },
     "execution_count": 29,
     "metadata": {},
     "output_type": "execute_result"
    },
    {
     "data": {
      "text/plain": [
       "0"
      ]
     },
     "execution_count": 29,
     "metadata": {},
     "output_type": "execute_result"
    }
   ],
   "source": [
    "df_concat['ref_count:int'].max(); df_concat['ref_count:int'].min()"
   ]
  },
  {
   "cell_type": "code",
   "execution_count": 30,
   "metadata": {
    "Collapsed": "false"
   },
   "outputs": [
    {
     "data": {
      "text/plain": [
       "[':START_ID',\n",
       " 'type:TYPE',\n",
       " 'effect',\n",
       " 'mechanism',\n",
       " 'ref_count:int',\n",
       " ':END_ID',\n",
       " 'biomarkertype',\n",
       " 'celllinename',\n",
       " 'celltype',\n",
       " 'changetype',\n",
       " 'organ',\n",
       " 'organism',\n",
       " 'quantitativetype',\n",
       " 'tissue',\n",
       " 'nct_id',\n",
       " 'phase']"
      ]
     },
     "execution_count": 30,
     "metadata": {},
     "output_type": "execute_result"
    }
   ],
   "source": [
    "# list of column names for header file\n",
    "cols=list(df_concat.columns)\n",
    "cols"
   ]
  },
  {
   "cell_type": "code",
   "execution_count": 31,
   "metadata": {
    "Collapsed": "false"
   },
   "outputs": [
    {
     "data": {
      "text/html": [
       "<div>\n",
       "<style scoped>\n",
       "    .dataframe tbody tr th:only-of-type {\n",
       "        vertical-align: middle;\n",
       "    }\n",
       "\n",
       "    .dataframe tbody tr th {\n",
       "        vertical-align: top;\n",
       "    }\n",
       "\n",
       "    .dataframe thead th {\n",
       "        text-align: right;\n",
       "    }\n",
       "</style>\n",
       "<table border=\"1\" class=\"dataframe\">\n",
       "  <thead>\n",
       "    <tr style=\"text-align: right;\">\n",
       "      <th></th>\n",
       "      <th>:START_ID</th>\n",
       "      <th>type:TYPE</th>\n",
       "      <th>effect</th>\n",
       "      <th>mechanism</th>\n",
       "      <th>ref_count:int</th>\n",
       "      <th>:END_ID</th>\n",
       "      <th>biomarkertype</th>\n",
       "      <th>celllinename</th>\n",
       "      <th>celltype</th>\n",
       "      <th>changetype</th>\n",
       "      <th>organ</th>\n",
       "      <th>organism</th>\n",
       "      <th>quantitativetype</th>\n",
       "      <th>tissue</th>\n",
       "      <th>nct_id</th>\n",
       "      <th>phase</th>\n",
       "    </tr>\n",
       "  </thead>\n",
       "  <tbody>\n",
       "  </tbody>\n",
       "</table>\n",
       "</div>"
      ],
      "text/plain": [
       "Empty DataFrame\n",
       "Columns: [:START_ID, type:TYPE, effect, mechanism, ref_count:int, :END_ID, biomarkertype, celllinename, celltype, changetype, organ, organism, quantitativetype, tissue, nct_id, phase]\n",
       "Index: []"
      ]
     },
     "execution_count": 31,
     "metadata": {},
     "output_type": "execute_result"
    }
   ],
   "source": [
    "# create headers file\n",
    "df_rel_headers=pd.DataFrame(columns=cols)\n",
    "df_rel_headers\n",
    "df_rel_headers.to_csv('./data/processed/relations_header.txt', sep= '|', index=False)"
   ]
  },
  {
   "cell_type": "markdown",
   "metadata": {
    "Collapsed": "false"
   },
   "source": [
    "## Nodes"
   ]
  },
  {
   "cell_type": "code",
   "execution_count": 70,
   "metadata": {
    "Collapsed": "false"
   },
   "outputs": [],
   "source": [
    "# define query\n",
    "sql='select id, name, nodetype from resnet.node where id is not null and name is not null and nodetype is not null'"
   ]
  },
  {
   "cell_type": "code",
   "execution_count": 71,
   "metadata": {
    "Collapsed": "false"
   },
   "outputs": [
    {
     "name": "stdout",
     "output_type": "stream",
     "text": [
      "CPU times: user 3.25 s, sys: 337 ms, total: 3.59 s\n",
      "Wall time: 4.32 s\n"
     ]
    }
   ],
   "source": [
    "%%time\n",
    "\n",
    "# save query results to file\n",
    "with conn.cursor() as cur:\n",
    "    with open('./data/raw/nodes_.txt', 'w', encoding=\"utf-8\") as f:\n",
    "        cur.execute(sql)\n",
    "        csv_writer=csv.writer(f, delimiter='|')\n",
    "        for record in cur.fetchall():\n",
    "            line=\"|\".join(map(str, record))+'\\n'\n",
    "            \n",
    "            f.write(line)"
   ]
  },
  {
   "cell_type": "markdown",
   "metadata": {
    "Collapsed": "false"
   },
   "source": [
    "### Create Node files"
   ]
  },
  {
   "cell_type": "code",
   "execution_count": 72,
   "metadata": {
    "Collapsed": "false"
   },
   "outputs": [
    {
     "name": "stdout",
     "output_type": "stream",
     "text": [
      "<class 'pandas.core.frame.DataFrame'>\n",
      "RangeIndex: 1470805 entries, 0 to 1470804\n",
      "Data columns (total 3 columns):\n",
      " #   Column  Non-Null Count    Dtype \n",
      "---  ------  --------------    ----- \n",
      " 0   0       1470805 non-null  int64 \n",
      " 1   1       1470805 non-null  object\n",
      " 2   2       1470805 non-null  object\n",
      "dtypes: int64(1), object(2)\n",
      "memory usage: 33.7+ MB\n"
     ]
    },
    {
     "data": {
      "text/html": [
       "<div>\n",
       "<style scoped>\n",
       "    .dataframe tbody tr th:only-of-type {\n",
       "        vertical-align: middle;\n",
       "    }\n",
       "\n",
       "    .dataframe tbody tr th {\n",
       "        vertical-align: top;\n",
       "    }\n",
       "\n",
       "    .dataframe thead th {\n",
       "        text-align: right;\n",
       "    }\n",
       "</style>\n",
       "<table border=\"1\" class=\"dataframe\">\n",
       "  <thead>\n",
       "    <tr style=\"text-align: right;\">\n",
       "      <th></th>\n",
       "      <th>0</th>\n",
       "      <th>1</th>\n",
       "      <th>2</th>\n",
       "    </tr>\n",
       "  </thead>\n",
       "  <tbody>\n",
       "    <tr>\n",
       "      <th>0</th>\n",
       "      <td>1000020775393047472</td>\n",
       "      <td>r_LOC108352567</td>\n",
       "      <td>Protein</td>\n",
       "    </tr>\n",
       "    <tr>\n",
       "      <th>1</th>\n",
       "      <td>-1000022879358845591</td>\n",
       "      <td>Rx26449263</td>\n",
       "      <td>SmallMol</td>\n",
       "    </tr>\n",
       "    <tr>\n",
       "      <th>2</th>\n",
       "      <td>-1000024917554356200</td>\n",
       "      <td>GO: extracellular matrix of synaptic cleft</td>\n",
       "      <td>SemanticConcept</td>\n",
       "    </tr>\n",
       "    <tr>\n",
       "      <th>3</th>\n",
       "      <td>1000026386881640747</td>\n",
       "      <td>rs876660037</td>\n",
       "      <td>GeneticVariant</td>\n",
       "    </tr>\n",
       "    <tr>\n",
       "      <th>4</th>\n",
       "      <td>-1000028657865034959</td>\n",
       "      <td>m_Fbxw19</td>\n",
       "      <td>Protein</td>\n",
       "    </tr>\n",
       "  </tbody>\n",
       "</table>\n",
       "</div>"
      ],
      "text/plain": [
       "                     0                                           1  \\\n",
       "0  1000020775393047472                              r_LOC108352567   \n",
       "1 -1000022879358845591                                  Rx26449263   \n",
       "2 -1000024917554356200  GO: extracellular matrix of synaptic cleft   \n",
       "3  1000026386881640747                                 rs876660037   \n",
       "4 -1000028657865034959                                    m_Fbxw19   \n",
       "\n",
       "                 2  \n",
       "0          Protein  \n",
       "1         SmallMol  \n",
       "2  SemanticConcept  \n",
       "3   GeneticVariant  \n",
       "4          Protein  "
      ]
     },
     "execution_count": 72,
     "metadata": {},
     "output_type": "execute_result"
    }
   ],
   "source": [
    "df_node=pd.read_csv('./data/raw/nodes_.txt', delimiter='|', header=None, encoding='utf-8')\n",
    "df_node.info(); df_node.head()"
   ]
  },
  {
   "cell_type": "code",
   "execution_count": 73,
   "metadata": {
    "Collapsed": "false"
   },
   "outputs": [
    {
     "data": {
      "text/html": [
       "<div>\n",
       "<style scoped>\n",
       "    .dataframe tbody tr th:only-of-type {\n",
       "        vertical-align: middle;\n",
       "    }\n",
       "\n",
       "    .dataframe tbody tr th {\n",
       "        vertical-align: top;\n",
       "    }\n",
       "\n",
       "    .dataframe thead th {\n",
       "        text-align: right;\n",
       "    }\n",
       "</style>\n",
       "<table border=\"1\" class=\"dataframe\">\n",
       "  <thead>\n",
       "    <tr style=\"text-align: right;\">\n",
       "      <th></th>\n",
       "      <th>:ID</th>\n",
       "      <th>name</th>\n",
       "      <th>:LABEL</th>\n",
       "    </tr>\n",
       "  </thead>\n",
       "  <tbody>\n",
       "    <tr>\n",
       "      <th>0</th>\n",
       "      <td>1000020775393047472</td>\n",
       "      <td>r_LOC108352567</td>\n",
       "      <td>Protein</td>\n",
       "    </tr>\n",
       "    <tr>\n",
       "      <th>1</th>\n",
       "      <td>-1000022879358845591</td>\n",
       "      <td>Rx26449263</td>\n",
       "      <td>SmallMol</td>\n",
       "    </tr>\n",
       "    <tr>\n",
       "      <th>2</th>\n",
       "      <td>-1000024917554356200</td>\n",
       "      <td>GO: extracellular matrix of synaptic cleft</td>\n",
       "      <td>SemanticConcept</td>\n",
       "    </tr>\n",
       "    <tr>\n",
       "      <th>3</th>\n",
       "      <td>1000026386881640747</td>\n",
       "      <td>rs876660037</td>\n",
       "      <td>GeneticVariant</td>\n",
       "    </tr>\n",
       "    <tr>\n",
       "      <th>4</th>\n",
       "      <td>-1000028657865034959</td>\n",
       "      <td>m_Fbxw19</td>\n",
       "      <td>Protein</td>\n",
       "    </tr>\n",
       "  </tbody>\n",
       "</table>\n",
       "</div>"
      ],
      "text/plain": [
       "                   :ID                                        name  \\\n",
       "0  1000020775393047472                              r_LOC108352567   \n",
       "1 -1000022879358845591                                  Rx26449263   \n",
       "2 -1000024917554356200  GO: extracellular matrix of synaptic cleft   \n",
       "3  1000026386881640747                                 rs876660037   \n",
       "4 -1000028657865034959                                    m_Fbxw19   \n",
       "\n",
       "            :LABEL  \n",
       "0          Protein  \n",
       "1         SmallMol  \n",
       "2  SemanticConcept  \n",
       "3   GeneticVariant  \n",
       "4          Protein  "
      ]
     },
     "execution_count": 73,
     "metadata": {},
     "output_type": "execute_result"
    }
   ],
   "source": [
    "# create column headers\n",
    "df_node.columns=[':ID', 'name', ':LABEL']\n",
    "df_node.head()"
   ]
  },
  {
   "cell_type": "code",
   "execution_count": 74,
   "metadata": {
    "Collapsed": "false"
   },
   "outputs": [
    {
     "name": "stdout",
     "output_type": "stream",
     "text": [
      "<class 'pandas.core.frame.DataFrame'>\n",
      "RangeIndex: 1470805 entries, 0 to 1470804\n",
      "Data columns (total 3 columns):\n",
      " #   Column  Non-Null Count    Dtype \n",
      "---  ------  --------------    ----- \n",
      " 0   :ID     1470805 non-null  int64 \n",
      " 1   name    1470805 non-null  object\n",
      " 2   :LABEL  1470805 non-null  object\n",
      "dtypes: int64(1), object(2)\n",
      "memory usage: 33.7+ MB\n"
     ]
    },
    {
     "data": {
      "text/html": [
       "<div>\n",
       "<style scoped>\n",
       "    .dataframe tbody tr th:only-of-type {\n",
       "        vertical-align: middle;\n",
       "    }\n",
       "\n",
       "    .dataframe tbody tr th {\n",
       "        vertical-align: top;\n",
       "    }\n",
       "\n",
       "    .dataframe thead th {\n",
       "        text-align: right;\n",
       "    }\n",
       "</style>\n",
       "<table border=\"1\" class=\"dataframe\">\n",
       "  <thead>\n",
       "    <tr style=\"text-align: right;\">\n",
       "      <th></th>\n",
       "      <th>:ID</th>\n",
       "      <th>name</th>\n",
       "      <th>:LABEL</th>\n",
       "    </tr>\n",
       "  </thead>\n",
       "  <tbody>\n",
       "    <tr>\n",
       "      <th>0</th>\n",
       "      <td>1000020775393047472</td>\n",
       "      <td>r_LOC108352567</td>\n",
       "      <td>PROTEIN</td>\n",
       "    </tr>\n",
       "    <tr>\n",
       "      <th>1</th>\n",
       "      <td>-1000022879358845591</td>\n",
       "      <td>Rx26449263</td>\n",
       "      <td>SMALLMOL</td>\n",
       "    </tr>\n",
       "    <tr>\n",
       "      <th>2</th>\n",
       "      <td>-1000024917554356200</td>\n",
       "      <td>GO: extracellular matrix of synaptic cleft</td>\n",
       "      <td>SEMANTICCONCEPT</td>\n",
       "    </tr>\n",
       "    <tr>\n",
       "      <th>3</th>\n",
       "      <td>1000026386881640747</td>\n",
       "      <td>rs876660037</td>\n",
       "      <td>GENETICVARIANT</td>\n",
       "    </tr>\n",
       "    <tr>\n",
       "      <th>4</th>\n",
       "      <td>-1000028657865034959</td>\n",
       "      <td>m_Fbxw19</td>\n",
       "      <td>PROTEIN</td>\n",
       "    </tr>\n",
       "  </tbody>\n",
       "</table>\n",
       "</div>"
      ],
      "text/plain": [
       "                   :ID                                        name  \\\n",
       "0  1000020775393047472                              r_LOC108352567   \n",
       "1 -1000022879358845591                                  Rx26449263   \n",
       "2 -1000024917554356200  GO: extracellular matrix of synaptic cleft   \n",
       "3  1000026386881640747                                 rs876660037   \n",
       "4 -1000028657865034959                                    m_Fbxw19   \n",
       "\n",
       "            :LABEL  \n",
       "0          PROTEIN  \n",
       "1         SMALLMOL  \n",
       "2  SEMANTICCONCEPT  \n",
       "3   GENETICVARIANT  \n",
       "4          PROTEIN  "
      ]
     },
     "execution_count": 74,
     "metadata": {},
     "output_type": "execute_result"
    }
   ],
   "source": [
    "# df cleanup\n",
    "df_node[':LABEL']=df_node[':LABEL'].apply(lambda x: x.upper())\n",
    "df_node[':LABEL']=df_node[':LABEL'].apply(lambda x: x.strip())\n",
    "df_node['name']=df_node['name'].apply(lambda x: x.strip())\n",
    "df_node[':ID']=df_node[':ID'].apply(lambda x: str(x).strip())  #convert to string and strip()\n",
    "df_node[':ID']=df_node[':ID'].astype('int64')   # convert back to int\n",
    "df_node.info(); df_node.head()"
   ]
  },
  {
   "cell_type": "code",
   "execution_count": 75,
   "metadata": {
    "Collapsed": "false"
   },
   "outputs": [],
   "source": [
    "# check for name strings that are too long\n",
    "df_node['name_len']=df_node['name'].apply(lambda x: len(x))"
   ]
  },
  {
   "cell_type": "code",
   "execution_count": 76,
   "metadata": {
    "Collapsed": "false"
   },
   "outputs": [
    {
     "data": {
      "text/html": [
       "<div>\n",
       "<style scoped>\n",
       "    .dataframe tbody tr th:only-of-type {\n",
       "        vertical-align: middle;\n",
       "    }\n",
       "\n",
       "    .dataframe tbody tr th {\n",
       "        vertical-align: top;\n",
       "    }\n",
       "\n",
       "    .dataframe thead th {\n",
       "        text-align: right;\n",
       "    }\n",
       "</style>\n",
       "<table border=\"1\" class=\"dataframe\">\n",
       "  <thead>\n",
       "    <tr style=\"text-align: right;\">\n",
       "      <th></th>\n",
       "      <th>:ID</th>\n",
       "      <th>name</th>\n",
       "      <th>:LABEL</th>\n",
       "      <th>name_len</th>\n",
       "    </tr>\n",
       "  </thead>\n",
       "  <tbody>\n",
       "    <tr>\n",
       "      <th>1107832</th>\n",
       "      <td>-7235442027224814239</td>\n",
       "      <td>1-(4-(4-(6-fluorobenzoisoxazol-3-yl)piperidin-...</td>\n",
       "      <td>SMALLMOL</td>\n",
       "      <td>279728</td>\n",
       "    </tr>\n",
       "    <tr>\n",
       "      <th>600508</th>\n",
       "      <td>-4382490639255431495</td>\n",
       "      <td>D-Glucose, O-4,6-dideoxy-4-((4-(alpha-D-glucop...</td>\n",
       "      <td>SMALLMOL</td>\n",
       "      <td>254</td>\n",
       "    </tr>\n",
       "    <tr>\n",
       "      <th>7778</th>\n",
       "      <td>1043483757283375332</td>\n",
       "      <td>2,4a-Dihydroxy-1-methyl-8-methylenegibb-3-ene-...</td>\n",
       "      <td>SMALLMOL</td>\n",
       "      <td>248</td>\n",
       "    </tr>\n",
       "    <tr>\n",
       "      <th>1229720</th>\n",
       "      <td>7946627188054156171</td>\n",
       "      <td>Cholan-24-oic acid, 3,7,12-trioxo-, (5beta)-, ...</td>\n",
       "      <td>SMALLMOL</td>\n",
       "      <td>243</td>\n",
       "    </tr>\n",
       "    <tr>\n",
       "      <th>377137</th>\n",
       "      <td>-3119824026281474218</td>\n",
       "      <td>1,3,5-Triazine-2,4,6-triamine, N,N'''-1,2-etha...</td>\n",
       "      <td>SMALLMOL</td>\n",
       "      <td>216</td>\n",
       "    </tr>\n",
       "    <tr>\n",
       "      <th>...</th>\n",
       "      <td>...</td>\n",
       "      <td>...</td>\n",
       "      <td>...</td>\n",
       "      <td>...</td>\n",
       "    </tr>\n",
       "    <tr>\n",
       "      <th>205050</th>\n",
       "      <td>2153331758759806501</td>\n",
       "      <td>HN</td>\n",
       "      <td>CELLTYPE</td>\n",
       "      <td>2</td>\n",
       "    </tr>\n",
       "    <tr>\n",
       "      <th>1086727</th>\n",
       "      <td>-7115660023470151832</td>\n",
       "      <td>c</td>\n",
       "      <td>SMALLMOL</td>\n",
       "      <td>1</td>\n",
       "    </tr>\n",
       "    <tr>\n",
       "      <th>1273144</th>\n",
       "      <td>-8190334285627176943</td>\n",
       "      <td>X</td>\n",
       "      <td>SMALLMOL</td>\n",
       "      <td>1</td>\n",
       "    </tr>\n",
       "    <tr>\n",
       "      <th>432989</th>\n",
       "      <td>-3437747827402286845</td>\n",
       "      <td>\\</td>\n",
       "      <td>SMALLMOL</td>\n",
       "      <td>1</td>\n",
       "    </tr>\n",
       "    <tr>\n",
       "      <th>1406282</th>\n",
       "      <td>-8939843474765356553</td>\n",
       "      <td>K</td>\n",
       "      <td>SMALLMOL</td>\n",
       "      <td>1</td>\n",
       "    </tr>\n",
       "  </tbody>\n",
       "</table>\n",
       "<p>1470805 rows × 4 columns</p>\n",
       "</div>"
      ],
      "text/plain": [
       "                         :ID  \\\n",
       "1107832 -7235442027224814239   \n",
       "600508  -4382490639255431495   \n",
       "7778     1043483757283375332   \n",
       "1229720  7946627188054156171   \n",
       "377137  -3119824026281474218   \n",
       "...                      ...   \n",
       "205050   2153331758759806501   \n",
       "1086727 -7115660023470151832   \n",
       "1273144 -8190334285627176943   \n",
       "432989  -3437747827402286845   \n",
       "1406282 -8939843474765356553   \n",
       "\n",
       "                                                      name    :LABEL  name_len  \n",
       "1107832  1-(4-(4-(6-fluorobenzoisoxazol-3-yl)piperidin-...  SMALLMOL    279728  \n",
       "600508   D-Glucose, O-4,6-dideoxy-4-((4-(alpha-D-glucop...  SMALLMOL       254  \n",
       "7778     2,4a-Dihydroxy-1-methyl-8-methylenegibb-3-ene-...  SMALLMOL       248  \n",
       "1229720  Cholan-24-oic acid, 3,7,12-trioxo-, (5beta)-, ...  SMALLMOL       243  \n",
       "377137   1,3,5-Triazine-2,4,6-triamine, N,N'''-1,2-etha...  SMALLMOL       216  \n",
       "...                                                    ...       ...       ...  \n",
       "205050                                                  HN  CELLTYPE         2  \n",
       "1086727                                                  c  SMALLMOL         1  \n",
       "1273144                                                  X  SMALLMOL         1  \n",
       "432989                                                   \\  SMALLMOL         1  \n",
       "1406282                                                  K  SMALLMOL         1  \n",
       "\n",
       "[1470805 rows x 4 columns]"
      ]
     },
     "execution_count": 76,
     "metadata": {},
     "output_type": "execute_result"
    }
   ],
   "source": [
    "df_node.sort_values(by='name_len', ascending=False)"
   ]
  },
  {
   "cell_type": "code",
   "execution_count": 77,
   "metadata": {
    "Collapsed": "false"
   },
   "outputs": [
    {
     "data": {
      "text/plain": [
       "1107832"
      ]
     },
     "execution_count": 77,
     "metadata": {},
     "output_type": "execute_result"
    },
    {
     "name": "stdout",
     "output_type": "stream",
     "text": [
      "<class 'pandas.core.frame.DataFrame'>\n",
      "RangeIndex: 1 entries, 0 to 0\n",
      "Data columns (total 2 columns):\n",
      " #   Column  Non-Null Count  Dtype \n",
      "---  ------  --------------  ----- \n",
      " 0   index   1 non-null      int64 \n",
      " 1   name    1 non-null      object\n",
      "dtypes: int64(1), object(1)\n",
      "memory usage: 144.0+ bytes\n"
     ]
    },
    {
     "data": {
      "text/html": [
       "<div>\n",
       "<style scoped>\n",
       "    .dataframe tbody tr th:only-of-type {\n",
       "        vertical-align: middle;\n",
       "    }\n",
       "\n",
       "    .dataframe tbody tr th {\n",
       "        vertical-align: top;\n",
       "    }\n",
       "\n",
       "    .dataframe thead th {\n",
       "        text-align: right;\n",
       "    }\n",
       "</style>\n",
       "<table border=\"1\" class=\"dataframe\">\n",
       "  <thead>\n",
       "    <tr style=\"text-align: right;\">\n",
       "      <th></th>\n",
       "      <th>index</th>\n",
       "      <th>name</th>\n",
       "    </tr>\n",
       "  </thead>\n",
       "  <tbody>\n",
       "    <tr>\n",
       "      <th>0</th>\n",
       "      <td>1107832</td>\n",
       "      <td>1-(4-(4-(6-fluorobenzoisoxazol-3-yl)piperidin-...</td>\n",
       "    </tr>\n",
       "  </tbody>\n",
       "</table>\n",
       "</div>"
      ],
      "text/plain": [
       "     index                                               name\n",
       "0  1107832  1-(4-(4-(6-fluorobenzoisoxazol-3-yl)piperidin-..."
      ]
     },
     "execution_count": 77,
     "metadata": {},
     "output_type": "execute_result"
    },
    {
     "data": {
      "text/plain": [
       "279728"
      ]
     },
     "execution_count": 77,
     "metadata": {},
     "output_type": "execute_result"
    }
   ],
   "source": [
    "# Issue is leading quote with no ending quote in sql db for id -7235442027224814239 above\n",
    "# the following is a temp fix unitil resolved in sql db\n",
    "# process long name field\n",
    "\n",
    "x=df_node[df_node[':ID']==-7235442027224814239]['name']\n",
    "long_index=df_node[df_node[':ID']==-7235442027224814239].index[0] #capture index to delete later\n",
    "long_index\n",
    "x=x.to_frame().reset_index()\n",
    "x.info(); x.head()\n",
    "y=x.loc[0,'name']\n",
    "len(y)"
   ]
  },
  {
   "cell_type": "code",
   "execution_count": 78,
   "metadata": {
    "Collapsed": "false",
    "scrolled": true,
    "tags": []
   },
   "outputs": [
    {
     "data": {
      "text/plain": [
       "['1-(4-(4-(6-fluorobenzoisoxazol-3-yl)piperidin-1-yl)butyl)-4-(4-fluorophenyl)piperidine-2,6-dione|SmallMol',\n",
       " '7235446264322303181|Rx25148080|SmallMol',\n",
       " '7235446778373378569|6-chloro-2-fluoropurine|SmallMol',\n",
       " '-7235449901734945744|2,2,7-trimethyl-4H-1,4-benzoxazin-3-one|SmallMol',\n",
       " '-7235456322816637391|N-(p-Tolyl)-p-toluenesulphonamide|SmallMol']"
      ]
     },
     "execution_count": 78,
     "metadata": {},
     "output_type": "execute_result"
    },
    {
     "data": {
      "text/plain": [
       "['-7235442027224814239|1-(4-(4-(6-fluorobenzoisoxazol-3-yl)piperidin-1-yl)butyl)-4-(4-fluorophenyl)piperidine-2,6-dione|SmallMol',\n",
       " '7235446264322303181|Rx25148080|SmallMol',\n",
       " '7235446778373378569|6-chloro-2-fluoropurine|SmallMol',\n",
       " '-7235449901734945744|2,2,7-trimethyl-4H-1,4-benzoxazin-3-one|SmallMol',\n",
       " '-7235456322816637391|N-(p-Tolyl)-p-toluenesulphonamide|SmallMol']"
      ]
     },
     "execution_count": 78,
     "metadata": {},
     "output_type": "execute_result"
    }
   ],
   "source": [
    "# parse bad field\n",
    "# lst=y.split('\\r\\n')\n",
    "lst=y.split('\\n')\n",
    "\n",
    "lst[:5]\n",
    "lst[0]='-7235442027224814239|' + lst[0]\n",
    "lst[:5]"
   ]
  },
  {
   "cell_type": "code",
   "execution_count": 79,
   "metadata": {
    "Collapsed": "false"
   },
   "outputs": [],
   "source": [
    "# create list of lists from long name field\n",
    "new_list=[]\n",
    "for i in range(len(lst)):\n",
    "    z=lst[i].split('|')\n",
    "    new_list.append(z)\n",
    "    "
   ]
  },
  {
   "cell_type": "code",
   "execution_count": 80,
   "metadata": {
    "Collapsed": "false"
   },
   "outputs": [
    {
     "data": {
      "text/plain": [
       "3855"
      ]
     },
     "execution_count": 80,
     "metadata": {},
     "output_type": "execute_result"
    },
    {
     "data": {
      "text/plain": [
       "[['-7235442027224814239',\n",
       "  '1-(4-(4-(6-fluorobenzoisoxazol-3-yl)piperidin-1-yl)butyl)-4-(4-fluorophenyl)piperidine-2,6-dione',\n",
       "  'SmallMol'],\n",
       " ['7235446264322303181', 'Rx25148080', 'SmallMol'],\n",
       " ['7235446778373378569', '6-chloro-2-fluoropurine', 'SmallMol'],\n",
       " ['-7235449901734945744',\n",
       "  '2,2,7-trimethyl-4H-1,4-benzoxazin-3-one',\n",
       "  'SmallMol'],\n",
       " ['-7235456322816637391', 'N-(p-Tolyl)-p-toluenesulphonamide', 'SmallMol']]"
      ]
     },
     "execution_count": 80,
     "metadata": {},
     "output_type": "execute_result"
    }
   ],
   "source": [
    "len(new_list)\n",
    "new_list[:5]"
   ]
  },
  {
   "cell_type": "code",
   "execution_count": 81,
   "metadata": {
    "Collapsed": "false"
   },
   "outputs": [
    {
     "name": "stdout",
     "output_type": "stream",
     "text": [
      "<class 'pandas.core.frame.DataFrame'>\n",
      "RangeIndex: 3855 entries, 0 to 3854\n",
      "Data columns (total 3 columns):\n",
      " #   Column  Non-Null Count  Dtype \n",
      "---  ------  --------------  ----- \n",
      " 0   :ID     3855 non-null   object\n",
      " 1   name    3855 non-null   object\n",
      " 2   :LABEL  3854 non-null   object\n",
      "dtypes: object(3)\n",
      "memory usage: 90.5+ KB\n"
     ]
    },
    {
     "data": {
      "text/html": [
       "<div>\n",
       "<style scoped>\n",
       "    .dataframe tbody tr th:only-of-type {\n",
       "        vertical-align: middle;\n",
       "    }\n",
       "\n",
       "    .dataframe tbody tr th {\n",
       "        vertical-align: top;\n",
       "    }\n",
       "\n",
       "    .dataframe thead th {\n",
       "        text-align: right;\n",
       "    }\n",
       "</style>\n",
       "<table border=\"1\" class=\"dataframe\">\n",
       "  <thead>\n",
       "    <tr style=\"text-align: right;\">\n",
       "      <th></th>\n",
       "      <th>:ID</th>\n",
       "      <th>name</th>\n",
       "      <th>:LABEL</th>\n",
       "    </tr>\n",
       "  </thead>\n",
       "  <tbody>\n",
       "    <tr>\n",
       "      <th>0</th>\n",
       "      <td>-7235442027224814239</td>\n",
       "      <td>1-(4-(4-(6-fluorobenzoisoxazol-3-yl)piperidin-...</td>\n",
       "      <td>SmallMol</td>\n",
       "    </tr>\n",
       "    <tr>\n",
       "      <th>1</th>\n",
       "      <td>7235446264322303181</td>\n",
       "      <td>Rx25148080</td>\n",
       "      <td>SmallMol</td>\n",
       "    </tr>\n",
       "    <tr>\n",
       "      <th>2</th>\n",
       "      <td>7235446778373378569</td>\n",
       "      <td>6-chloro-2-fluoropurine</td>\n",
       "      <td>SmallMol</td>\n",
       "    </tr>\n",
       "    <tr>\n",
       "      <th>3</th>\n",
       "      <td>-7235449901734945744</td>\n",
       "      <td>2,2,7-trimethyl-4H-1,4-benzoxazin-3-one</td>\n",
       "      <td>SmallMol</td>\n",
       "    </tr>\n",
       "    <tr>\n",
       "      <th>4</th>\n",
       "      <td>-7235456322816637391</td>\n",
       "      <td>N-(p-Tolyl)-p-toluenesulphonamide</td>\n",
       "      <td>SmallMol</td>\n",
       "    </tr>\n",
       "  </tbody>\n",
       "</table>\n",
       "</div>"
      ],
      "text/plain": [
       "                    :ID                                               name  \\\n",
       "0  -7235442027224814239  1-(4-(4-(6-fluorobenzoisoxazol-3-yl)piperidin-...   \n",
       "1   7235446264322303181                                         Rx25148080   \n",
       "2   7235446778373378569                            6-chloro-2-fluoropurine   \n",
       "3  -7235449901734945744            2,2,7-trimethyl-4H-1,4-benzoxazin-3-one   \n",
       "4  -7235456322816637391                  N-(p-Tolyl)-p-toluenesulphonamide   \n",
       "\n",
       "     :LABEL  \n",
       "0  SmallMol  \n",
       "1  SmallMol  \n",
       "2  SmallMol  \n",
       "3  SmallMol  \n",
       "4  SmallMol  "
      ]
     },
     "execution_count": 81,
     "metadata": {},
     "output_type": "execute_result"
    }
   ],
   "source": [
    "# create df from list of lists\n",
    "df_temp=pd.DataFrame(new_list, columns=[':ID', 'name', ':LABEL'])\n",
    "df_temp.info(); df_temp.head()"
   ]
  },
  {
   "cell_type": "code",
   "execution_count": 82,
   "metadata": {
    "Collapsed": "false"
   },
   "outputs": [
    {
     "name": "stdout",
     "output_type": "stream",
     "text": [
      "<class 'pandas.core.frame.DataFrame'>\n",
      "Int64Index: 3854 entries, 0 to 3853\n",
      "Data columns (total 3 columns):\n",
      " #   Column  Non-Null Count  Dtype \n",
      "---  ------  --------------  ----- \n",
      " 0   :ID     3854 non-null   object\n",
      " 1   name    3854 non-null   object\n",
      " 2   :LABEL  3854 non-null   object\n",
      "dtypes: object(3)\n",
      "memory usage: 120.4+ KB\n"
     ]
    }
   ],
   "source": [
    "df_temp.dropna(inplace=True)\n",
    "df_temp.info()"
   ]
  },
  {
   "cell_type": "code",
   "execution_count": 83,
   "metadata": {
    "Collapsed": "false"
   },
   "outputs": [
    {
     "data": {
      "text/html": [
       "<div>\n",
       "<style scoped>\n",
       "    .dataframe tbody tr th:only-of-type {\n",
       "        vertical-align: middle;\n",
       "    }\n",
       "\n",
       "    .dataframe tbody tr th {\n",
       "        vertical-align: top;\n",
       "    }\n",
       "\n",
       "    .dataframe thead th {\n",
       "        text-align: right;\n",
       "    }\n",
       "</style>\n",
       "<table border=\"1\" class=\"dataframe\">\n",
       "  <thead>\n",
       "    <tr style=\"text-align: right;\">\n",
       "      <th></th>\n",
       "      <th>:ID</th>\n",
       "      <th>name</th>\n",
       "      <th>:LABEL</th>\n",
       "    </tr>\n",
       "  </thead>\n",
       "  <tbody>\n",
       "    <tr>\n",
       "      <th>0</th>\n",
       "      <td>-7235442027224814239</td>\n",
       "      <td>1-(4-(4-(6-fluorobenzoisoxazol-3-yl)piperidin-...</td>\n",
       "      <td>SMALLMOL</td>\n",
       "    </tr>\n",
       "    <tr>\n",
       "      <th>1</th>\n",
       "      <td>7235446264322303181</td>\n",
       "      <td>Rx25148080</td>\n",
       "      <td>SMALLMOL</td>\n",
       "    </tr>\n",
       "    <tr>\n",
       "      <th>2</th>\n",
       "      <td>7235446778373378569</td>\n",
       "      <td>6-chloro-2-fluoropurine</td>\n",
       "      <td>SMALLMOL</td>\n",
       "    </tr>\n",
       "    <tr>\n",
       "      <th>3</th>\n",
       "      <td>-7235449901734945744</td>\n",
       "      <td>2,2,7-trimethyl-4H-1,4-benzoxazin-3-one</td>\n",
       "      <td>SMALLMOL</td>\n",
       "    </tr>\n",
       "    <tr>\n",
       "      <th>4</th>\n",
       "      <td>-7235456322816637391</td>\n",
       "      <td>N-(p-Tolyl)-p-toluenesulphonamide</td>\n",
       "      <td>SMALLMOL</td>\n",
       "    </tr>\n",
       "  </tbody>\n",
       "</table>\n",
       "</div>"
      ],
      "text/plain": [
       "                    :ID                                               name  \\\n",
       "0  -7235442027224814239  1-(4-(4-(6-fluorobenzoisoxazol-3-yl)piperidin-...   \n",
       "1   7235446264322303181                                         Rx25148080   \n",
       "2   7235446778373378569                            6-chloro-2-fluoropurine   \n",
       "3  -7235449901734945744            2,2,7-trimethyl-4H-1,4-benzoxazin-3-one   \n",
       "4  -7235456322816637391                  N-(p-Tolyl)-p-toluenesulphonamide   \n",
       "\n",
       "     :LABEL  \n",
       "0  SMALLMOL  \n",
       "1  SMALLMOL  \n",
       "2  SMALLMOL  \n",
       "3  SMALLMOL  \n",
       "4  SMALLMOL  "
      ]
     },
     "execution_count": 83,
     "metadata": {},
     "output_type": "execute_result"
    }
   ],
   "source": [
    "df_temp[':LABEL']=df_temp[':LABEL'].apply(lambda x: x.upper())\n",
    "df_temp.head()"
   ]
  },
  {
   "cell_type": "code",
   "execution_count": 84,
   "metadata": {
    "Collapsed": "false"
   },
   "outputs": [
    {
     "name": "stdout",
     "output_type": "stream",
     "text": [
      "<class 'pandas.core.frame.DataFrame'>\n",
      "RangeIndex: 1474658 entries, 0 to 1474657\n",
      "Data columns (total 3 columns):\n",
      " #   Column  Non-Null Count    Dtype \n",
      "---  ------  --------------    ----- \n",
      " 0   :ID     1474658 non-null  object\n",
      " 1   name    1474658 non-null  object\n",
      " 2   :LABEL  1474658 non-null  object\n",
      "dtypes: object(3)\n",
      "memory usage: 33.8+ MB\n"
     ]
    },
    {
     "data": {
      "text/html": [
       "<div>\n",
       "<style scoped>\n",
       "    .dataframe tbody tr th:only-of-type {\n",
       "        vertical-align: middle;\n",
       "    }\n",
       "\n",
       "    .dataframe tbody tr th {\n",
       "        vertical-align: top;\n",
       "    }\n",
       "\n",
       "    .dataframe thead th {\n",
       "        text-align: right;\n",
       "    }\n",
       "</style>\n",
       "<table border=\"1\" class=\"dataframe\">\n",
       "  <thead>\n",
       "    <tr style=\"text-align: right;\">\n",
       "      <th></th>\n",
       "      <th>:ID</th>\n",
       "      <th>name</th>\n",
       "      <th>:LABEL</th>\n",
       "    </tr>\n",
       "  </thead>\n",
       "  <tbody>\n",
       "    <tr>\n",
       "      <th>0</th>\n",
       "      <td>1000020775393047472</td>\n",
       "      <td>r_LOC108352567</td>\n",
       "      <td>PROTEIN</td>\n",
       "    </tr>\n",
       "    <tr>\n",
       "      <th>1</th>\n",
       "      <td>-1000022879358845591</td>\n",
       "      <td>Rx26449263</td>\n",
       "      <td>SMALLMOL</td>\n",
       "    </tr>\n",
       "    <tr>\n",
       "      <th>2</th>\n",
       "      <td>-1000024917554356200</td>\n",
       "      <td>GO: extracellular matrix of synaptic cleft</td>\n",
       "      <td>SEMANTICCONCEPT</td>\n",
       "    </tr>\n",
       "    <tr>\n",
       "      <th>3</th>\n",
       "      <td>1000026386881640747</td>\n",
       "      <td>rs876660037</td>\n",
       "      <td>GENETICVARIANT</td>\n",
       "    </tr>\n",
       "    <tr>\n",
       "      <th>4</th>\n",
       "      <td>-1000028657865034959</td>\n",
       "      <td>m_Fbxw19</td>\n",
       "      <td>PROTEIN</td>\n",
       "    </tr>\n",
       "  </tbody>\n",
       "</table>\n",
       "</div>"
      ],
      "text/plain": [
       "                    :ID                                        name  \\\n",
       "0   1000020775393047472                              r_LOC108352567   \n",
       "1  -1000022879358845591                                  Rx26449263   \n",
       "2  -1000024917554356200  GO: extracellular matrix of synaptic cleft   \n",
       "3   1000026386881640747                                 rs876660037   \n",
       "4  -1000028657865034959                                    m_Fbxw19   \n",
       "\n",
       "            :LABEL  \n",
       "0          PROTEIN  \n",
       "1         SMALLMOL  \n",
       "2  SEMANTICCONCEPT  \n",
       "3   GENETICVARIANT  \n",
       "4          PROTEIN  "
      ]
     },
     "execution_count": 84,
     "metadata": {},
     "output_type": "execute_result"
    }
   ],
   "source": [
    "# combine dfs\n",
    "df_node.drop(int(f'{long_index}'), inplace = True) #drop row with long name field\n",
    "df_node.drop(columns=['name_len'], inplace=True)\n",
    "\n",
    "df_node_new=pd.concat([df_node, df_temp])\n",
    "df_node_new.reset_index(inplace=True, drop=True)\n",
    "df_node_new.info(); df_node_new.head()"
   ]
  },
  {
   "cell_type": "code",
   "execution_count": 85,
   "metadata": {
    "Collapsed": "false"
   },
   "outputs": [
    {
     "data": {
      "text/html": [
       "<div>\n",
       "<style scoped>\n",
       "    .dataframe tbody tr th:only-of-type {\n",
       "        vertical-align: middle;\n",
       "    }\n",
       "\n",
       "    .dataframe tbody tr th {\n",
       "        vertical-align: top;\n",
       "    }\n",
       "\n",
       "    .dataframe thead th {\n",
       "        text-align: right;\n",
       "    }\n",
       "</style>\n",
       "<table border=\"1\" class=\"dataframe\">\n",
       "  <thead>\n",
       "    <tr style=\"text-align: right;\">\n",
       "      <th></th>\n",
       "      <th>:ID</th>\n",
       "      <th>name</th>\n",
       "      <th>:LABEL</th>\n",
       "    </tr>\n",
       "  </thead>\n",
       "  <tbody>\n",
       "    <tr>\n",
       "      <th>94</th>\n",
       "      <td>-1000445907920769387</td>\n",
       "      <td>Ac-FRPX(Hle; D)F(3-Cl)F-NH2</td>\n",
       "      <td>SMALLMOL</td>\n",
       "    </tr>\n",
       "    <tr>\n",
       "      <th>103</th>\n",
       "      <td>1000511471434219628</td>\n",
       "      <td>(S)-3-chloro-4-(N-(3-fluoropropyl)pyrrolidin-3...</td>\n",
       "      <td>SMALLMOL</td>\n",
       "    </tr>\n",
       "    <tr>\n",
       "      <th>1038</th>\n",
       "      <td>10055389442503362</td>\n",
       "      <td>Carbamoyl-C(D;bridge C11)KFFW(D)F(4-(Isopropyl...</td>\n",
       "      <td>SMALLMOL</td>\n",
       "    </tr>\n",
       "    <tr>\n",
       "      <th>1301</th>\n",
       "      <td>-1006961062563094732</td>\n",
       "      <td>Ac-ED(lactam K7)HX(2-Nal; D)RWK-NH2</td>\n",
       "      <td>SMALLMOL</td>\n",
       "    </tr>\n",
       "    <tr>\n",
       "      <th>1503</th>\n",
       "      <td>1008036727165805856</td>\n",
       "      <td>X(Iqc; D)C(bridge X7)YW(D)RTX(Pen)T-NH2</td>\n",
       "      <td>SMALLMOL</td>\n",
       "    </tr>\n",
       "    <tr>\n",
       "      <th>...</th>\n",
       "      <td>...</td>\n",
       "      <td>...</td>\n",
       "      <td>...</td>\n",
       "    </tr>\n",
       "    <tr>\n",
       "      <th>1473596</th>\n",
       "      <td>7251653840688617755</td>\n",
       "      <td>X(Inp)F(D;4-(Chloro))X(2-Nal;D)F-Amino</td>\n",
       "      <td>SMALLMOL</td>\n",
       "    </tr>\n",
       "    <tr>\n",
       "      <th>1473919</th>\n",
       "      <td>-7253500055656412392</td>\n",
       "      <td>m_T(3;10)61H (Gene ID 21159)</td>\n",
       "      <td>PROTEIN</td>\n",
       "    </tr>\n",
       "    <tr>\n",
       "      <th>1474113</th>\n",
       "      <td>7254604792324956166</td>\n",
       "      <td>YF(D)GW(D)X(Nle; N-Me)DF-NH2</td>\n",
       "      <td>SMALLMOL</td>\n",
       "    </tr>\n",
       "    <tr>\n",
       "      <th>1474252</th>\n",
       "      <td>725545692487216447</td>\n",
       "      <td>2(S)2-{[6-(5-chloro-1H-pyrrolo[2,3-b]pyridin-3...</td>\n",
       "      <td>SMALLMOL</td>\n",
       "    </tr>\n",
       "    <tr>\n",
       "      <th>1474480</th>\n",
       "      <td>7256875620697643165</td>\n",
       "      <td>[MET(O)]-Neuropeptide W-23 (Human; porcine)</td>\n",
       "      <td>SMALLMOL</td>\n",
       "    </tr>\n",
       "  </tbody>\n",
       "</table>\n",
       "<p>4495 rows × 3 columns</p>\n",
       "</div>"
      ],
      "text/plain": [
       "                          :ID  \\\n",
       "94       -1000445907920769387   \n",
       "103       1000511471434219628   \n",
       "1038        10055389442503362   \n",
       "1301     -1006961062563094732   \n",
       "1503      1008036727165805856   \n",
       "...                       ...   \n",
       "1473596   7251653840688617755   \n",
       "1473919  -7253500055656412392   \n",
       "1474113   7254604792324956166   \n",
       "1474252    725545692487216447   \n",
       "1474480   7256875620697643165   \n",
       "\n",
       "                                                      name    :LABEL  \n",
       "94                             Ac-FRPX(Hle; D)F(3-Cl)F-NH2  SMALLMOL  \n",
       "103      (S)-3-chloro-4-(N-(3-fluoropropyl)pyrrolidin-3...  SMALLMOL  \n",
       "1038     Carbamoyl-C(D;bridge C11)KFFW(D)F(4-(Isopropyl...  SMALLMOL  \n",
       "1301                   Ac-ED(lactam K7)HX(2-Nal; D)RWK-NH2  SMALLMOL  \n",
       "1503               X(Iqc; D)C(bridge X7)YW(D)RTX(Pen)T-NH2  SMALLMOL  \n",
       "...                                                    ...       ...  \n",
       "1473596             X(Inp)F(D;4-(Chloro))X(2-Nal;D)F-Amino  SMALLMOL  \n",
       "1473919                       m_T(3;10)61H (Gene ID 21159)   PROTEIN  \n",
       "1474113                       YF(D)GW(D)X(Nle; N-Me)DF-NH2  SMALLMOL  \n",
       "1474252  2(S)2-{[6-(5-chloro-1H-pyrrolo[2,3-b]pyridin-3...  SMALLMOL  \n",
       "1474480        [MET(O)]-Neuropeptide W-23 (Human; porcine)  SMALLMOL  \n",
       "\n",
       "[4495 rows x 3 columns]"
      ]
     },
     "execution_count": 85,
     "metadata": {},
     "output_type": "execute_result"
    },
    {
     "data": {
      "text/html": [
       "<div>\n",
       "<style scoped>\n",
       "    .dataframe tbody tr th:only-of-type {\n",
       "        vertical-align: middle;\n",
       "    }\n",
       "\n",
       "    .dataframe tbody tr th {\n",
       "        vertical-align: top;\n",
       "    }\n",
       "\n",
       "    .dataframe thead th {\n",
       "        text-align: right;\n",
       "    }\n",
       "</style>\n",
       "<table border=\"1\" class=\"dataframe\">\n",
       "  <thead>\n",
       "    <tr style=\"text-align: right;\">\n",
       "      <th></th>\n",
       "      <th>:ID</th>\n",
       "      <th>name</th>\n",
       "      <th>:LABEL</th>\n",
       "    </tr>\n",
       "  </thead>\n",
       "  <tbody>\n",
       "    <tr>\n",
       "      <th>8757</th>\n",
       "      <td>-1048773164875225821</td>\n",
       "      <td>Y(2,6-Me; N-CO)X(Orn(D)modifixfffd;; lactam G5...</td>\n",
       "      <td>SMALLMOL</td>\n",
       "    </tr>\n",
       "    <tr>\n",
       "      <th>946734</th>\n",
       "      <td>6327831653333845569</td>\n",
       "      <td>X(Orn(D)modifixfffd;; lactam G4)X(2-Nal)P(D)G</td>\n",
       "      <td>SMALLMOL</td>\n",
       "    </tr>\n",
       "  </tbody>\n",
       "</table>\n",
       "</div>"
      ],
      "text/plain": [
       "                         :ID  \\\n",
       "8757    -1048773164875225821   \n",
       "946734   6327831653333845569   \n",
       "\n",
       "                                                     name    :LABEL  \n",
       "8757    Y(2,6-Me; N-CO)X(Orn(D)modifixfffd;; lactam G5...  SMALLMOL  \n",
       "946734      X(Orn(D)modifixfffd;; lactam G4)X(2-Nal)P(D)G  SMALLMOL  "
      ]
     },
     "execution_count": 85,
     "metadata": {},
     "output_type": "execute_result"
    }
   ],
   "source": [
    "# check for presence of ';;' & ';'\n",
    "df_node_new[df_node_new['name'].str.contains(\";\")]\n",
    "df_node_new[df_node_new['name'].str.contains(\";;\")]"
   ]
  },
  {
   "cell_type": "code",
   "execution_count": 86,
   "metadata": {
    "Collapsed": "false"
   },
   "outputs": [],
   "source": [
    "# convert single and double semi-colons to colons\n",
    "df_node_new['name']=df_node_new['name'].str.replace(';;', ':')\n",
    "df_node_new['name']=df_node_new['name'].str.replace(';', ':')\n"
   ]
  },
  {
   "cell_type": "code",
   "execution_count": 87,
   "metadata": {
    "Collapsed": "false"
   },
   "outputs": [],
   "source": [
    "df_node_new.to_csv('./data/processed/nodes.txt', sep='|', index=False, header=True)"
   ]
  },
  {
   "cell_type": "code",
   "execution_count": 88,
   "metadata": {
    "Collapsed": "false"
   },
   "outputs": [
    {
     "data": {
      "text/plain": [
       "[':ID', 'name', ':LABEL']"
      ]
     },
     "execution_count": 88,
     "metadata": {},
     "output_type": "execute_result"
    }
   ],
   "source": [
    "# create list of column names for header file\n",
    "cols=list(df_node.columns)\n",
    "cols"
   ]
  },
  {
   "cell_type": "code",
   "execution_count": 89,
   "metadata": {
    "Collapsed": "false"
   },
   "outputs": [
    {
     "data": {
      "text/html": [
       "<div>\n",
       "<style scoped>\n",
       "    .dataframe tbody tr th:only-of-type {\n",
       "        vertical-align: middle;\n",
       "    }\n",
       "\n",
       "    .dataframe tbody tr th {\n",
       "        vertical-align: top;\n",
       "    }\n",
       "\n",
       "    .dataframe thead th {\n",
       "        text-align: right;\n",
       "    }\n",
       "</style>\n",
       "<table border=\"1\" class=\"dataframe\">\n",
       "  <thead>\n",
       "    <tr style=\"text-align: right;\">\n",
       "      <th></th>\n",
       "      <th>:ID</th>\n",
       "      <th>name</th>\n",
       "      <th>:LABEL</th>\n",
       "    </tr>\n",
       "  </thead>\n",
       "  <tbody>\n",
       "  </tbody>\n",
       "</table>\n",
       "</div>"
      ],
      "text/plain": [
       "Empty DataFrame\n",
       "Columns: [:ID, name, :LABEL]\n",
       "Index: []"
      ]
     },
     "execution_count": 89,
     "metadata": {},
     "output_type": "execute_result"
    }
   ],
   "source": [
    "# create and save header file\n",
    "node_headers=pd.DataFrame(columns=cols)\n",
    "node_headers\n",
    "node_headers.to_csv('./data/processed/nodes_header.txt', sep='|', index=False)"
   ]
  },
  {
   "cell_type": "code",
   "execution_count": 90,
   "metadata": {
    "Collapsed": "false"
   },
   "outputs": [],
   "source": [
    "conn.close()"
   ]
  },
  {
   "cell_type": "markdown",
   "metadata": {
    "Collapsed": "false"
   },
   "source": [
    "**To load data into Neo4j**, click on 'Add' in the project pane. Name the new project, click on the '...' by the 'Open' button for the project, and choose 'Terminal'. Take note of the dbms number at the cursor. Copy the nodes.txt, nodes_header.txt, relations.txt, and realations_header.txt files pepared above. Drop them in the import file found here: C:\\Users\\\\[user_name]\\\\.Neo4jDesktop\\relate-data\\dbmss\\dbms-##(number at cursor)\\import\n",
    "\n",
    "At the Neo4j terminal, change to the bin directory (type 'cd bin') and then paste the following at the cursor:\n",
    "neo4j-admin import --delimiter=\"|\" --nodes=import/nodes_header.txt, import/nodes.txt --relationships=import/relations_header.txt, import/relations.txt --skip-bad-relationships=true\n",
    "\n",
    "Go back to the project pane, press 'Start'. The active database will now be shown in a pane at the top. Press open to use in the Neo4j browser."
   ]
  }
 ],
 "metadata": {
  "kernelspec": {
   "display_name": "psg_sqlDB",
   "language": "python",
   "name": "psg_sqldb"
  },
  "language_info": {
   "codemirror_mode": {
    "name": "ipython",
    "version": 3
   },
   "file_extension": ".py",
   "mimetype": "text/x-python",
   "name": "python",
   "nbconvert_exporter": "python",
   "pygments_lexer": "ipython3",
   "version": "3.8.13"
  },
  "toc-autonumbering": false,
  "toc-showcode": false,
  "toc-showmarkdowntxt": false
 },
 "nbformat": 4,
 "nbformat_minor": 4
}
